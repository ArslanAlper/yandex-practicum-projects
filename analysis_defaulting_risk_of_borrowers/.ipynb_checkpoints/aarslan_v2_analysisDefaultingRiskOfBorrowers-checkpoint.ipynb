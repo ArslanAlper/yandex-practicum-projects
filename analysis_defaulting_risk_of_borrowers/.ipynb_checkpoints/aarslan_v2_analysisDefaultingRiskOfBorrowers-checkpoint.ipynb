{
 "cells": [
  {
   "cell_type": "markdown",
   "metadata": {},
   "source": [
    "# Analysis of borrowers’ defaulting risk\n",
    "\n",
    "## Project description\n",
    "\n",
    "Our project is to prepare a report for a bank’s loan division. We’ll need to find out if a customer’s marital status and number of children has an impact on whether they will default on a loan. The bank already has some data on customers’ credit worthiness.\n",
    "\n",
    "Our report will be considered when building a **credit scoring** of a potential customer. A **credit scoring** is used to evaluate the ability of a potential borrower to repay their loan."
   ]
  },
  {
   "cell_type": "markdown",
   "metadata": {},
   "source": [
    "## Description of the data\n",
    "\n",
    "**children:** the number of children in the family\n",
    "\n",
    "**days_employed:** how long the customer has been working\n",
    "\n",
    "**dob_years:** the customer’s age\n",
    "\n",
    "**education:** the customer’s education level\n",
    "\n",
    "**education_id:** identifier for the customer’s education\n",
    "\n",
    "**family_status:** the customer’s marital status\n",
    "\n",
    "**family_status_id:** identifier for the customer’s marital status\n",
    "\n",
    "**gender:** the customer’s gender\n",
    "\n",
    "**income_type:** the customer’s income type\n",
    "\n",
    "**debt:** whether the customer has ever defaulted on a loan\n",
    "\n",
    "**total_income:** monthly income\n",
    "\n",
    "**purpose:** reason for taking out a loan"
   ]
  },
  {
   "cell_type": "markdown",
   "metadata": {
    "toc": true
   },
   "source": [
    "<h1>Table of Contents<span class=\"tocSkip\"></span></h1>\n",
    "<div class=\"toc\"><ul class=\"toc-item\"><li><span><a href=\"#Open-the-data-file-and-have-a-look-at-the-general-information.\" data-toc-modified-id=\"Open-the-data-file-and-have-a-look-at-the-general-information.-1\"><span class=\"toc-item-num\">1&nbsp;&nbsp;</span>Open the data file and have a look at the general information.</a></span><ul class=\"toc-item\"><li><span><a href=\"#Conclusion\" data-toc-modified-id=\"Conclusion-1.1\"><span class=\"toc-item-num\">1.1&nbsp;&nbsp;</span>Conclusion</a></span></li></ul></li><li><span><a href=\"#Data-preprocessing\" data-toc-modified-id=\"Data-preprocessing-2\"><span class=\"toc-item-num\">2&nbsp;&nbsp;</span>Data preprocessing</a></span><ul class=\"toc-item\"><li><span><a href=\"#Defining-the-number-of-negative-values-on-'days_employed'-column\" data-toc-modified-id=\"Defining-the-number-of-negative-values-on-'days_employed'-column-2.1\"><span class=\"toc-item-num\">2.1&nbsp;&nbsp;</span>Defining the number of negative values on 'days_employed' column</a></span></li><li><span><a href=\"#Analyzing-the-problem-on-'days_employed'\" data-toc-modified-id=\"Analyzing-the-problem-on-'days_employed'-2.2\"><span class=\"toc-item-num\">2.2&nbsp;&nbsp;</span>Analyzing the problem on 'days_employed'</a></span></li><li><span><a href=\"#Processing-missing-values\" data-toc-modified-id=\"Processing-missing-values-2.3\"><span class=\"toc-item-num\">2.3&nbsp;&nbsp;</span>Processing missing values</a></span><ul class=\"toc-item\"><li><span><a href=\"#Determining-Outlier-Values\" data-toc-modified-id=\"Determining-Outlier-Values-2.3.1\"><span class=\"toc-item-num\">2.3.1&nbsp;&nbsp;</span>Determining Outlier Values</a></span></li><li><span><a href=\"#Missing-Values\" data-toc-modified-id=\"Missing-Values-2.3.2\"><span class=\"toc-item-num\">2.3.2&nbsp;&nbsp;</span>Missing Values</a></span></li></ul></li><li><span><a href=\"#Conclusion\" data-toc-modified-id=\"Conclusion-2.4\"><span class=\"toc-item-num\">2.4&nbsp;&nbsp;</span>Conclusion</a></span></li><li><span><a href=\"#Data-type-replacement\" data-toc-modified-id=\"Data-type-replacement-2.5\"><span class=\"toc-item-num\">2.5&nbsp;&nbsp;</span>Data type replacement</a></span></li><li><span><a href=\"#Conclusion\" data-toc-modified-id=\"Conclusion-2.6\"><span class=\"toc-item-num\">2.6&nbsp;&nbsp;</span>Conclusion</a></span></li><li><span><a href=\"#Processing-duplicates\" data-toc-modified-id=\"Processing-duplicates-2.7\"><span class=\"toc-item-num\">2.7&nbsp;&nbsp;</span>Processing duplicates</a></span><ul class=\"toc-item\"><li><span><a href=\"#Looking-for-unique-values-in-'education'-column\" data-toc-modified-id=\"Looking-for-unique-values-in-'education'-column-2.7.1\"><span class=\"toc-item-num\">2.7.1&nbsp;&nbsp;</span>Looking for unique values in 'education' column</a></span><ul class=\"toc-item\"><li><span><a href=\"#Looking-for-duplicates-on-'marital_status'-column\" data-toc-modified-id=\"Looking-for-duplicates-on-'marital_status'-column-2.7.1.1\"><span class=\"toc-item-num\">2.7.1.1&nbsp;&nbsp;</span>Looking for duplicates on 'marital_status' column</a></span></li><li><span><a href=\"#Looking-for-duplicates-on-'job'-column\" data-toc-modified-id=\"Looking-for-duplicates-on-'job'-column-2.7.1.2\"><span class=\"toc-item-num\">2.7.1.2&nbsp;&nbsp;</span>Looking for duplicates on 'job' column</a></span></li><li><span><a href=\"#Looking-for-duplicates-on-'purpose'-column\" data-toc-modified-id=\"Looking-for-duplicates-on-'purpose'-column-2.7.1.3\"><span class=\"toc-item-num\">2.7.1.3&nbsp;&nbsp;</span>Looking for duplicates on 'purpose' column</a></span></li><li><span><a href=\"#Importing-libraries-for-stemming-and-lemmatization\" data-toc-modified-id=\"Importing-libraries-for-stemming-and-lemmatization-2.7.1.4\"><span class=\"toc-item-num\">2.7.1.4&nbsp;&nbsp;</span>Importing libraries for stemming and lemmatization</a></span></li></ul></li></ul></li><li><span><a href=\"#Conclusion\" data-toc-modified-id=\"Conclusion-2.8\"><span class=\"toc-item-num\">2.8&nbsp;&nbsp;</span>Conclusion</a></span></li><li><span><a href=\"#Categorizing-Data\" data-toc-modified-id=\"Categorizing-Data-2.9\"><span class=\"toc-item-num\">2.9&nbsp;&nbsp;</span>Categorizing Data</a></span><ul class=\"toc-item\"><li><span><a href=\"#Total-debtors-rate\" data-toc-modified-id=\"Total-debtors-rate-2.9.1\"><span class=\"toc-item-num\">2.9.1&nbsp;&nbsp;</span>Total debtors rate</a></span></li><li><span><a href=\"#General-examining-of-gender-effect\" data-toc-modified-id=\"General-examining-of-gender-effect-2.9.2\"><span class=\"toc-item-num\">2.9.2&nbsp;&nbsp;</span>General examining of gender effect</a></span></li><li><span><a href=\"#General-examining-of-age-effect\" data-toc-modified-id=\"General-examining-of-age-effect-2.9.3\"><span class=\"toc-item-num\">2.9.3&nbsp;&nbsp;</span>General examining of age effect</a></span></li><li><span><a href=\"#General-examining-job-effect\" data-toc-modified-id=\"General-examining-job-effect-2.9.4\"><span class=\"toc-item-num\">2.9.4&nbsp;&nbsp;</span>General examining job effect</a></span></li><li><span><a href=\"#General-examining-of-having-kids-effect\" data-toc-modified-id=\"General-examining-of-having-kids-effect-2.9.5\"><span class=\"toc-item-num\">2.9.5&nbsp;&nbsp;</span>General examining of having kids effect</a></span></li><li><span><a href=\"#General-examinig-of-marital-status-effect\" data-toc-modified-id=\"General-examinig-of-marital-status-effect-2.9.6\"><span class=\"toc-item-num\">2.9.6&nbsp;&nbsp;</span>General examinig of marital status effect</a></span></li><li><span><a href=\"#General-examining-of-income-level-effect\" data-toc-modified-id=\"General-examining-of-income-level-effect-2.9.7\"><span class=\"toc-item-num\">2.9.7&nbsp;&nbsp;</span>General examining of income level effect</a></span></li><li><span><a href=\"#Examining-of-'credit-type'-effect\" data-toc-modified-id=\"Examining-of-'credit-type'-effect-2.9.8\"><span class=\"toc-item-num\">2.9.8&nbsp;&nbsp;</span>Examining of 'credit type' effect</a></span></li><li><span><a href=\"#Examining-of-'education-level'-effect\" data-toc-modified-id=\"Examining-of-'education-level'-effect-2.9.9\"><span class=\"toc-item-num\">2.9.9&nbsp;&nbsp;</span>Examining of 'education level' effect</a></span></li></ul></li><li><span><a href=\"#New-Table-with-required-columns\" data-toc-modified-id=\"New-Table-with-required-columns-2.10\"><span class=\"toc-item-num\">2.10&nbsp;&nbsp;</span>New Table with required columns</a></span><ul class=\"toc-item\"><li><span><a href=\"#Marital-status-and-Kids-Effects-on-Debt-Situation\" data-toc-modified-id=\"Marital-status-and-Kids-Effects-on-Debt-Situation-2.10.1\"><span class=\"toc-item-num\">2.10.1&nbsp;&nbsp;</span>Marital status and Kids Effects on Debt Situation</a></span></li><li><span><a href=\"#Maritial-Status-and-Debt-Relation\" data-toc-modified-id=\"Maritial-Status-and-Debt-Relation-2.10.2\"><span class=\"toc-item-num\">2.10.2&nbsp;&nbsp;</span>Maritial Status and Debt Relation</a></span></li><li><span><a href=\"#Kids-status-and-Debt-Relation\" data-toc-modified-id=\"Kids-status-and-Debt-Relation-2.10.3\"><span class=\"toc-item-num\">2.10.3&nbsp;&nbsp;</span>Kids status and Debt Relation</a></span></li><li><span><a href=\"#Income-Level-and-Debt-Relation\" data-toc-modified-id=\"Income-Level-and-Debt-Relation-2.10.4\"><span class=\"toc-item-num\">2.10.4&nbsp;&nbsp;</span>Income Level and Debt Relation</a></span></li><li><span><a href=\"#Credit-Type-and-Debt-Relation\" data-toc-modified-id=\"Credit-Type-and-Debt-Relation-2.10.5\"><span class=\"toc-item-num\">2.10.5&nbsp;&nbsp;</span>Credit Type and Debt Relation</a></span></li></ul></li></ul></li><li><span><a href=\"#Pivot-Tables-to-analyze-deeply\" data-toc-modified-id=\"Pivot-Tables-to-analyze-deeply-3\"><span class=\"toc-item-num\">3&nbsp;&nbsp;</span>Pivot Tables to analyze deeply</a></span><ul class=\"toc-item\"><li><span><a href=\"#Debtor-numbers-of-'marital_status'-and-'kids_status'\" data-toc-modified-id=\"Debtor-numbers-of-'marital_status'-and-'kids_status'-3.1\"><span class=\"toc-item-num\">3.1&nbsp;&nbsp;</span>Debtor numbers of 'marital_status' and 'kids_status'</a></span></li><li><span><a href=\"#Total-numbers-of-'marital_status'-and-'kids_status'\" data-toc-modified-id=\"Total-numbers-of-'marital_status'-and-'kids_status'-3.2\"><span class=\"toc-item-num\">3.2&nbsp;&nbsp;</span>Total numbers of 'marital_status' and 'kids_status'</a></span></li><li><span><a href=\"#Debt-rates-of-'marital_status'-and-'kids_status'\" data-toc-modified-id=\"Debt-rates-of-'marital_status'-and-'kids_status'-3.3\"><span class=\"toc-item-num\">3.3&nbsp;&nbsp;</span>Debt rates of 'marital_status' and 'kids_status'</a></span></li><li><span><a href=\"#Debt-rates-of-'income_level'-and-'loan_sort'\" data-toc-modified-id=\"Debt-rates-of-'income_level'-and-'loan_sort'-3.4\"><span class=\"toc-item-num\">3.4&nbsp;&nbsp;</span>Debt rates of 'income_level' and 'loan_sort'</a></span></li><li><span><a href=\"#Debt-rates-for-'marital_status'---'kids_status'-and-'income_level'----'loan_sort'\" data-toc-modified-id=\"Debt-rates-for-'marital_status'---'kids_status'-and-'income_level'----'loan_sort'-3.5\"><span class=\"toc-item-num\">3.5&nbsp;&nbsp;</span>Debt rates for 'marital_status' - 'kids_status' and 'income_level'  - 'loan_sort'</a></span></li><li><span><a href=\"#Pivot-Tables-Conclusion\" data-toc-modified-id=\"Pivot-Tables-Conclusion-3.6\"><span class=\"toc-item-num\">3.6&nbsp;&nbsp;</span>Pivot Tables Conclusion</a></span></li></ul></li><li><span><a href=\"#Answering-the-questions\" data-toc-modified-id=\"Answering-the-questions-4\"><span class=\"toc-item-num\">4&nbsp;&nbsp;</span>Answering the questions</a></span><ul class=\"toc-item\"><li><span><a href=\"#Is-there-a-relation-between-having-kids-and-repaying-a-loan-on-time?\" data-toc-modified-id=\"Is-there-a-relation-between-having-kids-and-repaying-a-loan-on-time?-4.1\"><span class=\"toc-item-num\">4.1&nbsp;&nbsp;</span>Is there a relation between having kids and repaying a loan on time?</a></span><ul class=\"toc-item\"><li><span><a href=\"#Conclusion\" data-toc-modified-id=\"Conclusion-4.1.1\"><span class=\"toc-item-num\">4.1.1&nbsp;&nbsp;</span>Conclusion</a></span></li></ul></li><li><span><a href=\"#Is-there-a-relation-between-marital-status-and-repaying-a-loan-on-time?\" data-toc-modified-id=\"Is-there-a-relation-between-marital-status-and-repaying-a-loan-on-time?-4.2\"><span class=\"toc-item-num\">4.2&nbsp;&nbsp;</span>Is there a relation between marital status and repaying a loan on time?</a></span><ul class=\"toc-item\"><li><span><a href=\"#Conclusion\" data-toc-modified-id=\"Conclusion-4.2.1\"><span class=\"toc-item-num\">4.2.1&nbsp;&nbsp;</span>Conclusion</a></span></li></ul></li><li><span><a href=\"#Is-there-a-relation-between-income-level-and-repaying-a-loan-on-time?\" data-toc-modified-id=\"Is-there-a-relation-between-income-level-and-repaying-a-loan-on-time?-4.3\"><span class=\"toc-item-num\">4.3&nbsp;&nbsp;</span>Is there a relation between income level and repaying a loan on time?</a></span><ul class=\"toc-item\"><li><span><a href=\"#Conclusion\" data-toc-modified-id=\"Conclusion-4.3.1\"><span class=\"toc-item-num\">4.3.1&nbsp;&nbsp;</span>Conclusion</a></span></li></ul></li><li><span><a href=\"#How-do-different-loan-purposes-affect-on-time-repayment-of-the-loan?\" data-toc-modified-id=\"How-do-different-loan-purposes-affect-on-time-repayment-of-the-loan?-4.4\"><span class=\"toc-item-num\">4.4&nbsp;&nbsp;</span>How do different loan purposes affect on-time repayment of the loan?</a></span><ul class=\"toc-item\"><li><span><a href=\"#Conclusion\" data-toc-modified-id=\"Conclusion-4.4.1\"><span class=\"toc-item-num\">4.4.1&nbsp;&nbsp;</span>Conclusion</a></span></li></ul></li></ul></li><li><span><a href=\"#General-conclusion\" data-toc-modified-id=\"General-conclusion-5\"><span class=\"toc-item-num\">5&nbsp;&nbsp;</span>General conclusion</a></span><ul class=\"toc-item\"><li><span><a href=\"#Pivot-Tables-Summary\" data-toc-modified-id=\"Pivot-Tables-Summary-5.1\"><span class=\"toc-item-num\">5.1&nbsp;&nbsp;</span>Pivot Tables Summary</a></span></li><li><span><a href=\"#General-Summary\" data-toc-modified-id=\"General-Summary-5.2\"><span class=\"toc-item-num\">5.2&nbsp;&nbsp;</span>General Summary</a></span></li></ul></li><li><span><a href=\"#Project-Readiness-Checklist\" data-toc-modified-id=\"Project-Readiness-Checklist-6\"><span class=\"toc-item-num\">6&nbsp;&nbsp;</span>Project Readiness Checklist</a></span></li></ul></div>"
   ]
  },
  {
   "cell_type": "markdown",
   "metadata": {},
   "source": [
    "## Open the data file and have a look at the general information. "
   ]
  },
  {
   "cell_type": "markdown",
   "metadata": {},
   "source": [
    "We are starting to import pandas library and read our csv file"
   ]
  },
  {
   "cell_type": "code",
   "execution_count": 1,
   "metadata": {
    "scrolled": false
   },
   "outputs": [
    {
     "data": {
      "text/html": [
       "<div>\n",
       "<style scoped>\n",
       "    .dataframe tbody tr th:only-of-type {\n",
       "        vertical-align: middle;\n",
       "    }\n",
       "\n",
       "    .dataframe tbody tr th {\n",
       "        vertical-align: top;\n",
       "    }\n",
       "\n",
       "    .dataframe thead th {\n",
       "        text-align: right;\n",
       "    }\n",
       "</style>\n",
       "<table border=\"1\" class=\"dataframe\">\n",
       "  <thead>\n",
       "    <tr style=\"text-align: right;\">\n",
       "      <th></th>\n",
       "      <th>children</th>\n",
       "      <th>days_employed</th>\n",
       "      <th>dob_years</th>\n",
       "      <th>education_id</th>\n",
       "      <th>family_status_id</th>\n",
       "      <th>debt</th>\n",
       "      <th>total_income</th>\n",
       "    </tr>\n",
       "  </thead>\n",
       "  <tbody>\n",
       "    <tr>\n",
       "      <td>count</td>\n",
       "      <td>21525.000000</td>\n",
       "      <td>19351.000000</td>\n",
       "      <td>21525.000000</td>\n",
       "      <td>21525.000000</td>\n",
       "      <td>21525.000000</td>\n",
       "      <td>21525.000000</td>\n",
       "      <td>19351.000000</td>\n",
       "    </tr>\n",
       "    <tr>\n",
       "      <td>mean</td>\n",
       "      <td>0.538908</td>\n",
       "      <td>63046.497661</td>\n",
       "      <td>43.293380</td>\n",
       "      <td>0.817236</td>\n",
       "      <td>0.972544</td>\n",
       "      <td>0.080883</td>\n",
       "      <td>26787.568355</td>\n",
       "    </tr>\n",
       "    <tr>\n",
       "      <td>std</td>\n",
       "      <td>1.381587</td>\n",
       "      <td>140827.311974</td>\n",
       "      <td>12.574584</td>\n",
       "      <td>0.548138</td>\n",
       "      <td>1.420324</td>\n",
       "      <td>0.272661</td>\n",
       "      <td>16475.450632</td>\n",
       "    </tr>\n",
       "    <tr>\n",
       "      <td>min</td>\n",
       "      <td>-1.000000</td>\n",
       "      <td>-18388.949901</td>\n",
       "      <td>0.000000</td>\n",
       "      <td>0.000000</td>\n",
       "      <td>0.000000</td>\n",
       "      <td>0.000000</td>\n",
       "      <td>3306.762000</td>\n",
       "    </tr>\n",
       "    <tr>\n",
       "      <td>25%</td>\n",
       "      <td>0.000000</td>\n",
       "      <td>-2747.423625</td>\n",
       "      <td>33.000000</td>\n",
       "      <td>1.000000</td>\n",
       "      <td>0.000000</td>\n",
       "      <td>0.000000</td>\n",
       "      <td>16488.504500</td>\n",
       "    </tr>\n",
       "    <tr>\n",
       "      <td>50%</td>\n",
       "      <td>0.000000</td>\n",
       "      <td>-1203.369529</td>\n",
       "      <td>42.000000</td>\n",
       "      <td>1.000000</td>\n",
       "      <td>0.000000</td>\n",
       "      <td>0.000000</td>\n",
       "      <td>23202.870000</td>\n",
       "    </tr>\n",
       "    <tr>\n",
       "      <td>75%</td>\n",
       "      <td>1.000000</td>\n",
       "      <td>-291.095954</td>\n",
       "      <td>53.000000</td>\n",
       "      <td>1.000000</td>\n",
       "      <td>1.000000</td>\n",
       "      <td>0.000000</td>\n",
       "      <td>32549.611000</td>\n",
       "    </tr>\n",
       "    <tr>\n",
       "      <td>max</td>\n",
       "      <td>20.000000</td>\n",
       "      <td>401755.400475</td>\n",
       "      <td>75.000000</td>\n",
       "      <td>4.000000</td>\n",
       "      <td>4.000000</td>\n",
       "      <td>1.000000</td>\n",
       "      <td>362496.645000</td>\n",
       "    </tr>\n",
       "  </tbody>\n",
       "</table>\n",
       "</div>"
      ],
      "text/plain": [
       "           children  days_employed     dob_years  education_id  \\\n",
       "count  21525.000000   19351.000000  21525.000000  21525.000000   \n",
       "mean       0.538908   63046.497661     43.293380      0.817236   \n",
       "std        1.381587  140827.311974     12.574584      0.548138   \n",
       "min       -1.000000  -18388.949901      0.000000      0.000000   \n",
       "25%        0.000000   -2747.423625     33.000000      1.000000   \n",
       "50%        0.000000   -1203.369529     42.000000      1.000000   \n",
       "75%        1.000000    -291.095954     53.000000      1.000000   \n",
       "max       20.000000  401755.400475     75.000000      4.000000   \n",
       "\n",
       "       family_status_id          debt   total_income  \n",
       "count      21525.000000  21525.000000   19351.000000  \n",
       "mean           0.972544      0.080883   26787.568355  \n",
       "std            1.420324      0.272661   16475.450632  \n",
       "min            0.000000      0.000000    3306.762000  \n",
       "25%            0.000000      0.000000   16488.504500  \n",
       "50%            0.000000      0.000000   23202.870000  \n",
       "75%            1.000000      0.000000   32549.611000  \n",
       "max            4.000000      1.000000  362496.645000  "
      ]
     },
     "metadata": {},
     "output_type": "display_data"
    },
    {
     "name": "stdout",
     "output_type": "stream",
     "text": [
      "<class 'pandas.core.frame.DataFrame'>\n",
      "RangeIndex: 21525 entries, 0 to 21524\n",
      "Data columns (total 12 columns):\n",
      "children            21525 non-null int64\n",
      "days_employed       19351 non-null float64\n",
      "dob_years           21525 non-null int64\n",
      "education           21525 non-null object\n",
      "education_id        21525 non-null int64\n",
      "family_status       21525 non-null object\n",
      "family_status_id    21525 non-null int64\n",
      "gender              21525 non-null object\n",
      "income_type         21525 non-null object\n",
      "debt                21525 non-null int64\n",
      "total_income        19351 non-null float64\n",
      "purpose             21525 non-null object\n",
      "dtypes: float64(2), int64(5), object(5)\n",
      "memory usage: 2.0+ MB\n"
     ]
    }
   ],
   "source": [
    "import pandas as pd\n",
    "from IPython.display import display\n",
    "data = pd.read_csv('/datasets/credit_scoring_eng.csv')\n",
    "display(data.describe())\n",
    "data.info()"
   ]
  },
  {
   "cell_type": "markdown",
   "metadata": {},
   "source": [
    "### Conclusion"
   ]
  },
  {
   "cell_type": "markdown",
   "metadata": {},
   "source": [
    "1- There are about 2200 (10%) missing values on the 'days_employed' and 'total_income' columns and number of them are same. They might belong to unemployed persons, but it should be checked with 'income_type' column. Although it seems small percentage, it can change our result if all of them are in debt.\n",
    "\n",
    "2- Some column names can be changed, like 'dob_years' as 'age' and 'income_type' as 'job'.\n",
    "\n",
    "3- The 'days_employed' column have got negative numbers. What is the meaning of them, we will look that. If it doesn't show us time interval since quit job, it can be changed positive. Probably there was a technical problem on this column. The values of days can be changed to years to easily understand this column.\n",
    "\n",
    "4- The 'education' column has the same names beginning with capital letters. The duplicated values will be changed.\n",
    "\n",
    "5- There are many duplicated values on 'purpose' column. We are going to look at this column and check with unique method.\n"
   ]
  },
  {
   "cell_type": "code",
   "execution_count": 2,
   "metadata": {},
   "outputs": [
    {
     "data": {
      "text/html": [
       "<div>\n",
       "<style scoped>\n",
       "    .dataframe tbody tr th:only-of-type {\n",
       "        vertical-align: middle;\n",
       "    }\n",
       "\n",
       "    .dataframe tbody tr th {\n",
       "        vertical-align: top;\n",
       "    }\n",
       "\n",
       "    .dataframe thead th {\n",
       "        text-align: right;\n",
       "    }\n",
       "</style>\n",
       "<table border=\"1\" class=\"dataframe\">\n",
       "  <thead>\n",
       "    <tr style=\"text-align: right;\">\n",
       "      <th></th>\n",
       "      <th>children</th>\n",
       "      <th>days_employed</th>\n",
       "      <th>dob_years</th>\n",
       "      <th>education</th>\n",
       "      <th>education_id</th>\n",
       "      <th>family_status</th>\n",
       "      <th>family_status_id</th>\n",
       "      <th>gender</th>\n",
       "      <th>income_type</th>\n",
       "      <th>debt</th>\n",
       "      <th>total_income</th>\n",
       "      <th>purpose</th>\n",
       "    </tr>\n",
       "  </thead>\n",
       "  <tbody>\n",
       "    <tr>\n",
       "      <td>0</td>\n",
       "      <td>1</td>\n",
       "      <td>-8437.673028</td>\n",
       "      <td>42</td>\n",
       "      <td>bachelor's degree</td>\n",
       "      <td>0</td>\n",
       "      <td>married</td>\n",
       "      <td>0</td>\n",
       "      <td>F</td>\n",
       "      <td>employee</td>\n",
       "      <td>0</td>\n",
       "      <td>40620.102</td>\n",
       "      <td>purchase of the house</td>\n",
       "    </tr>\n",
       "    <tr>\n",
       "      <td>1</td>\n",
       "      <td>1</td>\n",
       "      <td>-4024.803754</td>\n",
       "      <td>36</td>\n",
       "      <td>secondary education</td>\n",
       "      <td>1</td>\n",
       "      <td>married</td>\n",
       "      <td>0</td>\n",
       "      <td>F</td>\n",
       "      <td>employee</td>\n",
       "      <td>0</td>\n",
       "      <td>17932.802</td>\n",
       "      <td>car purchase</td>\n",
       "    </tr>\n",
       "    <tr>\n",
       "      <td>2</td>\n",
       "      <td>0</td>\n",
       "      <td>-5623.422610</td>\n",
       "      <td>33</td>\n",
       "      <td>Secondary Education</td>\n",
       "      <td>1</td>\n",
       "      <td>married</td>\n",
       "      <td>0</td>\n",
       "      <td>M</td>\n",
       "      <td>employee</td>\n",
       "      <td>0</td>\n",
       "      <td>23341.752</td>\n",
       "      <td>purchase of the house</td>\n",
       "    </tr>\n",
       "    <tr>\n",
       "      <td>3</td>\n",
       "      <td>3</td>\n",
       "      <td>-4124.747207</td>\n",
       "      <td>32</td>\n",
       "      <td>secondary education</td>\n",
       "      <td>1</td>\n",
       "      <td>married</td>\n",
       "      <td>0</td>\n",
       "      <td>M</td>\n",
       "      <td>employee</td>\n",
       "      <td>0</td>\n",
       "      <td>42820.568</td>\n",
       "      <td>supplementary education</td>\n",
       "    </tr>\n",
       "    <tr>\n",
       "      <td>4</td>\n",
       "      <td>0</td>\n",
       "      <td>340266.072047</td>\n",
       "      <td>53</td>\n",
       "      <td>secondary education</td>\n",
       "      <td>1</td>\n",
       "      <td>civil partnership</td>\n",
       "      <td>1</td>\n",
       "      <td>F</td>\n",
       "      <td>retiree</td>\n",
       "      <td>0</td>\n",
       "      <td>25378.572</td>\n",
       "      <td>to have a wedding</td>\n",
       "    </tr>\n",
       "  </tbody>\n",
       "</table>\n",
       "</div>"
      ],
      "text/plain": [
       "   children  days_employed  dob_years            education  education_id  \\\n",
       "0         1   -8437.673028         42    bachelor's degree             0   \n",
       "1         1   -4024.803754         36  secondary education             1   \n",
       "2         0   -5623.422610         33  Secondary Education             1   \n",
       "3         3   -4124.747207         32  secondary education             1   \n",
       "4         0  340266.072047         53  secondary education             1   \n",
       "\n",
       "       family_status  family_status_id gender income_type  debt  total_income  \\\n",
       "0            married                 0      F    employee     0     40620.102   \n",
       "1            married                 0      F    employee     0     17932.802   \n",
       "2            married                 0      M    employee     0     23341.752   \n",
       "3            married                 0      M    employee     0     42820.568   \n",
       "4  civil partnership                 1      F     retiree     0     25378.572   \n",
       "\n",
       "                   purpose  \n",
       "0    purchase of the house  \n",
       "1             car purchase  \n",
       "2    purchase of the house  \n",
       "3  supplementary education  \n",
       "4        to have a wedding  "
      ]
     },
     "execution_count": 2,
     "metadata": {},
     "output_type": "execute_result"
    }
   ],
   "source": [
    "data.head()"
   ]
  },
  {
   "cell_type": "code",
   "execution_count": 3,
   "metadata": {},
   "outputs": [
    {
     "data": {
      "text/html": [
       "<div>\n",
       "<style scoped>\n",
       "    .dataframe tbody tr th:only-of-type {\n",
       "        vertical-align: middle;\n",
       "    }\n",
       "\n",
       "    .dataframe tbody tr th {\n",
       "        vertical-align: top;\n",
       "    }\n",
       "\n",
       "    .dataframe thead th {\n",
       "        text-align: right;\n",
       "    }\n",
       "</style>\n",
       "<table border=\"1\" class=\"dataframe\">\n",
       "  <thead>\n",
       "    <tr style=\"text-align: right;\">\n",
       "      <th></th>\n",
       "      <th>children</th>\n",
       "      <th>days_employed</th>\n",
       "      <th>dob_years</th>\n",
       "      <th>education</th>\n",
       "      <th>education_id</th>\n",
       "      <th>family_status</th>\n",
       "      <th>family_status_id</th>\n",
       "      <th>gender</th>\n",
       "      <th>income_type</th>\n",
       "      <th>debt</th>\n",
       "      <th>total_income</th>\n",
       "      <th>purpose</th>\n",
       "    </tr>\n",
       "  </thead>\n",
       "  <tbody>\n",
       "    <tr>\n",
       "      <td>21520</td>\n",
       "      <td>1</td>\n",
       "      <td>-4529.316663</td>\n",
       "      <td>43</td>\n",
       "      <td>secondary education</td>\n",
       "      <td>1</td>\n",
       "      <td>civil partnership</td>\n",
       "      <td>1</td>\n",
       "      <td>F</td>\n",
       "      <td>business</td>\n",
       "      <td>0</td>\n",
       "      <td>35966.698</td>\n",
       "      <td>housing transactions</td>\n",
       "    </tr>\n",
       "    <tr>\n",
       "      <td>21521</td>\n",
       "      <td>0</td>\n",
       "      <td>343937.404131</td>\n",
       "      <td>67</td>\n",
       "      <td>secondary education</td>\n",
       "      <td>1</td>\n",
       "      <td>married</td>\n",
       "      <td>0</td>\n",
       "      <td>F</td>\n",
       "      <td>retiree</td>\n",
       "      <td>0</td>\n",
       "      <td>24959.969</td>\n",
       "      <td>purchase of a car</td>\n",
       "    </tr>\n",
       "    <tr>\n",
       "      <td>21522</td>\n",
       "      <td>1</td>\n",
       "      <td>-2113.346888</td>\n",
       "      <td>38</td>\n",
       "      <td>secondary education</td>\n",
       "      <td>1</td>\n",
       "      <td>civil partnership</td>\n",
       "      <td>1</td>\n",
       "      <td>M</td>\n",
       "      <td>employee</td>\n",
       "      <td>1</td>\n",
       "      <td>14347.610</td>\n",
       "      <td>property</td>\n",
       "    </tr>\n",
       "    <tr>\n",
       "      <td>21523</td>\n",
       "      <td>3</td>\n",
       "      <td>-3112.481705</td>\n",
       "      <td>38</td>\n",
       "      <td>secondary education</td>\n",
       "      <td>1</td>\n",
       "      <td>married</td>\n",
       "      <td>0</td>\n",
       "      <td>M</td>\n",
       "      <td>employee</td>\n",
       "      <td>1</td>\n",
       "      <td>39054.888</td>\n",
       "      <td>buying my own car</td>\n",
       "    </tr>\n",
       "    <tr>\n",
       "      <td>21524</td>\n",
       "      <td>2</td>\n",
       "      <td>-1984.507589</td>\n",
       "      <td>40</td>\n",
       "      <td>secondary education</td>\n",
       "      <td>1</td>\n",
       "      <td>married</td>\n",
       "      <td>0</td>\n",
       "      <td>F</td>\n",
       "      <td>employee</td>\n",
       "      <td>0</td>\n",
       "      <td>13127.587</td>\n",
       "      <td>to buy a car</td>\n",
       "    </tr>\n",
       "  </tbody>\n",
       "</table>\n",
       "</div>"
      ],
      "text/plain": [
       "       children  days_employed  dob_years            education  education_id  \\\n",
       "21520         1   -4529.316663         43  secondary education             1   \n",
       "21521         0  343937.404131         67  secondary education             1   \n",
       "21522         1   -2113.346888         38  secondary education             1   \n",
       "21523         3   -3112.481705         38  secondary education             1   \n",
       "21524         2   -1984.507589         40  secondary education             1   \n",
       "\n",
       "           family_status  family_status_id gender income_type  debt  \\\n",
       "21520  civil partnership                 1      F    business     0   \n",
       "21521            married                 0      F     retiree     0   \n",
       "21522  civil partnership                 1      M    employee     1   \n",
       "21523            married                 0      M    employee     1   \n",
       "21524            married                 0      F    employee     0   \n",
       "\n",
       "       total_income               purpose  \n",
       "21520     35966.698  housing transactions  \n",
       "21521     24959.969     purchase of a car  \n",
       "21522     14347.610              property  \n",
       "21523     39054.888     buying my own car  \n",
       "21524     13127.587          to buy a car  "
      ]
     },
     "execution_count": 3,
     "metadata": {},
     "output_type": "execute_result"
    }
   ],
   "source": [
    "data.tail()"
   ]
  },
  {
   "cell_type": "code",
   "execution_count": 4,
   "metadata": {},
   "outputs": [
    {
     "data": {
      "text/html": [
       "<div>\n",
       "<style scoped>\n",
       "    .dataframe tbody tr th:only-of-type {\n",
       "        vertical-align: middle;\n",
       "    }\n",
       "\n",
       "    .dataframe tbody tr th {\n",
       "        vertical-align: top;\n",
       "    }\n",
       "\n",
       "    .dataframe thead th {\n",
       "        text-align: right;\n",
       "    }\n",
       "</style>\n",
       "<table border=\"1\" class=\"dataframe\">\n",
       "  <thead>\n",
       "    <tr style=\"text-align: right;\">\n",
       "      <th></th>\n",
       "      <th>children</th>\n",
       "      <th>days_employed</th>\n",
       "      <th>dob_years</th>\n",
       "      <th>education</th>\n",
       "      <th>education_id</th>\n",
       "      <th>family_status</th>\n",
       "      <th>family_status_id</th>\n",
       "      <th>gender</th>\n",
       "      <th>income_type</th>\n",
       "      <th>debt</th>\n",
       "      <th>total_income</th>\n",
       "      <th>purpose</th>\n",
       "    </tr>\n",
       "  </thead>\n",
       "  <tbody>\n",
       "    <tr>\n",
       "      <td>12171</td>\n",
       "      <td>0</td>\n",
       "      <td>354289.226689</td>\n",
       "      <td>61</td>\n",
       "      <td>secondary education</td>\n",
       "      <td>1</td>\n",
       "      <td>married</td>\n",
       "      <td>0</td>\n",
       "      <td>M</td>\n",
       "      <td>retiree</td>\n",
       "      <td>0</td>\n",
       "      <td>19700.256</td>\n",
       "      <td>transactions with commercial real estate</td>\n",
       "    </tr>\n",
       "    <tr>\n",
       "      <td>18128</td>\n",
       "      <td>0</td>\n",
       "      <td>-3767.248842</td>\n",
       "      <td>36</td>\n",
       "      <td>BACHELOR'S DEGREE</td>\n",
       "      <td>0</td>\n",
       "      <td>married</td>\n",
       "      <td>0</td>\n",
       "      <td>F</td>\n",
       "      <td>employee</td>\n",
       "      <td>0</td>\n",
       "      <td>14197.702</td>\n",
       "      <td>buy commercial real estate</td>\n",
       "    </tr>\n",
       "    <tr>\n",
       "      <td>17065</td>\n",
       "      <td>0</td>\n",
       "      <td>-118.574426</td>\n",
       "      <td>41</td>\n",
       "      <td>secondary education</td>\n",
       "      <td>1</td>\n",
       "      <td>unmarried</td>\n",
       "      <td>4</td>\n",
       "      <td>M</td>\n",
       "      <td>employee</td>\n",
       "      <td>0</td>\n",
       "      <td>21829.342</td>\n",
       "      <td>purchase of the house</td>\n",
       "    </tr>\n",
       "    <tr>\n",
       "      <td>2729</td>\n",
       "      <td>0</td>\n",
       "      <td>332519.742268</td>\n",
       "      <td>59</td>\n",
       "      <td>secondary education</td>\n",
       "      <td>1</td>\n",
       "      <td>divorced</td>\n",
       "      <td>3</td>\n",
       "      <td>F</td>\n",
       "      <td>retiree</td>\n",
       "      <td>0</td>\n",
       "      <td>36700.570</td>\n",
       "      <td>education</td>\n",
       "    </tr>\n",
       "    <tr>\n",
       "      <td>9043</td>\n",
       "      <td>0</td>\n",
       "      <td>355436.354341</td>\n",
       "      <td>62</td>\n",
       "      <td>secondary education</td>\n",
       "      <td>1</td>\n",
       "      <td>widow / widower</td>\n",
       "      <td>2</td>\n",
       "      <td>F</td>\n",
       "      <td>retiree</td>\n",
       "      <td>0</td>\n",
       "      <td>10417.462</td>\n",
       "      <td>real estate transactions</td>\n",
       "    </tr>\n",
       "    <tr>\n",
       "      <td>17547</td>\n",
       "      <td>0</td>\n",
       "      <td>375933.745908</td>\n",
       "      <td>53</td>\n",
       "      <td>secondary education</td>\n",
       "      <td>1</td>\n",
       "      <td>married</td>\n",
       "      <td>0</td>\n",
       "      <td>F</td>\n",
       "      <td>retiree</td>\n",
       "      <td>0</td>\n",
       "      <td>14799.563</td>\n",
       "      <td>second-hand car purchase</td>\n",
       "    </tr>\n",
       "    <tr>\n",
       "      <td>8156</td>\n",
       "      <td>0</td>\n",
       "      <td>-718.575473</td>\n",
       "      <td>57</td>\n",
       "      <td>secondary education</td>\n",
       "      <td>1</td>\n",
       "      <td>married</td>\n",
       "      <td>0</td>\n",
       "      <td>M</td>\n",
       "      <td>employee</td>\n",
       "      <td>0</td>\n",
       "      <td>33515.207</td>\n",
       "      <td>to own a car</td>\n",
       "    </tr>\n",
       "    <tr>\n",
       "      <td>10421</td>\n",
       "      <td>1</td>\n",
       "      <td>-2084.330015</td>\n",
       "      <td>44</td>\n",
       "      <td>secondary education</td>\n",
       "      <td>1</td>\n",
       "      <td>married</td>\n",
       "      <td>0</td>\n",
       "      <td>M</td>\n",
       "      <td>employee</td>\n",
       "      <td>0</td>\n",
       "      <td>34545.142</td>\n",
       "      <td>housing</td>\n",
       "    </tr>\n",
       "    <tr>\n",
       "      <td>11217</td>\n",
       "      <td>2</td>\n",
       "      <td>-1006.565216</td>\n",
       "      <td>32</td>\n",
       "      <td>secondary education</td>\n",
       "      <td>1</td>\n",
       "      <td>married</td>\n",
       "      <td>0</td>\n",
       "      <td>M</td>\n",
       "      <td>business</td>\n",
       "      <td>1</td>\n",
       "      <td>30303.284</td>\n",
       "      <td>university education</td>\n",
       "    </tr>\n",
       "    <tr>\n",
       "      <td>14688</td>\n",
       "      <td>1</td>\n",
       "      <td>-148.516486</td>\n",
       "      <td>48</td>\n",
       "      <td>secondary education</td>\n",
       "      <td>1</td>\n",
       "      <td>married</td>\n",
       "      <td>0</td>\n",
       "      <td>F</td>\n",
       "      <td>employee</td>\n",
       "      <td>0</td>\n",
       "      <td>8025.727</td>\n",
       "      <td>getting higher education</td>\n",
       "    </tr>\n",
       "  </tbody>\n",
       "</table>\n",
       "</div>"
      ],
      "text/plain": [
       "       children  days_employed  dob_years            education  education_id  \\\n",
       "12171         0  354289.226689         61  secondary education             1   \n",
       "18128         0   -3767.248842         36    BACHELOR'S DEGREE             0   \n",
       "17065         0    -118.574426         41  secondary education             1   \n",
       "2729          0  332519.742268         59  secondary education             1   \n",
       "9043          0  355436.354341         62  secondary education             1   \n",
       "17547         0  375933.745908         53  secondary education             1   \n",
       "8156          0    -718.575473         57  secondary education             1   \n",
       "10421         1   -2084.330015         44  secondary education             1   \n",
       "11217         2   -1006.565216         32  secondary education             1   \n",
       "14688         1    -148.516486         48  secondary education             1   \n",
       "\n",
       "         family_status  family_status_id gender income_type  debt  \\\n",
       "12171          married                 0      M     retiree     0   \n",
       "18128          married                 0      F    employee     0   \n",
       "17065        unmarried                 4      M    employee     0   \n",
       "2729          divorced                 3      F     retiree     0   \n",
       "9043   widow / widower                 2      F     retiree     0   \n",
       "17547          married                 0      F     retiree     0   \n",
       "8156           married                 0      M    employee     0   \n",
       "10421          married                 0      M    employee     0   \n",
       "11217          married                 0      M    business     1   \n",
       "14688          married                 0      F    employee     0   \n",
       "\n",
       "       total_income                                   purpose  \n",
       "12171     19700.256  transactions with commercial real estate  \n",
       "18128     14197.702                buy commercial real estate  \n",
       "17065     21829.342                     purchase of the house  \n",
       "2729      36700.570                                 education  \n",
       "9043      10417.462                  real estate transactions  \n",
       "17547     14799.563                  second-hand car purchase  \n",
       "8156      33515.207                              to own a car  \n",
       "10421     34545.142                                   housing  \n",
       "11217     30303.284                      university education  \n",
       "14688      8025.727                  getting higher education  "
      ]
     },
     "execution_count": 4,
     "metadata": {},
     "output_type": "execute_result"
    }
   ],
   "source": [
    "data.sample(10)"
   ]
  },
  {
   "cell_type": "markdown",
   "metadata": {},
   "source": [
    "## Data preprocessing"
   ]
  },
  {
   "cell_type": "markdown",
   "metadata": {},
   "source": [
    "###### Changing Column Names"
   ]
  },
  {
   "cell_type": "markdown",
   "metadata": {},
   "source": [
    "We will change columns names like this:\n",
    "\n",
    "'children' --- 'kids'\n",
    "\n",
    "'dob_years' --- 'age'\n",
    "\n",
    "'family_status'  --- 'marital_status'\n",
    "\n",
    "'family_status_id'  --- 'marital_status_id'\n",
    "\n",
    "'income_type' --- 'job'\n",
    "\n",
    "'total_income' --- 'income'"
   ]
  },
  {
   "cell_type": "code",
   "execution_count": 5,
   "metadata": {},
   "outputs": [
    {
     "data": {
      "text/html": [
       "<div>\n",
       "<style scoped>\n",
       "    .dataframe tbody tr th:only-of-type {\n",
       "        vertical-align: middle;\n",
       "    }\n",
       "\n",
       "    .dataframe tbody tr th {\n",
       "        vertical-align: top;\n",
       "    }\n",
       "\n",
       "    .dataframe thead th {\n",
       "        text-align: right;\n",
       "    }\n",
       "</style>\n",
       "<table border=\"1\" class=\"dataframe\">\n",
       "  <thead>\n",
       "    <tr style=\"text-align: right;\">\n",
       "      <th></th>\n",
       "      <th>kids</th>\n",
       "      <th>days_employed</th>\n",
       "      <th>age</th>\n",
       "      <th>education</th>\n",
       "      <th>education_id</th>\n",
       "      <th>marital_status</th>\n",
       "      <th>marital_status_id</th>\n",
       "      <th>gender</th>\n",
       "      <th>job</th>\n",
       "      <th>debt</th>\n",
       "      <th>income</th>\n",
       "      <th>purpose</th>\n",
       "    </tr>\n",
       "  </thead>\n",
       "  <tbody>\n",
       "    <tr>\n",
       "      <td>0</td>\n",
       "      <td>1</td>\n",
       "      <td>-8437.673028</td>\n",
       "      <td>42</td>\n",
       "      <td>bachelor's degree</td>\n",
       "      <td>0</td>\n",
       "      <td>married</td>\n",
       "      <td>0</td>\n",
       "      <td>F</td>\n",
       "      <td>employee</td>\n",
       "      <td>0</td>\n",
       "      <td>40620.102</td>\n",
       "      <td>purchase of the house</td>\n",
       "    </tr>\n",
       "    <tr>\n",
       "      <td>1</td>\n",
       "      <td>1</td>\n",
       "      <td>-4024.803754</td>\n",
       "      <td>36</td>\n",
       "      <td>secondary education</td>\n",
       "      <td>1</td>\n",
       "      <td>married</td>\n",
       "      <td>0</td>\n",
       "      <td>F</td>\n",
       "      <td>employee</td>\n",
       "      <td>0</td>\n",
       "      <td>17932.802</td>\n",
       "      <td>car purchase</td>\n",
       "    </tr>\n",
       "    <tr>\n",
       "      <td>2</td>\n",
       "      <td>0</td>\n",
       "      <td>-5623.422610</td>\n",
       "      <td>33</td>\n",
       "      <td>Secondary Education</td>\n",
       "      <td>1</td>\n",
       "      <td>married</td>\n",
       "      <td>0</td>\n",
       "      <td>M</td>\n",
       "      <td>employee</td>\n",
       "      <td>0</td>\n",
       "      <td>23341.752</td>\n",
       "      <td>purchase of the house</td>\n",
       "    </tr>\n",
       "  </tbody>\n",
       "</table>\n",
       "</div>"
      ],
      "text/plain": [
       "   kids  days_employed  age            education  education_id marital_status  \\\n",
       "0     1   -8437.673028   42    bachelor's degree             0        married   \n",
       "1     1   -4024.803754   36  secondary education             1        married   \n",
       "2     0   -5623.422610   33  Secondary Education             1        married   \n",
       "\n",
       "   marital_status_id gender       job  debt     income                purpose  \n",
       "0                  0      F  employee     0  40620.102  purchase of the house  \n",
       "1                  0      F  employee     0  17932.802           car purchase  \n",
       "2                  0      M  employee     0  23341.752  purchase of the house  "
      ]
     },
     "metadata": {},
     "output_type": "display_data"
    }
   ],
   "source": [
    "data.set_axis(['kids', 'days_employed', 'age', 'education', 'education_id', 'marital_status', 'marital_status_id', \n",
    "               'gender','job', 'debt', 'income', 'purpose'], axis='columns', inplace=True) \n",
    "display(data.head(3))"
   ]
  },
  {
   "cell_type": "markdown",
   "metadata": {},
   "source": [
    "### Defining the number of negative values on 'days_employed' column"
   ]
  },
  {
   "cell_type": "code",
   "execution_count": 6,
   "metadata": {},
   "outputs": [
    {
     "data": {
      "text/plain": [
       "15906"
      ]
     },
     "metadata": {},
     "output_type": "display_data"
    }
   ],
   "source": [
    "display(data[data['days_employed'] < 0]['days_employed'].count())"
   ]
  },
  {
   "cell_type": "markdown",
   "metadata": {},
   "source": [
    "### Analyzing the problem on 'days_employed'"
   ]
  },
  {
   "cell_type": "markdown",
   "metadata": {},
   "source": [
    "Let's look at the row with minimum value of this column."
   ]
  },
  {
   "cell_type": "code",
   "execution_count": 7,
   "metadata": {},
   "outputs": [
    {
     "data": {
      "text/html": [
       "<div>\n",
       "<style scoped>\n",
       "    .dataframe tbody tr th:only-of-type {\n",
       "        vertical-align: middle;\n",
       "    }\n",
       "\n",
       "    .dataframe tbody tr th {\n",
       "        vertical-align: top;\n",
       "    }\n",
       "\n",
       "    .dataframe thead th {\n",
       "        text-align: right;\n",
       "    }\n",
       "</style>\n",
       "<table border=\"1\" class=\"dataframe\">\n",
       "  <thead>\n",
       "    <tr style=\"text-align: right;\">\n",
       "      <th></th>\n",
       "      <th>kids</th>\n",
       "      <th>days_employed</th>\n",
       "      <th>age</th>\n",
       "      <th>education</th>\n",
       "      <th>education_id</th>\n",
       "      <th>marital_status</th>\n",
       "      <th>marital_status_id</th>\n",
       "      <th>gender</th>\n",
       "      <th>job</th>\n",
       "      <th>debt</th>\n",
       "      <th>income</th>\n",
       "      <th>purpose</th>\n",
       "    </tr>\n",
       "  </thead>\n",
       "  <tbody>\n",
       "    <tr>\n",
       "      <td>16335</td>\n",
       "      <td>1</td>\n",
       "      <td>-18388.949901</td>\n",
       "      <td>61</td>\n",
       "      <td>secondary education</td>\n",
       "      <td>1</td>\n",
       "      <td>married</td>\n",
       "      <td>0</td>\n",
       "      <td>F</td>\n",
       "      <td>employee</td>\n",
       "      <td>0</td>\n",
       "      <td>29788.629</td>\n",
       "      <td>real estate transactions</td>\n",
       "    </tr>\n",
       "  </tbody>\n",
       "</table>\n",
       "</div>"
      ],
      "text/plain": [
       "       kids  days_employed  age            education  education_id  \\\n",
       "16335     1  -18388.949901   61  secondary education             1   \n",
       "\n",
       "      marital_status  marital_status_id gender       job  debt     income  \\\n",
       "16335        married                  0      F  employee     0  29788.629   \n",
       "\n",
       "                        purpose  \n",
       "16335  real estate transactions  "
      ]
     },
     "metadata": {},
     "output_type": "display_data"
    }
   ],
   "source": [
    "display(data[data['days_employed'] == data['days_employed'].min()])"
   ]
  },
  {
   "cell_type": "markdown",
   "metadata": {},
   "source": [
    "It seems like negative values are not related to job or income, because the woman in this row is an employee and 61 old and has about 30K income."
   ]
  },
  {
   "cell_type": "markdown",
   "metadata": {},
   "source": [
    "Negative values on 'days_employed' column are not related to job status or not shows job quit day, \n",
    "so we can change them to positive with abs() method. Negative values were considered a technical problem."
   ]
  },
  {
   "cell_type": "code",
   "execution_count": 8,
   "metadata": {},
   "outputs": [],
   "source": [
    "data.days_employed = data.days_employed.abs()"
   ]
  },
  {
   "cell_type": "markdown",
   "metadata": {},
   "source": [
    "We are going to add a new column which is named 'years_employed', because there are big numbers on 'days_employed' column and to see big picture is hard with those numbers. So '1' year contains '365.25' days, we can divide 'days_employed' by '365.25'"
   ]
  },
  {
   "cell_type": "code",
   "execution_count": 9,
   "metadata": {},
   "outputs": [
    {
     "data": {
      "text/html": [
       "<div>\n",
       "<style scoped>\n",
       "    .dataframe tbody tr th:only-of-type {\n",
       "        vertical-align: middle;\n",
       "    }\n",
       "\n",
       "    .dataframe tbody tr th {\n",
       "        vertical-align: top;\n",
       "    }\n",
       "\n",
       "    .dataframe thead th {\n",
       "        text-align: right;\n",
       "    }\n",
       "</style>\n",
       "<table border=\"1\" class=\"dataframe\">\n",
       "  <thead>\n",
       "    <tr style=\"text-align: right;\">\n",
       "      <th></th>\n",
       "      <th>kids</th>\n",
       "      <th>days_employed</th>\n",
       "      <th>age</th>\n",
       "      <th>education</th>\n",
       "      <th>education_id</th>\n",
       "      <th>marital_status</th>\n",
       "      <th>marital_status_id</th>\n",
       "      <th>gender</th>\n",
       "      <th>job</th>\n",
       "      <th>debt</th>\n",
       "      <th>income</th>\n",
       "      <th>purpose</th>\n",
       "      <th>years_employed</th>\n",
       "    </tr>\n",
       "  </thead>\n",
       "  <tbody>\n",
       "    <tr>\n",
       "      <td>0</td>\n",
       "      <td>1</td>\n",
       "      <td>8437.673028</td>\n",
       "      <td>42</td>\n",
       "      <td>bachelor's degree</td>\n",
       "      <td>0</td>\n",
       "      <td>married</td>\n",
       "      <td>0</td>\n",
       "      <td>F</td>\n",
       "      <td>employee</td>\n",
       "      <td>0</td>\n",
       "      <td>40620.102</td>\n",
       "      <td>purchase of the house</td>\n",
       "      <td>23.101090</td>\n",
       "    </tr>\n",
       "    <tr>\n",
       "      <td>1</td>\n",
       "      <td>1</td>\n",
       "      <td>4024.803754</td>\n",
       "      <td>36</td>\n",
       "      <td>secondary education</td>\n",
       "      <td>1</td>\n",
       "      <td>married</td>\n",
       "      <td>0</td>\n",
       "      <td>F</td>\n",
       "      <td>employee</td>\n",
       "      <td>0</td>\n",
       "      <td>17932.802</td>\n",
       "      <td>car purchase</td>\n",
       "      <td>11.019312</td>\n",
       "    </tr>\n",
       "    <tr>\n",
       "      <td>2</td>\n",
       "      <td>0</td>\n",
       "      <td>5623.422610</td>\n",
       "      <td>33</td>\n",
       "      <td>Secondary Education</td>\n",
       "      <td>1</td>\n",
       "      <td>married</td>\n",
       "      <td>0</td>\n",
       "      <td>M</td>\n",
       "      <td>employee</td>\n",
       "      <td>0</td>\n",
       "      <td>23341.752</td>\n",
       "      <td>purchase of the house</td>\n",
       "      <td>15.396092</td>\n",
       "    </tr>\n",
       "    <tr>\n",
       "      <td>3</td>\n",
       "      <td>3</td>\n",
       "      <td>4124.747207</td>\n",
       "      <td>32</td>\n",
       "      <td>secondary education</td>\n",
       "      <td>1</td>\n",
       "      <td>married</td>\n",
       "      <td>0</td>\n",
       "      <td>M</td>\n",
       "      <td>employee</td>\n",
       "      <td>0</td>\n",
       "      <td>42820.568</td>\n",
       "      <td>supplementary education</td>\n",
       "      <td>11.292942</td>\n",
       "    </tr>\n",
       "    <tr>\n",
       "      <td>4</td>\n",
       "      <td>0</td>\n",
       "      <td>340266.072047</td>\n",
       "      <td>53</td>\n",
       "      <td>secondary education</td>\n",
       "      <td>1</td>\n",
       "      <td>civil partnership</td>\n",
       "      <td>1</td>\n",
       "      <td>F</td>\n",
       "      <td>retiree</td>\n",
       "      <td>0</td>\n",
       "      <td>25378.572</td>\n",
       "      <td>to have a wedding</td>\n",
       "      <td>931.597733</td>\n",
       "    </tr>\n",
       "  </tbody>\n",
       "</table>\n",
       "</div>"
      ],
      "text/plain": [
       "   kids  days_employed  age            education  education_id  \\\n",
       "0     1    8437.673028   42    bachelor's degree             0   \n",
       "1     1    4024.803754   36  secondary education             1   \n",
       "2     0    5623.422610   33  Secondary Education             1   \n",
       "3     3    4124.747207   32  secondary education             1   \n",
       "4     0  340266.072047   53  secondary education             1   \n",
       "\n",
       "      marital_status  marital_status_id gender       job  debt     income  \\\n",
       "0            married                  0      F  employee     0  40620.102   \n",
       "1            married                  0      F  employee     0  17932.802   \n",
       "2            married                  0      M  employee     0  23341.752   \n",
       "3            married                  0      M  employee     0  42820.568   \n",
       "4  civil partnership                  1      F   retiree     0  25378.572   \n",
       "\n",
       "                   purpose  years_employed  \n",
       "0    purchase of the house       23.101090  \n",
       "1             car purchase       11.019312  \n",
       "2    purchase of the house       15.396092  \n",
       "3  supplementary education       11.292942  \n",
       "4        to have a wedding      931.597733  "
      ]
     },
     "metadata": {},
     "output_type": "display_data"
    }
   ],
   "source": [
    "data['years_employed'] = data['days_employed'] / 365.25\n",
    "display(data.head())"
   ]
  },
  {
   "cell_type": "code",
   "execution_count": 10,
   "metadata": {},
   "outputs": [
    {
     "data": {
      "text/html": [
       "<div>\n",
       "<style scoped>\n",
       "    .dataframe tbody tr th:only-of-type {\n",
       "        vertical-align: middle;\n",
       "    }\n",
       "\n",
       "    .dataframe tbody tr th {\n",
       "        vertical-align: top;\n",
       "    }\n",
       "\n",
       "    .dataframe thead th {\n",
       "        text-align: right;\n",
       "    }\n",
       "</style>\n",
       "<table border=\"1\" class=\"dataframe\">\n",
       "  <thead>\n",
       "    <tr style=\"text-align: right;\">\n",
       "      <th></th>\n",
       "      <th>kids</th>\n",
       "      <th>days_employed</th>\n",
       "      <th>age</th>\n",
       "      <th>education</th>\n",
       "      <th>education_id</th>\n",
       "      <th>marital_status</th>\n",
       "      <th>marital_status_id</th>\n",
       "      <th>gender</th>\n",
       "      <th>job</th>\n",
       "      <th>debt</th>\n",
       "      <th>income</th>\n",
       "      <th>purpose</th>\n",
       "      <th>years_employed</th>\n",
       "    </tr>\n",
       "  </thead>\n",
       "  <tbody>\n",
       "    <tr>\n",
       "      <td>120</td>\n",
       "      <td>0</td>\n",
       "      <td>NaN</td>\n",
       "      <td>46</td>\n",
       "      <td>secondary education</td>\n",
       "      <td>1</td>\n",
       "      <td>married</td>\n",
       "      <td>0</td>\n",
       "      <td>F</td>\n",
       "      <td>employee</td>\n",
       "      <td>0</td>\n",
       "      <td>NaN</td>\n",
       "      <td>university education</td>\n",
       "      <td>NaN</td>\n",
       "    </tr>\n",
       "    <tr>\n",
       "      <td>520</td>\n",
       "      <td>0</td>\n",
       "      <td>NaN</td>\n",
       "      <td>35</td>\n",
       "      <td>secondary education</td>\n",
       "      <td>1</td>\n",
       "      <td>civil partnership</td>\n",
       "      <td>1</td>\n",
       "      <td>F</td>\n",
       "      <td>employee</td>\n",
       "      <td>0</td>\n",
       "      <td>NaN</td>\n",
       "      <td>to have a wedding</td>\n",
       "      <td>NaN</td>\n",
       "    </tr>\n",
       "    <tr>\n",
       "      <td>541</td>\n",
       "      <td>0</td>\n",
       "      <td>NaN</td>\n",
       "      <td>57</td>\n",
       "      <td>secondary education</td>\n",
       "      <td>1</td>\n",
       "      <td>married</td>\n",
       "      <td>0</td>\n",
       "      <td>F</td>\n",
       "      <td>employee</td>\n",
       "      <td>0</td>\n",
       "      <td>NaN</td>\n",
       "      <td>second-hand car purchase</td>\n",
       "      <td>NaN</td>\n",
       "    </tr>\n",
       "    <tr>\n",
       "      <td>554</td>\n",
       "      <td>0</td>\n",
       "      <td>NaN</td>\n",
       "      <td>60</td>\n",
       "      <td>secondary education</td>\n",
       "      <td>1</td>\n",
       "      <td>married</td>\n",
       "      <td>0</td>\n",
       "      <td>M</td>\n",
       "      <td>employee</td>\n",
       "      <td>0</td>\n",
       "      <td>NaN</td>\n",
       "      <td>buy real estate</td>\n",
       "      <td>NaN</td>\n",
       "    </tr>\n",
       "    <tr>\n",
       "      <td>680</td>\n",
       "      <td>1</td>\n",
       "      <td>NaN</td>\n",
       "      <td>30</td>\n",
       "      <td>bachelor's degree</td>\n",
       "      <td>0</td>\n",
       "      <td>married</td>\n",
       "      <td>0</td>\n",
       "      <td>F</td>\n",
       "      <td>civil servant</td>\n",
       "      <td>0</td>\n",
       "      <td>NaN</td>\n",
       "      <td>purchase of the house for my family</td>\n",
       "      <td>NaN</td>\n",
       "    </tr>\n",
       "    <tr>\n",
       "      <td>...</td>\n",
       "      <td>...</td>\n",
       "      <td>...</td>\n",
       "      <td>...</td>\n",
       "      <td>...</td>\n",
       "      <td>...</td>\n",
       "      <td>...</td>\n",
       "      <td>...</td>\n",
       "      <td>...</td>\n",
       "      <td>...</td>\n",
       "      <td>...</td>\n",
       "      <td>...</td>\n",
       "      <td>...</td>\n",
       "      <td>...</td>\n",
       "    </tr>\n",
       "    <tr>\n",
       "      <td>20702</td>\n",
       "      <td>0</td>\n",
       "      <td>NaN</td>\n",
       "      <td>64</td>\n",
       "      <td>secondary education</td>\n",
       "      <td>1</td>\n",
       "      <td>married</td>\n",
       "      <td>0</td>\n",
       "      <td>F</td>\n",
       "      <td>retiree</td>\n",
       "      <td>0</td>\n",
       "      <td>NaN</td>\n",
       "      <td>supplementary education</td>\n",
       "      <td>NaN</td>\n",
       "    </tr>\n",
       "    <tr>\n",
       "      <td>21032</td>\n",
       "      <td>0</td>\n",
       "      <td>NaN</td>\n",
       "      <td>60</td>\n",
       "      <td>secondary education</td>\n",
       "      <td>1</td>\n",
       "      <td>married</td>\n",
       "      <td>0</td>\n",
       "      <td>F</td>\n",
       "      <td>retiree</td>\n",
       "      <td>0</td>\n",
       "      <td>NaN</td>\n",
       "      <td>to become educated</td>\n",
       "      <td>NaN</td>\n",
       "    </tr>\n",
       "    <tr>\n",
       "      <td>21132</td>\n",
       "      <td>0</td>\n",
       "      <td>NaN</td>\n",
       "      <td>47</td>\n",
       "      <td>secondary education</td>\n",
       "      <td>1</td>\n",
       "      <td>married</td>\n",
       "      <td>0</td>\n",
       "      <td>F</td>\n",
       "      <td>employee</td>\n",
       "      <td>0</td>\n",
       "      <td>NaN</td>\n",
       "      <td>housing renovation</td>\n",
       "      <td>NaN</td>\n",
       "    </tr>\n",
       "    <tr>\n",
       "      <td>21281</td>\n",
       "      <td>1</td>\n",
       "      <td>NaN</td>\n",
       "      <td>30</td>\n",
       "      <td>bachelor's degree</td>\n",
       "      <td>0</td>\n",
       "      <td>married</td>\n",
       "      <td>0</td>\n",
       "      <td>F</td>\n",
       "      <td>employee</td>\n",
       "      <td>0</td>\n",
       "      <td>NaN</td>\n",
       "      <td>buy commercial real estate</td>\n",
       "      <td>NaN</td>\n",
       "    </tr>\n",
       "    <tr>\n",
       "      <td>21415</td>\n",
       "      <td>0</td>\n",
       "      <td>NaN</td>\n",
       "      <td>54</td>\n",
       "      <td>secondary education</td>\n",
       "      <td>1</td>\n",
       "      <td>married</td>\n",
       "      <td>0</td>\n",
       "      <td>F</td>\n",
       "      <td>retiree</td>\n",
       "      <td>0</td>\n",
       "      <td>NaN</td>\n",
       "      <td>housing transactions</td>\n",
       "      <td>NaN</td>\n",
       "    </tr>\n",
       "  </tbody>\n",
       "</table>\n",
       "<p>106 rows × 13 columns</p>\n",
       "</div>"
      ],
      "text/plain": [
       "       kids  days_employed  age            education  education_id  \\\n",
       "120       0            NaN   46  secondary education             1   \n",
       "520       0            NaN   35  secondary education             1   \n",
       "541       0            NaN   57  secondary education             1   \n",
       "554       0            NaN   60  secondary education             1   \n",
       "680       1            NaN   30    bachelor's degree             0   \n",
       "...     ...            ...  ...                  ...           ...   \n",
       "20702     0            NaN   64  secondary education             1   \n",
       "21032     0            NaN   60  secondary education             1   \n",
       "21132     0            NaN   47  secondary education             1   \n",
       "21281     1            NaN   30    bachelor's degree             0   \n",
       "21415     0            NaN   54  secondary education             1   \n",
       "\n",
       "          marital_status  marital_status_id gender            job  debt  \\\n",
       "120              married                  0      F       employee     0   \n",
       "520    civil partnership                  1      F       employee     0   \n",
       "541              married                  0      F       employee     0   \n",
       "554              married                  0      M       employee     0   \n",
       "680              married                  0      F  civil servant     0   \n",
       "...                  ...                ...    ...            ...   ...   \n",
       "20702            married                  0      F        retiree     0   \n",
       "21032            married                  0      F        retiree     0   \n",
       "21132            married                  0      F       employee     0   \n",
       "21281            married                  0      F       employee     0   \n",
       "21415            married                  0      F        retiree     0   \n",
       "\n",
       "       income                              purpose  years_employed  \n",
       "120       NaN                 university education             NaN  \n",
       "520       NaN                    to have a wedding             NaN  \n",
       "541       NaN             second-hand car purchase             NaN  \n",
       "554       NaN                      buy real estate             NaN  \n",
       "680       NaN  purchase of the house for my family             NaN  \n",
       "...       ...                                  ...             ...  \n",
       "20702     NaN              supplementary education             NaN  \n",
       "21032     NaN                   to become educated             NaN  \n",
       "21132     NaN                   housing renovation             NaN  \n",
       "21281     NaN           buy commercial real estate             NaN  \n",
       "21415     NaN                 housing transactions             NaN  \n",
       "\n",
       "[106 rows x 13 columns]"
      ]
     },
     "metadata": {},
     "output_type": "display_data"
    }
   ],
   "source": [
    "display(data[data.duplicated(keep=False)])"
   ]
  },
  {
   "cell_type": "markdown",
   "metadata": {},
   "source": [
    "### Processing missing values"
   ]
  },
  {
   "cell_type": "markdown",
   "metadata": {},
   "source": [
    "#### Determining Outlier Values"
   ]
  },
  {
   "cell_type": "code",
   "execution_count": 11,
   "metadata": {},
   "outputs": [
    {
     "data": {
      "text/plain": [
       "1099.9463394259549"
      ]
     },
     "metadata": {},
     "output_type": "display_data"
    }
   ],
   "source": [
    "display(data['years_employed'].max())"
   ]
  },
  {
   "cell_type": "markdown",
   "metadata": {},
   "source": [
    "What a big number. Who has been employed for almost 1100 year? There are unrealistic values on 'years_employed' and also 'days_employed' column."
   ]
  },
  {
   "cell_type": "markdown",
   "metadata": {},
   "source": [
    "To see outliners, we must determine limit value. Above that, numbers will be defined outliners. We can set '65' number to clearly determine how many outliner values are in 'years_employed'. If we assign it to 'possible_max_year' variable, we can change whatever we need that."
   ]
  },
  {
   "cell_type": "code",
   "execution_count": 12,
   "metadata": {},
   "outputs": [
    {
     "data": {
      "text/plain": [
       "3445"
      ]
     },
     "metadata": {},
     "output_type": "display_data"
    }
   ],
   "source": [
    "possible_max_year = 65\n",
    "display(data[data['years_employed'] > possible_max_year]['years_employed'].count())"
   ]
  },
  {
   "cell_type": "markdown",
   "metadata": {},
   "source": [
    "There are almost 3500 outlier values, it is 16% of data. The cause of the negative value errors also can be different.\n",
    "But we don't want to drop this amount. It can significantly affect our results. We can simulate average people and we must use an average value to change outliners. We cannot rely mean value, because there are a lot of missing values and outliners. So median should be used to fill NaN values."
   ]
  },
  {
   "cell_type": "markdown",
   "metadata": {},
   "source": [
    "But first, are the missing values MAR (Missing at Randomly)?"
   ]
  },
  {
   "cell_type": "markdown",
   "metadata": {},
   "source": [
    "#### Missing Values"
   ]
  },
  {
   "cell_type": "markdown",
   "metadata": {},
   "source": [
    "It seems like missing values on 'days_employed' and 'income' are on the same rows, because there are same NaN value quantity on these columns. We can compare this column to 'income' column."
   ]
  },
  {
   "cell_type": "markdown",
   "metadata": {},
   "source": [
    "We can use isna() and sum() methods to find total numbers of NaN values on these columns."
   ]
  },
  {
   "cell_type": "code",
   "execution_count": 13,
   "metadata": {},
   "outputs": [
    {
     "data": {
      "text/plain": [
       "2174"
      ]
     },
     "metadata": {},
     "output_type": "display_data"
    },
    {
     "data": {
      "text/plain": [
       "2174"
      ]
     },
     "metadata": {},
     "output_type": "display_data"
    }
   ],
   "source": [
    "display(data['income'].isna().sum())\n",
    "display(data['days_employed'].isna().sum())"
   ]
  },
  {
   "cell_type": "markdown",
   "metadata": {},
   "source": [
    "They have same numbers (2174). We need to fill missing values with '0' to compare and determine whether all of them are belong to same rows. We can use fillna() method. After that we can use isna() method with again sum() method to check whether there are not NaN values."
   ]
  },
  {
   "cell_type": "code",
   "execution_count": 14,
   "metadata": {},
   "outputs": [
    {
     "data": {
      "text/plain": [
       "0"
      ]
     },
     "metadata": {},
     "output_type": "display_data"
    },
    {
     "data": {
      "text/plain": [
       "0"
      ]
     },
     "metadata": {},
     "output_type": "display_data"
    }
   ],
   "source": [
    "data['days_employed'].fillna(0, inplace=True)\n",
    "data['income'].fillna(0, inplace=True)\n",
    "\n",
    "display(data['income'].isna().sum())\n",
    "display(data['days_employed'].isna().sum())"
   ]
  },
  {
   "cell_type": "markdown",
   "metadata": {},
   "source": [
    "To make calculation and to get rid of float numbers, we can change column types to int with astype() method."
   ]
  },
  {
   "cell_type": "code",
   "execution_count": 15,
   "metadata": {},
   "outputs": [
    {
     "name": "stdout",
     "output_type": "stream",
     "text": [
      "<class 'pandas.core.frame.DataFrame'>\n",
      "RangeIndex: 21525 entries, 0 to 21524\n",
      "Data columns (total 13 columns):\n",
      "kids                 21525 non-null int64\n",
      "days_employed        21525 non-null int64\n",
      "age                  21525 non-null int64\n",
      "education            21525 non-null object\n",
      "education_id         21525 non-null int64\n",
      "marital_status       21525 non-null object\n",
      "marital_status_id    21525 non-null int64\n",
      "gender               21525 non-null object\n",
      "job                  21525 non-null object\n",
      "debt                 21525 non-null int64\n",
      "income               21525 non-null int64\n",
      "purpose              21525 non-null object\n",
      "years_employed       19351 non-null float64\n",
      "dtypes: float64(1), int64(7), object(5)\n",
      "memory usage: 2.1+ MB\n"
     ]
    }
   ],
   "source": [
    "data['days_employed'] = data['days_employed'].astype(int)\n",
    "data['income'] = data['income'].astype(int)\n",
    "data.info()"
   ]
  },
  {
   "cell_type": "markdown",
   "metadata": {},
   "source": [
    "In how many rows, 'days_employed' and 'income' values are equal to '0' and equal to each other?\n",
    "It will demonstrate us that these values are on the same rows.\n",
    "To look for that, we are going to use 'for loop' with a conditional compare. It returns the number of counts of the '0' on 'days_employed' and 'income' columns on the same rows."
   ]
  },
  {
   "cell_type": "code",
   "execution_count": 16,
   "metadata": {},
   "outputs": [
    {
     "data": {
      "text/plain": [
       "2174"
      ]
     },
     "metadata": {},
     "output_type": "display_data"
    }
   ],
   "source": [
    "same_row_counts = 0\n",
    "for row in range(len(data)):\n",
    "    days_employed = data.loc[row, 'days_employed']\n",
    "    income = data.loc[row, 'income']\n",
    "    if days_employed == 0:\n",
    "        if income == 0:\n",
    "            same_row_counts += 1\n",
    "display(same_row_counts)"
   ]
  },
  {
   "cell_type": "markdown",
   "metadata": {},
   "source": [
    "The number is same with previous isna().count() value. ('2174')\n",
    "The missing values on the 'days_employed' and 'income' columns belong to same persons.\n",
    "It means these missing values are  MNAR (Missing not at Random).\n",
    "We will keep the values and replace '0' with mean or median value.\n",
    "To determine which should be used, we had looked for outliners on 'years_employed' column. We should use median value."
   ]
  },
  {
   "cell_type": "markdown",
   "metadata": {},
   "source": [
    "We can continue with 'years_employed' column, it is the year state of 'days_column'.\n",
    "median() method is used to find the median. To use mean() mislead us."
   ]
  },
  {
   "cell_type": "code",
   "execution_count": 17,
   "metadata": {},
   "outputs": [
    {
     "data": {
      "text/plain": [
       "6.007448506170281"
      ]
     },
     "metadata": {},
     "output_type": "display_data"
    }
   ],
   "source": [
    "years_employed_median = data['years_employed'].median()\n",
    "display(years_employed_median)"
   ]
  },
  {
   "cell_type": "markdown",
   "metadata": {},
   "source": [
    "It is an acceptable number of average employed year and it can be used instead of missing values and outliners values."
   ]
  },
  {
   "cell_type": "markdown",
   "metadata": {},
   "source": [
    "We are going to replace missing values with median. We will use fillna() method to fill and isna() and sum() method to check them ."
   ]
  },
  {
   "cell_type": "code",
   "execution_count": 18,
   "metadata": {},
   "outputs": [
    {
     "data": {
      "text/plain": [
       "0"
      ]
     },
     "metadata": {},
     "output_type": "display_data"
    }
   ],
   "source": [
    "data['years_employed'] = data['years_employed'].fillna(years_employed_median)\n",
    "display(data['years_employed'].isna().sum())"
   ]
  },
  {
   "cell_type": "markdown",
   "metadata": {},
   "source": [
    "Missing values on 'years_employed' column were filled, but outliners are still in the table. It had been considered 65  as a maximum value for this column and it was in 'possible_max_year' variable. We will place it to outliner's places."
   ]
  },
  {
   "cell_type": "code",
   "execution_count": 19,
   "metadata": {
    "scrolled": true
   },
   "outputs": [],
   "source": [
    "data.loc[data['years_employed'] > possible_max_year, 'years_employed'] = years_employed_median"
   ]
  },
  {
   "cell_type": "markdown",
   "metadata": {},
   "source": [
    "'years_employed' column can be changed to int() with astype(int) method."
   ]
  },
  {
   "cell_type": "code",
   "execution_count": 20,
   "metadata": {},
   "outputs": [],
   "source": [
    "data['years_employed'] = data['years_employed'].astype(int)"
   ]
  },
  {
   "cell_type": "markdown",
   "metadata": {},
   "source": [
    "'value_counts' method is used to see kids values"
   ]
  },
  {
   "cell_type": "code",
   "execution_count": 21,
   "metadata": {},
   "outputs": [
    {
     "data": {
      "text/plain": [
       " 0     14149\n",
       " 1      4818\n",
       " 2      2055\n",
       " 3       330\n",
       " 20       76\n",
       "-1        47\n",
       " 4        41\n",
       " 5         9\n",
       "Name: kids, dtype: int64"
      ]
     },
     "metadata": {},
     "output_type": "display_data"
    }
   ],
   "source": [
    "display(data['kids'].value_counts())"
   ]
  },
  {
   "cell_type": "markdown",
   "metadata": {},
   "source": [
    "There are 76 people who have 20 kids. In my opinion, there could be typos in this column. There are't any number between 5 and 20. It shows us anormality of this number. Probably it should be '2' in place of '20'. It is almost 4% of other '2055' person and it doesn't affect our data, so '20' can be replaced with number '2'. Also number '-1' is probably accidentally written and '47' quantity is almost 1% of 4818. It can be changed with number 1."
   ]
  },
  {
   "cell_type": "code",
   "execution_count": 22,
   "metadata": {},
   "outputs": [
    {
     "data": {
      "text/plain": [
       "0    14149\n",
       "1     4865\n",
       "2     2131\n",
       "3      330\n",
       "4       41\n",
       "5        9\n",
       "Name: kids, dtype: int64"
      ]
     },
     "metadata": {},
     "output_type": "display_data"
    }
   ],
   "source": [
    "data['kids'] = data['kids'].replace(20, 2)\n",
    "data['kids'] = data['kids'].replace(-1, 1)\n",
    "display(data['kids'].value_counts())"
   ]
  },
  {
   "cell_type": "markdown",
   "metadata": {},
   "source": [
    "It seems more meaningful now."
   ]
  },
  {
   "cell_type": "markdown",
   "metadata": {},
   "source": [
    "We are going to examine 'age' column now."
   ]
  },
  {
   "cell_type": "code",
   "execution_count": 23,
   "metadata": {},
   "outputs": [
    {
     "data": {
      "text/plain": [
       "35    617\n",
       "40    609\n",
       "41    607\n",
       "34    603\n",
       "38    598\n",
       "42    597\n",
       "33    581\n",
       "39    573\n",
       "31    560\n",
       "36    555\n",
       "44    547\n",
       "29    545\n",
       "30    540\n",
       "48    538\n",
       "37    537\n",
       "50    514\n",
       "43    513\n",
       "32    510\n",
       "49    508\n",
       "28    503\n",
       "45    497\n",
       "27    493\n",
       "56    487\n",
       "52    484\n",
       "47    480\n",
       "54    479\n",
       "46    475\n",
       "58    461\n",
       "57    460\n",
       "53    459\n",
       "51    448\n",
       "59    444\n",
       "55    443\n",
       "26    408\n",
       "60    377\n",
       "25    357\n",
       "61    355\n",
       "62    352\n",
       "63    269\n",
       "64    265\n",
       "24    264\n",
       "23    254\n",
       "65    194\n",
       "66    183\n",
       "22    183\n",
       "67    167\n",
       "21    111\n",
       "0     101\n",
       "68     99\n",
       "69     85\n",
       "70     65\n",
       "71     58\n",
       "20     51\n",
       "72     33\n",
       "19     14\n",
       "73      8\n",
       "74      6\n",
       "75      1\n",
       "Name: age, dtype: int64"
      ]
     },
     "metadata": {},
     "output_type": "display_data"
    }
   ],
   "source": [
    "display(data['age'].value_counts())"
   ]
  },
  {
   "cell_type": "markdown",
   "metadata": {},
   "source": [
    "The '0' counts 101. There are '101' unborn people. "
   ]
  },
  {
   "cell_type": "markdown",
   "metadata": {},
   "source": [
    "The rows which have '0' age will be removed from dataset. They can affect when they categorized by age and there could be inconsistency with 'years_employed' column. In my opinion, it will not have a significant impact on all data, but can be significantly misleading when ranked by age group. We can use drop() method to remove these rows."
   ]
  },
  {
   "cell_type": "code",
   "execution_count": 24,
   "metadata": {},
   "outputs": [
    {
     "data": {
      "text/html": [
       "<div>\n",
       "<style scoped>\n",
       "    .dataframe tbody tr th:only-of-type {\n",
       "        vertical-align: middle;\n",
       "    }\n",
       "\n",
       "    .dataframe tbody tr th {\n",
       "        vertical-align: top;\n",
       "    }\n",
       "\n",
       "    .dataframe thead th {\n",
       "        text-align: right;\n",
       "    }\n",
       "</style>\n",
       "<table border=\"1\" class=\"dataframe\">\n",
       "  <thead>\n",
       "    <tr style=\"text-align: right;\">\n",
       "      <th></th>\n",
       "      <th>kids</th>\n",
       "      <th>days_employed</th>\n",
       "      <th>age</th>\n",
       "      <th>education</th>\n",
       "      <th>education_id</th>\n",
       "      <th>marital_status</th>\n",
       "      <th>marital_status_id</th>\n",
       "      <th>gender</th>\n",
       "      <th>job</th>\n",
       "      <th>debt</th>\n",
       "      <th>income</th>\n",
       "      <th>purpose</th>\n",
       "      <th>years_employed</th>\n",
       "    </tr>\n",
       "  </thead>\n",
       "  <tbody>\n",
       "    <tr>\n",
       "      <td>21520</td>\n",
       "      <td>1</td>\n",
       "      <td>4529</td>\n",
       "      <td>43</td>\n",
       "      <td>secondary education</td>\n",
       "      <td>1</td>\n",
       "      <td>civil partnership</td>\n",
       "      <td>1</td>\n",
       "      <td>F</td>\n",
       "      <td>business</td>\n",
       "      <td>0</td>\n",
       "      <td>35966</td>\n",
       "      <td>housing transactions</td>\n",
       "      <td>12</td>\n",
       "    </tr>\n",
       "    <tr>\n",
       "      <td>21521</td>\n",
       "      <td>0</td>\n",
       "      <td>343937</td>\n",
       "      <td>67</td>\n",
       "      <td>secondary education</td>\n",
       "      <td>1</td>\n",
       "      <td>married</td>\n",
       "      <td>0</td>\n",
       "      <td>F</td>\n",
       "      <td>retiree</td>\n",
       "      <td>0</td>\n",
       "      <td>24959</td>\n",
       "      <td>purchase of a car</td>\n",
       "      <td>6</td>\n",
       "    </tr>\n",
       "    <tr>\n",
       "      <td>21522</td>\n",
       "      <td>1</td>\n",
       "      <td>2113</td>\n",
       "      <td>38</td>\n",
       "      <td>secondary education</td>\n",
       "      <td>1</td>\n",
       "      <td>civil partnership</td>\n",
       "      <td>1</td>\n",
       "      <td>M</td>\n",
       "      <td>employee</td>\n",
       "      <td>1</td>\n",
       "      <td>14347</td>\n",
       "      <td>property</td>\n",
       "      <td>5</td>\n",
       "    </tr>\n",
       "    <tr>\n",
       "      <td>21523</td>\n",
       "      <td>3</td>\n",
       "      <td>3112</td>\n",
       "      <td>38</td>\n",
       "      <td>secondary education</td>\n",
       "      <td>1</td>\n",
       "      <td>married</td>\n",
       "      <td>0</td>\n",
       "      <td>M</td>\n",
       "      <td>employee</td>\n",
       "      <td>1</td>\n",
       "      <td>39054</td>\n",
       "      <td>buying my own car</td>\n",
       "      <td>8</td>\n",
       "    </tr>\n",
       "    <tr>\n",
       "      <td>21524</td>\n",
       "      <td>2</td>\n",
       "      <td>1984</td>\n",
       "      <td>40</td>\n",
       "      <td>secondary education</td>\n",
       "      <td>1</td>\n",
       "      <td>married</td>\n",
       "      <td>0</td>\n",
       "      <td>F</td>\n",
       "      <td>employee</td>\n",
       "      <td>0</td>\n",
       "      <td>13127</td>\n",
       "      <td>to buy a car</td>\n",
       "      <td>5</td>\n",
       "    </tr>\n",
       "  </tbody>\n",
       "</table>\n",
       "</div>"
      ],
      "text/plain": [
       "       kids  days_employed  age            education  education_id  \\\n",
       "21520     1           4529   43  secondary education             1   \n",
       "21521     0         343937   67  secondary education             1   \n",
       "21522     1           2113   38  secondary education             1   \n",
       "21523     3           3112   38  secondary education             1   \n",
       "21524     2           1984   40  secondary education             1   \n",
       "\n",
       "          marital_status  marital_status_id gender       job  debt  income  \\\n",
       "21520  civil partnership                  1      F  business     0   35966   \n",
       "21521            married                  0      F   retiree     0   24959   \n",
       "21522  civil partnership                  1      M  employee     1   14347   \n",
       "21523            married                  0      M  employee     1   39054   \n",
       "21524            married                  0      F  employee     0   13127   \n",
       "\n",
       "                    purpose  years_employed  \n",
       "21520  housing transactions              12  \n",
       "21521     purchase of a car               6  \n",
       "21522              property               5  \n",
       "21523     buying my own car               8  \n",
       "21524          to buy a car               5  "
      ]
     },
     "metadata": {},
     "output_type": "display_data"
    },
    {
     "data": {
      "text/plain": [
       "19"
      ]
     },
     "metadata": {},
     "output_type": "display_data"
    }
   ],
   "source": [
    "data.drop(index=data.loc[data.loc[:, 'age'] == 0, 'age'].index, inplace=True)\n",
    "display(data.tail())\n",
    "display(data['age'].min())"
   ]
  },
  {
   "cell_type": "markdown",
   "metadata": {},
   "source": [
    "We should rearrange indicies with reset_index(), because last index shows still first data's length."
   ]
  },
  {
   "cell_type": "code",
   "execution_count": 25,
   "metadata": {},
   "outputs": [
    {
     "data": {
      "text/html": [
       "<div>\n",
       "<style scoped>\n",
       "    .dataframe tbody tr th:only-of-type {\n",
       "        vertical-align: middle;\n",
       "    }\n",
       "\n",
       "    .dataframe tbody tr th {\n",
       "        vertical-align: top;\n",
       "    }\n",
       "\n",
       "    .dataframe thead th {\n",
       "        text-align: right;\n",
       "    }\n",
       "</style>\n",
       "<table border=\"1\" class=\"dataframe\">\n",
       "  <thead>\n",
       "    <tr style=\"text-align: right;\">\n",
       "      <th></th>\n",
       "      <th>kids</th>\n",
       "      <th>days_employed</th>\n",
       "      <th>age</th>\n",
       "      <th>education</th>\n",
       "      <th>education_id</th>\n",
       "      <th>marital_status</th>\n",
       "      <th>marital_status_id</th>\n",
       "      <th>gender</th>\n",
       "      <th>job</th>\n",
       "      <th>debt</th>\n",
       "      <th>income</th>\n",
       "      <th>purpose</th>\n",
       "      <th>years_employed</th>\n",
       "    </tr>\n",
       "  </thead>\n",
       "  <tbody>\n",
       "    <tr>\n",
       "      <td>21419</td>\n",
       "      <td>1</td>\n",
       "      <td>4529</td>\n",
       "      <td>43</td>\n",
       "      <td>secondary education</td>\n",
       "      <td>1</td>\n",
       "      <td>civil partnership</td>\n",
       "      <td>1</td>\n",
       "      <td>F</td>\n",
       "      <td>business</td>\n",
       "      <td>0</td>\n",
       "      <td>35966</td>\n",
       "      <td>housing transactions</td>\n",
       "      <td>12</td>\n",
       "    </tr>\n",
       "    <tr>\n",
       "      <td>21420</td>\n",
       "      <td>0</td>\n",
       "      <td>343937</td>\n",
       "      <td>67</td>\n",
       "      <td>secondary education</td>\n",
       "      <td>1</td>\n",
       "      <td>married</td>\n",
       "      <td>0</td>\n",
       "      <td>F</td>\n",
       "      <td>retiree</td>\n",
       "      <td>0</td>\n",
       "      <td>24959</td>\n",
       "      <td>purchase of a car</td>\n",
       "      <td>6</td>\n",
       "    </tr>\n",
       "    <tr>\n",
       "      <td>21421</td>\n",
       "      <td>1</td>\n",
       "      <td>2113</td>\n",
       "      <td>38</td>\n",
       "      <td>secondary education</td>\n",
       "      <td>1</td>\n",
       "      <td>civil partnership</td>\n",
       "      <td>1</td>\n",
       "      <td>M</td>\n",
       "      <td>employee</td>\n",
       "      <td>1</td>\n",
       "      <td>14347</td>\n",
       "      <td>property</td>\n",
       "      <td>5</td>\n",
       "    </tr>\n",
       "    <tr>\n",
       "      <td>21422</td>\n",
       "      <td>3</td>\n",
       "      <td>3112</td>\n",
       "      <td>38</td>\n",
       "      <td>secondary education</td>\n",
       "      <td>1</td>\n",
       "      <td>married</td>\n",
       "      <td>0</td>\n",
       "      <td>M</td>\n",
       "      <td>employee</td>\n",
       "      <td>1</td>\n",
       "      <td>39054</td>\n",
       "      <td>buying my own car</td>\n",
       "      <td>8</td>\n",
       "    </tr>\n",
       "    <tr>\n",
       "      <td>21423</td>\n",
       "      <td>2</td>\n",
       "      <td>1984</td>\n",
       "      <td>40</td>\n",
       "      <td>secondary education</td>\n",
       "      <td>1</td>\n",
       "      <td>married</td>\n",
       "      <td>0</td>\n",
       "      <td>F</td>\n",
       "      <td>employee</td>\n",
       "      <td>0</td>\n",
       "      <td>13127</td>\n",
       "      <td>to buy a car</td>\n",
       "      <td>5</td>\n",
       "    </tr>\n",
       "  </tbody>\n",
       "</table>\n",
       "</div>"
      ],
      "text/plain": [
       "       kids  days_employed  age            education  education_id  \\\n",
       "21419     1           4529   43  secondary education             1   \n",
       "21420     0         343937   67  secondary education             1   \n",
       "21421     1           2113   38  secondary education             1   \n",
       "21422     3           3112   38  secondary education             1   \n",
       "21423     2           1984   40  secondary education             1   \n",
       "\n",
       "          marital_status  marital_status_id gender       job  debt  income  \\\n",
       "21419  civil partnership                  1      F  business     0   35966   \n",
       "21420            married                  0      F   retiree     0   24959   \n",
       "21421  civil partnership                  1      M  employee     1   14347   \n",
       "21422            married                  0      M  employee     1   39054   \n",
       "21423            married                  0      F  employee     0   13127   \n",
       "\n",
       "                    purpose  years_employed  \n",
       "21419  housing transactions              12  \n",
       "21420     purchase of a car               6  \n",
       "21421              property               5  \n",
       "21422     buying my own car               8  \n",
       "21423          to buy a car               5  "
      ]
     },
     "execution_count": 25,
     "metadata": {},
     "output_type": "execute_result"
    }
   ],
   "source": [
    "data.reset_index(drop=True, inplace=True)\n",
    "data.tail()"
   ]
  },
  {
   "cell_type": "markdown",
   "metadata": {},
   "source": [
    "We will look at 'income' column."
   ]
  },
  {
   "cell_type": "code",
   "execution_count": 26,
   "metadata": {},
   "outputs": [
    {
     "data": {
      "text/plain": [
       "count     21424.000000\n",
       "mean      24087.530760\n",
       "std       17600.120155\n",
       "min           0.000000\n",
       "25%       14180.250000\n",
       "50%       21683.500000\n",
       "75%       31281.000000\n",
       "max      362496.000000\n",
       "Name: income, dtype: float64"
      ]
     },
     "metadata": {},
     "output_type": "display_data"
    }
   ],
   "source": [
    "display(data['income'].describe())"
   ]
  },
  {
   "cell_type": "markdown",
   "metadata": {},
   "source": [
    "There are missing values on this column. We are going to fill with median values in place of them. There is not any significant difference between mean and median, so we can use also median. It shows us also there are so many people have high income in the table. Although there are almost 2200 missing values, mean and median values are close and too lower than maximum value. The other option, there are some outliners who has so high income, but it is unknown and unmeasurable. How can we know who earns how much? For that reason, we can consider that no outlier is on this column."
   ]
  },
  {
   "cell_type": "code",
   "execution_count": 27,
   "metadata": {},
   "outputs": [
    {
     "data": {
      "text/plain": [
       "21683"
      ]
     },
     "metadata": {},
     "output_type": "display_data"
    }
   ],
   "source": [
    "income_median = int(data['income'].median())\n",
    "display(income_median)"
   ]
  },
  {
   "cell_type": "markdown",
   "metadata": {},
   "source": [
    "Let's replace '0' values with median. But before we should take a copy, because after this line it gives a copy() error, when we didn't take a copy. Copied data name will be 'bank_data' and we use it after this step."
   ]
  },
  {
   "cell_type": "code",
   "execution_count": 28,
   "metadata": {},
   "outputs": [
    {
     "data": {
      "text/plain": [
       "count     21424.000000\n",
       "mean      26277.691888\n",
       "std       15714.407658\n",
       "min        3306.000000\n",
       "25%       17251.500000\n",
       "50%       21683.500000\n",
       "75%       31281.000000\n",
       "max      362496.000000\n",
       "Name: income, dtype: float64"
      ]
     },
     "metadata": {},
     "output_type": "display_data"
    }
   ],
   "source": [
    "bank_data = data.copy()\n",
    "bank_data.loc[bank_data['income'] == 0, 'income'] = income_median\n",
    "display(bank_data['income'].describe())"
   ]
  },
  {
   "cell_type": "markdown",
   "metadata": {},
   "source": [
    "The zeros aren't here, minimum valeu is 3306 now."
   ]
  },
  {
   "cell_type": "markdown",
   "metadata": {},
   "source": [
    "We are going to look at the 'gender' column."
   ]
  },
  {
   "cell_type": "code",
   "execution_count": 29,
   "metadata": {},
   "outputs": [
    {
     "data": {
      "text/plain": [
       "F      14164\n",
       "M       7259\n",
       "XNA        1\n",
       "Name: gender, dtype: int64"
      ]
     },
     "metadata": {},
     "output_type": "display_data"
    }
   ],
   "source": [
    "display(bank_data['gender'].value_counts())"
   ]
  },
  {
   "cell_type": "markdown",
   "metadata": {},
   "source": [
    "There is '1' unidintified gender type and we are going to delete this row with drop() method. We can consider that this is a missing value. "
   ]
  },
  {
   "cell_type": "code",
   "execution_count": 30,
   "metadata": {},
   "outputs": [
    {
     "data": {
      "text/plain": [
       "F    14164\n",
       "M     7259\n",
       "Name: gender, dtype: int64"
      ]
     },
     "metadata": {},
     "output_type": "display_data"
    }
   ],
   "source": [
    "bank_data.drop(index=bank_data.loc[bank_data.loc[:, 'gender'] == 'XNA', 'gender'].index, inplace=True)\n",
    "bank_data.reset_index(inplace=True)\n",
    "display(bank_data['gender'].value_counts())"
   ]
  },
  {
   "cell_type": "markdown",
   "metadata": {},
   "source": [
    "Last control, 'debt' column"
   ]
  },
  {
   "cell_type": "code",
   "execution_count": 31,
   "metadata": {},
   "outputs": [
    {
     "data": {
      "text/plain": [
       "array([0, 1])"
      ]
     },
     "metadata": {},
     "output_type": "display_data"
    }
   ],
   "source": [
    "display(bank_data['debt'].unique())"
   ]
  },
  {
   "cell_type": "markdown",
   "metadata": {},
   "source": [
    "There are only 0 and 1 as it's supposed to be."
   ]
  },
  {
   "cell_type": "markdown",
   "metadata": {},
   "source": [
    "### Conclusion"
   ]
  },
  {
   "cell_type": "markdown",
   "metadata": {},
   "source": [
    "1_ We found missing values on 'days_employed' and 'income'. They were in the same rows. We thought there was a technical problem because there were negative values, missing values and huge values and we decided to keep these rows. We used the median in place of none values to simulate average persons. We also changed the types of this column to integer.\n",
    "\n",
    "2_ We added the 'years_employed' named new column to realize the numbers on the 'days_employed' column and we recognized the outliners. There were huge numbers and we also changed them with median. We determined '65' years as a maximum employed year. It was even so a big number to be employed, but it was maximum of possible year front my viewpoint. Think of that 'An 80-year uncle comes and answer to 'How long had you been employed?'-'I have been working since 15 years-old.' What a young man, God give you a long life! Meanwhile, we had got a backup with dropped missing values named 'data_dropped'.\n",
    "\n",
    "3_ We looked on 'kids' column and detected some typos and added them to related numbers.\n",
    "\n",
    "4_ We checked 'age' column and there were '0' also. We couldn't assign to that median or mean. If we want to categorize this column, it would be effect on our result. But totaly 101 rows have no effects in total data. We dropped these rows.\n",
    "\n",
    "5_ There was '1' missing value on the 'gender' column and we dropped it."
   ]
  },
  {
   "cell_type": "markdown",
   "metadata": {},
   "source": [
    "### Data type replacement"
   ]
  },
  {
   "cell_type": "markdown",
   "metadata": {},
   "source": [
    "We had changed the float types of 'days_employed', 'income' and 'years_employed' columns to integer."
   ]
  },
  {
   "cell_type": "markdown",
   "metadata": {},
   "source": [
    "### Conclusion"
   ]
  },
  {
   "cell_type": "markdown",
   "metadata": {},
   "source": [
    "There were many numbers after dot and they had no effect for big picture. We got rid off them and convert to integer. They seem nice now."
   ]
  },
  {
   "cell_type": "markdown",
   "metadata": {},
   "source": [
    "### Processing duplicates"
   ]
  },
  {
   "cell_type": "markdown",
   "metadata": {},
   "source": [
    "#### Looking for unique values in 'education' column"
   ]
  },
  {
   "cell_type": "code",
   "execution_count": 32,
   "metadata": {},
   "outputs": [
    {
     "data": {
      "text/plain": [
       "array([\"bachelor's degree\", 'secondary education', 'Secondary Education',\n",
       "       'SECONDARY EDUCATION', \"BACHELOR'S DEGREE\", 'some college',\n",
       "       'primary education', \"Bachelor's Degree\", 'SOME COLLEGE',\n",
       "       'Some College', 'PRIMARY EDUCATION', 'Primary Education',\n",
       "       'Graduate Degree', 'GRADUATE DEGREE', 'graduate degree'],\n",
       "      dtype=object)"
      ]
     },
     "metadata": {},
     "output_type": "display_data"
    }
   ],
   "source": [
    "display(bank_data['education'].unique())"
   ]
  },
  {
   "cell_type": "markdown",
   "metadata": {},
   "source": [
    "All of the duplicates have different capitalizing problem."
   ]
  },
  {
   "cell_type": "markdown",
   "metadata": {},
   "source": [
    "We can solve this problem with Series.str.lower() method and then check with unique() method."
   ]
  },
  {
   "cell_type": "code",
   "execution_count": 33,
   "metadata": {},
   "outputs": [
    {
     "data": {
      "text/plain": [
       "array([\"bachelor's degree\", 'secondary education', 'some college',\n",
       "       'primary education', 'graduate degree'], dtype=object)"
      ]
     },
     "metadata": {},
     "output_type": "display_data"
    }
   ],
   "source": [
    "bank_data.loc[:, 'education'] = bank_data.loc[:, 'education'].str.lower()\n",
    "display(bank_data['education'].unique())"
   ]
  },
  {
   "cell_type": "markdown",
   "metadata": {},
   "source": [
    "All of the column is now lower case"
   ]
  },
  {
   "cell_type": "markdown",
   "metadata": {},
   "source": [
    "'groupby()' and 'value_counts()' were used to check whether 'education_id' and 'education' are consistent."
   ]
  },
  {
   "cell_type": "code",
   "execution_count": 34,
   "metadata": {},
   "outputs": [
    {
     "data": {
      "text/plain": [
       "education_id  education          \n",
       "0             bachelor's degree       5225\n",
       "1             secondary education    15169\n",
       "2             some college             741\n",
       "3             primary education        282\n",
       "4             graduate degree            6\n",
       "Name: education, dtype: int64"
      ]
     },
     "execution_count": 34,
     "metadata": {},
     "output_type": "execute_result"
    }
   ],
   "source": [
    "bank_data.groupby('education_id')['education'].value_counts()"
   ]
  },
  {
   "cell_type": "markdown",
   "metadata": {},
   "source": [
    "It would be better if we make the training sequence logical. 'education_id' will be sorted from '0' to '4', from lowest to highest education level."
   ]
  },
  {
   "cell_type": "code",
   "execution_count": 35,
   "metadata": {},
   "outputs": [
    {
     "data": {
      "text/plain": [
       "education_id  education          \n",
       "0             primary education        282\n",
       "1             secondary education    15169\n",
       "2             some college             741\n",
       "3             bachelor's degree       5225\n",
       "4             graduate degree            6\n",
       "Name: education, dtype: int64"
      ]
     },
     "metadata": {},
     "output_type": "display_data"
    }
   ],
   "source": [
    "def education_id_define(row):\n",
    "    \n",
    "    education = row['education']\n",
    "    \n",
    "    if education == 'graduate degree':\n",
    "        return 4\n",
    "    \n",
    "    elif education == \"bachelor's degree\":\n",
    "        return 3\n",
    "    \n",
    "    elif education == 'some college':\n",
    "        return 2\n",
    "    \n",
    "    elif education == 'secondary education':\n",
    "        return 1\n",
    "    \n",
    "    else:\n",
    "        return 0\n",
    "\n",
    "bank_data['education_id'] = bank_data.apply(education_id_define, axis=1)\n",
    "display(bank_data.groupby('education_id')['education'].value_counts())"
   ]
  },
  {
   "cell_type": "markdown",
   "metadata": {},
   "source": [
    "##### Looking for duplicates on 'marital_status' column"
   ]
  },
  {
   "cell_type": "markdown",
   "metadata": {},
   "source": [
    "Let's check 'marital_status' and accordance 'marital_status' with 'marital_satus_id'."
   ]
  },
  {
   "cell_type": "code",
   "execution_count": 36,
   "metadata": {},
   "outputs": [
    {
     "data": {
      "text/plain": [
       "marital_status_id  marital_status   \n",
       "0                  married              12331\n",
       "1                  civil partnership     4155\n",
       "2                  widow / widower        955\n",
       "3                  divorced              1185\n",
       "4                  unmarried             2797\n",
       "Name: marital_status, dtype: int64"
      ]
     },
     "execution_count": 36,
     "metadata": {},
     "output_type": "execute_result"
    }
   ],
   "source": [
    "bank_data.groupby('marital_status_id')['marital_status'].value_counts()"
   ]
  },
  {
   "cell_type": "markdown",
   "metadata": {},
   "source": [
    "All unique, that's good."
   ]
  },
  {
   "cell_type": "markdown",
   "metadata": {},
   "source": [
    "##### Looking for duplicates on 'job' column"
   ]
  },
  {
   "cell_type": "markdown",
   "metadata": {},
   "source": [
    "Another unique words check on 'job' column"
   ]
  },
  {
   "cell_type": "code",
   "execution_count": 37,
   "metadata": {},
   "outputs": [
    {
     "data": {
      "text/plain": [
       "array(['employee', 'retiree', 'business', 'civil servant', 'unemployed',\n",
       "       'entrepreneur', 'student', 'paternity / maternity leave'],\n",
       "      dtype=object)"
      ]
     },
     "metadata": {},
     "output_type": "display_data"
    }
   ],
   "source": [
    "display(bank_data['job'].unique())"
   ]
  },
  {
   "cell_type": "markdown",
   "metadata": {},
   "source": [
    "All unique, there aren't duplicates"
   ]
  },
  {
   "cell_type": "markdown",
   "metadata": {},
   "source": [
    "##### Looking for duplicates on 'purpose' column"
   ]
  },
  {
   "cell_type": "markdown",
   "metadata": {},
   "source": [
    "Let's look at 'purpose' column. It seems like it will be hard."
   ]
  },
  {
   "cell_type": "code",
   "execution_count": 38,
   "metadata": {},
   "outputs": [
    {
     "data": {
      "text/plain": [
       "array(['purchase of the house', 'car purchase', 'supplementary education',\n",
       "       'to have a wedding', 'housing transactions', 'education',\n",
       "       'having a wedding', 'purchase of the house for my family',\n",
       "       'buy real estate', 'buy commercial real estate',\n",
       "       'buy residential real estate', 'construction of own property',\n",
       "       'property', 'building a property', 'buying a second-hand car',\n",
       "       'buying my own car', 'transactions with commercial real estate',\n",
       "       'building a real estate', 'housing',\n",
       "       'transactions with my real estate', 'cars', 'to become educated',\n",
       "       'second-hand car purchase', 'getting an education', 'car',\n",
       "       'wedding ceremony', 'to get a supplementary education',\n",
       "       'purchase of my own house', 'real estate transactions',\n",
       "       'getting higher education', 'to own a car', 'purchase of a car',\n",
       "       'profile education', 'university education',\n",
       "       'buying property for renting out', 'to buy a car',\n",
       "       'housing renovation', 'going to university'], dtype=object)"
      ]
     },
     "metadata": {},
     "output_type": "display_data"
    }
   ],
   "source": [
    "display(bank_data['purpose'].unique())"
   ]
  },
  {
   "cell_type": "markdown",
   "metadata": {},
   "source": [
    "I think the reason of chaos is type of data entry. In my opinion, people wrote this column themselves. If we offered multiple choices, both their and our work would be easier. Maybe we can offer this idea to whom is responsible to get data. It would be better."
   ]
  },
  {
   "cell_type": "markdown",
   "metadata": {},
   "source": [
    "#####  Importing libraries for stemming and lemmatization"
   ]
  },
  {
   "cell_type": "markdown",
   "metadata": {},
   "source": [
    "To analyse 'purpose' column, we need to import NLTK (Natural Language Toolkit) library and some methods from there."
   ]
  },
  {
   "cell_type": "code",
   "execution_count": 39,
   "metadata": {},
   "outputs": [],
   "source": [
    "import nltk \n",
    "from nltk.stem import SnowballStemmer\n",
    "english_stemmer = SnowballStemmer('english')\n",
    "from nltk.stem import WordNetLemmatizer\n",
    "wordnet_lemma = WordNetLemmatizer()\n",
    "from nltk.tokenize import word_tokenize"
   ]
  },
  {
   "cell_type": "markdown",
   "metadata": {},
   "source": [
    "First let's look which words there are"
   ]
  },
  {
   "cell_type": "code",
   "execution_count": 40,
   "metadata": {},
   "outputs": [
    {
     "name": "stdout",
     "output_type": "stream",
     "text": [
      "['purchase', 'of', 'the', 'house', 'car', 'supplementary', 'education', 'to', 'have', 'a', 'wedding', 'housing', 'transactions', 'having', 'for', 'my', 'family', 'buy', 'real', 'estate', 'commercial', 'residential', 'construction', 'own', 'property', 'building', 'buying', 'second-hand', 'with', 'cars', 'become', 'educated', 'getting', 'an', 'ceremony', 'get', 'higher', 'profile', 'university', 'renting', 'out', 'renovation', 'going']\n"
     ]
    }
   ],
   "source": [
    "unique_list = list(bank_data['purpose'].unique())\n",
    "words = []\n",
    "for text in unique_list:\n",
    "    text_list = text.split()\n",
    "    for w in text_list:\n",
    "        if w not in words:\n",
    "            words.append(w)\n",
    "print(words)"
   ]
  },
  {
   "cell_type": "markdown",
   "metadata": {},
   "source": [
    "After that let's find out the stems of the words"
   ]
  },
  {
   "cell_type": "code",
   "execution_count": 41,
   "metadata": {},
   "outputs": [
    {
     "name": "stdout",
     "output_type": "stream",
     "text": [
      "['purchas', 'of', 'the', 'hous', 'car', 'supplementari', 'educ', 'to', 'have', 'a', 'wed', 'hous', 'transact', 'have', 'for', 'my', 'famili', 'buy', 'real', 'estat', 'commerci', 'residenti', 'construct', 'own', 'properti', 'build', 'buy', 'second-hand', 'with', 'car', 'becom', 'educ', 'get', 'an', 'ceremoni', 'get', 'higher', 'profil', 'univers', 'rent', 'out', 'renov', 'go']\n"
     ]
    }
   ],
   "source": [
    "stems = []\n",
    "for s in words:\n",
    "    st = english_stemmer.stem(s)\n",
    "    stems.append(st)\n",
    "print(stems)"
   ]
  },
  {
   "cell_type": "markdown",
   "metadata": {},
   "source": [
    "Last, finding lemmas of the words"
   ]
  },
  {
   "cell_type": "code",
   "execution_count": 42,
   "metadata": {},
   "outputs": [
    {
     "name": "stdout",
     "output_type": "stream",
     "text": [
      "['purchase', 'of', 'the', 'house', 'car', 'supplementary', 'education', 'to', 'have', 'a', 'wedding', 'housing', 'transaction', 'having', 'for', 'my', 'family', 'buy', 'real', 'estate', 'commercial', 'residential', 'construction', 'own', 'property', 'building', 'buying', 'second-hand', 'with', 'car', 'become', 'educated', 'getting', 'an', 'ceremony', 'get', 'higher', 'profile', 'university', 'renting', 'out', 'renovation', 'going']\n"
     ]
    }
   ],
   "source": [
    "lemmas = []\n",
    "for l in words:\n",
    "    lm = wordnet_lemma.lemmatize(l)\n",
    "    lemmas.append(lm)\n",
    "print(lemmas)"
   ]
  },
  {
   "cell_type": "markdown",
   "metadata": {},
   "source": [
    "We are going to run a loop. It will categorize by names."
   ]
  },
  {
   "cell_type": "code",
   "execution_count": 43,
   "metadata": {
    "scrolled": false
   },
   "outputs": [
    {
     "data": {
      "text/plain": [
       "21423"
      ]
     },
     "metadata": {},
     "output_type": "display_data"
    },
    {
     "data": {
      "text/plain": [
       "array(['house', 'car', 'education', 'wedding', 'estate', 'property'],\n",
       "      dtype=object)"
      ]
     },
     "metadata": {},
     "output_type": "display_data"
    }
   ],
   "source": [
    "credit_type_list = []\n",
    "purpose_list = bank_data.loc[:, 'purpose']\n",
    "\n",
    "for rw_text in purpose_list:\n",
    "    if 'hous' in rw_text:\n",
    "        credit_type_list.append('house')\n",
    "        continue\n",
    "    if 'car' in rw_text:\n",
    "        credit_type_list.append('car')\n",
    "        continue\n",
    "    if 'educ' in rw_text:\n",
    "        credit_type_list.append('education')\n",
    "        continue\n",
    "    if 'wedding' in rw_text:\n",
    "        credit_type_list.append('wedding')\n",
    "        continue\n",
    "    if 'residenti' in rw_text:\n",
    "        credit_type_list.append('house')\n",
    "        continue\n",
    "    if 'estate' in rw_text:            \n",
    "        credit_type_list.append('estate')\n",
    "        continue\n",
    "        \n",
    "    if 'univers' in rw_text:\n",
    "        credit_type_list.append('education')\n",
    "        continue\n",
    "        \n",
    "    if 'properti' or 'property' in rw_text:\n",
    "        credit_type_list.append('property')\n",
    "        continue\n",
    "\n",
    "    else:\n",
    "        credit_type_list.append('other')\n",
    "        continue\n",
    "        \n",
    "display(len(credit_type_list))\n",
    "bank_data['credit_type'] = credit_type_list\n",
    "display(bank_data['credit_type'].unique())"
   ]
  },
  {
   "cell_type": "markdown",
   "metadata": {},
   "source": [
    "Let's check compatibility of the 'credit_type' and 'purpose' with groupby and value_counts()"
   ]
  },
  {
   "cell_type": "code",
   "execution_count": 44,
   "metadata": {},
   "outputs": [
    {
     "data": {
      "text/plain": [
       "credit_type  purpose                                 \n",
       "car          buying my own car                           502\n",
       "             car                                         491\n",
       "             second-hand car purchase                    487\n",
       "             buying a second-hand car                    479\n",
       "             to own a car                                477\n",
       "             cars                                        476\n",
       "             to buy a car                                467\n",
       "             car purchase                                460\n",
       "             purchase of a car                           454\n",
       "education    going to university                         493\n",
       "             supplementary education                     460\n",
       "             university education                        450\n",
       "             to get a supplementary education            445\n",
       "             education                                   444\n",
       "             getting an education                        442\n",
       "             profile education                           435\n",
       "             getting higher education                    424\n",
       "             to become educated                          411\n",
       "estate       real estate transactions                    673\n",
       "             buy commercial real estate                  661\n",
       "             transactions with commercial real estate    649\n",
       "             transactions with my real estate            630\n",
       "             building a real estate                      623\n",
       "             buy real estate                             620\n",
       "house        housing transactions                        647\n",
       "             housing                                     641\n",
       "             purchase of the house                       641\n",
       "             purchase of the house for my family         640\n",
       "             purchase of my own house                    619\n",
       "             housing renovation                          610\n",
       "             buy residential real estate                 604\n",
       "property     buying property for renting out             651\n",
       "             construction of own property                633\n",
       "             property                                    630\n",
       "             building a property                         620\n",
       "wedding      wedding ceremony                            792\n",
       "             having a wedding                            773\n",
       "             to have a wedding                           769\n",
       "Name: purpose, dtype: int64"
      ]
     },
     "execution_count": 44,
     "metadata": {},
     "output_type": "execute_result"
    }
   ],
   "source": [
    "bank_data.groupby('credit_type')['purpose'].value_counts()"
   ]
  },
  {
   "cell_type": "markdown",
   "metadata": {},
   "source": [
    "It seems nice."
   ]
  },
  {
   "cell_type": "code",
   "execution_count": 45,
   "metadata": {
    "scrolled": true
   },
   "outputs": [
    {
     "data": {
      "text/html": [
       "<div>\n",
       "<style scoped>\n",
       "    .dataframe tbody tr th:only-of-type {\n",
       "        vertical-align: middle;\n",
       "    }\n",
       "\n",
       "    .dataframe tbody tr th {\n",
       "        vertical-align: top;\n",
       "    }\n",
       "\n",
       "    .dataframe thead th {\n",
       "        text-align: right;\n",
       "    }\n",
       "</style>\n",
       "<table border=\"1\" class=\"dataframe\">\n",
       "  <thead>\n",
       "    <tr style=\"text-align: right;\">\n",
       "      <th></th>\n",
       "      <th>index</th>\n",
       "      <th>kids</th>\n",
       "      <th>days_employed</th>\n",
       "      <th>age</th>\n",
       "      <th>education</th>\n",
       "      <th>education_id</th>\n",
       "      <th>marital_status</th>\n",
       "      <th>marital_status_id</th>\n",
       "      <th>gender</th>\n",
       "      <th>job</th>\n",
       "      <th>debt</th>\n",
       "      <th>income</th>\n",
       "      <th>purpose</th>\n",
       "      <th>years_employed</th>\n",
       "      <th>credit_type</th>\n",
       "    </tr>\n",
       "  </thead>\n",
       "  <tbody>\n",
       "    <tr>\n",
       "      <td>0</td>\n",
       "      <td>0</td>\n",
       "      <td>1</td>\n",
       "      <td>8437</td>\n",
       "      <td>42</td>\n",
       "      <td>bachelor's degree</td>\n",
       "      <td>3</td>\n",
       "      <td>married</td>\n",
       "      <td>0</td>\n",
       "      <td>F</td>\n",
       "      <td>employee</td>\n",
       "      <td>0</td>\n",
       "      <td>40620</td>\n",
       "      <td>purchase of the house</td>\n",
       "      <td>23</td>\n",
       "      <td>house</td>\n",
       "    </tr>\n",
       "    <tr>\n",
       "      <td>1</td>\n",
       "      <td>1</td>\n",
       "      <td>1</td>\n",
       "      <td>4024</td>\n",
       "      <td>36</td>\n",
       "      <td>secondary education</td>\n",
       "      <td>1</td>\n",
       "      <td>married</td>\n",
       "      <td>0</td>\n",
       "      <td>F</td>\n",
       "      <td>employee</td>\n",
       "      <td>0</td>\n",
       "      <td>17932</td>\n",
       "      <td>car purchase</td>\n",
       "      <td>11</td>\n",
       "      <td>car</td>\n",
       "    </tr>\n",
       "    <tr>\n",
       "      <td>2</td>\n",
       "      <td>2</td>\n",
       "      <td>0</td>\n",
       "      <td>5623</td>\n",
       "      <td>33</td>\n",
       "      <td>secondary education</td>\n",
       "      <td>1</td>\n",
       "      <td>married</td>\n",
       "      <td>0</td>\n",
       "      <td>M</td>\n",
       "      <td>employee</td>\n",
       "      <td>0</td>\n",
       "      <td>23341</td>\n",
       "      <td>purchase of the house</td>\n",
       "      <td>15</td>\n",
       "      <td>house</td>\n",
       "    </tr>\n",
       "    <tr>\n",
       "      <td>3</td>\n",
       "      <td>3</td>\n",
       "      <td>3</td>\n",
       "      <td>4124</td>\n",
       "      <td>32</td>\n",
       "      <td>secondary education</td>\n",
       "      <td>1</td>\n",
       "      <td>married</td>\n",
       "      <td>0</td>\n",
       "      <td>M</td>\n",
       "      <td>employee</td>\n",
       "      <td>0</td>\n",
       "      <td>42820</td>\n",
       "      <td>supplementary education</td>\n",
       "      <td>11</td>\n",
       "      <td>education</td>\n",
       "    </tr>\n",
       "    <tr>\n",
       "      <td>4</td>\n",
       "      <td>4</td>\n",
       "      <td>0</td>\n",
       "      <td>340266</td>\n",
       "      <td>53</td>\n",
       "      <td>secondary education</td>\n",
       "      <td>1</td>\n",
       "      <td>civil partnership</td>\n",
       "      <td>1</td>\n",
       "      <td>F</td>\n",
       "      <td>retiree</td>\n",
       "      <td>0</td>\n",
       "      <td>25378</td>\n",
       "      <td>to have a wedding</td>\n",
       "      <td>6</td>\n",
       "      <td>wedding</td>\n",
       "    </tr>\n",
       "  </tbody>\n",
       "</table>\n",
       "</div>"
      ],
      "text/plain": [
       "   index  kids  days_employed  age            education  education_id  \\\n",
       "0      0     1           8437   42    bachelor's degree             3   \n",
       "1      1     1           4024   36  secondary education             1   \n",
       "2      2     0           5623   33  secondary education             1   \n",
       "3      3     3           4124   32  secondary education             1   \n",
       "4      4     0         340266   53  secondary education             1   \n",
       "\n",
       "      marital_status  marital_status_id gender       job  debt  income  \\\n",
       "0            married                  0      F  employee     0   40620   \n",
       "1            married                  0      F  employee     0   17932   \n",
       "2            married                  0      M  employee     0   23341   \n",
       "3            married                  0      M  employee     0   42820   \n",
       "4  civil partnership                  1      F   retiree     0   25378   \n",
       "\n",
       "                   purpose  years_employed credit_type  \n",
       "0    purchase of the house              23       house  \n",
       "1             car purchase              11         car  \n",
       "2    purchase of the house              15       house  \n",
       "3  supplementary education              11   education  \n",
       "4        to have a wedding               6     wedding  "
      ]
     },
     "metadata": {},
     "output_type": "display_data"
    }
   ],
   "source": [
    "display(bank_data.head())"
   ]
  },
  {
   "cell_type": "markdown",
   "metadata": {},
   "source": [
    "### Conclusion"
   ]
  },
  {
   "cell_type": "markdown",
   "metadata": {},
   "source": [
    "1- First, we solved duplicated value issues on 'education' column. There was capitalizing problem and we arranged them.\n",
    "\n",
    "2- Then we focused 'purpose' column, we found all purposes and get a list from them. After that we got stems and lemmas. We picked up some of them to create 'credit_type'. We used for loop to get new list with a conditional situation of words in our list. We compared words with stems or lemmas. We categorized words by a condition. We added a new column named 'credit_type'."
   ]
  },
  {
   "cell_type": "markdown",
   "metadata": {},
   "source": [
    "### Categorizing Data"
   ]
  },
  {
   "cell_type": "markdown",
   "metadata": {},
   "source": [
    "We can categorize our table for many criteria. The debt status could be affected by age, employment, gender, income, kids number and marital status. How can we determine which parameter how much effect our data? We should think and answer them. Maybe we can reduce parameters. Our goal is to find effect of having kids, marital status and income variables. We will also look for which credit_type effects loan repayment on time. Our result criteria is debt status. We can find total numbers for every parameters which are in debt, which aren't? And then we can compare the results dividing each of them by total of each and find a percentage rate. Let's start."
   ]
  },
  {
   "cell_type": "markdown",
   "metadata": {},
   "source": [
    "First of all, we need to simplify our table. We are creating a new table named 'credit_data'. We can change the order of columns."
   ]
  },
  {
   "cell_type": "code",
   "execution_count": 46,
   "metadata": {},
   "outputs": [
    {
     "data": {
      "text/html": [
       "<div>\n",
       "<style scoped>\n",
       "    .dataframe tbody tr th:only-of-type {\n",
       "        vertical-align: middle;\n",
       "    }\n",
       "\n",
       "    .dataframe tbody tr th {\n",
       "        vertical-align: top;\n",
       "    }\n",
       "\n",
       "    .dataframe thead th {\n",
       "        text-align: right;\n",
       "    }\n",
       "</style>\n",
       "<table border=\"1\" class=\"dataframe\">\n",
       "  <thead>\n",
       "    <tr style=\"text-align: right;\">\n",
       "      <th></th>\n",
       "      <th>gender</th>\n",
       "      <th>age</th>\n",
       "      <th>job</th>\n",
       "      <th>years_employed</th>\n",
       "      <th>education</th>\n",
       "      <th>education_id</th>\n",
       "      <th>marital_status</th>\n",
       "      <th>marital_status_id</th>\n",
       "      <th>kids</th>\n",
       "      <th>credit_type</th>\n",
       "      <th>income</th>\n",
       "      <th>debt</th>\n",
       "    </tr>\n",
       "  </thead>\n",
       "  <tbody>\n",
       "    <tr>\n",
       "      <td>0</td>\n",
       "      <td>F</td>\n",
       "      <td>42</td>\n",
       "      <td>employee</td>\n",
       "      <td>23</td>\n",
       "      <td>bachelor's degree</td>\n",
       "      <td>3</td>\n",
       "      <td>married</td>\n",
       "      <td>0</td>\n",
       "      <td>1</td>\n",
       "      <td>house</td>\n",
       "      <td>40620</td>\n",
       "      <td>0</td>\n",
       "    </tr>\n",
       "    <tr>\n",
       "      <td>1</td>\n",
       "      <td>F</td>\n",
       "      <td>36</td>\n",
       "      <td>employee</td>\n",
       "      <td>11</td>\n",
       "      <td>secondary education</td>\n",
       "      <td>1</td>\n",
       "      <td>married</td>\n",
       "      <td>0</td>\n",
       "      <td>1</td>\n",
       "      <td>car</td>\n",
       "      <td>17932</td>\n",
       "      <td>0</td>\n",
       "    </tr>\n",
       "    <tr>\n",
       "      <td>2</td>\n",
       "      <td>M</td>\n",
       "      <td>33</td>\n",
       "      <td>employee</td>\n",
       "      <td>15</td>\n",
       "      <td>secondary education</td>\n",
       "      <td>1</td>\n",
       "      <td>married</td>\n",
       "      <td>0</td>\n",
       "      <td>0</td>\n",
       "      <td>house</td>\n",
       "      <td>23341</td>\n",
       "      <td>0</td>\n",
       "    </tr>\n",
       "    <tr>\n",
       "      <td>3</td>\n",
       "      <td>M</td>\n",
       "      <td>32</td>\n",
       "      <td>employee</td>\n",
       "      <td>11</td>\n",
       "      <td>secondary education</td>\n",
       "      <td>1</td>\n",
       "      <td>married</td>\n",
       "      <td>0</td>\n",
       "      <td>3</td>\n",
       "      <td>education</td>\n",
       "      <td>42820</td>\n",
       "      <td>0</td>\n",
       "    </tr>\n",
       "    <tr>\n",
       "      <td>4</td>\n",
       "      <td>F</td>\n",
       "      <td>53</td>\n",
       "      <td>retiree</td>\n",
       "      <td>6</td>\n",
       "      <td>secondary education</td>\n",
       "      <td>1</td>\n",
       "      <td>civil partnership</td>\n",
       "      <td>1</td>\n",
       "      <td>0</td>\n",
       "      <td>wedding</td>\n",
       "      <td>25378</td>\n",
       "      <td>0</td>\n",
       "    </tr>\n",
       "  </tbody>\n",
       "</table>\n",
       "</div>"
      ],
      "text/plain": [
       "  gender  age       job  years_employed            education  education_id  \\\n",
       "0      F   42  employee              23    bachelor's degree             3   \n",
       "1      F   36  employee              11  secondary education             1   \n",
       "2      M   33  employee              15  secondary education             1   \n",
       "3      M   32  employee              11  secondary education             1   \n",
       "4      F   53   retiree               6  secondary education             1   \n",
       "\n",
       "      marital_status  marital_status_id  kids credit_type  income  debt  \n",
       "0            married                  0     1       house   40620     0  \n",
       "1            married                  0     1         car   17932     0  \n",
       "2            married                  0     0       house   23341     0  \n",
       "3            married                  0     3   education   42820     0  \n",
       "4  civil partnership                  1     0     wedding   25378     0  "
      ]
     },
     "metadata": {},
     "output_type": "display_data"
    }
   ],
   "source": [
    "credit_data = bank_data.loc[:, ['gender', 'age', 'job', 'years_employed', 'education', 'education_id', 'marital_status', 'marital_status_id',\n",
    "                       'kids', 'credit_type', 'income', 'debt']]\n",
    "display(credit_data.head())"
   ]
  },
  {
   "cell_type": "markdown",
   "metadata": {},
   "source": [
    "It looks nicer than before."
   ]
  },
  {
   "cell_type": "markdown",
   "metadata": {},
   "source": [
    "#### Total debtors rate"
   ]
  },
  {
   "cell_type": "markdown",
   "metadata": {},
   "source": [
    "We can find our rates. We will look for some variables effect, after that we'll look for main goal. Let's start with total debtors rate. "
   ]
  },
  {
   "cell_type": "code",
   "execution_count": 47,
   "metadata": {},
   "outputs": [
    {
     "data": {
      "text/plain": [
       "count    21423.000000\n",
       "mean         0.080894\n",
       "std          0.272679\n",
       "min          0.000000\n",
       "25%          0.000000\n",
       "50%          0.000000\n",
       "75%          0.000000\n",
       "max          1.000000\n",
       "Name: debt, dtype: float64"
      ]
     },
     "metadata": {},
     "output_type": "display_data"
    }
   ],
   "source": [
    "display(credit_data['debt'].describe())"
   ]
  },
  {
   "cell_type": "markdown",
   "metadata": {},
   "source": [
    "Let's print our important values."
   ]
  },
  {
   "cell_type": "code",
   "execution_count": 48,
   "metadata": {},
   "outputs": [
    {
     "name": "stdout",
     "output_type": "stream",
     "text": [
      "19690 people are without debt\n",
      "1733 people are in debt\n",
      "Total debtor rate is 8.1%\n"
     ]
    }
   ],
   "source": [
    "non_debtors = credit_data[credit_data['debt'] == 0]['debt'].count()   # total number of people who have no debt\n",
    "debtors = credit_data[credit_data['debt'] == 1]['debt'].count()  # total number of people who have debt\n",
    "total_people = debtors + non_debtors  # total people in the tale\n",
    "total_debtor_rate = debtors / total_people  # debtors percentage\n",
    "print(\"{} people are without debt\\n{} people are in debt\\nTotal debtor rate is {:.1%}\".format(non_debtors, debtors, total_debtor_rate))"
   ]
  },
  {
   "cell_type": "markdown",
   "metadata": {},
   "source": [
    "8 out of every 100 people are in debt."
   ]
  },
  {
   "cell_type": "markdown",
   "metadata": {},
   "source": [
    "We are now going to some general conclusions for main variables."
   ]
  },
  {
   "cell_type": "markdown",
   "metadata": {},
   "source": [
    "#### General examining of gender effect"
   ]
  },
  {
   "cell_type": "markdown",
   "metadata": {},
   "source": [
    "Let's examine first 'gender' column. We will group table by 'gender' and look 'debt' values and then examine with describe() method."
   ]
  },
  {
   "cell_type": "code",
   "execution_count": 49,
   "metadata": {},
   "outputs": [
    {
     "data": {
      "text/html": [
       "<div>\n",
       "<style scoped>\n",
       "    .dataframe tbody tr th:only-of-type {\n",
       "        vertical-align: middle;\n",
       "    }\n",
       "\n",
       "    .dataframe tbody tr th {\n",
       "        vertical-align: top;\n",
       "    }\n",
       "\n",
       "    .dataframe thead th {\n",
       "        text-align: right;\n",
       "    }\n",
       "</style>\n",
       "<table border=\"1\" class=\"dataframe\">\n",
       "  <thead>\n",
       "    <tr style=\"text-align: right;\">\n",
       "      <th></th>\n",
       "      <th>count</th>\n",
       "      <th>mean</th>\n",
       "      <th>std</th>\n",
       "      <th>min</th>\n",
       "      <th>25%</th>\n",
       "      <th>50%</th>\n",
       "      <th>75%</th>\n",
       "      <th>max</th>\n",
       "    </tr>\n",
       "    <tr>\n",
       "      <th>gender</th>\n",
       "      <th></th>\n",
       "      <th></th>\n",
       "      <th></th>\n",
       "      <th></th>\n",
       "      <th></th>\n",
       "      <th></th>\n",
       "      <th></th>\n",
       "      <th></th>\n",
       "    </tr>\n",
       "  </thead>\n",
       "  <tbody>\n",
       "    <tr>\n",
       "      <td>F</td>\n",
       "      <td>14164.0</td>\n",
       "      <td>0.069825</td>\n",
       "      <td>0.254861</td>\n",
       "      <td>0.0</td>\n",
       "      <td>0.0</td>\n",
       "      <td>0.0</td>\n",
       "      <td>0.0</td>\n",
       "      <td>1.0</td>\n",
       "    </tr>\n",
       "    <tr>\n",
       "      <td>M</td>\n",
       "      <td>7259.0</td>\n",
       "      <td>0.102493</td>\n",
       "      <td>0.303317</td>\n",
       "      <td>0.0</td>\n",
       "      <td>0.0</td>\n",
       "      <td>0.0</td>\n",
       "      <td>0.0</td>\n",
       "      <td>1.0</td>\n",
       "    </tr>\n",
       "  </tbody>\n",
       "</table>\n",
       "</div>"
      ],
      "text/plain": [
       "          count      mean       std  min  25%  50%  75%  max\n",
       "gender                                                      \n",
       "F       14164.0  0.069825  0.254861  0.0  0.0  0.0  0.0  1.0\n",
       "M        7259.0  0.102493  0.303317  0.0  0.0  0.0  0.0  1.0"
      ]
     },
     "metadata": {},
     "output_type": "display_data"
    }
   ],
   "source": [
    "gender_debt = credit_data.groupby('gender')['debt']\n",
    "display(gender_debt.describe())"
   ]
  },
  {
   "cell_type": "markdown",
   "metadata": {},
   "source": [
    "Females are almost twice of males in our data."
   ]
  },
  {
   "cell_type": "markdown",
   "metadata": {},
   "source": [
    "Kudos to females. Females' debt rate is 1% below the total debt rate and males' 3% above. Although males are half of females, male debtors are almost as much as female debtors. Despite the 3% figure from the average seems small, half of the people we will examine debt status are male, according to this situation, 'gender' seems to be the most important variable in determining the credit score."
   ]
  },
  {
   "cell_type": "markdown",
   "metadata": {},
   "source": [
    "#### General examining of age effect"
   ]
  },
  {
   "cell_type": "markdown",
   "metadata": {},
   "source": [
    "There are a lot of 'age' values in the table. If we categorize 'age' values, we can read age effect clearly. We will define a function to group age data and add a new column with that. But before, we are going to look for min, max, and average ages in the table."
   ]
  },
  {
   "cell_type": "code",
   "execution_count": 50,
   "metadata": {},
   "outputs": [
    {
     "data": {
      "text/plain": [
       "count    21423.000000\n",
       "mean        43.498390\n",
       "std         12.246495\n",
       "min         19.000000\n",
       "25%         33.000000\n",
       "50%         43.000000\n",
       "75%         53.000000\n",
       "max         75.000000\n",
       "Name: age, dtype: float64"
      ]
     },
     "metadata": {},
     "output_type": "display_data"
    }
   ],
   "source": [
    "display(credit_data['age'].describe())"
   ]
  },
  {
   "cell_type": "markdown",
   "metadata": {},
   "source": [
    "There aren't any children. Equality of mean and median values shows us that 'age' column has uniform and homogeneous values.\n",
    "\n",
    "We will create a new column 'age_group' with criteria like this: \n",
    "\n",
    "18-39: 'young' / 40-65: 'middle_age' / 65 and up: 'elderly'"
   ]
  },
  {
   "cell_type": "code",
   "execution_count": 51,
   "metadata": {},
   "outputs": [
    {
     "data": {
      "text/html": [
       "<div>\n",
       "<style scoped>\n",
       "    .dataframe tbody tr th:only-of-type {\n",
       "        vertical-align: middle;\n",
       "    }\n",
       "\n",
       "    .dataframe tbody tr th {\n",
       "        vertical-align: top;\n",
       "    }\n",
       "\n",
       "    .dataframe thead th {\n",
       "        text-align: right;\n",
       "    }\n",
       "</style>\n",
       "<table border=\"1\" class=\"dataframe\">\n",
       "  <thead>\n",
       "    <tr style=\"text-align: right;\">\n",
       "      <th></th>\n",
       "      <th>gender</th>\n",
       "      <th>age</th>\n",
       "      <th>job</th>\n",
       "      <th>years_employed</th>\n",
       "      <th>education</th>\n",
       "      <th>education_id</th>\n",
       "      <th>marital_status</th>\n",
       "      <th>marital_status_id</th>\n",
       "      <th>kids</th>\n",
       "      <th>credit_type</th>\n",
       "      <th>income</th>\n",
       "      <th>debt</th>\n",
       "      <th>age_group</th>\n",
       "    </tr>\n",
       "  </thead>\n",
       "  <tbody>\n",
       "    <tr>\n",
       "      <td>0</td>\n",
       "      <td>F</td>\n",
       "      <td>42</td>\n",
       "      <td>employee</td>\n",
       "      <td>23</td>\n",
       "      <td>bachelor's degree</td>\n",
       "      <td>3</td>\n",
       "      <td>married</td>\n",
       "      <td>0</td>\n",
       "      <td>1</td>\n",
       "      <td>house</td>\n",
       "      <td>40620</td>\n",
       "      <td>0</td>\n",
       "      <td>middle_age</td>\n",
       "    </tr>\n",
       "    <tr>\n",
       "      <td>1</td>\n",
       "      <td>F</td>\n",
       "      <td>36</td>\n",
       "      <td>employee</td>\n",
       "      <td>11</td>\n",
       "      <td>secondary education</td>\n",
       "      <td>1</td>\n",
       "      <td>married</td>\n",
       "      <td>0</td>\n",
       "      <td>1</td>\n",
       "      <td>car</td>\n",
       "      <td>17932</td>\n",
       "      <td>0</td>\n",
       "      <td>young</td>\n",
       "    </tr>\n",
       "    <tr>\n",
       "      <td>2</td>\n",
       "      <td>M</td>\n",
       "      <td>33</td>\n",
       "      <td>employee</td>\n",
       "      <td>15</td>\n",
       "      <td>secondary education</td>\n",
       "      <td>1</td>\n",
       "      <td>married</td>\n",
       "      <td>0</td>\n",
       "      <td>0</td>\n",
       "      <td>house</td>\n",
       "      <td>23341</td>\n",
       "      <td>0</td>\n",
       "      <td>young</td>\n",
       "    </tr>\n",
       "    <tr>\n",
       "      <td>3</td>\n",
       "      <td>M</td>\n",
       "      <td>32</td>\n",
       "      <td>employee</td>\n",
       "      <td>11</td>\n",
       "      <td>secondary education</td>\n",
       "      <td>1</td>\n",
       "      <td>married</td>\n",
       "      <td>0</td>\n",
       "      <td>3</td>\n",
       "      <td>education</td>\n",
       "      <td>42820</td>\n",
       "      <td>0</td>\n",
       "      <td>young</td>\n",
       "    </tr>\n",
       "    <tr>\n",
       "      <td>4</td>\n",
       "      <td>F</td>\n",
       "      <td>53</td>\n",
       "      <td>retiree</td>\n",
       "      <td>6</td>\n",
       "      <td>secondary education</td>\n",
       "      <td>1</td>\n",
       "      <td>civil partnership</td>\n",
       "      <td>1</td>\n",
       "      <td>0</td>\n",
       "      <td>wedding</td>\n",
       "      <td>25378</td>\n",
       "      <td>0</td>\n",
       "      <td>middle_age</td>\n",
       "    </tr>\n",
       "  </tbody>\n",
       "</table>\n",
       "</div>"
      ],
      "text/plain": [
       "  gender  age       job  years_employed            education  education_id  \\\n",
       "0      F   42  employee              23    bachelor's degree             3   \n",
       "1      F   36  employee              11  secondary education             1   \n",
       "2      M   33  employee              15  secondary education             1   \n",
       "3      M   32  employee              11  secondary education             1   \n",
       "4      F   53   retiree               6  secondary education             1   \n",
       "\n",
       "      marital_status  marital_status_id  kids credit_type  income  debt  \\\n",
       "0            married                  0     1       house   40620     0   \n",
       "1            married                  0     1         car   17932     0   \n",
       "2            married                  0     0       house   23341     0   \n",
       "3            married                  0     3   education   42820     0   \n",
       "4  civil partnership                  1     0     wedding   25378     0   \n",
       "\n",
       "    age_group  \n",
       "0  middle_age  \n",
       "1       young  \n",
       "2       young  \n",
       "3       young  \n",
       "4  middle_age  "
      ]
     },
     "metadata": {},
     "output_type": "display_data"
    }
   ],
   "source": [
    "def age_group(row):\n",
    "    age = row['age']\n",
    "    if 18 <= age < 40:\n",
    "        return 'young'\n",
    "    elif 40 <= age < 65:\n",
    "        return 'middle_age'\n",
    "    else:\n",
    "        return 'elderly'\n",
    "\n",
    "credit_data['age_group'] = credit_data.apply(age_group, axis=1)\n",
    "display(credit_data.head())"
   ]
  },
  {
   "cell_type": "markdown",
   "metadata": {},
   "source": [
    "Now we will group by 'age_group' and see 'debt' amounts."
   ]
  },
  {
   "cell_type": "code",
   "execution_count": 52,
   "metadata": {},
   "outputs": [
    {
     "data": {
      "text/html": [
       "<div>\n",
       "<style scoped>\n",
       "    .dataframe tbody tr th:only-of-type {\n",
       "        vertical-align: middle;\n",
       "    }\n",
       "\n",
       "    .dataframe tbody tr th {\n",
       "        vertical-align: top;\n",
       "    }\n",
       "\n",
       "    .dataframe thead th {\n",
       "        text-align: right;\n",
       "    }\n",
       "</style>\n",
       "<table border=\"1\" class=\"dataframe\">\n",
       "  <thead>\n",
       "    <tr style=\"text-align: right;\">\n",
       "      <th></th>\n",
       "      <th>count</th>\n",
       "      <th>mean</th>\n",
       "      <th>std</th>\n",
       "      <th>min</th>\n",
       "      <th>25%</th>\n",
       "      <th>50%</th>\n",
       "      <th>75%</th>\n",
       "      <th>max</th>\n",
       "    </tr>\n",
       "    <tr>\n",
       "      <th>age_group</th>\n",
       "      <th></th>\n",
       "      <th></th>\n",
       "      <th></th>\n",
       "      <th></th>\n",
       "      <th></th>\n",
       "      <th></th>\n",
       "      <th></th>\n",
       "      <th></th>\n",
       "    </tr>\n",
       "  </thead>\n",
       "  <tbody>\n",
       "    <tr>\n",
       "      <td>elderly</td>\n",
       "      <td>899.0</td>\n",
       "      <td>0.054505</td>\n",
       "      <td>0.227138</td>\n",
       "      <td>0.0</td>\n",
       "      <td>0.0</td>\n",
       "      <td>0.0</td>\n",
       "      <td>0.0</td>\n",
       "      <td>1.0</td>\n",
       "    </tr>\n",
       "    <tr>\n",
       "      <td>middle_age</td>\n",
       "      <td>11668.0</td>\n",
       "      <td>0.067107</td>\n",
       "      <td>0.250217</td>\n",
       "      <td>0.0</td>\n",
       "      <td>0.0</td>\n",
       "      <td>0.0</td>\n",
       "      <td>0.0</td>\n",
       "      <td>1.0</td>\n",
       "    </tr>\n",
       "    <tr>\n",
       "      <td>young</td>\n",
       "      <td>8856.0</td>\n",
       "      <td>0.101739</td>\n",
       "      <td>0.302322</td>\n",
       "      <td>0.0</td>\n",
       "      <td>0.0</td>\n",
       "      <td>0.0</td>\n",
       "      <td>0.0</td>\n",
       "      <td>1.0</td>\n",
       "    </tr>\n",
       "  </tbody>\n",
       "</table>\n",
       "</div>"
      ],
      "text/plain": [
       "              count      mean       std  min  25%  50%  75%  max\n",
       "age_group                                                       \n",
       "elderly       899.0  0.054505  0.227138  0.0  0.0  0.0  0.0  1.0\n",
       "middle_age  11668.0  0.067107  0.250217  0.0  0.0  0.0  0.0  1.0\n",
       "young        8856.0  0.101739  0.302322  0.0  0.0  0.0  0.0  1.0"
      ]
     },
     "metadata": {},
     "output_type": "display_data"
    }
   ],
   "source": [
    "age_group_debt = credit_data.groupby('age_group')['debt']\n",
    "display(age_group_debt.describe())"
   ]
  },
  {
   "cell_type": "markdown",
   "metadata": {},
   "source": [
    "Old people seem to pay their debts early. But loan demands come from middle age and young people. Young people are fewer than middle age people but there are more young people in debt. While 2 out of 20 young people are in debt, 1 in 20 older people is in debt. Almost twice the elderly debt rate. \"Young people attention! You are entering the risk pot for credit score.\""
   ]
  },
  {
   "cell_type": "markdown",
   "metadata": {},
   "source": [
    "We can find if we want to wonder which ages are mostly in debt, but it doen't necessary."
   ]
  },
  {
   "cell_type": "markdown",
   "metadata": {},
   "source": [
    "#### General examining job effect"
   ]
  },
  {
   "cell_type": "markdown",
   "metadata": {},
   "source": [
    "Let's look job effect"
   ]
  },
  {
   "cell_type": "code",
   "execution_count": 53,
   "metadata": {},
   "outputs": [
    {
     "data": {
      "text/html": [
       "<div>\n",
       "<style scoped>\n",
       "    .dataframe tbody tr th:only-of-type {\n",
       "        vertical-align: middle;\n",
       "    }\n",
       "\n",
       "    .dataframe tbody tr th {\n",
       "        vertical-align: top;\n",
       "    }\n",
       "\n",
       "    .dataframe thead th {\n",
       "        text-align: right;\n",
       "    }\n",
       "</style>\n",
       "<table border=\"1\" class=\"dataframe\">\n",
       "  <thead>\n",
       "    <tr style=\"text-align: right;\">\n",
       "      <th></th>\n",
       "      <th>count</th>\n",
       "      <th>mean</th>\n",
       "      <th>std</th>\n",
       "      <th>min</th>\n",
       "      <th>25%</th>\n",
       "      <th>50%</th>\n",
       "      <th>75%</th>\n",
       "      <th>max</th>\n",
       "    </tr>\n",
       "    <tr>\n",
       "      <th>job</th>\n",
       "      <th></th>\n",
       "      <th></th>\n",
       "      <th></th>\n",
       "      <th></th>\n",
       "      <th></th>\n",
       "      <th></th>\n",
       "      <th></th>\n",
       "      <th></th>\n",
       "    </tr>\n",
       "  </thead>\n",
       "  <tbody>\n",
       "    <tr>\n",
       "      <td>business</td>\n",
       "      <td>5064.0</td>\n",
       "      <td>0.074052</td>\n",
       "      <td>0.261882</td>\n",
       "      <td>0.0</td>\n",
       "      <td>0.00</td>\n",
       "      <td>0.0</td>\n",
       "      <td>0.00</td>\n",
       "      <td>1.0</td>\n",
       "    </tr>\n",
       "    <tr>\n",
       "      <td>civil servant</td>\n",
       "      <td>1453.0</td>\n",
       "      <td>0.059188</td>\n",
       "      <td>0.236057</td>\n",
       "      <td>0.0</td>\n",
       "      <td>0.00</td>\n",
       "      <td>0.0</td>\n",
       "      <td>0.00</td>\n",
       "      <td>1.0</td>\n",
       "    </tr>\n",
       "    <tr>\n",
       "      <td>employee</td>\n",
       "      <td>11064.0</td>\n",
       "      <td>0.095354</td>\n",
       "      <td>0.293717</td>\n",
       "      <td>0.0</td>\n",
       "      <td>0.00</td>\n",
       "      <td>0.0</td>\n",
       "      <td>0.00</td>\n",
       "      <td>1.0</td>\n",
       "    </tr>\n",
       "    <tr>\n",
       "      <td>entrepreneur</td>\n",
       "      <td>2.0</td>\n",
       "      <td>0.000000</td>\n",
       "      <td>0.000000</td>\n",
       "      <td>0.0</td>\n",
       "      <td>0.00</td>\n",
       "      <td>0.0</td>\n",
       "      <td>0.00</td>\n",
       "      <td>0.0</td>\n",
       "    </tr>\n",
       "    <tr>\n",
       "      <td>paternity / maternity leave</td>\n",
       "      <td>1.0</td>\n",
       "      <td>1.000000</td>\n",
       "      <td>NaN</td>\n",
       "      <td>1.0</td>\n",
       "      <td>1.00</td>\n",
       "      <td>1.0</td>\n",
       "      <td>1.00</td>\n",
       "      <td>1.0</td>\n",
       "    </tr>\n",
       "    <tr>\n",
       "      <td>retiree</td>\n",
       "      <td>3836.0</td>\n",
       "      <td>0.056048</td>\n",
       "      <td>0.230044</td>\n",
       "      <td>0.0</td>\n",
       "      <td>0.00</td>\n",
       "      <td>0.0</td>\n",
       "      <td>0.00</td>\n",
       "      <td>1.0</td>\n",
       "    </tr>\n",
       "    <tr>\n",
       "      <td>student</td>\n",
       "      <td>1.0</td>\n",
       "      <td>0.000000</td>\n",
       "      <td>NaN</td>\n",
       "      <td>0.0</td>\n",
       "      <td>0.00</td>\n",
       "      <td>0.0</td>\n",
       "      <td>0.00</td>\n",
       "      <td>0.0</td>\n",
       "    </tr>\n",
       "    <tr>\n",
       "      <td>unemployed</td>\n",
       "      <td>2.0</td>\n",
       "      <td>0.500000</td>\n",
       "      <td>0.707107</td>\n",
       "      <td>0.0</td>\n",
       "      <td>0.25</td>\n",
       "      <td>0.5</td>\n",
       "      <td>0.75</td>\n",
       "      <td>1.0</td>\n",
       "    </tr>\n",
       "  </tbody>\n",
       "</table>\n",
       "</div>"
      ],
      "text/plain": [
       "                               count      mean       std  min   25%  50%  \\\n",
       "job                                                                        \n",
       "business                      5064.0  0.074052  0.261882  0.0  0.00  0.0   \n",
       "civil servant                 1453.0  0.059188  0.236057  0.0  0.00  0.0   \n",
       "employee                     11064.0  0.095354  0.293717  0.0  0.00  0.0   \n",
       "entrepreneur                     2.0  0.000000  0.000000  0.0  0.00  0.0   \n",
       "paternity / maternity leave      1.0  1.000000       NaN  1.0  1.00  1.0   \n",
       "retiree                       3836.0  0.056048  0.230044  0.0  0.00  0.0   \n",
       "student                          1.0  0.000000       NaN  0.0  0.00  0.0   \n",
       "unemployed                       2.0  0.500000  0.707107  0.0  0.25  0.5   \n",
       "\n",
       "                              75%  max  \n",
       "job                                     \n",
       "business                     0.00  1.0  \n",
       "civil servant                0.00  1.0  \n",
       "employee                     0.00  1.0  \n",
       "entrepreneur                 0.00  0.0  \n",
       "paternity / maternity leave  1.00  1.0  \n",
       "retiree                      0.00  1.0  \n",
       "student                      0.00  0.0  \n",
       "unemployed                   0.75  1.0  "
      ]
     },
     "metadata": {},
     "output_type": "display_data"
    }
   ],
   "source": [
    "job_debt = credit_data.groupby('job')['debt']\n",
    "display(job_debt.describe())"
   ]
  },
  {
   "cell_type": "markdown",
   "metadata": {},
   "source": [
    "It seems like employees debt rate is almost 10%, while civil servants's debt rate is about 6%. We can compare business, civil servant, employee and retiree jobs. Others are small numbers and almost not an effect in big picture. We can skip them for general information."
   ]
  },
  {
   "cell_type": "markdown",
   "metadata": {},
   "source": [
    "#### General examining of having kids effect"
   ]
  },
  {
   "cell_type": "code",
   "execution_count": 54,
   "metadata": {},
   "outputs": [
    {
     "data": {
      "text/html": [
       "<div>\n",
       "<style scoped>\n",
       "    .dataframe tbody tr th:only-of-type {\n",
       "        vertical-align: middle;\n",
       "    }\n",
       "\n",
       "    .dataframe tbody tr th {\n",
       "        vertical-align: top;\n",
       "    }\n",
       "\n",
       "    .dataframe thead th {\n",
       "        text-align: right;\n",
       "    }\n",
       "</style>\n",
       "<table border=\"1\" class=\"dataframe\">\n",
       "  <thead>\n",
       "    <tr style=\"text-align: right;\">\n",
       "      <th></th>\n",
       "      <th>count</th>\n",
       "      <th>mean</th>\n",
       "      <th>std</th>\n",
       "      <th>min</th>\n",
       "      <th>25%</th>\n",
       "      <th>50%</th>\n",
       "      <th>75%</th>\n",
       "      <th>max</th>\n",
       "    </tr>\n",
       "    <tr>\n",
       "      <th>kids</th>\n",
       "      <th></th>\n",
       "      <th></th>\n",
       "      <th></th>\n",
       "      <th></th>\n",
       "      <th></th>\n",
       "      <th></th>\n",
       "      <th></th>\n",
       "      <th></th>\n",
       "    </tr>\n",
       "  </thead>\n",
       "  <tbody>\n",
       "    <tr>\n",
       "      <td>0</td>\n",
       "      <td>14079.0</td>\n",
       "      <td>0.075147</td>\n",
       "      <td>0.263638</td>\n",
       "      <td>0.0</td>\n",
       "      <td>0.0</td>\n",
       "      <td>0.0</td>\n",
       "      <td>0.0</td>\n",
       "      <td>1.0</td>\n",
       "    </tr>\n",
       "    <tr>\n",
       "      <td>1</td>\n",
       "      <td>4849.0</td>\n",
       "      <td>0.091153</td>\n",
       "      <td>0.287856</td>\n",
       "      <td>0.0</td>\n",
       "      <td>0.0</td>\n",
       "      <td>0.0</td>\n",
       "      <td>0.0</td>\n",
       "      <td>1.0</td>\n",
       "    </tr>\n",
       "    <tr>\n",
       "      <td>2</td>\n",
       "      <td>2117.0</td>\n",
       "      <td>0.095418</td>\n",
       "      <td>0.293861</td>\n",
       "      <td>0.0</td>\n",
       "      <td>0.0</td>\n",
       "      <td>0.0</td>\n",
       "      <td>0.0</td>\n",
       "      <td>1.0</td>\n",
       "    </tr>\n",
       "    <tr>\n",
       "      <td>3</td>\n",
       "      <td>328.0</td>\n",
       "      <td>0.082317</td>\n",
       "      <td>0.275267</td>\n",
       "      <td>0.0</td>\n",
       "      <td>0.0</td>\n",
       "      <td>0.0</td>\n",
       "      <td>0.0</td>\n",
       "      <td>1.0</td>\n",
       "    </tr>\n",
       "    <tr>\n",
       "      <td>4</td>\n",
       "      <td>41.0</td>\n",
       "      <td>0.097561</td>\n",
       "      <td>0.300406</td>\n",
       "      <td>0.0</td>\n",
       "      <td>0.0</td>\n",
       "      <td>0.0</td>\n",
       "      <td>0.0</td>\n",
       "      <td>1.0</td>\n",
       "    </tr>\n",
       "    <tr>\n",
       "      <td>5</td>\n",
       "      <td>9.0</td>\n",
       "      <td>0.000000</td>\n",
       "      <td>0.000000</td>\n",
       "      <td>0.0</td>\n",
       "      <td>0.0</td>\n",
       "      <td>0.0</td>\n",
       "      <td>0.0</td>\n",
       "      <td>0.0</td>\n",
       "    </tr>\n",
       "  </tbody>\n",
       "</table>\n",
       "</div>"
      ],
      "text/plain": [
       "        count      mean       std  min  25%  50%  75%  max\n",
       "kids                                                      \n",
       "0     14079.0  0.075147  0.263638  0.0  0.0  0.0  0.0  1.0\n",
       "1      4849.0  0.091153  0.287856  0.0  0.0  0.0  0.0  1.0\n",
       "2      2117.0  0.095418  0.293861  0.0  0.0  0.0  0.0  1.0\n",
       "3       328.0  0.082317  0.275267  0.0  0.0  0.0  0.0  1.0\n",
       "4        41.0  0.097561  0.300406  0.0  0.0  0.0  0.0  1.0\n",
       "5         9.0  0.000000  0.000000  0.0  0.0  0.0  0.0  0.0"
      ]
     },
     "metadata": {},
     "output_type": "display_data"
    }
   ],
   "source": [
    "kids_debt = credit_data.groupby('kids')['debt']\n",
    "display(kids_debt.describe())"
   ]
  },
  {
   "cell_type": "markdown",
   "metadata": {},
   "source": [
    "The people which have '0' and '5' children have a debt rate lower than mean, but the others' are over average debt rate. Let's even give 5 points to 5 children, zero debt. But very few amount, only 9 persons. We can not rely only this data."
   ]
  },
  {
   "cell_type": "markdown",
   "metadata": {},
   "source": [
    "#### General examinig of marital status effect"
   ]
  },
  {
   "cell_type": "code",
   "execution_count": 55,
   "metadata": {},
   "outputs": [
    {
     "data": {
      "text/html": [
       "<div>\n",
       "<style scoped>\n",
       "    .dataframe tbody tr th:only-of-type {\n",
       "        vertical-align: middle;\n",
       "    }\n",
       "\n",
       "    .dataframe tbody tr th {\n",
       "        vertical-align: top;\n",
       "    }\n",
       "\n",
       "    .dataframe thead th {\n",
       "        text-align: right;\n",
       "    }\n",
       "</style>\n",
       "<table border=\"1\" class=\"dataframe\">\n",
       "  <thead>\n",
       "    <tr style=\"text-align: right;\">\n",
       "      <th></th>\n",
       "      <th>count</th>\n",
       "      <th>mean</th>\n",
       "      <th>std</th>\n",
       "      <th>min</th>\n",
       "      <th>25%</th>\n",
       "      <th>50%</th>\n",
       "      <th>75%</th>\n",
       "      <th>max</th>\n",
       "    </tr>\n",
       "    <tr>\n",
       "      <th>marital_status</th>\n",
       "      <th></th>\n",
       "      <th></th>\n",
       "      <th></th>\n",
       "      <th></th>\n",
       "      <th></th>\n",
       "      <th></th>\n",
       "      <th></th>\n",
       "      <th></th>\n",
       "    </tr>\n",
       "  </thead>\n",
       "  <tbody>\n",
       "    <tr>\n",
       "      <td>civil partnership</td>\n",
       "      <td>4155.0</td>\n",
       "      <td>0.092900</td>\n",
       "      <td>0.290327</td>\n",
       "      <td>0.0</td>\n",
       "      <td>0.0</td>\n",
       "      <td>0.0</td>\n",
       "      <td>0.0</td>\n",
       "      <td>1.0</td>\n",
       "    </tr>\n",
       "    <tr>\n",
       "      <td>divorced</td>\n",
       "      <td>1185.0</td>\n",
       "      <td>0.071730</td>\n",
       "      <td>0.258149</td>\n",
       "      <td>0.0</td>\n",
       "      <td>0.0</td>\n",
       "      <td>0.0</td>\n",
       "      <td>0.0</td>\n",
       "      <td>1.0</td>\n",
       "    </tr>\n",
       "    <tr>\n",
       "      <td>married</td>\n",
       "      <td>12331.0</td>\n",
       "      <td>0.075176</td>\n",
       "      <td>0.263686</td>\n",
       "      <td>0.0</td>\n",
       "      <td>0.0</td>\n",
       "      <td>0.0</td>\n",
       "      <td>0.0</td>\n",
       "      <td>1.0</td>\n",
       "    </tr>\n",
       "    <tr>\n",
       "      <td>unmarried</td>\n",
       "      <td>2797.0</td>\n",
       "      <td>0.097605</td>\n",
       "      <td>0.296832</td>\n",
       "      <td>0.0</td>\n",
       "      <td>0.0</td>\n",
       "      <td>0.0</td>\n",
       "      <td>0.0</td>\n",
       "      <td>1.0</td>\n",
       "    </tr>\n",
       "    <tr>\n",
       "      <td>widow / widower</td>\n",
       "      <td>955.0</td>\n",
       "      <td>0.064921</td>\n",
       "      <td>0.246516</td>\n",
       "      <td>0.0</td>\n",
       "      <td>0.0</td>\n",
       "      <td>0.0</td>\n",
       "      <td>0.0</td>\n",
       "      <td>1.0</td>\n",
       "    </tr>\n",
       "  </tbody>\n",
       "</table>\n",
       "</div>"
      ],
      "text/plain": [
       "                     count      mean       std  min  25%  50%  75%  max\n",
       "marital_status                                                         \n",
       "civil partnership   4155.0  0.092900  0.290327  0.0  0.0  0.0  0.0  1.0\n",
       "divorced            1185.0  0.071730  0.258149  0.0  0.0  0.0  0.0  1.0\n",
       "married            12331.0  0.075176  0.263686  0.0  0.0  0.0  0.0  1.0\n",
       "unmarried           2797.0  0.097605  0.296832  0.0  0.0  0.0  0.0  1.0\n",
       "widow / widower      955.0  0.064921  0.246516  0.0  0.0  0.0  0.0  1.0"
      ]
     },
     "metadata": {},
     "output_type": "display_data"
    }
   ],
   "source": [
    "marital_debt = credit_data.groupby('marital_status')['debt']\n",
    "display(marital_debt.describe())"
   ]
  },
  {
   "cell_type": "markdown",
   "metadata": {},
   "source": [
    "'civil partnership' and 'unmarried' have debt rates over average total rate."
   ]
  },
  {
   "cell_type": "markdown",
   "metadata": {},
   "source": [
    "#### General examining of income level effect"
   ]
  },
  {
   "cell_type": "markdown",
   "metadata": {},
   "source": [
    "We can categorize income column. Let's look some values to decide appropriate limit values for categorization"
   ]
  },
  {
   "cell_type": "code",
   "execution_count": 56,
   "metadata": {},
   "outputs": [
    {
     "data": {
      "text/plain": [
       "count     21423.000000\n",
       "mean      26277.395650\n",
       "std       15714.714614\n",
       "min        3306.000000\n",
       "25%       17251.000000\n",
       "50%       21683.000000\n",
       "75%       31278.500000\n",
       "max      362496.000000\n",
       "Name: income, dtype: float64"
      ]
     },
     "metadata": {},
     "output_type": "display_data"
    }
   ],
   "source": [
    "display(credit_data['income'].describe())"
   ]
  },
  {
   "cell_type": "markdown",
   "metadata": {},
   "source": [
    "I think 20.000 and 40.000 values can be limit for income classification. we can change it according to the income level of the country."
   ]
  },
  {
   "cell_type": "code",
   "execution_count": 57,
   "metadata": {},
   "outputs": [
    {
     "data": {
      "text/html": [
       "<div>\n",
       "<style scoped>\n",
       "    .dataframe tbody tr th:only-of-type {\n",
       "        vertical-align: middle;\n",
       "    }\n",
       "\n",
       "    .dataframe tbody tr th {\n",
       "        vertical-align: top;\n",
       "    }\n",
       "\n",
       "    .dataframe thead th {\n",
       "        text-align: right;\n",
       "    }\n",
       "</style>\n",
       "<table border=\"1\" class=\"dataframe\">\n",
       "  <thead>\n",
       "    <tr style=\"text-align: right;\">\n",
       "      <th></th>\n",
       "      <th>gender</th>\n",
       "      <th>age</th>\n",
       "      <th>job</th>\n",
       "      <th>years_employed</th>\n",
       "      <th>education</th>\n",
       "      <th>education_id</th>\n",
       "      <th>marital_status</th>\n",
       "      <th>marital_status_id</th>\n",
       "      <th>kids</th>\n",
       "      <th>credit_type</th>\n",
       "      <th>income</th>\n",
       "      <th>debt</th>\n",
       "      <th>age_group</th>\n",
       "      <th>income_level</th>\n",
       "    </tr>\n",
       "  </thead>\n",
       "  <tbody>\n",
       "    <tr>\n",
       "      <td>0</td>\n",
       "      <td>F</td>\n",
       "      <td>42</td>\n",
       "      <td>employee</td>\n",
       "      <td>23</td>\n",
       "      <td>bachelor's degree</td>\n",
       "      <td>3</td>\n",
       "      <td>married</td>\n",
       "      <td>0</td>\n",
       "      <td>1</td>\n",
       "      <td>house</td>\n",
       "      <td>40620</td>\n",
       "      <td>0</td>\n",
       "      <td>middle_age</td>\n",
       "      <td>high</td>\n",
       "    </tr>\n",
       "    <tr>\n",
       "      <td>1</td>\n",
       "      <td>F</td>\n",
       "      <td>36</td>\n",
       "      <td>employee</td>\n",
       "      <td>11</td>\n",
       "      <td>secondary education</td>\n",
       "      <td>1</td>\n",
       "      <td>married</td>\n",
       "      <td>0</td>\n",
       "      <td>1</td>\n",
       "      <td>car</td>\n",
       "      <td>17932</td>\n",
       "      <td>0</td>\n",
       "      <td>young</td>\n",
       "      <td>low</td>\n",
       "    </tr>\n",
       "    <tr>\n",
       "      <td>2</td>\n",
       "      <td>M</td>\n",
       "      <td>33</td>\n",
       "      <td>employee</td>\n",
       "      <td>15</td>\n",
       "      <td>secondary education</td>\n",
       "      <td>1</td>\n",
       "      <td>married</td>\n",
       "      <td>0</td>\n",
       "      <td>0</td>\n",
       "      <td>house</td>\n",
       "      <td>23341</td>\n",
       "      <td>0</td>\n",
       "      <td>young</td>\n",
       "      <td>middle</td>\n",
       "    </tr>\n",
       "    <tr>\n",
       "      <td>3</td>\n",
       "      <td>M</td>\n",
       "      <td>32</td>\n",
       "      <td>employee</td>\n",
       "      <td>11</td>\n",
       "      <td>secondary education</td>\n",
       "      <td>1</td>\n",
       "      <td>married</td>\n",
       "      <td>0</td>\n",
       "      <td>3</td>\n",
       "      <td>education</td>\n",
       "      <td>42820</td>\n",
       "      <td>0</td>\n",
       "      <td>young</td>\n",
       "      <td>high</td>\n",
       "    </tr>\n",
       "    <tr>\n",
       "      <td>4</td>\n",
       "      <td>F</td>\n",
       "      <td>53</td>\n",
       "      <td>retiree</td>\n",
       "      <td>6</td>\n",
       "      <td>secondary education</td>\n",
       "      <td>1</td>\n",
       "      <td>civil partnership</td>\n",
       "      <td>1</td>\n",
       "      <td>0</td>\n",
       "      <td>wedding</td>\n",
       "      <td>25378</td>\n",
       "      <td>0</td>\n",
       "      <td>middle_age</td>\n",
       "      <td>middle</td>\n",
       "    </tr>\n",
       "  </tbody>\n",
       "</table>\n",
       "</div>"
      ],
      "text/plain": [
       "  gender  age       job  years_employed            education  education_id  \\\n",
       "0      F   42  employee              23    bachelor's degree             3   \n",
       "1      F   36  employee              11  secondary education             1   \n",
       "2      M   33  employee              15  secondary education             1   \n",
       "3      M   32  employee              11  secondary education             1   \n",
       "4      F   53   retiree               6  secondary education             1   \n",
       "\n",
       "      marital_status  marital_status_id  kids credit_type  income  debt  \\\n",
       "0            married                  0     1       house   40620     0   \n",
       "1            married                  0     1         car   17932     0   \n",
       "2            married                  0     0       house   23341     0   \n",
       "3            married                  0     3   education   42820     0   \n",
       "4  civil partnership                  1     0     wedding   25378     0   \n",
       "\n",
       "    age_group income_level  \n",
       "0  middle_age         high  \n",
       "1       young          low  \n",
       "2       young       middle  \n",
       "3       young         high  \n",
       "4  middle_age       middle  "
      ]
     },
     "metadata": {},
     "output_type": "display_data"
    }
   ],
   "source": [
    "def income_level(row):\n",
    "    \n",
    "    income = row['income']\n",
    "    \n",
    "    if income <= 20000:\n",
    "        return 'low'\n",
    "    elif 20000 <= income < 40000:\n",
    "        return 'middle'\n",
    "    else:\n",
    "        return 'high'\n",
    "    \n",
    "    \n",
    "credit_data['income_level'] = credit_data.apply(income_level, axis=1)\n",
    "display(credit_data.head())"
   ]
  },
  {
   "cell_type": "markdown",
   "metadata": {},
   "source": [
    "There are 'high', 'middle', and 'low' income levels now. We can categorize the income level easier. Let's try general look for income level - debt relation."
   ]
  },
  {
   "cell_type": "code",
   "execution_count": 58,
   "metadata": {},
   "outputs": [
    {
     "data": {
      "text/plain": [
       "income_level  debt\n",
       "high          0        2606\n",
       "              1         193\n",
       "low           0        6728\n",
       "              1         605\n",
       "middle        0       10356\n",
       "              1         935\n",
       "Name: debt, dtype: int64"
      ]
     },
     "metadata": {},
     "output_type": "display_data"
    }
   ],
   "source": [
    "income_level_grouped = credit_data.groupby('income_level')['debt']\n",
    "display(income_level_grouped.value_counts())"
   ]
  },
  {
   "cell_type": "markdown",
   "metadata": {},
   "source": [
    "Let's examine debt rates for each income level."
   ]
  },
  {
   "cell_type": "code",
   "execution_count": 59,
   "metadata": {},
   "outputs": [
    {
     "data": {
      "text/html": [
       "<div>\n",
       "<style scoped>\n",
       "    .dataframe tbody tr th:only-of-type {\n",
       "        vertical-align: middle;\n",
       "    }\n",
       "\n",
       "    .dataframe tbody tr th {\n",
       "        vertical-align: top;\n",
       "    }\n",
       "\n",
       "    .dataframe thead th {\n",
       "        text-align: right;\n",
       "    }\n",
       "</style>\n",
       "<table border=\"1\" class=\"dataframe\">\n",
       "  <thead>\n",
       "    <tr style=\"text-align: right;\">\n",
       "      <th></th>\n",
       "      <th>count</th>\n",
       "      <th>mean</th>\n",
       "      <th>std</th>\n",
       "      <th>min</th>\n",
       "      <th>25%</th>\n",
       "      <th>50%</th>\n",
       "      <th>75%</th>\n",
       "      <th>max</th>\n",
       "    </tr>\n",
       "    <tr>\n",
       "      <th>income_level</th>\n",
       "      <th></th>\n",
       "      <th></th>\n",
       "      <th></th>\n",
       "      <th></th>\n",
       "      <th></th>\n",
       "      <th></th>\n",
       "      <th></th>\n",
       "      <th></th>\n",
       "    </tr>\n",
       "  </thead>\n",
       "  <tbody>\n",
       "    <tr>\n",
       "      <td>high</td>\n",
       "      <td>2799.0</td>\n",
       "      <td>0.068953</td>\n",
       "      <td>0.253420</td>\n",
       "      <td>0.0</td>\n",
       "      <td>0.0</td>\n",
       "      <td>0.0</td>\n",
       "      <td>0.0</td>\n",
       "      <td>1.0</td>\n",
       "    </tr>\n",
       "    <tr>\n",
       "      <td>low</td>\n",
       "      <td>7333.0</td>\n",
       "      <td>0.082504</td>\n",
       "      <td>0.275149</td>\n",
       "      <td>0.0</td>\n",
       "      <td>0.0</td>\n",
       "      <td>0.0</td>\n",
       "      <td>0.0</td>\n",
       "      <td>1.0</td>\n",
       "    </tr>\n",
       "    <tr>\n",
       "      <td>middle</td>\n",
       "      <td>11291.0</td>\n",
       "      <td>0.082809</td>\n",
       "      <td>0.275606</td>\n",
       "      <td>0.0</td>\n",
       "      <td>0.0</td>\n",
       "      <td>0.0</td>\n",
       "      <td>0.0</td>\n",
       "      <td>1.0</td>\n",
       "    </tr>\n",
       "  </tbody>\n",
       "</table>\n",
       "</div>"
      ],
      "text/plain": [
       "                count      mean       std  min  25%  50%  75%  max\n",
       "income_level                                                      \n",
       "high           2799.0  0.068953  0.253420  0.0  0.0  0.0  0.0  1.0\n",
       "low            7333.0  0.082504  0.275149  0.0  0.0  0.0  0.0  1.0\n",
       "middle        11291.0  0.082809  0.275606  0.0  0.0  0.0  0.0  1.0"
      ]
     },
     "metadata": {},
     "output_type": "display_data"
    }
   ],
   "source": [
    "display(income_level_grouped.describe())"
   ]
  },
  {
   "cell_type": "markdown",
   "metadata": {},
   "source": [
    "*** High class has a debt rate smaller total average (it was 8.1%). This situation is shows us 'income_level' affect  total debt rate slightly."
   ]
  },
  {
   "cell_type": "markdown",
   "metadata": {},
   "source": [
    "#### Examining of 'credit type' effect"
   ]
  },
  {
   "cell_type": "code",
   "execution_count": 60,
   "metadata": {},
   "outputs": [
    {
     "data": {
      "text/html": [
       "<div>\n",
       "<style scoped>\n",
       "    .dataframe tbody tr th:only-of-type {\n",
       "        vertical-align: middle;\n",
       "    }\n",
       "\n",
       "    .dataframe tbody tr th {\n",
       "        vertical-align: top;\n",
       "    }\n",
       "\n",
       "    .dataframe thead th {\n",
       "        text-align: right;\n",
       "    }\n",
       "</style>\n",
       "<table border=\"1\" class=\"dataframe\">\n",
       "  <thead>\n",
       "    <tr style=\"text-align: right;\">\n",
       "      <th></th>\n",
       "      <th>count</th>\n",
       "      <th>mean</th>\n",
       "      <th>std</th>\n",
       "      <th>min</th>\n",
       "      <th>25%</th>\n",
       "      <th>50%</th>\n",
       "      <th>75%</th>\n",
       "      <th>max</th>\n",
       "    </tr>\n",
       "    <tr>\n",
       "      <th>credit_type</th>\n",
       "      <th></th>\n",
       "      <th></th>\n",
       "      <th></th>\n",
       "      <th></th>\n",
       "      <th></th>\n",
       "      <th></th>\n",
       "      <th></th>\n",
       "      <th></th>\n",
       "    </tr>\n",
       "  </thead>\n",
       "  <tbody>\n",
       "    <tr>\n",
       "      <td>car</td>\n",
       "      <td>4293.0</td>\n",
       "      <td>0.093175</td>\n",
       "      <td>0.290711</td>\n",
       "      <td>0.0</td>\n",
       "      <td>0.0</td>\n",
       "      <td>0.0</td>\n",
       "      <td>0.0</td>\n",
       "      <td>1.0</td>\n",
       "    </tr>\n",
       "    <tr>\n",
       "      <td>education</td>\n",
       "      <td>4004.0</td>\n",
       "      <td>0.092408</td>\n",
       "      <td>0.289637</td>\n",
       "      <td>0.0</td>\n",
       "      <td>0.0</td>\n",
       "      <td>0.0</td>\n",
       "      <td>0.0</td>\n",
       "      <td>1.0</td>\n",
       "    </tr>\n",
       "    <tr>\n",
       "      <td>estate</td>\n",
       "      <td>3856.0</td>\n",
       "      <td>0.076504</td>\n",
       "      <td>0.265838</td>\n",
       "      <td>0.0</td>\n",
       "      <td>0.0</td>\n",
       "      <td>0.0</td>\n",
       "      <td>0.0</td>\n",
       "      <td>1.0</td>\n",
       "    </tr>\n",
       "    <tr>\n",
       "      <td>house</td>\n",
       "      <td>4402.0</td>\n",
       "      <td>0.067015</td>\n",
       "      <td>0.250076</td>\n",
       "      <td>0.0</td>\n",
       "      <td>0.0</td>\n",
       "      <td>0.0</td>\n",
       "      <td>0.0</td>\n",
       "      <td>1.0</td>\n",
       "    </tr>\n",
       "    <tr>\n",
       "      <td>property</td>\n",
       "      <td>2534.0</td>\n",
       "      <td>0.074586</td>\n",
       "      <td>0.262773</td>\n",
       "      <td>0.0</td>\n",
       "      <td>0.0</td>\n",
       "      <td>0.0</td>\n",
       "      <td>0.0</td>\n",
       "      <td>1.0</td>\n",
       "    </tr>\n",
       "    <tr>\n",
       "      <td>wedding</td>\n",
       "      <td>2334.0</td>\n",
       "      <td>0.078835</td>\n",
       "      <td>0.269538</td>\n",
       "      <td>0.0</td>\n",
       "      <td>0.0</td>\n",
       "      <td>0.0</td>\n",
       "      <td>0.0</td>\n",
       "      <td>1.0</td>\n",
       "    </tr>\n",
       "  </tbody>\n",
       "</table>\n",
       "</div>"
      ],
      "text/plain": [
       "              count      mean       std  min  25%  50%  75%  max\n",
       "credit_type                                                     \n",
       "car          4293.0  0.093175  0.290711  0.0  0.0  0.0  0.0  1.0\n",
       "education    4004.0  0.092408  0.289637  0.0  0.0  0.0  0.0  1.0\n",
       "estate       3856.0  0.076504  0.265838  0.0  0.0  0.0  0.0  1.0\n",
       "house        4402.0  0.067015  0.250076  0.0  0.0  0.0  0.0  1.0\n",
       "property     2534.0  0.074586  0.262773  0.0  0.0  0.0  0.0  1.0\n",
       "wedding      2334.0  0.078835  0.269538  0.0  0.0  0.0  0.0  1.0"
      ]
     },
     "metadata": {},
     "output_type": "display_data"
    }
   ],
   "source": [
    "credit_type_grouped = credit_data.groupby('credit_type')['debt']\n",
    "display(credit_type_grouped.describe())"
   ]
  },
  {
   "cell_type": "markdown",
   "metadata": {},
   "source": [
    "*** While there are difficulties in repaying 'car' and 'education' credit types, 'estate', 'property', and especially 'house' loans are successfully repaid. "
   ]
  },
  {
   "cell_type": "markdown",
   "metadata": {},
   "source": [
    "#### Examining of 'education level' effect"
   ]
  },
  {
   "cell_type": "code",
   "execution_count": 61,
   "metadata": {},
   "outputs": [
    {
     "data": {
      "text/html": [
       "<div>\n",
       "<style scoped>\n",
       "    .dataframe tbody tr th:only-of-type {\n",
       "        vertical-align: middle;\n",
       "    }\n",
       "\n",
       "    .dataframe tbody tr th {\n",
       "        vertical-align: top;\n",
       "    }\n",
       "\n",
       "    .dataframe thead th {\n",
       "        text-align: right;\n",
       "    }\n",
       "</style>\n",
       "<table border=\"1\" class=\"dataframe\">\n",
       "  <thead>\n",
       "    <tr style=\"text-align: right;\">\n",
       "      <th></th>\n",
       "      <th>count</th>\n",
       "      <th>mean</th>\n",
       "      <th>std</th>\n",
       "      <th>min</th>\n",
       "      <th>25%</th>\n",
       "      <th>50%</th>\n",
       "      <th>75%</th>\n",
       "      <th>max</th>\n",
       "    </tr>\n",
       "    <tr>\n",
       "      <th>education</th>\n",
       "      <th></th>\n",
       "      <th></th>\n",
       "      <th></th>\n",
       "      <th></th>\n",
       "      <th></th>\n",
       "      <th></th>\n",
       "      <th></th>\n",
       "      <th></th>\n",
       "    </tr>\n",
       "  </thead>\n",
       "  <tbody>\n",
       "    <tr>\n",
       "      <td>bachelor's degree</td>\n",
       "      <td>5225.0</td>\n",
       "      <td>0.053014</td>\n",
       "      <td>0.224084</td>\n",
       "      <td>0.0</td>\n",
       "      <td>0.0</td>\n",
       "      <td>0.0</td>\n",
       "      <td>0.0</td>\n",
       "      <td>1.0</td>\n",
       "    </tr>\n",
       "    <tr>\n",
       "      <td>graduate degree</td>\n",
       "      <td>6.0</td>\n",
       "      <td>0.000000</td>\n",
       "      <td>0.000000</td>\n",
       "      <td>0.0</td>\n",
       "      <td>0.0</td>\n",
       "      <td>0.0</td>\n",
       "      <td>0.0</td>\n",
       "      <td>0.0</td>\n",
       "    </tr>\n",
       "    <tr>\n",
       "      <td>primary education</td>\n",
       "      <td>282.0</td>\n",
       "      <td>0.109929</td>\n",
       "      <td>0.313357</td>\n",
       "      <td>0.0</td>\n",
       "      <td>0.0</td>\n",
       "      <td>0.0</td>\n",
       "      <td>0.0</td>\n",
       "      <td>1.0</td>\n",
       "    </tr>\n",
       "    <tr>\n",
       "      <td>secondary education</td>\n",
       "      <td>15169.0</td>\n",
       "      <td>0.089459</td>\n",
       "      <td>0.285414</td>\n",
       "      <td>0.0</td>\n",
       "      <td>0.0</td>\n",
       "      <td>0.0</td>\n",
       "      <td>0.0</td>\n",
       "      <td>1.0</td>\n",
       "    </tr>\n",
       "    <tr>\n",
       "      <td>some college</td>\n",
       "      <td>741.0</td>\n",
       "      <td>0.091768</td>\n",
       "      <td>0.288893</td>\n",
       "      <td>0.0</td>\n",
       "      <td>0.0</td>\n",
       "      <td>0.0</td>\n",
       "      <td>0.0</td>\n",
       "      <td>1.0</td>\n",
       "    </tr>\n",
       "  </tbody>\n",
       "</table>\n",
       "</div>"
      ],
      "text/plain": [
       "                       count      mean       std  min  25%  50%  75%  max\n",
       "education                                                                \n",
       "bachelor's degree     5225.0  0.053014  0.224084  0.0  0.0  0.0  0.0  1.0\n",
       "graduate degree          6.0  0.000000  0.000000  0.0  0.0  0.0  0.0  0.0\n",
       "primary education      282.0  0.109929  0.313357  0.0  0.0  0.0  0.0  1.0\n",
       "secondary education  15169.0  0.089459  0.285414  0.0  0.0  0.0  0.0  1.0\n",
       "some college           741.0  0.091768  0.288893  0.0  0.0  0.0  0.0  1.0"
      ]
     },
     "metadata": {},
     "output_type": "display_data"
    }
   ],
   "source": [
    "education_grouped = credit_data.groupby('education')['debt']\n",
    "display(education_grouped.describe())"
   ]
  },
  {
   "cell_type": "markdown",
   "metadata": {},
   "source": [
    "We can categorize education level: 'low' and 'high'. Let's define a function and create new column named 'education_level'."
   ]
  },
  {
   "cell_type": "code",
   "execution_count": 62,
   "metadata": {},
   "outputs": [
    {
     "data": {
      "text/html": [
       "<div>\n",
       "<style scoped>\n",
       "    .dataframe tbody tr th:only-of-type {\n",
       "        vertical-align: middle;\n",
       "    }\n",
       "\n",
       "    .dataframe tbody tr th {\n",
       "        vertical-align: top;\n",
       "    }\n",
       "\n",
       "    .dataframe thead th {\n",
       "        text-align: right;\n",
       "    }\n",
       "</style>\n",
       "<table border=\"1\" class=\"dataframe\">\n",
       "  <thead>\n",
       "    <tr style=\"text-align: right;\">\n",
       "      <th></th>\n",
       "      <th>gender</th>\n",
       "      <th>age</th>\n",
       "      <th>job</th>\n",
       "      <th>years_employed</th>\n",
       "      <th>education</th>\n",
       "      <th>education_id</th>\n",
       "      <th>marital_status</th>\n",
       "      <th>marital_status_id</th>\n",
       "      <th>kids</th>\n",
       "      <th>credit_type</th>\n",
       "      <th>income</th>\n",
       "      <th>debt</th>\n",
       "      <th>age_group</th>\n",
       "      <th>income_level</th>\n",
       "      <th>education_level</th>\n",
       "    </tr>\n",
       "  </thead>\n",
       "  <tbody>\n",
       "    <tr>\n",
       "      <td>0</td>\n",
       "      <td>F</td>\n",
       "      <td>42</td>\n",
       "      <td>employee</td>\n",
       "      <td>23</td>\n",
       "      <td>bachelor's degree</td>\n",
       "      <td>3</td>\n",
       "      <td>married</td>\n",
       "      <td>0</td>\n",
       "      <td>1</td>\n",
       "      <td>house</td>\n",
       "      <td>40620</td>\n",
       "      <td>0</td>\n",
       "      <td>middle_age</td>\n",
       "      <td>high</td>\n",
       "      <td>high</td>\n",
       "    </tr>\n",
       "    <tr>\n",
       "      <td>1</td>\n",
       "      <td>F</td>\n",
       "      <td>36</td>\n",
       "      <td>employee</td>\n",
       "      <td>11</td>\n",
       "      <td>secondary education</td>\n",
       "      <td>1</td>\n",
       "      <td>married</td>\n",
       "      <td>0</td>\n",
       "      <td>1</td>\n",
       "      <td>car</td>\n",
       "      <td>17932</td>\n",
       "      <td>0</td>\n",
       "      <td>young</td>\n",
       "      <td>low</td>\n",
       "      <td>low</td>\n",
       "    </tr>\n",
       "    <tr>\n",
       "      <td>2</td>\n",
       "      <td>M</td>\n",
       "      <td>33</td>\n",
       "      <td>employee</td>\n",
       "      <td>15</td>\n",
       "      <td>secondary education</td>\n",
       "      <td>1</td>\n",
       "      <td>married</td>\n",
       "      <td>0</td>\n",
       "      <td>0</td>\n",
       "      <td>house</td>\n",
       "      <td>23341</td>\n",
       "      <td>0</td>\n",
       "      <td>young</td>\n",
       "      <td>middle</td>\n",
       "      <td>low</td>\n",
       "    </tr>\n",
       "    <tr>\n",
       "      <td>3</td>\n",
       "      <td>M</td>\n",
       "      <td>32</td>\n",
       "      <td>employee</td>\n",
       "      <td>11</td>\n",
       "      <td>secondary education</td>\n",
       "      <td>1</td>\n",
       "      <td>married</td>\n",
       "      <td>0</td>\n",
       "      <td>3</td>\n",
       "      <td>education</td>\n",
       "      <td>42820</td>\n",
       "      <td>0</td>\n",
       "      <td>young</td>\n",
       "      <td>high</td>\n",
       "      <td>low</td>\n",
       "    </tr>\n",
       "    <tr>\n",
       "      <td>4</td>\n",
       "      <td>F</td>\n",
       "      <td>53</td>\n",
       "      <td>retiree</td>\n",
       "      <td>6</td>\n",
       "      <td>secondary education</td>\n",
       "      <td>1</td>\n",
       "      <td>civil partnership</td>\n",
       "      <td>1</td>\n",
       "      <td>0</td>\n",
       "      <td>wedding</td>\n",
       "      <td>25378</td>\n",
       "      <td>0</td>\n",
       "      <td>middle_age</td>\n",
       "      <td>middle</td>\n",
       "      <td>low</td>\n",
       "    </tr>\n",
       "  </tbody>\n",
       "</table>\n",
       "</div>"
      ],
      "text/plain": [
       "  gender  age       job  years_employed            education  education_id  \\\n",
       "0      F   42  employee              23    bachelor's degree             3   \n",
       "1      F   36  employee              11  secondary education             1   \n",
       "2      M   33  employee              15  secondary education             1   \n",
       "3      M   32  employee              11  secondary education             1   \n",
       "4      F   53   retiree               6  secondary education             1   \n",
       "\n",
       "      marital_status  marital_status_id  kids credit_type  income  debt  \\\n",
       "0            married                  0     1       house   40620     0   \n",
       "1            married                  0     1         car   17932     0   \n",
       "2            married                  0     0       house   23341     0   \n",
       "3            married                  0     3   education   42820     0   \n",
       "4  civil partnership                  1     0     wedding   25378     0   \n",
       "\n",
       "    age_group income_level education_level  \n",
       "0  middle_age         high            high  \n",
       "1       young          low             low  \n",
       "2       young       middle             low  \n",
       "3       young         high             low  \n",
       "4  middle_age       middle             low  "
      ]
     },
     "metadata": {},
     "output_type": "display_data"
    }
   ],
   "source": [
    "def education_level_define(row):\n",
    "    \n",
    "    ident = row['education_id']\n",
    "    \n",
    "    if ident < 2:\n",
    "        return 'low'\n",
    "    \n",
    "    else:\n",
    "        return 'high'\n",
    "    \n",
    "credit_data['education_level'] = credit_data.apply(education_level_define, axis=1)\n",
    "display(credit_data.head())"
   ]
  },
  {
   "cell_type": "markdown",
   "metadata": {},
   "source": [
    "Let's examine again for education_level."
   ]
  },
  {
   "cell_type": "code",
   "execution_count": 63,
   "metadata": {},
   "outputs": [
    {
     "data": {
      "text/html": [
       "<div>\n",
       "<style scoped>\n",
       "    .dataframe tbody tr th:only-of-type {\n",
       "        vertical-align: middle;\n",
       "    }\n",
       "\n",
       "    .dataframe tbody tr th {\n",
       "        vertical-align: top;\n",
       "    }\n",
       "\n",
       "    .dataframe thead th {\n",
       "        text-align: right;\n",
       "    }\n",
       "</style>\n",
       "<table border=\"1\" class=\"dataframe\">\n",
       "  <thead>\n",
       "    <tr style=\"text-align: right;\">\n",
       "      <th></th>\n",
       "      <th>count</th>\n",
       "      <th>mean</th>\n",
       "      <th>std</th>\n",
       "      <th>min</th>\n",
       "      <th>25%</th>\n",
       "      <th>50%</th>\n",
       "      <th>75%</th>\n",
       "      <th>max</th>\n",
       "    </tr>\n",
       "    <tr>\n",
       "      <th>education_level</th>\n",
       "      <th></th>\n",
       "      <th></th>\n",
       "      <th></th>\n",
       "      <th></th>\n",
       "      <th></th>\n",
       "      <th></th>\n",
       "      <th></th>\n",
       "      <th></th>\n",
       "    </tr>\n",
       "  </thead>\n",
       "  <tbody>\n",
       "    <tr>\n",
       "      <td>high</td>\n",
       "      <td>5972.0</td>\n",
       "      <td>0.057770</td>\n",
       "      <td>0.233327</td>\n",
       "      <td>0.0</td>\n",
       "      <td>0.0</td>\n",
       "      <td>0.0</td>\n",
       "      <td>0.0</td>\n",
       "      <td>1.0</td>\n",
       "    </tr>\n",
       "    <tr>\n",
       "      <td>low</td>\n",
       "      <td>15451.0</td>\n",
       "      <td>0.089832</td>\n",
       "      <td>0.285951</td>\n",
       "      <td>0.0</td>\n",
       "      <td>0.0</td>\n",
       "      <td>0.0</td>\n",
       "      <td>0.0</td>\n",
       "      <td>1.0</td>\n",
       "    </tr>\n",
       "  </tbody>\n",
       "</table>\n",
       "</div>"
      ],
      "text/plain": [
       "                   count      mean       std  min  25%  50%  75%  max\n",
       "education_level                                                      \n",
       "high              5972.0  0.057770  0.233327  0.0  0.0  0.0  0.0  1.0\n",
       "low              15451.0  0.089832  0.285951  0.0  0.0  0.0  0.0  1.0"
      ]
     },
     "metadata": {},
     "output_type": "display_data"
    }
   ],
   "source": [
    "education_level_grouped = credit_data.groupby('education_level')['debt']\n",
    "display(education_level_grouped.describe())"
   ]
  },
  {
   "cell_type": "markdown",
   "metadata": {},
   "source": [
    "Apparently, education level is an important factor in loan repayment."
   ]
  },
  {
   "cell_type": "markdown",
   "metadata": {},
   "source": [
    "### New Table with required columns"
   ]
  },
  {
   "cell_type": "markdown",
   "metadata": {},
   "source": [
    "We are going to focus our goals now. First we will create a new table from old and get only related columns. Then we will categorize each column 3 category. After that we will create again a new table with new categories."
   ]
  },
  {
   "cell_type": "markdown",
   "metadata": {},
   "source": [
    "Let's make a summary table by pulling only necessary columns from our first table."
   ]
  },
  {
   "cell_type": "code",
   "execution_count": 64,
   "metadata": {},
   "outputs": [
    {
     "data": {
      "text/html": [
       "<div>\n",
       "<style scoped>\n",
       "    .dataframe tbody tr th:only-of-type {\n",
       "        vertical-align: middle;\n",
       "    }\n",
       "\n",
       "    .dataframe tbody tr th {\n",
       "        vertical-align: top;\n",
       "    }\n",
       "\n",
       "    .dataframe thead th {\n",
       "        text-align: right;\n",
       "    }\n",
       "</style>\n",
       "<table border=\"1\" class=\"dataframe\">\n",
       "  <thead>\n",
       "    <tr style=\"text-align: right;\">\n",
       "      <th></th>\n",
       "      <th>marital_status</th>\n",
       "      <th>marital_status_id</th>\n",
       "      <th>kids</th>\n",
       "      <th>income</th>\n",
       "      <th>income_level</th>\n",
       "      <th>credit_type</th>\n",
       "      <th>debt</th>\n",
       "    </tr>\n",
       "  </thead>\n",
       "  <tbody>\n",
       "    <tr>\n",
       "      <td>0</td>\n",
       "      <td>married</td>\n",
       "      <td>0</td>\n",
       "      <td>1</td>\n",
       "      <td>40620</td>\n",
       "      <td>high</td>\n",
       "      <td>house</td>\n",
       "      <td>0</td>\n",
       "    </tr>\n",
       "    <tr>\n",
       "      <td>1</td>\n",
       "      <td>married</td>\n",
       "      <td>0</td>\n",
       "      <td>1</td>\n",
       "      <td>17932</td>\n",
       "      <td>low</td>\n",
       "      <td>car</td>\n",
       "      <td>0</td>\n",
       "    </tr>\n",
       "    <tr>\n",
       "      <td>2</td>\n",
       "      <td>married</td>\n",
       "      <td>0</td>\n",
       "      <td>0</td>\n",
       "      <td>23341</td>\n",
       "      <td>middle</td>\n",
       "      <td>house</td>\n",
       "      <td>0</td>\n",
       "    </tr>\n",
       "    <tr>\n",
       "      <td>3</td>\n",
       "      <td>married</td>\n",
       "      <td>0</td>\n",
       "      <td>3</td>\n",
       "      <td>42820</td>\n",
       "      <td>high</td>\n",
       "      <td>education</td>\n",
       "      <td>0</td>\n",
       "    </tr>\n",
       "    <tr>\n",
       "      <td>4</td>\n",
       "      <td>civil partnership</td>\n",
       "      <td>1</td>\n",
       "      <td>0</td>\n",
       "      <td>25378</td>\n",
       "      <td>middle</td>\n",
       "      <td>wedding</td>\n",
       "      <td>0</td>\n",
       "    </tr>\n",
       "    <tr>\n",
       "      <td>...</td>\n",
       "      <td>...</td>\n",
       "      <td>...</td>\n",
       "      <td>...</td>\n",
       "      <td>...</td>\n",
       "      <td>...</td>\n",
       "      <td>...</td>\n",
       "      <td>...</td>\n",
       "    </tr>\n",
       "    <tr>\n",
       "      <td>21418</td>\n",
       "      <td>civil partnership</td>\n",
       "      <td>1</td>\n",
       "      <td>1</td>\n",
       "      <td>35966</td>\n",
       "      <td>middle</td>\n",
       "      <td>house</td>\n",
       "      <td>0</td>\n",
       "    </tr>\n",
       "    <tr>\n",
       "      <td>21419</td>\n",
       "      <td>married</td>\n",
       "      <td>0</td>\n",
       "      <td>0</td>\n",
       "      <td>24959</td>\n",
       "      <td>middle</td>\n",
       "      <td>car</td>\n",
       "      <td>0</td>\n",
       "    </tr>\n",
       "    <tr>\n",
       "      <td>21420</td>\n",
       "      <td>civil partnership</td>\n",
       "      <td>1</td>\n",
       "      <td>1</td>\n",
       "      <td>14347</td>\n",
       "      <td>low</td>\n",
       "      <td>property</td>\n",
       "      <td>1</td>\n",
       "    </tr>\n",
       "    <tr>\n",
       "      <td>21421</td>\n",
       "      <td>married</td>\n",
       "      <td>0</td>\n",
       "      <td>3</td>\n",
       "      <td>39054</td>\n",
       "      <td>middle</td>\n",
       "      <td>car</td>\n",
       "      <td>1</td>\n",
       "    </tr>\n",
       "    <tr>\n",
       "      <td>21422</td>\n",
       "      <td>married</td>\n",
       "      <td>0</td>\n",
       "      <td>2</td>\n",
       "      <td>13127</td>\n",
       "      <td>low</td>\n",
       "      <td>car</td>\n",
       "      <td>0</td>\n",
       "    </tr>\n",
       "  </tbody>\n",
       "</table>\n",
       "<p>21423 rows × 7 columns</p>\n",
       "</div>"
      ],
      "text/plain": [
       "          marital_status  marital_status_id  kids  income income_level  \\\n",
       "0                married                  0     1   40620         high   \n",
       "1                married                  0     1   17932          low   \n",
       "2                married                  0     0   23341       middle   \n",
       "3                married                  0     3   42820         high   \n",
       "4      civil partnership                  1     0   25378       middle   \n",
       "...                  ...                ...   ...     ...          ...   \n",
       "21418  civil partnership                  1     1   35966       middle   \n",
       "21419            married                  0     0   24959       middle   \n",
       "21420  civil partnership                  1     1   14347          low   \n",
       "21421            married                  0     3   39054       middle   \n",
       "21422            married                  0     2   13127          low   \n",
       "\n",
       "      credit_type  debt  \n",
       "0           house     0  \n",
       "1             car     0  \n",
       "2           house     0  \n",
       "3       education     0  \n",
       "4         wedding     0  \n",
       "...           ...   ...  \n",
       "21418       house     0  \n",
       "21419         car     0  \n",
       "21420    property     1  \n",
       "21421         car     1  \n",
       "21422         car     0  \n",
       "\n",
       "[21423 rows x 7 columns]"
      ]
     },
     "metadata": {},
     "output_type": "display_data"
    }
   ],
   "source": [
    "new_credit_data = pd.DataFrame(credit_data, columns=['marital_status', 'marital_status_id', 'kids', 'income', 'income_level', 'credit_type', 'debt'])\n",
    "display(new_credit_data)"
   ]
  },
  {
   "cell_type": "markdown",
   "metadata": {},
   "source": [
    "We need some more editing and get new columns, but not now."
   ]
  },
  {
   "cell_type": "markdown",
   "metadata": {},
   "source": [
    "#### Marital status and Kids Effects on Debt Situation"
   ]
  },
  {
   "cell_type": "code",
   "execution_count": 65,
   "metadata": {},
   "outputs": [
    {
     "data": {
      "text/plain": [
       "marital_status_id  kids\n",
       "0                  0       7469\n",
       "                   1       3004\n",
       "                   2       1575\n",
       "                   3        247\n",
       "                   4         29\n",
       "                   5          7\n",
       "1                  0       2738\n",
       "                   1        997\n",
       "                   2        354\n",
       "                   3         56\n",
       "                   4          8\n",
       "                   5          2\n",
       "2                  0        843\n",
       "                   1         81\n",
       "                   2         24\n",
       "                   3          6\n",
       "                   4          1\n",
       "3                  0        777\n",
       "                   1        315\n",
       "                   2         81\n",
       "                   3         11\n",
       "                   4          1\n",
       "4                  0       2252\n",
       "                   1        452\n",
       "                   2         83\n",
       "                   3          8\n",
       "                   4          2\n",
       "Name: kids, dtype: int64"
      ]
     },
     "execution_count": 65,
     "metadata": {},
     "output_type": "execute_result"
    }
   ],
   "source": [
    "new_credit_data.groupby('marital_status_id')['kids'].value_counts()"
   ]
  },
  {
   "cell_type": "markdown",
   "metadata": {},
   "source": [
    "This table shows us only total numbers by each category in debt. Let's define a function to categorize marital and kids status separately and create with them new columns."
   ]
  },
  {
   "cell_type": "code",
   "execution_count": 66,
   "metadata": {},
   "outputs": [
    {
     "data": {
      "text/html": [
       "<div>\n",
       "<style scoped>\n",
       "    .dataframe tbody tr th:only-of-type {\n",
       "        vertical-align: middle;\n",
       "    }\n",
       "\n",
       "    .dataframe tbody tr th {\n",
       "        vertical-align: top;\n",
       "    }\n",
       "\n",
       "    .dataframe thead th {\n",
       "        text-align: right;\n",
       "    }\n",
       "</style>\n",
       "<table border=\"1\" class=\"dataframe\">\n",
       "  <thead>\n",
       "    <tr style=\"text-align: right;\">\n",
       "      <th></th>\n",
       "      <th>marital_status</th>\n",
       "      <th>marital_status_id</th>\n",
       "      <th>kids</th>\n",
       "      <th>income</th>\n",
       "      <th>income_level</th>\n",
       "      <th>credit_type</th>\n",
       "      <th>debt</th>\n",
       "      <th>kids_status</th>\n",
       "    </tr>\n",
       "  </thead>\n",
       "  <tbody>\n",
       "    <tr>\n",
       "      <td>21413</td>\n",
       "      <td>together</td>\n",
       "      <td>0</td>\n",
       "      <td>1</td>\n",
       "      <td>17517</td>\n",
       "      <td>low</td>\n",
       "      <td>education</td>\n",
       "      <td>1</td>\n",
       "      <td>Yes</td>\n",
       "    </tr>\n",
       "    <tr>\n",
       "      <td>21414</td>\n",
       "      <td>together</td>\n",
       "      <td>0</td>\n",
       "      <td>0</td>\n",
       "      <td>51649</td>\n",
       "      <td>high</td>\n",
       "      <td>house</td>\n",
       "      <td>0</td>\n",
       "      <td>No</td>\n",
       "    </tr>\n",
       "    <tr>\n",
       "      <td>21415</td>\n",
       "      <td>together</td>\n",
       "      <td>1</td>\n",
       "      <td>0</td>\n",
       "      <td>28489</td>\n",
       "      <td>middle</td>\n",
       "      <td>car</td>\n",
       "      <td>0</td>\n",
       "      <td>No</td>\n",
       "    </tr>\n",
       "    <tr>\n",
       "      <td>21416</td>\n",
       "      <td>together</td>\n",
       "      <td>0</td>\n",
       "      <td>0</td>\n",
       "      <td>24618</td>\n",
       "      <td>middle</td>\n",
       "      <td>car</td>\n",
       "      <td>0</td>\n",
       "      <td>No</td>\n",
       "    </tr>\n",
       "    <tr>\n",
       "      <td>21417</td>\n",
       "      <td>alone</td>\n",
       "      <td>3</td>\n",
       "      <td>1</td>\n",
       "      <td>18551</td>\n",
       "      <td>low</td>\n",
       "      <td>estate</td>\n",
       "      <td>0</td>\n",
       "      <td>Yes</td>\n",
       "    </tr>\n",
       "    <tr>\n",
       "      <td>21418</td>\n",
       "      <td>together</td>\n",
       "      <td>1</td>\n",
       "      <td>1</td>\n",
       "      <td>35966</td>\n",
       "      <td>middle</td>\n",
       "      <td>house</td>\n",
       "      <td>0</td>\n",
       "      <td>Yes</td>\n",
       "    </tr>\n",
       "    <tr>\n",
       "      <td>21419</td>\n",
       "      <td>together</td>\n",
       "      <td>0</td>\n",
       "      <td>0</td>\n",
       "      <td>24959</td>\n",
       "      <td>middle</td>\n",
       "      <td>car</td>\n",
       "      <td>0</td>\n",
       "      <td>No</td>\n",
       "    </tr>\n",
       "    <tr>\n",
       "      <td>21420</td>\n",
       "      <td>together</td>\n",
       "      <td>1</td>\n",
       "      <td>1</td>\n",
       "      <td>14347</td>\n",
       "      <td>low</td>\n",
       "      <td>property</td>\n",
       "      <td>1</td>\n",
       "      <td>Yes</td>\n",
       "    </tr>\n",
       "    <tr>\n",
       "      <td>21421</td>\n",
       "      <td>together</td>\n",
       "      <td>0</td>\n",
       "      <td>3</td>\n",
       "      <td>39054</td>\n",
       "      <td>middle</td>\n",
       "      <td>car</td>\n",
       "      <td>1</td>\n",
       "      <td>Yes</td>\n",
       "    </tr>\n",
       "    <tr>\n",
       "      <td>21422</td>\n",
       "      <td>together</td>\n",
       "      <td>0</td>\n",
       "      <td>2</td>\n",
       "      <td>13127</td>\n",
       "      <td>low</td>\n",
       "      <td>car</td>\n",
       "      <td>0</td>\n",
       "      <td>Yes</td>\n",
       "    </tr>\n",
       "  </tbody>\n",
       "</table>\n",
       "</div>"
      ],
      "text/plain": [
       "      marital_status  marital_status_id  kids  income income_level  \\\n",
       "21413       together                  0     1   17517          low   \n",
       "21414       together                  0     0   51649         high   \n",
       "21415       together                  1     0   28489       middle   \n",
       "21416       together                  0     0   24618       middle   \n",
       "21417          alone                  3     1   18551          low   \n",
       "21418       together                  1     1   35966       middle   \n",
       "21419       together                  0     0   24959       middle   \n",
       "21420       together                  1     1   14347          low   \n",
       "21421       together                  0     3   39054       middle   \n",
       "21422       together                  0     2   13127          low   \n",
       "\n",
       "      credit_type  debt kids_status  \n",
       "21413   education     1         Yes  \n",
       "21414       house     0          No  \n",
       "21415         car     0          No  \n",
       "21416         car     0          No  \n",
       "21417      estate     0         Yes  \n",
       "21418       house     0         Yes  \n",
       "21419         car     0          No  \n",
       "21420    property     1         Yes  \n",
       "21421         car     1         Yes  \n",
       "21422         car     0         Yes  "
      ]
     },
     "metadata": {},
     "output_type": "display_data"
    }
   ],
   "source": [
    "def marital_group(row):\n",
    "    \n",
    "    marital = row['marital_status_id']\n",
    "    \n",
    "    if marital < 2:\n",
    "        return 'together'\n",
    "\n",
    "    else:\n",
    "        return 'alone'\n",
    "        \n",
    "        \n",
    "def kids_group(row):\n",
    "    \n",
    "    kids = row['kids']\n",
    "    \n",
    "    if kids == 0:\n",
    "        return 'No'\n",
    "    \n",
    "    else:\n",
    "        return 'Yes'\n",
    "    \n",
    "        \n",
    "new_credit_data['marital_status'] = new_credit_data.apply(marital_group, axis=1)\n",
    "new_credit_data['kids_status'] = new_credit_data.apply(kids_group, axis=1)\n",
    "display(new_credit_data.tail(10))"
   ]
  },
  {
   "cell_type": "markdown",
   "metadata": {},
   "source": [
    "Now we are getting a new table with only required columns and naming 'last_credit_data'"
   ]
  },
  {
   "cell_type": "code",
   "execution_count": 67,
   "metadata": {},
   "outputs": [
    {
     "data": {
      "text/html": [
       "<div>\n",
       "<style scoped>\n",
       "    .dataframe tbody tr th:only-of-type {\n",
       "        vertical-align: middle;\n",
       "    }\n",
       "\n",
       "    .dataframe tbody tr th {\n",
       "        vertical-align: top;\n",
       "    }\n",
       "\n",
       "    .dataframe thead th {\n",
       "        text-align: right;\n",
       "    }\n",
       "</style>\n",
       "<table border=\"1\" class=\"dataframe\">\n",
       "  <thead>\n",
       "    <tr style=\"text-align: right;\">\n",
       "      <th></th>\n",
       "      <th>marital_status</th>\n",
       "      <th>kids_status</th>\n",
       "      <th>income_level</th>\n",
       "      <th>credit_type</th>\n",
       "      <th>debt</th>\n",
       "    </tr>\n",
       "  </thead>\n",
       "  <tbody>\n",
       "    <tr>\n",
       "      <td>0</td>\n",
       "      <td>together</td>\n",
       "      <td>Yes</td>\n",
       "      <td>high</td>\n",
       "      <td>house</td>\n",
       "      <td>0</td>\n",
       "    </tr>\n",
       "    <tr>\n",
       "      <td>1</td>\n",
       "      <td>together</td>\n",
       "      <td>Yes</td>\n",
       "      <td>low</td>\n",
       "      <td>car</td>\n",
       "      <td>0</td>\n",
       "    </tr>\n",
       "    <tr>\n",
       "      <td>2</td>\n",
       "      <td>together</td>\n",
       "      <td>No</td>\n",
       "      <td>middle</td>\n",
       "      <td>house</td>\n",
       "      <td>0</td>\n",
       "    </tr>\n",
       "    <tr>\n",
       "      <td>3</td>\n",
       "      <td>together</td>\n",
       "      <td>Yes</td>\n",
       "      <td>high</td>\n",
       "      <td>education</td>\n",
       "      <td>0</td>\n",
       "    </tr>\n",
       "    <tr>\n",
       "      <td>4</td>\n",
       "      <td>together</td>\n",
       "      <td>No</td>\n",
       "      <td>middle</td>\n",
       "      <td>wedding</td>\n",
       "      <td>0</td>\n",
       "    </tr>\n",
       "  </tbody>\n",
       "</table>\n",
       "</div>"
      ],
      "text/plain": [
       "  marital_status kids_status income_level credit_type  debt\n",
       "0       together         Yes         high       house     0\n",
       "1       together         Yes          low         car     0\n",
       "2       together          No       middle       house     0\n",
       "3       together         Yes         high   education     0\n",
       "4       together          No       middle     wedding     0"
      ]
     },
     "metadata": {},
     "output_type": "display_data"
    }
   ],
   "source": [
    "last_credit_data = pd.DataFrame(new_credit_data, columns=['marital_status', 'kids_status', 'income_level', 'credit_type', 'debt'])\n",
    "display(last_credit_data.head())"
   ]
  },
  {
   "cell_type": "markdown",
   "metadata": {},
   "source": [
    "We are going to categorize again by each column and see the debt rates."
   ]
  },
  {
   "cell_type": "markdown",
   "metadata": {},
   "source": [
    "#### Maritial Status and Debt Relation"
   ]
  },
  {
   "cell_type": "markdown",
   "metadata": {},
   "source": [
    " We are grouping by 'maritial_status' on 'debt' column."
   ]
  },
  {
   "cell_type": "code",
   "execution_count": 68,
   "metadata": {},
   "outputs": [
    {
     "data": {
      "text/html": [
       "<div>\n",
       "<style scoped>\n",
       "    .dataframe tbody tr th:only-of-type {\n",
       "        vertical-align: middle;\n",
       "    }\n",
       "\n",
       "    .dataframe tbody tr th {\n",
       "        vertical-align: top;\n",
       "    }\n",
       "\n",
       "    .dataframe thead th {\n",
       "        text-align: right;\n",
       "    }\n",
       "</style>\n",
       "<table border=\"1\" class=\"dataframe\">\n",
       "  <thead>\n",
       "    <tr style=\"text-align: right;\">\n",
       "      <th></th>\n",
       "      <th>count</th>\n",
       "      <th>mean</th>\n",
       "      <th>std</th>\n",
       "      <th>min</th>\n",
       "      <th>25%</th>\n",
       "      <th>50%</th>\n",
       "      <th>75%</th>\n",
       "      <th>max</th>\n",
       "    </tr>\n",
       "    <tr>\n",
       "      <th>marital_status</th>\n",
       "      <th></th>\n",
       "      <th></th>\n",
       "      <th></th>\n",
       "      <th></th>\n",
       "      <th></th>\n",
       "      <th></th>\n",
       "      <th></th>\n",
       "      <th></th>\n",
       "    </tr>\n",
       "  </thead>\n",
       "  <tbody>\n",
       "    <tr>\n",
       "      <td>alone</td>\n",
       "      <td>4937.0</td>\n",
       "      <td>0.085072</td>\n",
       "      <td>0.279017</td>\n",
       "      <td>0.0</td>\n",
       "      <td>0.0</td>\n",
       "      <td>0.0</td>\n",
       "      <td>0.0</td>\n",
       "      <td>1.0</td>\n",
       "    </tr>\n",
       "    <tr>\n",
       "      <td>together</td>\n",
       "      <td>16486.0</td>\n",
       "      <td>0.079643</td>\n",
       "      <td>0.270748</td>\n",
       "      <td>0.0</td>\n",
       "      <td>0.0</td>\n",
       "      <td>0.0</td>\n",
       "      <td>0.0</td>\n",
       "      <td>1.0</td>\n",
       "    </tr>\n",
       "  </tbody>\n",
       "</table>\n",
       "</div>"
      ],
      "text/plain": [
       "                  count      mean       std  min  25%  50%  75%  max\n",
       "marital_status                                                      \n",
       "alone            4937.0  0.085072  0.279017  0.0  0.0  0.0  0.0  1.0\n",
       "together        16486.0  0.079643  0.270748  0.0  0.0  0.0  0.0  1.0"
      ]
     },
     "metadata": {},
     "output_type": "display_data"
    }
   ],
   "source": [
    "marital_debt_data = last_credit_data.groupby('marital_status')['debt']\n",
    "display(marital_debt_data.describe())"
   ]
  },
  {
   "cell_type": "markdown",
   "metadata": {},
   "source": [
    "*** The debt ratio of families living together is almost the same with the average, while the debt ratio of those living alone is above the general average. It can only slightly reduce the credit score of the alone customers."
   ]
  },
  {
   "cell_type": "markdown",
   "metadata": {},
   "source": [
    "#### Kids status and Debt Relation"
   ]
  },
  {
   "cell_type": "markdown",
   "metadata": {},
   "source": [
    " We are grouping our data by 'kids_status' on 'debt' column."
   ]
  },
  {
   "cell_type": "code",
   "execution_count": 69,
   "metadata": {},
   "outputs": [
    {
     "data": {
      "text/html": [
       "<div>\n",
       "<style scoped>\n",
       "    .dataframe tbody tr th:only-of-type {\n",
       "        vertical-align: middle;\n",
       "    }\n",
       "\n",
       "    .dataframe tbody tr th {\n",
       "        vertical-align: top;\n",
       "    }\n",
       "\n",
       "    .dataframe thead th {\n",
       "        text-align: right;\n",
       "    }\n",
       "</style>\n",
       "<table border=\"1\" class=\"dataframe\">\n",
       "  <thead>\n",
       "    <tr style=\"text-align: right;\">\n",
       "      <th></th>\n",
       "      <th>count</th>\n",
       "      <th>mean</th>\n",
       "      <th>std</th>\n",
       "      <th>min</th>\n",
       "      <th>25%</th>\n",
       "      <th>50%</th>\n",
       "      <th>75%</th>\n",
       "      <th>max</th>\n",
       "    </tr>\n",
       "    <tr>\n",
       "      <th>kids_status</th>\n",
       "      <th></th>\n",
       "      <th></th>\n",
       "      <th></th>\n",
       "      <th></th>\n",
       "      <th></th>\n",
       "      <th></th>\n",
       "      <th></th>\n",
       "      <th></th>\n",
       "    </tr>\n",
       "  </thead>\n",
       "  <tbody>\n",
       "    <tr>\n",
       "      <td>No</td>\n",
       "      <td>14079.0</td>\n",
       "      <td>0.075147</td>\n",
       "      <td>0.263638</td>\n",
       "      <td>0.0</td>\n",
       "      <td>0.0</td>\n",
       "      <td>0.0</td>\n",
       "      <td>0.0</td>\n",
       "      <td>1.0</td>\n",
       "    </tr>\n",
       "    <tr>\n",
       "      <td>Yes</td>\n",
       "      <td>7344.0</td>\n",
       "      <td>0.091912</td>\n",
       "      <td>0.288921</td>\n",
       "      <td>0.0</td>\n",
       "      <td>0.0</td>\n",
       "      <td>0.0</td>\n",
       "      <td>0.0</td>\n",
       "      <td>1.0</td>\n",
       "    </tr>\n",
       "  </tbody>\n",
       "</table>\n",
       "</div>"
      ],
      "text/plain": [
       "               count      mean       std  min  25%  50%  75%  max\n",
       "kids_status                                                      \n",
       "No           14079.0  0.075147  0.263638  0.0  0.0  0.0  0.0  1.0\n",
       "Yes           7344.0  0.091912  0.288921  0.0  0.0  0.0  0.0  1.0"
      ]
     },
     "metadata": {},
     "output_type": "display_data"
    }
   ],
   "source": [
    "kids_debt_data = last_credit_data.groupby('kids_status')['debt']\n",
    "display(kids_debt_data.describe())"
   ]
  },
  {
   "cell_type": "markdown",
   "metadata": {},
   "source": [
    "*** There are about 14.000 people who don't have kids, it is almost 2 out of 3. Their debt rate is lower than average. On the contrary, people who have kids less reliable on repayment of loan. While their amount is about 7.000 (almost 1 out of 3), their debt rate is more than 1% of average debt rate. It is about 80 people. But if we compare it to those who do not have children, numbers increase and then it makes sense. It shows us having kids has negative effect on repayment of loan."
   ]
  },
  {
   "cell_type": "markdown",
   "metadata": {},
   "source": [
    "#### Income Level and Debt Relation"
   ]
  },
  {
   "cell_type": "code",
   "execution_count": 70,
   "metadata": {},
   "outputs": [
    {
     "data": {
      "text/html": [
       "<div>\n",
       "<style scoped>\n",
       "    .dataframe tbody tr th:only-of-type {\n",
       "        vertical-align: middle;\n",
       "    }\n",
       "\n",
       "    .dataframe tbody tr th {\n",
       "        vertical-align: top;\n",
       "    }\n",
       "\n",
       "    .dataframe thead th {\n",
       "        text-align: right;\n",
       "    }\n",
       "</style>\n",
       "<table border=\"1\" class=\"dataframe\">\n",
       "  <thead>\n",
       "    <tr style=\"text-align: right;\">\n",
       "      <th></th>\n",
       "      <th>count</th>\n",
       "      <th>mean</th>\n",
       "      <th>std</th>\n",
       "      <th>min</th>\n",
       "      <th>25%</th>\n",
       "      <th>50%</th>\n",
       "      <th>75%</th>\n",
       "      <th>max</th>\n",
       "    </tr>\n",
       "    <tr>\n",
       "      <th>income_level</th>\n",
       "      <th></th>\n",
       "      <th></th>\n",
       "      <th></th>\n",
       "      <th></th>\n",
       "      <th></th>\n",
       "      <th></th>\n",
       "      <th></th>\n",
       "      <th></th>\n",
       "    </tr>\n",
       "  </thead>\n",
       "  <tbody>\n",
       "    <tr>\n",
       "      <td>high</td>\n",
       "      <td>2799.0</td>\n",
       "      <td>0.068953</td>\n",
       "      <td>0.253420</td>\n",
       "      <td>0.0</td>\n",
       "      <td>0.0</td>\n",
       "      <td>0.0</td>\n",
       "      <td>0.0</td>\n",
       "      <td>1.0</td>\n",
       "    </tr>\n",
       "    <tr>\n",
       "      <td>low</td>\n",
       "      <td>7333.0</td>\n",
       "      <td>0.082504</td>\n",
       "      <td>0.275149</td>\n",
       "      <td>0.0</td>\n",
       "      <td>0.0</td>\n",
       "      <td>0.0</td>\n",
       "      <td>0.0</td>\n",
       "      <td>1.0</td>\n",
       "    </tr>\n",
       "    <tr>\n",
       "      <td>middle</td>\n",
       "      <td>11291.0</td>\n",
       "      <td>0.082809</td>\n",
       "      <td>0.275606</td>\n",
       "      <td>0.0</td>\n",
       "      <td>0.0</td>\n",
       "      <td>0.0</td>\n",
       "      <td>0.0</td>\n",
       "      <td>1.0</td>\n",
       "    </tr>\n",
       "  </tbody>\n",
       "</table>\n",
       "</div>"
      ],
      "text/plain": [
       "                count      mean       std  min  25%  50%  75%  max\n",
       "income_level                                                      \n",
       "high           2799.0  0.068953  0.253420  0.0  0.0  0.0  0.0  1.0\n",
       "low            7333.0  0.082504  0.275149  0.0  0.0  0.0  0.0  1.0\n",
       "middle        11291.0  0.082809  0.275606  0.0  0.0  0.0  0.0  1.0"
      ]
     },
     "metadata": {},
     "output_type": "display_data"
    }
   ],
   "source": [
    "income_debt_data = last_credit_data.groupby('income_level')['debt']\n",
    "display(income_debt_data.describe())"
   ]
  },
  {
   "cell_type": "markdown",
   "metadata": {},
   "source": [
    "*** As we calculated before, high class has debt rate below average, while other classes slightly above (0.2%). In my opinion, it can be considered pointless for low or middle income level, but the credit score of high income levels can be increased."
   ]
  },
  {
   "cell_type": "markdown",
   "metadata": {},
   "source": [
    "#### Credit Type and Debt Relation"
   ]
  },
  {
   "cell_type": "markdown",
   "metadata": {},
   "source": [
    "We had analyzed these values under all credit types, but now let's examine them in 3 groups."
   ]
  },
  {
   "cell_type": "code",
   "execution_count": 71,
   "metadata": {},
   "outputs": [
    {
     "data": {
      "text/html": [
       "<div>\n",
       "<style scoped>\n",
       "    .dataframe tbody tr th:only-of-type {\n",
       "        vertical-align: middle;\n",
       "    }\n",
       "\n",
       "    .dataframe tbody tr th {\n",
       "        vertical-align: top;\n",
       "    }\n",
       "\n",
       "    .dataframe thead th {\n",
       "        text-align: right;\n",
       "    }\n",
       "</style>\n",
       "<table border=\"1\" class=\"dataframe\">\n",
       "  <thead>\n",
       "    <tr style=\"text-align: right;\">\n",
       "      <th></th>\n",
       "      <th>marital_status</th>\n",
       "      <th>kids_status</th>\n",
       "      <th>income_level</th>\n",
       "      <th>credit_type</th>\n",
       "      <th>debt</th>\n",
       "      <th>loan_sort</th>\n",
       "    </tr>\n",
       "  </thead>\n",
       "  <tbody>\n",
       "    <tr>\n",
       "      <td>0</td>\n",
       "      <td>together</td>\n",
       "      <td>Yes</td>\n",
       "      <td>high</td>\n",
       "      <td>house</td>\n",
       "      <td>0</td>\n",
       "      <td>real_estate</td>\n",
       "    </tr>\n",
       "    <tr>\n",
       "      <td>1</td>\n",
       "      <td>together</td>\n",
       "      <td>Yes</td>\n",
       "      <td>low</td>\n",
       "      <td>car</td>\n",
       "      <td>0</td>\n",
       "      <td>general</td>\n",
       "    </tr>\n",
       "    <tr>\n",
       "      <td>2</td>\n",
       "      <td>together</td>\n",
       "      <td>No</td>\n",
       "      <td>middle</td>\n",
       "      <td>house</td>\n",
       "      <td>0</td>\n",
       "      <td>real_estate</td>\n",
       "    </tr>\n",
       "    <tr>\n",
       "      <td>3</td>\n",
       "      <td>together</td>\n",
       "      <td>Yes</td>\n",
       "      <td>high</td>\n",
       "      <td>education</td>\n",
       "      <td>0</td>\n",
       "      <td>general</td>\n",
       "    </tr>\n",
       "    <tr>\n",
       "      <td>4</td>\n",
       "      <td>together</td>\n",
       "      <td>No</td>\n",
       "      <td>middle</td>\n",
       "      <td>wedding</td>\n",
       "      <td>0</td>\n",
       "      <td>general</td>\n",
       "    </tr>\n",
       "  </tbody>\n",
       "</table>\n",
       "</div>"
      ],
      "text/plain": [
       "  marital_status kids_status income_level credit_type  debt    loan_sort\n",
       "0       together         Yes         high       house     0  real_estate\n",
       "1       together         Yes          low         car     0      general\n",
       "2       together          No       middle       house     0  real_estate\n",
       "3       together         Yes         high   education     0      general\n",
       "4       together          No       middle     wedding     0      general"
      ]
     },
     "metadata": {},
     "output_type": "display_data"
    }
   ],
   "source": [
    "real_estate = ['estate', 'house', 'property']\n",
    "general = ['education', 'car', 'wedding']\n",
    "\n",
    "def type_group(row):\n",
    "    \n",
    "    loan_type = row['credit_type']\n",
    "\n",
    "    if loan_type in real_estate:\n",
    "        return 'real_estate'\n",
    "    \n",
    "    else:\n",
    "        return 'general'\n",
    "    \n",
    "last_credit_data['loan_sort'] = last_credit_data.apply(type_group, axis=1)\n",
    "display(last_credit_data.head())"
   ]
  },
  {
   "cell_type": "code",
   "execution_count": 72,
   "metadata": {},
   "outputs": [
    {
     "data": {
      "text/html": [
       "<div>\n",
       "<style scoped>\n",
       "    .dataframe tbody tr th:only-of-type {\n",
       "        vertical-align: middle;\n",
       "    }\n",
       "\n",
       "    .dataframe tbody tr th {\n",
       "        vertical-align: top;\n",
       "    }\n",
       "\n",
       "    .dataframe thead th {\n",
       "        text-align: right;\n",
       "    }\n",
       "</style>\n",
       "<table border=\"1\" class=\"dataframe\">\n",
       "  <thead>\n",
       "    <tr style=\"text-align: right;\">\n",
       "      <th></th>\n",
       "      <th>count</th>\n",
       "      <th>mean</th>\n",
       "      <th>std</th>\n",
       "      <th>min</th>\n",
       "      <th>25%</th>\n",
       "      <th>50%</th>\n",
       "      <th>75%</th>\n",
       "      <th>max</th>\n",
       "    </tr>\n",
       "    <tr>\n",
       "      <th>loan_sort</th>\n",
       "      <th></th>\n",
       "      <th></th>\n",
       "      <th></th>\n",
       "      <th></th>\n",
       "      <th></th>\n",
       "      <th></th>\n",
       "      <th></th>\n",
       "      <th></th>\n",
       "    </tr>\n",
       "  </thead>\n",
       "  <tbody>\n",
       "    <tr>\n",
       "      <td>general</td>\n",
       "      <td>10631.0</td>\n",
       "      <td>0.089738</td>\n",
       "      <td>0.285819</td>\n",
       "      <td>0.0</td>\n",
       "      <td>0.0</td>\n",
       "      <td>0.0</td>\n",
       "      <td>0.0</td>\n",
       "      <td>1.0</td>\n",
       "    </tr>\n",
       "    <tr>\n",
       "      <td>real_estate</td>\n",
       "      <td>10792.0</td>\n",
       "      <td>0.072183</td>\n",
       "      <td>0.258803</td>\n",
       "      <td>0.0</td>\n",
       "      <td>0.0</td>\n",
       "      <td>0.0</td>\n",
       "      <td>0.0</td>\n",
       "      <td>1.0</td>\n",
       "    </tr>\n",
       "  </tbody>\n",
       "</table>\n",
       "</div>"
      ],
      "text/plain": [
       "               count      mean       std  min  25%  50%  75%  max\n",
       "loan_sort                                                        \n",
       "general      10631.0  0.089738  0.285819  0.0  0.0  0.0  0.0  1.0\n",
       "real_estate  10792.0  0.072183  0.258803  0.0  0.0  0.0  0.0  1.0"
      ]
     },
     "metadata": {},
     "output_type": "display_data"
    }
   ],
   "source": [
    "loan_sort_debt = last_credit_data.groupby('loan_sort')['debt']\n",
    "display(loan_sort_debt.describe())"
   ]
  },
  {
   "cell_type": "markdown",
   "metadata": {},
   "source": [
    "Real estate loans have lower debt rate, while general loans have higher."
   ]
  },
  {
   "cell_type": "markdown",
   "metadata": {},
   "source": [
    "In summary,\n",
    "\n",
    "\n",
    "1- Lonely people have more difficulty with loan repayments than together.\n",
    "\n",
    "2- Those who have children have more difficulty in repaying loans than those who do not.\n",
    "\n",
    "3- Income levels of middle and low classes have no direct effect on loan repayment, but higher-income people appear to be more successful for repayments.\n",
    "\n",
    "4- Loan type seems to be effective in repayment rates. The reason for this may be that the mortgage status in the real estate obliges the payment."
   ]
  },
  {
   "cell_type": "markdown",
   "metadata": {},
   "source": [
    "## Pivot Tables to analyze deeply"
   ]
  },
  {
   "cell_type": "markdown",
   "metadata": {},
   "source": [
    "Now let's use pivot tables to aggregate the data.\n",
    "\n",
    "First we will compare the debt rates of two variables, 'marital_status' and 'kids_status'. (pivot3)\n",
    "\n",
    "Secondly we are going to look other two variables, 'income_level' and 'loan_sort'. (pivot6)\n",
    "\n",
    "Last we will place 'marital_status' and 'kids_status' on index while 'income_level' and 'loan_sort' on columns."
   ]
  },
  {
   "cell_type": "markdown",
   "metadata": {},
   "source": [
    "### Debtor numbers of 'marital_status' and 'kids_status'"
   ]
  },
  {
   "cell_type": "markdown",
   "metadata": {},
   "source": [
    "They will show debtors (pivot1) and total numbers (pivot2), and at last debt percentages (pivot3) of each category. We will use 'sum' function on 'debt' values to determine debtors of each category."
   ]
  },
  {
   "cell_type": "code",
   "execution_count": 73,
   "metadata": {},
   "outputs": [
    {
     "data": {
      "text/html": [
       "<div>\n",
       "<style scoped>\n",
       "    .dataframe tbody tr th:only-of-type {\n",
       "        vertical-align: middle;\n",
       "    }\n",
       "\n",
       "    .dataframe tbody tr th {\n",
       "        vertical-align: top;\n",
       "    }\n",
       "\n",
       "    .dataframe thead th {\n",
       "        text-align: right;\n",
       "    }\n",
       "</style>\n",
       "<table border=\"1\" class=\"dataframe\">\n",
       "  <thead>\n",
       "    <tr style=\"text-align: right;\">\n",
       "      <th>marital_status</th>\n",
       "      <th>alone</th>\n",
       "      <th>together</th>\n",
       "    </tr>\n",
       "    <tr>\n",
       "      <th>kids_status</th>\n",
       "      <th></th>\n",
       "      <th></th>\n",
       "    </tr>\n",
       "  </thead>\n",
       "  <tbody>\n",
       "    <tr>\n",
       "      <td>No</td>\n",
       "      <td>317</td>\n",
       "      <td>741</td>\n",
       "    </tr>\n",
       "    <tr>\n",
       "      <td>Yes</td>\n",
       "      <td>103</td>\n",
       "      <td>572</td>\n",
       "    </tr>\n",
       "  </tbody>\n",
       "</table>\n",
       "</div>"
      ],
      "text/plain": [
       "marital_status  alone  together\n",
       "kids_status                    \n",
       "No                317       741\n",
       "Yes               103       572"
      ]
     },
     "metadata": {},
     "output_type": "display_data"
    }
   ],
   "source": [
    "pivot1 = last_credit_data.pivot_table(columns=['marital_status'], index=['kids_status'], values='debt', aggfunc='sum')\n",
    "display(pivot1)"
   ]
  },
  {
   "cell_type": "markdown",
   "metadata": {},
   "source": [
    "This table shows us only numbers, but we need debtors rates to compare."
   ]
  },
  {
   "cell_type": "markdown",
   "metadata": {},
   "source": [
    "### Total numbers of 'marital_status' and 'kids_status'"
   ]
  },
  {
   "cell_type": "markdown",
   "metadata": {},
   "source": [
    "Now we are getting a new pivot table with total numbers. We will use 'count' function on 'debt' values to find total people of each category."
   ]
  },
  {
   "cell_type": "code",
   "execution_count": 74,
   "metadata": {},
   "outputs": [
    {
     "data": {
      "text/html": [
       "<div>\n",
       "<style scoped>\n",
       "    .dataframe tbody tr th:only-of-type {\n",
       "        vertical-align: middle;\n",
       "    }\n",
       "\n",
       "    .dataframe tbody tr th {\n",
       "        vertical-align: top;\n",
       "    }\n",
       "\n",
       "    .dataframe thead th {\n",
       "        text-align: right;\n",
       "    }\n",
       "</style>\n",
       "<table border=\"1\" class=\"dataframe\">\n",
       "  <thead>\n",
       "    <tr style=\"text-align: right;\">\n",
       "      <th>marital_status</th>\n",
       "      <th>alone</th>\n",
       "      <th>together</th>\n",
       "    </tr>\n",
       "    <tr>\n",
       "      <th>kids_status</th>\n",
       "      <th></th>\n",
       "      <th></th>\n",
       "    </tr>\n",
       "  </thead>\n",
       "  <tbody>\n",
       "    <tr>\n",
       "      <td>No</td>\n",
       "      <td>3872</td>\n",
       "      <td>10207</td>\n",
       "    </tr>\n",
       "    <tr>\n",
       "      <td>Yes</td>\n",
       "      <td>1065</td>\n",
       "      <td>6279</td>\n",
       "    </tr>\n",
       "  </tbody>\n",
       "</table>\n",
       "</div>"
      ],
      "text/plain": [
       "marital_status  alone  together\n",
       "kids_status                    \n",
       "No               3872     10207\n",
       "Yes              1065      6279"
      ]
     },
     "metadata": {},
     "output_type": "display_data"
    }
   ],
   "source": [
    "pivot2 = last_credit_data.pivot_table(columns=['marital_status'], index=['kids_status'], values='debt', aggfunc='count')\n",
    "display(pivot2)"
   ]
  },
  {
   "cell_type": "markdown",
   "metadata": {},
   "source": [
    "### Debt rates of 'marital_status' and 'kids_status'"
   ]
  },
  {
   "cell_type": "markdown",
   "metadata": {},
   "source": [
    "Last we can create a new pivot table with them. It shows how many people are in debt per 100 people for each category in the pivot table."
   ]
  },
  {
   "cell_type": "code",
   "execution_count": 75,
   "metadata": {},
   "outputs": [
    {
     "data": {
      "text/html": [
       "<div>\n",
       "<style scoped>\n",
       "    .dataframe tbody tr th:only-of-type {\n",
       "        vertical-align: middle;\n",
       "    }\n",
       "\n",
       "    .dataframe tbody tr th {\n",
       "        vertical-align: top;\n",
       "    }\n",
       "\n",
       "    .dataframe thead th {\n",
       "        text-align: right;\n",
       "    }\n",
       "</style>\n",
       "<table border=\"1\" class=\"dataframe\">\n",
       "  <thead>\n",
       "    <tr style=\"text-align: right;\">\n",
       "      <th>marital_status</th>\n",
       "      <th>alone</th>\n",
       "      <th>together</th>\n",
       "    </tr>\n",
       "    <tr>\n",
       "      <th>kids_status</th>\n",
       "      <th></th>\n",
       "      <th></th>\n",
       "    </tr>\n",
       "  </thead>\n",
       "  <tbody>\n",
       "    <tr>\n",
       "      <td>No</td>\n",
       "      <td>8.2</td>\n",
       "      <td>7.3</td>\n",
       "    </tr>\n",
       "    <tr>\n",
       "      <td>Yes</td>\n",
       "      <td>9.7</td>\n",
       "      <td>9.1</td>\n",
       "    </tr>\n",
       "  </tbody>\n",
       "</table>\n",
       "</div>"
      ],
      "text/plain": [
       "marital_status  alone  together\n",
       "kids_status                    \n",
       "No                8.2       7.3\n",
       "Yes               9.7       9.1"
      ]
     },
     "metadata": {},
     "output_type": "display_data"
    }
   ],
   "source": [
    "pivot3 = (pivot1 / pivot2 * 100).round(1)\n",
    "display(pivot3)"
   ]
  },
  {
   "cell_type": "markdown",
   "metadata": {},
   "source": [
    "General debt rate was 8.1%.\n",
    "\n",
    "Let's remember average debt rates for these categories which we calculated before.\n",
    "\n",
    "For 'marital_status':\n",
    "|'together' has '8.0%'| - |'alone' has '8.5%'|\n",
    "\n",
    "For 'kids_status':\n",
    "|'No' has '7.5%'| - |'Yes' has '9.2'|"
   ]
  },
  {
   "cell_type": "markdown",
   "metadata": {},
   "source": [
    "Can we say still 'kids_status' has negative effect for repayment of loan? Yes, it affects repayment of loan negative and still have high debt rates (9.7% and 9.1%). Also we can say lonely people without kids don't have big problem about loan repayment because their debt rate (8.2%) almost same as general average (8.1%). As a result, together and childless families have highest credit score with the lowest debt rate (7.3%).\n",
    "\n",
    "*** To sum up, \n",
    "\n",
    "1- 'kids_status' (to have kids) affects debt rates negatively. (We mentioned about this fact, it didn't change.)\n",
    "\n",
    "2- 'marital_status' (to be together) affects debt rates positively if they don't have any kids. (We mentioned about lonely people have more difficulty for repayment of debt. But this pivot table shows us that the reason is actually not to be alone but to have children. If lonely people have no kids, their debt rate is almost same as general debt rate. In addition to that, together people's rate is lower than lonely people. They keep the advantage.)"
   ]
  },
  {
   "cell_type": "markdown",
   "metadata": {},
   "source": [
    "### Debt rates of 'income_level' and 'loan_sort'"
   ]
  },
  {
   "cell_type": "markdown",
   "metadata": {},
   "source": [
    "Now we are going to look other two variables, 'income_level' and 'loan_sort'."
   ]
  },
  {
   "cell_type": "code",
   "execution_count": 76,
   "metadata": {},
   "outputs": [
    {
     "data": {
      "text/html": [
       "<div>\n",
       "<style scoped>\n",
       "    .dataframe tbody tr th:only-of-type {\n",
       "        vertical-align: middle;\n",
       "    }\n",
       "\n",
       "    .dataframe tbody tr th {\n",
       "        vertical-align: top;\n",
       "    }\n",
       "\n",
       "    .dataframe thead th {\n",
       "        text-align: right;\n",
       "    }\n",
       "</style>\n",
       "<table border=\"1\" class=\"dataframe\">\n",
       "  <thead>\n",
       "    <tr style=\"text-align: right;\">\n",
       "      <th>income_level</th>\n",
       "      <th>high</th>\n",
       "      <th>low</th>\n",
       "      <th>middle</th>\n",
       "    </tr>\n",
       "    <tr>\n",
       "      <th>loan_sort</th>\n",
       "      <th></th>\n",
       "      <th></th>\n",
       "      <th></th>\n",
       "    </tr>\n",
       "  </thead>\n",
       "  <tbody>\n",
       "    <tr>\n",
       "      <td>general</td>\n",
       "      <td>105</td>\n",
       "      <td>353</td>\n",
       "      <td>496</td>\n",
       "    </tr>\n",
       "    <tr>\n",
       "      <td>real_estate</td>\n",
       "      <td>88</td>\n",
       "      <td>252</td>\n",
       "      <td>439</td>\n",
       "    </tr>\n",
       "  </tbody>\n",
       "</table>\n",
       "</div>"
      ],
      "text/plain": [
       "income_level  high  low  middle\n",
       "loan_sort                      \n",
       "general        105  353     496\n",
       "real_estate     88  252     439"
      ]
     },
     "metadata": {},
     "output_type": "display_data"
    },
    {
     "data": {
      "text/html": [
       "<div>\n",
       "<style scoped>\n",
       "    .dataframe tbody tr th:only-of-type {\n",
       "        vertical-align: middle;\n",
       "    }\n",
       "\n",
       "    .dataframe tbody tr th {\n",
       "        vertical-align: top;\n",
       "    }\n",
       "\n",
       "    .dataframe thead th {\n",
       "        text-align: right;\n",
       "    }\n",
       "</style>\n",
       "<table border=\"1\" class=\"dataframe\">\n",
       "  <thead>\n",
       "    <tr style=\"text-align: right;\">\n",
       "      <th>income_level</th>\n",
       "      <th>high</th>\n",
       "      <th>low</th>\n",
       "      <th>middle</th>\n",
       "    </tr>\n",
       "    <tr>\n",
       "      <th>loan_sort</th>\n",
       "      <th></th>\n",
       "      <th></th>\n",
       "      <th></th>\n",
       "    </tr>\n",
       "  </thead>\n",
       "  <tbody>\n",
       "    <tr>\n",
       "      <td>general</td>\n",
       "      <td>1358</td>\n",
       "      <td>3660</td>\n",
       "      <td>5613</td>\n",
       "    </tr>\n",
       "    <tr>\n",
       "      <td>real_estate</td>\n",
       "      <td>1441</td>\n",
       "      <td>3673</td>\n",
       "      <td>5678</td>\n",
       "    </tr>\n",
       "  </tbody>\n",
       "</table>\n",
       "</div>"
      ],
      "text/plain": [
       "income_level  high   low  middle\n",
       "loan_sort                       \n",
       "general       1358  3660    5613\n",
       "real_estate   1441  3673    5678"
      ]
     },
     "metadata": {},
     "output_type": "display_data"
    },
    {
     "data": {
      "text/html": [
       "<div>\n",
       "<style scoped>\n",
       "    .dataframe tbody tr th:only-of-type {\n",
       "        vertical-align: middle;\n",
       "    }\n",
       "\n",
       "    .dataframe tbody tr th {\n",
       "        vertical-align: top;\n",
       "    }\n",
       "\n",
       "    .dataframe thead th {\n",
       "        text-align: right;\n",
       "    }\n",
       "</style>\n",
       "<table border=\"1\" class=\"dataframe\">\n",
       "  <thead>\n",
       "    <tr style=\"text-align: right;\">\n",
       "      <th>income_level</th>\n",
       "      <th>high</th>\n",
       "      <th>low</th>\n",
       "      <th>middle</th>\n",
       "    </tr>\n",
       "    <tr>\n",
       "      <th>loan_sort</th>\n",
       "      <th></th>\n",
       "      <th></th>\n",
       "      <th></th>\n",
       "    </tr>\n",
       "  </thead>\n",
       "  <tbody>\n",
       "    <tr>\n",
       "      <td>general</td>\n",
       "      <td>7.7</td>\n",
       "      <td>9.6</td>\n",
       "      <td>8.8</td>\n",
       "    </tr>\n",
       "    <tr>\n",
       "      <td>real_estate</td>\n",
       "      <td>6.1</td>\n",
       "      <td>6.9</td>\n",
       "      <td>7.7</td>\n",
       "    </tr>\n",
       "  </tbody>\n",
       "</table>\n",
       "</div>"
      ],
      "text/plain": [
       "income_level  high  low  middle\n",
       "loan_sort                      \n",
       "general        7.7  9.6     8.8\n",
       "real_estate    6.1  6.9     7.7"
      ]
     },
     "metadata": {},
     "output_type": "display_data"
    }
   ],
   "source": [
    "pivot4 = last_credit_data.pivot_table(columns=['income_level'], index=['loan_sort'], values='debt', aggfunc='sum')\n",
    "\n",
    "pivot5 = last_credit_data.pivot_table(columns=['income_level'], index=['loan_sort'], values='debt', aggfunc='count')\n",
    "pivot6 = (pivot4 / pivot5 * 100).round(1)\n",
    "display(pivot4)\n",
    "display(pivot5)\n",
    "display(pivot6)"
   ]
  },
  {
   "cell_type": "markdown",
   "metadata": {},
   "source": [
    "Let's remember again debt rates of each category.\n",
    "\n",
    "For 'income_level':\n",
    "|high : 6.9%| - |middle: 8.3%| - |low : 8.3%|\n",
    "\n",
    "For 'loan_sort':\n",
    "|general : 9.0%| - |real_estate : 7.2%|"
   ]
  },
  {
   "cell_type": "markdown",
   "metadata": {},
   "source": [
    "*** Summary:\n",
    "\n",
    "1- 'loan_sort' (general type) definitely has a negative effect, because it pulls all rates up on each income class.  Additionally it's obvious that debt rates for 'real_estate' are lower for each income class, so this type has positive effect for repayment. (We mentioned about that, but we saw it's effects on each category)\n",
    "\n",
    "2- 'income_level' for high class still has lowest debt rates despite 'loan_sort', we can say again high class has positive effect. (We emphasized that before.)\n",
    "\n",
    "3- We should pay attention 'low' income level and 'general' loan sort intersection. Their debt rate high and it reduces credit score of low-income people while they want to credit for 'general' purposes."
   ]
  },
  {
   "cell_type": "markdown",
   "metadata": {},
   "source": [
    "### Debt rates for 'marital_status' - 'kids_status' and 'income_level'  - 'loan_sort'"
   ]
  },
  {
   "cell_type": "markdown",
   "metadata": {},
   "source": [
    "Nor we are going to deep numbers. We'll place 'marital_status' and 'kids_status' on index while 'income_level' and 'loan_sort' on columns. Let's see if the results will change."
   ]
  },
  {
   "cell_type": "code",
   "execution_count": 77,
   "metadata": {
    "scrolled": false
   },
   "outputs": [
    {
     "data": {
      "text/html": [
       "<div>\n",
       "<style scoped>\n",
       "    .dataframe tbody tr th:only-of-type {\n",
       "        vertical-align: middle;\n",
       "    }\n",
       "\n",
       "    .dataframe tbody tr th {\n",
       "        vertical-align: top;\n",
       "    }\n",
       "\n",
       "    .dataframe thead tr th {\n",
       "        text-align: left;\n",
       "    }\n",
       "\n",
       "    .dataframe thead tr:last-of-type th {\n",
       "        text-align: right;\n",
       "    }\n",
       "</style>\n",
       "<table border=\"1\" class=\"dataframe\">\n",
       "  <thead>\n",
       "    <tr>\n",
       "      <th></th>\n",
       "      <th>income_level</th>\n",
       "      <th colspan=\"2\" halign=\"left\">high</th>\n",
       "      <th colspan=\"2\" halign=\"left\">low</th>\n",
       "      <th colspan=\"2\" halign=\"left\">middle</th>\n",
       "    </tr>\n",
       "    <tr>\n",
       "      <th></th>\n",
       "      <th>loan_sort</th>\n",
       "      <th>general</th>\n",
       "      <th>real_estate</th>\n",
       "      <th>general</th>\n",
       "      <th>real_estate</th>\n",
       "      <th>general</th>\n",
       "      <th>real_estate</th>\n",
       "    </tr>\n",
       "    <tr>\n",
       "      <th>marital_status</th>\n",
       "      <th>kids_status</th>\n",
       "      <th></th>\n",
       "      <th></th>\n",
       "      <th></th>\n",
       "      <th></th>\n",
       "      <th></th>\n",
       "      <th></th>\n",
       "    </tr>\n",
       "  </thead>\n",
       "  <tbody>\n",
       "    <tr>\n",
       "      <td rowspan=\"2\" valign=\"top\">alone</td>\n",
       "      <td>No</td>\n",
       "      <td>18</td>\n",
       "      <td>19</td>\n",
       "      <td>67</td>\n",
       "      <td>40</td>\n",
       "      <td>86</td>\n",
       "      <td>87</td>\n",
       "    </tr>\n",
       "    <tr>\n",
       "      <td>Yes</td>\n",
       "      <td>2</td>\n",
       "      <td>6</td>\n",
       "      <td>11</td>\n",
       "      <td>19</td>\n",
       "      <td>32</td>\n",
       "      <td>33</td>\n",
       "    </tr>\n",
       "    <tr>\n",
       "      <td rowspan=\"2\" valign=\"top\">together</td>\n",
       "      <td>No</td>\n",
       "      <td>46</td>\n",
       "      <td>30</td>\n",
       "      <td>156</td>\n",
       "      <td>113</td>\n",
       "      <td>211</td>\n",
       "      <td>185</td>\n",
       "    </tr>\n",
       "    <tr>\n",
       "      <td>Yes</td>\n",
       "      <td>39</td>\n",
       "      <td>33</td>\n",
       "      <td>119</td>\n",
       "      <td>80</td>\n",
       "      <td>167</td>\n",
       "      <td>134</td>\n",
       "    </tr>\n",
       "  </tbody>\n",
       "</table>\n",
       "</div>"
      ],
      "text/plain": [
       "income_level                  high                 low              middle  \\\n",
       "loan_sort                  general real_estate general real_estate general   \n",
       "marital_status kids_status                                                   \n",
       "alone          No               18          19      67          40      86   \n",
       "               Yes               2           6      11          19      32   \n",
       "together       No               46          30     156         113     211   \n",
       "               Yes              39          33     119          80     167   \n",
       "\n",
       "income_level                            \n",
       "loan_sort                  real_estate  \n",
       "marital_status kids_status              \n",
       "alone          No                   87  \n",
       "               Yes                  33  \n",
       "together       No                  185  \n",
       "               Yes                 134  "
      ]
     },
     "metadata": {},
     "output_type": "display_data"
    },
    {
     "data": {
      "text/html": [
       "<div>\n",
       "<style scoped>\n",
       "    .dataframe tbody tr th:only-of-type {\n",
       "        vertical-align: middle;\n",
       "    }\n",
       "\n",
       "    .dataframe tbody tr th {\n",
       "        vertical-align: top;\n",
       "    }\n",
       "\n",
       "    .dataframe thead tr th {\n",
       "        text-align: left;\n",
       "    }\n",
       "\n",
       "    .dataframe thead tr:last-of-type th {\n",
       "        text-align: right;\n",
       "    }\n",
       "</style>\n",
       "<table border=\"1\" class=\"dataframe\">\n",
       "  <thead>\n",
       "    <tr>\n",
       "      <th></th>\n",
       "      <th>income_level</th>\n",
       "      <th colspan=\"2\" halign=\"left\">high</th>\n",
       "      <th colspan=\"2\" halign=\"left\">low</th>\n",
       "      <th colspan=\"2\" halign=\"left\">middle</th>\n",
       "    </tr>\n",
       "    <tr>\n",
       "      <th></th>\n",
       "      <th>loan_sort</th>\n",
       "      <th>general</th>\n",
       "      <th>real_estate</th>\n",
       "      <th>general</th>\n",
       "      <th>real_estate</th>\n",
       "      <th>general</th>\n",
       "      <th>real_estate</th>\n",
       "    </tr>\n",
       "    <tr>\n",
       "      <th>marital_status</th>\n",
       "      <th>kids_status</th>\n",
       "      <th></th>\n",
       "      <th></th>\n",
       "      <th></th>\n",
       "      <th></th>\n",
       "      <th></th>\n",
       "      <th></th>\n",
       "    </tr>\n",
       "  </thead>\n",
       "  <tbody>\n",
       "    <tr>\n",
       "      <td rowspan=\"2\" valign=\"top\">alone</td>\n",
       "      <td>No</td>\n",
       "      <td>212</td>\n",
       "      <td>272</td>\n",
       "      <td>617</td>\n",
       "      <td>777</td>\n",
       "      <td>865</td>\n",
       "      <td>1129</td>\n",
       "    </tr>\n",
       "    <tr>\n",
       "      <td>Yes</td>\n",
       "      <td>38</td>\n",
       "      <td>85</td>\n",
       "      <td>151</td>\n",
       "      <td>202</td>\n",
       "      <td>254</td>\n",
       "      <td>335</td>\n",
       "    </tr>\n",
       "    <tr>\n",
       "      <td rowspan=\"2\" valign=\"top\">together</td>\n",
       "      <td>No</td>\n",
       "      <td>670</td>\n",
       "      <td>639</td>\n",
       "      <td>1870</td>\n",
       "      <td>1699</td>\n",
       "      <td>2779</td>\n",
       "      <td>2550</td>\n",
       "    </tr>\n",
       "    <tr>\n",
       "      <td>Yes</td>\n",
       "      <td>438</td>\n",
       "      <td>445</td>\n",
       "      <td>1022</td>\n",
       "      <td>995</td>\n",
       "      <td>1715</td>\n",
       "      <td>1664</td>\n",
       "    </tr>\n",
       "  </tbody>\n",
       "</table>\n",
       "</div>"
      ],
      "text/plain": [
       "income_level                  high                 low              middle  \\\n",
       "loan_sort                  general real_estate general real_estate general   \n",
       "marital_status kids_status                                                   \n",
       "alone          No              212         272     617         777     865   \n",
       "               Yes              38          85     151         202     254   \n",
       "together       No              670         639    1870        1699    2779   \n",
       "               Yes             438         445    1022         995    1715   \n",
       "\n",
       "income_level                            \n",
       "loan_sort                  real_estate  \n",
       "marital_status kids_status              \n",
       "alone          No                 1129  \n",
       "               Yes                 335  \n",
       "together       No                 2550  \n",
       "               Yes                1664  "
      ]
     },
     "metadata": {},
     "output_type": "display_data"
    },
    {
     "data": {
      "text/html": [
       "<div>\n",
       "<style scoped>\n",
       "    .dataframe tbody tr th:only-of-type {\n",
       "        vertical-align: middle;\n",
       "    }\n",
       "\n",
       "    .dataframe tbody tr th {\n",
       "        vertical-align: top;\n",
       "    }\n",
       "\n",
       "    .dataframe thead tr th {\n",
       "        text-align: left;\n",
       "    }\n",
       "\n",
       "    .dataframe thead tr:last-of-type th {\n",
       "        text-align: right;\n",
       "    }\n",
       "</style>\n",
       "<table border=\"1\" class=\"dataframe\">\n",
       "  <thead>\n",
       "    <tr>\n",
       "      <th></th>\n",
       "      <th>income_level</th>\n",
       "      <th colspan=\"2\" halign=\"left\">high</th>\n",
       "      <th colspan=\"2\" halign=\"left\">low</th>\n",
       "      <th colspan=\"2\" halign=\"left\">middle</th>\n",
       "    </tr>\n",
       "    <tr>\n",
       "      <th></th>\n",
       "      <th>loan_sort</th>\n",
       "      <th>general</th>\n",
       "      <th>real_estate</th>\n",
       "      <th>general</th>\n",
       "      <th>real_estate</th>\n",
       "      <th>general</th>\n",
       "      <th>real_estate</th>\n",
       "    </tr>\n",
       "    <tr>\n",
       "      <th>marital_status</th>\n",
       "      <th>kids_status</th>\n",
       "      <th></th>\n",
       "      <th></th>\n",
       "      <th></th>\n",
       "      <th></th>\n",
       "      <th></th>\n",
       "      <th></th>\n",
       "    </tr>\n",
       "  </thead>\n",
       "  <tbody>\n",
       "    <tr>\n",
       "      <td rowspan=\"2\" valign=\"top\">alone</td>\n",
       "      <td>No</td>\n",
       "      <td>8.5</td>\n",
       "      <td>7.0</td>\n",
       "      <td>10.9</td>\n",
       "      <td>5.1</td>\n",
       "      <td>9.9</td>\n",
       "      <td>7.7</td>\n",
       "    </tr>\n",
       "    <tr>\n",
       "      <td>Yes</td>\n",
       "      <td>5.3</td>\n",
       "      <td>7.1</td>\n",
       "      <td>7.3</td>\n",
       "      <td>9.4</td>\n",
       "      <td>12.6</td>\n",
       "      <td>9.9</td>\n",
       "    </tr>\n",
       "    <tr>\n",
       "      <td rowspan=\"2\" valign=\"top\">together</td>\n",
       "      <td>No</td>\n",
       "      <td>6.9</td>\n",
       "      <td>4.7</td>\n",
       "      <td>8.3</td>\n",
       "      <td>6.7</td>\n",
       "      <td>7.6</td>\n",
       "      <td>7.3</td>\n",
       "    </tr>\n",
       "    <tr>\n",
       "      <td>Yes</td>\n",
       "      <td>8.9</td>\n",
       "      <td>7.4</td>\n",
       "      <td>11.6</td>\n",
       "      <td>8.0</td>\n",
       "      <td>9.7</td>\n",
       "      <td>8.1</td>\n",
       "    </tr>\n",
       "  </tbody>\n",
       "</table>\n",
       "</div>"
      ],
      "text/plain": [
       "income_level                  high                 low              middle  \\\n",
       "loan_sort                  general real_estate general real_estate general   \n",
       "marital_status kids_status                                                   \n",
       "alone          No              8.5         7.0    10.9         5.1     9.9   \n",
       "               Yes             5.3         7.1     7.3         9.4    12.6   \n",
       "together       No              6.9         4.7     8.3         6.7     7.6   \n",
       "               Yes             8.9         7.4    11.6         8.0     9.7   \n",
       "\n",
       "income_level                            \n",
       "loan_sort                  real_estate  \n",
       "marital_status kids_status              \n",
       "alone          No                  7.7  \n",
       "               Yes                 9.9  \n",
       "together       No                  7.3  \n",
       "               Yes                 8.1  "
      ]
     },
     "metadata": {},
     "output_type": "display_data"
    }
   ],
   "source": [
    "pivot7 = last_credit_data.pivot_table(index=['marital_status', 'kids_status'], columns=['income_level', 'loan_sort'],\n",
    "                                                     values='debt', aggfunc='sum')\n",
    "pivot8 = last_credit_data.pivot_table(index=['marital_status', 'kids_status'], columns=['income_level', 'loan_sort'],\n",
    "                                                     values='debt', aggfunc='count')\n",
    "pivot9 = (pivot7 / pivot8 * 100).round(1)\n",
    "display(pivot7)\n",
    "display(pivot8)\n",
    "display(pivot9)"
   ]
  },
  {
   "cell_type": "markdown",
   "metadata": {},
   "source": [
    "Let's look at this table from a different perspective."
   ]
  },
  {
   "cell_type": "code",
   "execution_count": 78,
   "metadata": {},
   "outputs": [
    {
     "data": {
      "text/html": [
       "<div>\n",
       "<style scoped>\n",
       "    .dataframe tbody tr th:only-of-type {\n",
       "        vertical-align: middle;\n",
       "    }\n",
       "\n",
       "    .dataframe tbody tr th {\n",
       "        vertical-align: top;\n",
       "    }\n",
       "\n",
       "    .dataframe thead tr th {\n",
       "        text-align: left;\n",
       "    }\n",
       "\n",
       "    .dataframe thead tr:last-of-type th {\n",
       "        text-align: right;\n",
       "    }\n",
       "</style>\n",
       "<table border=\"1\" class=\"dataframe\">\n",
       "  <thead>\n",
       "    <tr>\n",
       "      <th></th>\n",
       "      <th>marital_status</th>\n",
       "      <th colspan=\"2\" halign=\"left\">alone</th>\n",
       "      <th colspan=\"2\" halign=\"left\">together</th>\n",
       "    </tr>\n",
       "    <tr>\n",
       "      <th></th>\n",
       "      <th>loan_sort</th>\n",
       "      <th>general</th>\n",
       "      <th>real_estate</th>\n",
       "      <th>general</th>\n",
       "      <th>real_estate</th>\n",
       "    </tr>\n",
       "    <tr>\n",
       "      <th>income_level</th>\n",
       "      <th>kids_status</th>\n",
       "      <th></th>\n",
       "      <th></th>\n",
       "      <th></th>\n",
       "      <th></th>\n",
       "    </tr>\n",
       "  </thead>\n",
       "  <tbody>\n",
       "    <tr>\n",
       "      <td rowspan=\"2\" valign=\"top\">high</td>\n",
       "      <td>No</td>\n",
       "      <td>8.5</td>\n",
       "      <td>7.0</td>\n",
       "      <td>6.9</td>\n",
       "      <td>4.7</td>\n",
       "    </tr>\n",
       "    <tr>\n",
       "      <td>Yes</td>\n",
       "      <td>5.3</td>\n",
       "      <td>7.1</td>\n",
       "      <td>8.9</td>\n",
       "      <td>7.4</td>\n",
       "    </tr>\n",
       "    <tr>\n",
       "      <td rowspan=\"2\" valign=\"top\">low</td>\n",
       "      <td>No</td>\n",
       "      <td>10.9</td>\n",
       "      <td>5.1</td>\n",
       "      <td>8.3</td>\n",
       "      <td>6.7</td>\n",
       "    </tr>\n",
       "    <tr>\n",
       "      <td>Yes</td>\n",
       "      <td>7.3</td>\n",
       "      <td>9.4</td>\n",
       "      <td>11.6</td>\n",
       "      <td>8.0</td>\n",
       "    </tr>\n",
       "    <tr>\n",
       "      <td rowspan=\"2\" valign=\"top\">middle</td>\n",
       "      <td>No</td>\n",
       "      <td>9.9</td>\n",
       "      <td>7.7</td>\n",
       "      <td>7.6</td>\n",
       "      <td>7.3</td>\n",
       "    </tr>\n",
       "    <tr>\n",
       "      <td>Yes</td>\n",
       "      <td>12.6</td>\n",
       "      <td>9.9</td>\n",
       "      <td>9.7</td>\n",
       "      <td>8.1</td>\n",
       "    </tr>\n",
       "  </tbody>\n",
       "</table>\n",
       "</div>"
      ],
      "text/plain": [
       "marital_status             alone             together            \n",
       "loan_sort                general real_estate  general real_estate\n",
       "income_level kids_status                                         \n",
       "high         No              8.5         7.0      6.9         4.7\n",
       "             Yes             5.3         7.1      8.9         7.4\n",
       "low          No             10.9         5.1      8.3         6.7\n",
       "             Yes             7.3         9.4     11.6         8.0\n",
       "middle       No              9.9         7.7      7.6         7.3\n",
       "             Yes            12.6         9.9      9.7         8.1"
      ]
     },
     "metadata": {},
     "output_type": "display_data"
    }
   ],
   "source": [
    "pivot10 = last_credit_data.pivot_table(columns=['marital_status', 'loan_sort'], index=['income_level', 'kids_status'],\n",
    "                                                     values='debt', aggfunc='sum')\n",
    "pivot11 = last_credit_data.pivot_table(columns=['marital_status', 'loan_sort'], index=['income_level', 'kids_status'],\n",
    "                                                     values='debt', aggfunc='count')\n",
    "pivot12 = (pivot10 / pivot11 * 100).round(1)\n",
    "display(pivot12)"
   ]
  },
  {
   "cell_type": "markdown",
   "metadata": {},
   "source": [
    "Let's consider again debt rates we calculated before:\n",
    "\n",
    "For 'marital_status': |'together' has '8.0%'| - |'alone' has '8.5%'|\n",
    "\n",
    "For 'kids_status': |'No' has '7.5%'| - |'Yes' has '9.2'|\n",
    "\n",
    "For 'income_level': |high : 6.9%| - |middle: 8.3%| - |low : 8.3%|\n",
    "\n",
    "For 'loan_sort': |general : 9.0%| - |real_estate : 7.2%|"
   ]
  },
  {
   "cell_type": "markdown",
   "metadata": {},
   "source": [
    "### Pivot Tables Conclusion\n",
    "\n",
    "If we need to evaluate according to the average debt ratio (8.1%)\n",
    "\n",
    "1- Those who are in the 'middle' income and have kids have generally over average debt rates. They are the most risky group. (middle-with kids)\n",
    "\n",
    "2- In 'middle' income level - for 'general' loan type, lonely people who have kids have highest debt rate. (12.6%)\n",
    "\n",
    "2- 'alone' and 'no' kids status for 'general' credit purposes have negative effect for repayment. \n",
    "\n",
    "3- 'alone' and 'yes' kids status in 'middle' and 'low' income level for 'real_estate' purpose are also risky. (9.4% - 9.9%)\n",
    "\n",
    "4- 'real_estates' credit type for 'high' income level has the lowest for people who don't have kids and in 'together' category. (5.1%)"
   ]
  },
  {
   "cell_type": "markdown",
   "metadata": {},
   "source": [
    "## Answering the questions"
   ]
  },
  {
   "cell_type": "markdown",
   "metadata": {},
   "source": [
    "### Is there a relation between having kids and repaying a loan on time?"
   ]
  },
  {
   "cell_type": "markdown",
   "metadata": {},
   "source": [
    "Yes, there is a relation between them. Having kids affects negatively repaying a loan on time."
   ]
  },
  {
   "cell_type": "markdown",
   "metadata": {},
   "source": [
    "#### Conclusion"
   ]
  },
  {
   "cell_type": "markdown",
   "metadata": {},
   "source": [
    "There are about 14.000 people who don't have kids, it is almost 2 out of 3. Their debt rate is lower than average. On the contrary, people who have kids less reliable on repayment of loan. While their amount is about 7.000 (almost 1 out of 3), their debt rate is more than 1% of average debt rate. It is about 80 people. But if we compare it to those who do not have children, numbers increase and then it makes sense. It shows us having kids has negative effect on repayment of loan."
   ]
  },
  {
   "cell_type": "markdown",
   "metadata": {},
   "source": [
    "### Is there a relation between marital status and repaying a loan on time?"
   ]
  },
  {
   "cell_type": "markdown",
   "metadata": {},
   "source": [
    "Yes, there is a relation between them."
   ]
  },
  {
   "cell_type": "markdown",
   "metadata": {},
   "source": [
    "#### Conclusion"
   ]
  },
  {
   "cell_type": "markdown",
   "metadata": {},
   "source": [
    "The debt rate of families living together (8.0%) is almost same with the average (8.1%), while the debt rate of those living alone (8.5%) is above the general average. It can only slightly reduce the credit score of the alone customers.\n",
    "\n",
    "If we look only from marital status, we see lonely people's high debt rate (8.5%). But if we look from another point to childless lonely people, we see that their debt rate (8.2%) is normal. It is said that lonely people without kids don't have a big problem about loan repayment because their debt rate (8.2%) is almost same general average (8.1%)."
   ]
  },
  {
   "cell_type": "markdown",
   "metadata": {},
   "source": [
    "### Is there a relation between income level and repaying a loan on time?"
   ]
  },
  {
   "cell_type": "markdown",
   "metadata": {},
   "source": [
    "Yes, there is a relation between these variables. We can say that high income people repays a loan on time accordings to others."
   ]
  },
  {
   "cell_type": "markdown",
   "metadata": {},
   "source": [
    "#### Conclusion"
   ]
  },
  {
   "cell_type": "markdown",
   "metadata": {},
   "source": [
    "High income people have debt rate (6.9%) smaller than total average (8.1%). Low and medium-income people have same debt rate (8.3%). This situation is shows us 'income_level' affect total debt. In my opinion, it can be considered pointless for low or middle income level, but the credit score of high income levels can be increased."
   ]
  },
  {
   "cell_type": "markdown",
   "metadata": {},
   "source": [
    "### How do different loan purposes affect on-time repayment of the loan?"
   ]
  },
  {
   "cell_type": "markdown",
   "metadata": {},
   "source": [
    "We categorized to 'general' and 'real_estate' topics. It affects and increases absolutely debt rates for 'general' category."
   ]
  },
  {
   "cell_type": "markdown",
   "metadata": {},
   "source": [
    "#### Conclusion"
   ]
  },
  {
   "cell_type": "markdown",
   "metadata": {},
   "source": [
    "The 'general' credit type definitely has a negative effect, because it pulls all rates up on each income class.  Additionally it's obvious that debt rates for 'real_estate' are lower for each income class, so this credit type has positive effect for repayment, while 'general' has a negative."
   ]
  },
  {
   "cell_type": "markdown",
   "metadata": {},
   "source": [
    "## General conclusion"
   ]
  },
  {
   "cell_type": "markdown",
   "metadata": {},
   "source": [
    "### Pivot Tables Summary\n",
    "\n",
    "If we need to evaluate according to the average debt ratio (8.1%)\n",
    "\n",
    "1- 1- Those who are in the 'middle' income and have kids have generally over average debt rates. They are the most risky group. (middle-with kids)\n",
    "\n",
    "2- In 'middle' income level - for 'general' loan type, lonely people who have kids have highest debt rate. (12.6%)\n",
    "\n",
    "2- 'alone' and 'no' kids status for 'general' credit purposes have negative effect for repayment. Their debt rates also generally over average.\n",
    "\n",
    "3- 'alone' and 'yes' kids status in 'middle' and 'low' income level for 'real_estate' purpose are also risky. (9.4% - 9.9%)\n",
    "\n",
    "4- 'real_estates' credit type for 'high' income level has the lowest for people who don't have kids and in 'together' category. (5.1%)\n",
    "\n",
    "\n",
    "\n",
    "### General Summary\n",
    "\n",
    "\n",
    "1- Lonely people have more difficulty with loan repayments than together.\n",
    "\n",
    "2- Those who have children have more difficulty in repaying loans than those who do not.\n",
    "\n",
    "3- Income levels of middle and low classes have no direct effect on loan repayment, but higher-income people appear to be more successful for repayments.\n",
    "\n",
    "4- Loan type seems to have effect in repayment rates. The reason for this may be that the mortgage status in the real estate obliges the payment."
   ]
  },
  {
   "cell_type": "markdown",
   "metadata": {},
   "source": [
    "********"
   ]
  }
 ],
 "metadata": {
  "kernelspec": {
   "display_name": "Python 3",
   "language": "python",
   "name": "python3"
  },
  "language_info": {
   "codemirror_mode": {
    "name": "ipython",
    "version": 3
   },
   "file_extension": ".py",
   "mimetype": "text/x-python",
   "name": "python",
   "nbconvert_exporter": "python",
   "pygments_lexer": "ipython3",
   "version": "3.8.8"
  },
  "toc": {
   "base_numbering": 1,
   "nav_menu": {},
   "number_sections": true,
   "sideBar": true,
   "skip_h1_title": true,
   "title_cell": "Table of Contents",
   "title_sidebar": "Contents",
   "toc_cell": true,
   "toc_position": {},
   "toc_section_display": true,
   "toc_window_display": true
  }
 },
 "nbformat": 4,
 "nbformat_minor": 2
}
