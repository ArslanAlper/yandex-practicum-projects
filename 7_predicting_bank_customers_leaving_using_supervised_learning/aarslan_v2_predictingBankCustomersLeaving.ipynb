{
 "cells": [
  {
   "cell_type": "markdown",
   "metadata": {
    "toc": true
   },
   "source": [
    "<h1>Table of Contents<span class=\"tocSkip\"></span></h1>\n",
    "<div class=\"toc\"><ul class=\"toc-item\"><li><span><a href=\"#Informing-the-Project-Phases\" data-toc-modified-id=\"Informing-the-Project-Phases-1\"><span class=\"toc-item-num\">1&nbsp;&nbsp;</span>Informing the Project Phases</a></span></li><li><span><a href=\"#Preparing-Data\" data-toc-modified-id=\"Preparing-Data-2\"><span class=\"toc-item-num\">2&nbsp;&nbsp;</span>Preparing Data</a></span><ul class=\"toc-item\"><li><span><a href=\"#Encoding-of-Categorical-Features\" data-toc-modified-id=\"Encoding-of-Categorical-Features-2.1\"><span class=\"toc-item-num\">2.1&nbsp;&nbsp;</span>Encoding of Categorical Features</a></span></li><li><span><a href=\"#Splitting-the-source-data-for-Logistic-Regression---(features_OHE)\" data-toc-modified-id=\"Splitting-the-source-data-for-Logistic-Regression---(features_OHE)-2.2\"><span class=\"toc-item-num\">2.2&nbsp;&nbsp;</span>Splitting the source data for Logistic Regression - (features_OHE)</a></span></li><li><span><a href=\"#Splitting-the-source-data-for-Decision-Tree-and-Random-Forest-Models---(features_ordinal)\" data-toc-modified-id=\"Splitting-the-source-data-for-Decision-Tree-and-Random-Forest-Models---(features_ordinal)-2.3\"><span class=\"toc-item-num\">2.3&nbsp;&nbsp;</span>Splitting the source data for Decision Tree and Random Forest Models - (features_ordinal)</a></span></li><li><span><a href=\"#Scaling-of-Numerical-Features\" data-toc-modified-id=\"Scaling-of-Numerical-Features-2.4\"><span class=\"toc-item-num\">2.4&nbsp;&nbsp;</span>Scaling of Numerical Features</a></span></li></ul></li><li><span><a href=\"#Building-the-models\" data-toc-modified-id=\"Building-the-models-3\"><span class=\"toc-item-num\">3&nbsp;&nbsp;</span>Building the models</a></span><ul class=\"toc-item\"><li><span><a href=\"#Examining-the-class-balances\" data-toc-modified-id=\"Examining-the-class-balances-3.1\"><span class=\"toc-item-num\">3.1&nbsp;&nbsp;</span>Examining the class balances</a></span></li><li><span><a href=\"#Studying-the-models\" data-toc-modified-id=\"Studying-the-models-3.2\"><span class=\"toc-item-num\">3.2&nbsp;&nbsp;</span>Studying the models</a></span><ul class=\"toc-item\"><li><span><a href=\"#Logistic-Regression-Model\" data-toc-modified-id=\"Logistic-Regression-Model-3.2.1\"><span class=\"toc-item-num\">3.2.1&nbsp;&nbsp;</span>Logistic Regression Model</a></span><ul class=\"toc-item\"><li><span><a href=\"#Logistic-Regression-Model-Building-Without-Optimisation\" data-toc-modified-id=\"Logistic-Regression-Model-Building-Without-Optimisation-3.2.1.1\"><span class=\"toc-item-num\">3.2.1.1&nbsp;&nbsp;</span>Logistic Regression Model Building Without Optimisation</a></span></li><li><span><a href=\"#Grid-Search-Optimisation\" data-toc-modified-id=\"Grid-Search-Optimisation-3.2.1.2\"><span class=\"toc-item-num\">3.2.1.2&nbsp;&nbsp;</span>Grid Search Optimisation</a></span></li><li><span><a href=\"#f1-Score-with-enhanced-dataset\" data-toc-modified-id=\"f1-Score-with-enhanced-dataset-3.2.1.3\"><span class=\"toc-item-num\">3.2.1.3&nbsp;&nbsp;</span>f1 Score with enhanced dataset</a></span></li><li><span><a href=\"#Logistic-Regression-improvement-using-'balanced'-class_weight\" data-toc-modified-id=\"Logistic-Regression-improvement-using-'balanced'-class_weight-3.2.1.4\"><span class=\"toc-item-num\">3.2.1.4&nbsp;&nbsp;</span>Logistic Regression improvement using 'balanced' class_weight</a></span></li><li><span><a href=\"#Logistic-Regression-improving-with-Upsampling\" data-toc-modified-id=\"Logistic-Regression-improving-with-Upsampling-3.2.1.5\"><span class=\"toc-item-num\">3.2.1.5&nbsp;&nbsp;</span>Logistic Regression improving with Upsampling</a></span></li><li><span><a href=\"#Upsampling-with-Enhanced-Dataset-(training-+-validation-set)\" data-toc-modified-id=\"Upsampling-with-Enhanced-Dataset-(training-+-validation-set)-3.2.1.6\"><span class=\"toc-item-num\">3.2.1.6&nbsp;&nbsp;</span>Upsampling with Enhanced Dataset (training + validation set)</a></span></li></ul></li><li><span><a href=\"#Decision-Tree-Classifier-Model\" data-toc-modified-id=\"Decision-Tree-Classifier-Model-3.2.2\"><span class=\"toc-item-num\">3.2.2&nbsp;&nbsp;</span>Decision Tree Classifier Model</a></span><ul class=\"toc-item\"><li><span><a href=\"#Decision-Tree-Model-Building-Without-Optimisation\" data-toc-modified-id=\"Decision-Tree-Model-Building-Without-Optimisation-3.2.2.1\"><span class=\"toc-item-num\">3.2.2.1&nbsp;&nbsp;</span>Decision Tree Model Building Without Optimisation</a></span></li><li><span><a href=\"#Random-Search-Optimisation\" data-toc-modified-id=\"Random-Search-Optimisation-3.2.2.2\"><span class=\"toc-item-num\">3.2.2.2&nbsp;&nbsp;</span>Random Search Optimisation</a></span></li><li><span><a href=\"#Grid-Search-Optimisation\" data-toc-modified-id=\"Grid-Search-Optimisation-3.2.2.3\"><span class=\"toc-item-num\">3.2.2.3&nbsp;&nbsp;</span>Grid Search Optimisation</a></span></li><li><span><a href=\"#f1-Score\" data-toc-modified-id=\"f1-Score-3.2.2.4\"><span class=\"toc-item-num\">3.2.2.4&nbsp;&nbsp;</span>f1 Score</a></span></li><li><span><a href=\"#Decision-Tree-model-improving-with-Upsampling\" data-toc-modified-id=\"Decision-Tree-model-improving-with-Upsampling-3.2.2.5\"><span class=\"toc-item-num\">3.2.2.5&nbsp;&nbsp;</span>Decision Tree model improving with Upsampling</a></span></li><li><span><a href=\"#Decision-Tree-model-improving-with-Downsampling\" data-toc-modified-id=\"Decision-Tree-model-improving-with-Downsampling-3.2.2.6\"><span class=\"toc-item-num\">3.2.2.6&nbsp;&nbsp;</span>Decision Tree model improving with Downsampling</a></span></li><li><span><a href=\"#Upsampling-with-Enhanced-Dataset-(training-+-validation-set)\" data-toc-modified-id=\"Upsampling-with-Enhanced-Dataset-(training-+-validation-set)-3.2.2.7\"><span class=\"toc-item-num\">3.2.2.7&nbsp;&nbsp;</span>Upsampling with Enhanced Dataset (training + validation set)</a></span></li><li><span><a href=\"#Decision-Tree-model-improving-with-threshold-adjustment\" data-toc-modified-id=\"Decision-Tree-model-improving-with-threshold-adjustment-3.2.2.8\"><span class=\"toc-item-num\">3.2.2.8&nbsp;&nbsp;</span>Decision Tree model improving with threshold adjustment</a></span></li></ul></li><li><span><a href=\"#Random-Forest-Model\" data-toc-modified-id=\"Random-Forest-Model-3.2.3\"><span class=\"toc-item-num\">3.2.3&nbsp;&nbsp;</span>Random Forest Model</a></span><ul class=\"toc-item\"><li><span><a href=\"#Random-Forest-Model-Without-Optimisation\" data-toc-modified-id=\"Random-Forest-Model-Without-Optimisation-3.2.3.1\"><span class=\"toc-item-num\">3.2.3.1&nbsp;&nbsp;</span>Random Forest Model Without Optimisation</a></span></li><li><span><a href=\"#Random-Search-Optimisation\" data-toc-modified-id=\"Random-Search-Optimisation-3.2.3.2\"><span class=\"toc-item-num\">3.2.3.2&nbsp;&nbsp;</span>Random Search Optimisation</a></span></li><li><span><a href=\"#Grid-Search-Optimisation\" data-toc-modified-id=\"Grid-Search-Optimisation-3.2.3.3\"><span class=\"toc-item-num\">3.2.3.3&nbsp;&nbsp;</span>Grid Search Optimisation</a></span></li><li><span><a href=\"#f1-Score\" data-toc-modified-id=\"f1-Score-3.2.3.4\"><span class=\"toc-item-num\">3.2.3.4&nbsp;&nbsp;</span>f1 Score</a></span></li><li><span><a href=\"#Random-Forest-Model-improving-with-Upsampling\" data-toc-modified-id=\"Random-Forest-Model-improving-with-Upsampling-3.2.3.5\"><span class=\"toc-item-num\">3.2.3.5&nbsp;&nbsp;</span>Random Forest Model improving with Upsampling</a></span></li><li><span><a href=\"#Upsampling-on-Enhanced-Dataset-(training-+-validation-set)\" data-toc-modified-id=\"Upsampling-on-Enhanced-Dataset-(training-+-validation-set)-3.2.3.6\"><span class=\"toc-item-num\">3.2.3.6&nbsp;&nbsp;</span>Upsampling on Enhanced Dataset (training + validation set)</a></span></li><li><span><a href=\"#Random-Forest-model-improving-with-threshold-adjustment\" data-toc-modified-id=\"Random-Forest-model-improving-with-threshold-adjustment-3.2.3.7\"><span class=\"toc-item-num\">3.2.3.7&nbsp;&nbsp;</span>Random Forest model improving with threshold adjustment</a></span></li></ul></li></ul></li><li><span><a href=\"#AUC---ROC-Score\" data-toc-modified-id=\"AUC---ROC-Score-3.3\"><span class=\"toc-item-num\">3.3&nbsp;&nbsp;</span>AUC - ROC Score</a></span></li></ul></li><li><span><a href=\"#General-Conclusion\" data-toc-modified-id=\"General-Conclusion-4\"><span class=\"toc-item-num\">4&nbsp;&nbsp;</span>General Conclusion</a></span></li></ul></div>"
   ]
  },
  {
   "cell_type": "markdown",
   "metadata": {},
   "source": [
    "# Project description"
   ]
  },
  {
   "cell_type": "markdown",
   "metadata": {},
   "source": [
    "- Beta Bank customers are leaving. The bankers figured out it’s cheaper to save the existing customers rather than to attract new ones.\n",
    "- We need to predict whether a customer will leave the bank soon. We have the data on clients’ past behavior and termination of contracts with the bank.\n",
    "- We will build a model with the maximum possible F1 score. To pass the project, we need an F1 score of at least 0.59. We will check the F1 for the test set.\n",
    "- Additionally, we will measure the AUC-ROC metric and compare it with the F1."
   ]
  },
  {
   "cell_type": "markdown",
   "metadata": {},
   "source": [
    "## Informing the Project Phases"
   ]
  },
  {
   "cell_type": "markdown",
   "metadata": {},
   "source": [
    "- First we will prepare the dataset for model building.\n",
    "\n",
    "\n",
    "- We will build the models for 3 algorithms:\n",
    "        \n",
    "        - Logistic Regression \n",
    "        - Desicion Tree Classifier \n",
    "        - Random Forest Classifier\n",
    "\n",
    "\n",
    "- We will build the models without optimisation and fixing class imbalance.\n",
    "\n",
    "\n",
    "- We will improve our models with hyperparameter optimisations.\n",
    "\n",
    "\n",
    "- We will find the f1 scores for each algorithms without fixing class imbalance.\n",
    "\n",
    "\n",
    "- We will improve the models using these methods;\n",
    "\n",
    "        - Upsampling\n",
    "        - Downsampling\n",
    "        - Threshold Adjustment\n",
    "\n",
    "\n",
    "- At the last, we will analyze ROC Curves and find AUC Scores for each model."
   ]
  },
  {
   "cell_type": "markdown",
   "metadata": {},
   "source": [
    "## Preparing Data"
   ]
  },
  {
   "cell_type": "markdown",
   "metadata": {},
   "source": [
    "- We will import the required libraries for preparing data, then we will examine the dataset using info, head, tail, describe methods.\n",
    "- We will recognize the varibles.\n",
    "- We will analyze the missing values, outliers and \n",
    "- at the last we will decide to get the required columns (features) and target for machine learning section."
   ]
  },
  {
   "cell_type": "code",
   "execution_count": 1,
   "metadata": {},
   "outputs": [],
   "source": [
    "import pandas as pd\n",
    "import numpy as np\n",
    "import matplotlib.pyplot as plt\n",
    "from IPython.display import Image, display"
   ]
  },
  {
   "cell_type": "code",
   "execution_count": 2,
   "metadata": {},
   "outputs": [],
   "source": [
    "bank_data = pd.read_csv('/datasets/Churn.csv')"
   ]
  },
  {
   "cell_type": "code",
   "execution_count": 3,
   "metadata": {
    "scrolled": true
   },
   "outputs": [
    {
     "data": {
      "text/html": [
       "<div>\n",
       "<style scoped>\n",
       "    .dataframe tbody tr th:only-of-type {\n",
       "        vertical-align: middle;\n",
       "    }\n",
       "\n",
       "    .dataframe tbody tr th {\n",
       "        vertical-align: top;\n",
       "    }\n",
       "\n",
       "    .dataframe thead th {\n",
       "        text-align: right;\n",
       "    }\n",
       "</style>\n",
       "<table border=\"1\" class=\"dataframe\">\n",
       "  <thead>\n",
       "    <tr style=\"text-align: right;\">\n",
       "      <th></th>\n",
       "      <th>RowNumber</th>\n",
       "      <th>CustomerId</th>\n",
       "      <th>Surname</th>\n",
       "      <th>CreditScore</th>\n",
       "      <th>Geography</th>\n",
       "      <th>Gender</th>\n",
       "      <th>Age</th>\n",
       "      <th>Tenure</th>\n",
       "      <th>Balance</th>\n",
       "      <th>NumOfProducts</th>\n",
       "      <th>HasCrCard</th>\n",
       "      <th>IsActiveMember</th>\n",
       "      <th>EstimatedSalary</th>\n",
       "      <th>Exited</th>\n",
       "    </tr>\n",
       "  </thead>\n",
       "  <tbody>\n",
       "    <tr>\n",
       "      <td>0</td>\n",
       "      <td>1</td>\n",
       "      <td>15634602</td>\n",
       "      <td>Hargrave</td>\n",
       "      <td>619</td>\n",
       "      <td>France</td>\n",
       "      <td>Female</td>\n",
       "      <td>42</td>\n",
       "      <td>2.0</td>\n",
       "      <td>0.00</td>\n",
       "      <td>1</td>\n",
       "      <td>1</td>\n",
       "      <td>1</td>\n",
       "      <td>101348.88</td>\n",
       "      <td>1</td>\n",
       "    </tr>\n",
       "    <tr>\n",
       "      <td>1</td>\n",
       "      <td>2</td>\n",
       "      <td>15647311</td>\n",
       "      <td>Hill</td>\n",
       "      <td>608</td>\n",
       "      <td>Spain</td>\n",
       "      <td>Female</td>\n",
       "      <td>41</td>\n",
       "      <td>1.0</td>\n",
       "      <td>83807.86</td>\n",
       "      <td>1</td>\n",
       "      <td>0</td>\n",
       "      <td>1</td>\n",
       "      <td>112542.58</td>\n",
       "      <td>0</td>\n",
       "    </tr>\n",
       "    <tr>\n",
       "      <td>2</td>\n",
       "      <td>3</td>\n",
       "      <td>15619304</td>\n",
       "      <td>Onio</td>\n",
       "      <td>502</td>\n",
       "      <td>France</td>\n",
       "      <td>Female</td>\n",
       "      <td>42</td>\n",
       "      <td>8.0</td>\n",
       "      <td>159660.80</td>\n",
       "      <td>3</td>\n",
       "      <td>1</td>\n",
       "      <td>0</td>\n",
       "      <td>113931.57</td>\n",
       "      <td>1</td>\n",
       "    </tr>\n",
       "    <tr>\n",
       "      <td>3</td>\n",
       "      <td>4</td>\n",
       "      <td>15701354</td>\n",
       "      <td>Boni</td>\n",
       "      <td>699</td>\n",
       "      <td>France</td>\n",
       "      <td>Female</td>\n",
       "      <td>39</td>\n",
       "      <td>1.0</td>\n",
       "      <td>0.00</td>\n",
       "      <td>2</td>\n",
       "      <td>0</td>\n",
       "      <td>0</td>\n",
       "      <td>93826.63</td>\n",
       "      <td>0</td>\n",
       "    </tr>\n",
       "    <tr>\n",
       "      <td>4</td>\n",
       "      <td>5</td>\n",
       "      <td>15737888</td>\n",
       "      <td>Mitchell</td>\n",
       "      <td>850</td>\n",
       "      <td>Spain</td>\n",
       "      <td>Female</td>\n",
       "      <td>43</td>\n",
       "      <td>2.0</td>\n",
       "      <td>125510.82</td>\n",
       "      <td>1</td>\n",
       "      <td>1</td>\n",
       "      <td>1</td>\n",
       "      <td>79084.10</td>\n",
       "      <td>0</td>\n",
       "    </tr>\n",
       "  </tbody>\n",
       "</table>\n",
       "</div>"
      ],
      "text/plain": [
       "   RowNumber  CustomerId   Surname  CreditScore Geography  Gender  Age  \\\n",
       "0          1    15634602  Hargrave          619    France  Female   42   \n",
       "1          2    15647311      Hill          608     Spain  Female   41   \n",
       "2          3    15619304      Onio          502    France  Female   42   \n",
       "3          4    15701354      Boni          699    France  Female   39   \n",
       "4          5    15737888  Mitchell          850     Spain  Female   43   \n",
       "\n",
       "   Tenure    Balance  NumOfProducts  HasCrCard  IsActiveMember  \\\n",
       "0     2.0       0.00              1          1               1   \n",
       "1     1.0   83807.86              1          0               1   \n",
       "2     8.0  159660.80              3          1               0   \n",
       "3     1.0       0.00              2          0               0   \n",
       "4     2.0  125510.82              1          1               1   \n",
       "\n",
       "   EstimatedSalary  Exited  \n",
       "0        101348.88       1  \n",
       "1        112542.58       0  \n",
       "2        113931.57       1  \n",
       "3         93826.63       0  \n",
       "4         79084.10       0  "
      ]
     },
     "execution_count": 3,
     "metadata": {},
     "output_type": "execute_result"
    }
   ],
   "source": [
    "bank_data.head()"
   ]
  },
  {
   "cell_type": "markdown",
   "metadata": {},
   "source": [
    "- We will make some changes in the columns names."
   ]
  },
  {
   "cell_type": "code",
   "execution_count": 4,
   "metadata": {},
   "outputs": [],
   "source": [
    "bank_data.columns = (['row_number', 'customer_id', 'surname', 'credit_score', 'country', \n",
    "                      'gender', 'age', 'tenure', 'balance', 'num_of_products', 'has_cr_card', \n",
    "                      'is_active_member', 'estimated_salary', 'exited'])"
   ]
  },
  {
   "cell_type": "code",
   "execution_count": 5,
   "metadata": {},
   "outputs": [
    {
     "data": {
      "text/html": [
       "<div>\n",
       "<style scoped>\n",
       "    .dataframe tbody tr th:only-of-type {\n",
       "        vertical-align: middle;\n",
       "    }\n",
       "\n",
       "    .dataframe tbody tr th {\n",
       "        vertical-align: top;\n",
       "    }\n",
       "\n",
       "    .dataframe thead th {\n",
       "        text-align: right;\n",
       "    }\n",
       "</style>\n",
       "<table border=\"1\" class=\"dataframe\">\n",
       "  <thead>\n",
       "    <tr style=\"text-align: right;\">\n",
       "      <th></th>\n",
       "      <th>row_number</th>\n",
       "      <th>customer_id</th>\n",
       "      <th>surname</th>\n",
       "      <th>credit_score</th>\n",
       "      <th>country</th>\n",
       "      <th>gender</th>\n",
       "      <th>age</th>\n",
       "      <th>tenure</th>\n",
       "      <th>balance</th>\n",
       "      <th>num_of_products</th>\n",
       "      <th>has_cr_card</th>\n",
       "      <th>is_active_member</th>\n",
       "      <th>estimated_salary</th>\n",
       "      <th>exited</th>\n",
       "    </tr>\n",
       "  </thead>\n",
       "  <tbody>\n",
       "    <tr>\n",
       "      <td>9995</td>\n",
       "      <td>9996</td>\n",
       "      <td>15606229</td>\n",
       "      <td>Obijiaku</td>\n",
       "      <td>771</td>\n",
       "      <td>France</td>\n",
       "      <td>Male</td>\n",
       "      <td>39</td>\n",
       "      <td>5.0</td>\n",
       "      <td>0.00</td>\n",
       "      <td>2</td>\n",
       "      <td>1</td>\n",
       "      <td>0</td>\n",
       "      <td>96270.64</td>\n",
       "      <td>0</td>\n",
       "    </tr>\n",
       "    <tr>\n",
       "      <td>9996</td>\n",
       "      <td>9997</td>\n",
       "      <td>15569892</td>\n",
       "      <td>Johnstone</td>\n",
       "      <td>516</td>\n",
       "      <td>France</td>\n",
       "      <td>Male</td>\n",
       "      <td>35</td>\n",
       "      <td>10.0</td>\n",
       "      <td>57369.61</td>\n",
       "      <td>1</td>\n",
       "      <td>1</td>\n",
       "      <td>1</td>\n",
       "      <td>101699.77</td>\n",
       "      <td>0</td>\n",
       "    </tr>\n",
       "    <tr>\n",
       "      <td>9997</td>\n",
       "      <td>9998</td>\n",
       "      <td>15584532</td>\n",
       "      <td>Liu</td>\n",
       "      <td>709</td>\n",
       "      <td>France</td>\n",
       "      <td>Female</td>\n",
       "      <td>36</td>\n",
       "      <td>7.0</td>\n",
       "      <td>0.00</td>\n",
       "      <td>1</td>\n",
       "      <td>0</td>\n",
       "      <td>1</td>\n",
       "      <td>42085.58</td>\n",
       "      <td>1</td>\n",
       "    </tr>\n",
       "    <tr>\n",
       "      <td>9998</td>\n",
       "      <td>9999</td>\n",
       "      <td>15682355</td>\n",
       "      <td>Sabbatini</td>\n",
       "      <td>772</td>\n",
       "      <td>Germany</td>\n",
       "      <td>Male</td>\n",
       "      <td>42</td>\n",
       "      <td>3.0</td>\n",
       "      <td>75075.31</td>\n",
       "      <td>2</td>\n",
       "      <td>1</td>\n",
       "      <td>0</td>\n",
       "      <td>92888.52</td>\n",
       "      <td>1</td>\n",
       "    </tr>\n",
       "    <tr>\n",
       "      <td>9999</td>\n",
       "      <td>10000</td>\n",
       "      <td>15628319</td>\n",
       "      <td>Walker</td>\n",
       "      <td>792</td>\n",
       "      <td>France</td>\n",
       "      <td>Female</td>\n",
       "      <td>28</td>\n",
       "      <td>NaN</td>\n",
       "      <td>130142.79</td>\n",
       "      <td>1</td>\n",
       "      <td>1</td>\n",
       "      <td>0</td>\n",
       "      <td>38190.78</td>\n",
       "      <td>0</td>\n",
       "    </tr>\n",
       "  </tbody>\n",
       "</table>\n",
       "</div>"
      ],
      "text/plain": [
       "      row_number  customer_id    surname  credit_score  country  gender  age  \\\n",
       "9995        9996     15606229   Obijiaku           771   France    Male   39   \n",
       "9996        9997     15569892  Johnstone           516   France    Male   35   \n",
       "9997        9998     15584532        Liu           709   France  Female   36   \n",
       "9998        9999     15682355  Sabbatini           772  Germany    Male   42   \n",
       "9999       10000     15628319     Walker           792   France  Female   28   \n",
       "\n",
       "      tenure    balance  num_of_products  has_cr_card  is_active_member  \\\n",
       "9995     5.0       0.00                2            1                 0   \n",
       "9996    10.0   57369.61                1            1                 1   \n",
       "9997     7.0       0.00                1            0                 1   \n",
       "9998     3.0   75075.31                2            1                 0   \n",
       "9999     NaN  130142.79                1            1                 0   \n",
       "\n",
       "      estimated_salary  exited  \n",
       "9995          96270.64       0  \n",
       "9996         101699.77       0  \n",
       "9997          42085.58       1  \n",
       "9998          92888.52       1  \n",
       "9999          38190.78       0  "
      ]
     },
     "execution_count": 5,
     "metadata": {},
     "output_type": "execute_result"
    }
   ],
   "source": [
    "bank_data.tail()"
   ]
  },
  {
   "cell_type": "code",
   "execution_count": 6,
   "metadata": {},
   "outputs": [
    {
     "name": "stdout",
     "output_type": "stream",
     "text": [
      "<class 'pandas.core.frame.DataFrame'>\n",
      "RangeIndex: 10000 entries, 0 to 9999\n",
      "Data columns (total 14 columns):\n",
      "row_number          10000 non-null int64\n",
      "customer_id         10000 non-null int64\n",
      "surname             10000 non-null object\n",
      "credit_score        10000 non-null int64\n",
      "country             10000 non-null object\n",
      "gender              10000 non-null object\n",
      "age                 10000 non-null int64\n",
      "tenure              9091 non-null float64\n",
      "balance             10000 non-null float64\n",
      "num_of_products     10000 non-null int64\n",
      "has_cr_card         10000 non-null int64\n",
      "is_active_member    10000 non-null int64\n",
      "estimated_salary    10000 non-null float64\n",
      "exited              10000 non-null int64\n",
      "dtypes: float64(3), int64(8), object(3)\n",
      "memory usage: 1.1+ MB\n"
     ]
    }
   ],
   "source": [
    "bank_data.info()"
   ]
  },
  {
   "cell_type": "code",
   "execution_count": 7,
   "metadata": {},
   "outputs": [
    {
     "data": {
      "text/html": [
       "<div>\n",
       "<style scoped>\n",
       "    .dataframe tbody tr th:only-of-type {\n",
       "        vertical-align: middle;\n",
       "    }\n",
       "\n",
       "    .dataframe tbody tr th {\n",
       "        vertical-align: top;\n",
       "    }\n",
       "\n",
       "    .dataframe thead th {\n",
       "        text-align: right;\n",
       "    }\n",
       "</style>\n",
       "<table border=\"1\" class=\"dataframe\">\n",
       "  <thead>\n",
       "    <tr style=\"text-align: right;\">\n",
       "      <th></th>\n",
       "      <th>count</th>\n",
       "      <th>mean</th>\n",
       "      <th>std</th>\n",
       "      <th>min</th>\n",
       "      <th>25%</th>\n",
       "      <th>50%</th>\n",
       "      <th>75%</th>\n",
       "      <th>max</th>\n",
       "    </tr>\n",
       "  </thead>\n",
       "  <tbody>\n",
       "    <tr>\n",
       "      <td>row_number</td>\n",
       "      <td>10000.0</td>\n",
       "      <td>5.000500e+03</td>\n",
       "      <td>2886.895680</td>\n",
       "      <td>1.00</td>\n",
       "      <td>2500.75</td>\n",
       "      <td>5.000500e+03</td>\n",
       "      <td>7.500250e+03</td>\n",
       "      <td>10000.00</td>\n",
       "    </tr>\n",
       "    <tr>\n",
       "      <td>customer_id</td>\n",
       "      <td>10000.0</td>\n",
       "      <td>1.569094e+07</td>\n",
       "      <td>71936.186123</td>\n",
       "      <td>15565701.00</td>\n",
       "      <td>15628528.25</td>\n",
       "      <td>1.569074e+07</td>\n",
       "      <td>1.575323e+07</td>\n",
       "      <td>15815690.00</td>\n",
       "    </tr>\n",
       "    <tr>\n",
       "      <td>credit_score</td>\n",
       "      <td>10000.0</td>\n",
       "      <td>6.505288e+02</td>\n",
       "      <td>96.653299</td>\n",
       "      <td>350.00</td>\n",
       "      <td>584.00</td>\n",
       "      <td>6.520000e+02</td>\n",
       "      <td>7.180000e+02</td>\n",
       "      <td>850.00</td>\n",
       "    </tr>\n",
       "    <tr>\n",
       "      <td>age</td>\n",
       "      <td>10000.0</td>\n",
       "      <td>3.892180e+01</td>\n",
       "      <td>10.487806</td>\n",
       "      <td>18.00</td>\n",
       "      <td>32.00</td>\n",
       "      <td>3.700000e+01</td>\n",
       "      <td>4.400000e+01</td>\n",
       "      <td>92.00</td>\n",
       "    </tr>\n",
       "    <tr>\n",
       "      <td>tenure</td>\n",
       "      <td>9091.0</td>\n",
       "      <td>4.997690e+00</td>\n",
       "      <td>2.894723</td>\n",
       "      <td>0.00</td>\n",
       "      <td>2.00</td>\n",
       "      <td>5.000000e+00</td>\n",
       "      <td>7.000000e+00</td>\n",
       "      <td>10.00</td>\n",
       "    </tr>\n",
       "    <tr>\n",
       "      <td>balance</td>\n",
       "      <td>10000.0</td>\n",
       "      <td>7.648589e+04</td>\n",
       "      <td>62397.405202</td>\n",
       "      <td>0.00</td>\n",
       "      <td>0.00</td>\n",
       "      <td>9.719854e+04</td>\n",
       "      <td>1.276442e+05</td>\n",
       "      <td>250898.09</td>\n",
       "    </tr>\n",
       "    <tr>\n",
       "      <td>num_of_products</td>\n",
       "      <td>10000.0</td>\n",
       "      <td>1.530200e+00</td>\n",
       "      <td>0.581654</td>\n",
       "      <td>1.00</td>\n",
       "      <td>1.00</td>\n",
       "      <td>1.000000e+00</td>\n",
       "      <td>2.000000e+00</td>\n",
       "      <td>4.00</td>\n",
       "    </tr>\n",
       "    <tr>\n",
       "      <td>has_cr_card</td>\n",
       "      <td>10000.0</td>\n",
       "      <td>7.055000e-01</td>\n",
       "      <td>0.455840</td>\n",
       "      <td>0.00</td>\n",
       "      <td>0.00</td>\n",
       "      <td>1.000000e+00</td>\n",
       "      <td>1.000000e+00</td>\n",
       "      <td>1.00</td>\n",
       "    </tr>\n",
       "    <tr>\n",
       "      <td>is_active_member</td>\n",
       "      <td>10000.0</td>\n",
       "      <td>5.151000e-01</td>\n",
       "      <td>0.499797</td>\n",
       "      <td>0.00</td>\n",
       "      <td>0.00</td>\n",
       "      <td>1.000000e+00</td>\n",
       "      <td>1.000000e+00</td>\n",
       "      <td>1.00</td>\n",
       "    </tr>\n",
       "    <tr>\n",
       "      <td>estimated_salary</td>\n",
       "      <td>10000.0</td>\n",
       "      <td>1.000902e+05</td>\n",
       "      <td>57510.492818</td>\n",
       "      <td>11.58</td>\n",
       "      <td>51002.11</td>\n",
       "      <td>1.001939e+05</td>\n",
       "      <td>1.493882e+05</td>\n",
       "      <td>199992.48</td>\n",
       "    </tr>\n",
       "    <tr>\n",
       "      <td>exited</td>\n",
       "      <td>10000.0</td>\n",
       "      <td>2.037000e-01</td>\n",
       "      <td>0.402769</td>\n",
       "      <td>0.00</td>\n",
       "      <td>0.00</td>\n",
       "      <td>0.000000e+00</td>\n",
       "      <td>0.000000e+00</td>\n",
       "      <td>1.00</td>\n",
       "    </tr>\n",
       "  </tbody>\n",
       "</table>\n",
       "</div>"
      ],
      "text/plain": [
       "                    count          mean           std          min  \\\n",
       "row_number        10000.0  5.000500e+03   2886.895680         1.00   \n",
       "customer_id       10000.0  1.569094e+07  71936.186123  15565701.00   \n",
       "credit_score      10000.0  6.505288e+02     96.653299       350.00   \n",
       "age               10000.0  3.892180e+01     10.487806        18.00   \n",
       "tenure             9091.0  4.997690e+00      2.894723         0.00   \n",
       "balance           10000.0  7.648589e+04  62397.405202         0.00   \n",
       "num_of_products   10000.0  1.530200e+00      0.581654         1.00   \n",
       "has_cr_card       10000.0  7.055000e-01      0.455840         0.00   \n",
       "is_active_member  10000.0  5.151000e-01      0.499797         0.00   \n",
       "estimated_salary  10000.0  1.000902e+05  57510.492818        11.58   \n",
       "exited            10000.0  2.037000e-01      0.402769         0.00   \n",
       "\n",
       "                          25%           50%           75%          max  \n",
       "row_number            2500.75  5.000500e+03  7.500250e+03     10000.00  \n",
       "customer_id       15628528.25  1.569074e+07  1.575323e+07  15815690.00  \n",
       "credit_score           584.00  6.520000e+02  7.180000e+02       850.00  \n",
       "age                     32.00  3.700000e+01  4.400000e+01        92.00  \n",
       "tenure                   2.00  5.000000e+00  7.000000e+00        10.00  \n",
       "balance                  0.00  9.719854e+04  1.276442e+05    250898.09  \n",
       "num_of_products          1.00  1.000000e+00  2.000000e+00         4.00  \n",
       "has_cr_card              0.00  1.000000e+00  1.000000e+00         1.00  \n",
       "is_active_member         0.00  1.000000e+00  1.000000e+00         1.00  \n",
       "estimated_salary     51002.11  1.001939e+05  1.493882e+05    199992.48  \n",
       "exited                   0.00  0.000000e+00  0.000000e+00         1.00  "
      ]
     },
     "execution_count": 7,
     "metadata": {},
     "output_type": "execute_result"
    }
   ],
   "source": [
    "bank_data.describe().T"
   ]
  },
  {
   "cell_type": "code",
   "execution_count": 8,
   "metadata": {},
   "outputs": [
    {
     "data": {
      "text/html": [
       "<div>\n",
       "<style scoped>\n",
       "    .dataframe tbody tr th:only-of-type {\n",
       "        vertical-align: middle;\n",
       "    }\n",
       "\n",
       "    .dataframe tbody tr th {\n",
       "        vertical-align: top;\n",
       "    }\n",
       "\n",
       "    .dataframe thead th {\n",
       "        text-align: right;\n",
       "    }\n",
       "</style>\n",
       "<table border=\"1\" class=\"dataframe\">\n",
       "  <thead>\n",
       "    <tr style=\"text-align: right;\">\n",
       "      <th></th>\n",
       "      <th>row_number</th>\n",
       "      <th>customer_id</th>\n",
       "      <th>credit_score</th>\n",
       "      <th>age</th>\n",
       "      <th>tenure</th>\n",
       "      <th>balance</th>\n",
       "      <th>num_of_products</th>\n",
       "      <th>has_cr_card</th>\n",
       "      <th>is_active_member</th>\n",
       "      <th>estimated_salary</th>\n",
       "      <th>exited</th>\n",
       "    </tr>\n",
       "  </thead>\n",
       "  <tbody>\n",
       "    <tr>\n",
       "      <td>row_number</td>\n",
       "      <td>1.000000</td>\n",
       "      <td>0.004202</td>\n",
       "      <td>0.005840</td>\n",
       "      <td>0.000783</td>\n",
       "      <td>-0.007322</td>\n",
       "      <td>-0.009067</td>\n",
       "      <td>0.007246</td>\n",
       "      <td>0.000599</td>\n",
       "      <td>0.012044</td>\n",
       "      <td>-0.005988</td>\n",
       "      <td>-0.016571</td>\n",
       "    </tr>\n",
       "    <tr>\n",
       "      <td>customer_id</td>\n",
       "      <td>0.004202</td>\n",
       "      <td>1.000000</td>\n",
       "      <td>0.005308</td>\n",
       "      <td>0.009497</td>\n",
       "      <td>-0.021418</td>\n",
       "      <td>-0.012419</td>\n",
       "      <td>0.016972</td>\n",
       "      <td>-0.014025</td>\n",
       "      <td>0.001665</td>\n",
       "      <td>0.015271</td>\n",
       "      <td>-0.006248</td>\n",
       "    </tr>\n",
       "    <tr>\n",
       "      <td>credit_score</td>\n",
       "      <td>0.005840</td>\n",
       "      <td>0.005308</td>\n",
       "      <td>1.000000</td>\n",
       "      <td>-0.003965</td>\n",
       "      <td>-0.000062</td>\n",
       "      <td>0.006268</td>\n",
       "      <td>0.012238</td>\n",
       "      <td>-0.005458</td>\n",
       "      <td>0.025651</td>\n",
       "      <td>-0.001384</td>\n",
       "      <td>-0.027094</td>\n",
       "    </tr>\n",
       "    <tr>\n",
       "      <td>age</td>\n",
       "      <td>0.000783</td>\n",
       "      <td>0.009497</td>\n",
       "      <td>-0.003965</td>\n",
       "      <td>1.000000</td>\n",
       "      <td>-0.013134</td>\n",
       "      <td>0.028308</td>\n",
       "      <td>-0.030680</td>\n",
       "      <td>-0.011721</td>\n",
       "      <td>0.085472</td>\n",
       "      <td>-0.007201</td>\n",
       "      <td>0.285323</td>\n",
       "    </tr>\n",
       "    <tr>\n",
       "      <td>tenure</td>\n",
       "      <td>-0.007322</td>\n",
       "      <td>-0.021418</td>\n",
       "      <td>-0.000062</td>\n",
       "      <td>-0.013134</td>\n",
       "      <td>1.000000</td>\n",
       "      <td>-0.007911</td>\n",
       "      <td>0.011979</td>\n",
       "      <td>0.027232</td>\n",
       "      <td>-0.032178</td>\n",
       "      <td>0.010520</td>\n",
       "      <td>-0.016761</td>\n",
       "    </tr>\n",
       "    <tr>\n",
       "      <td>balance</td>\n",
       "      <td>-0.009067</td>\n",
       "      <td>-0.012419</td>\n",
       "      <td>0.006268</td>\n",
       "      <td>0.028308</td>\n",
       "      <td>-0.007911</td>\n",
       "      <td>1.000000</td>\n",
       "      <td>-0.304180</td>\n",
       "      <td>-0.014858</td>\n",
       "      <td>-0.010084</td>\n",
       "      <td>0.012797</td>\n",
       "      <td>0.118533</td>\n",
       "    </tr>\n",
       "    <tr>\n",
       "      <td>num_of_products</td>\n",
       "      <td>0.007246</td>\n",
       "      <td>0.016972</td>\n",
       "      <td>0.012238</td>\n",
       "      <td>-0.030680</td>\n",
       "      <td>0.011979</td>\n",
       "      <td>-0.304180</td>\n",
       "      <td>1.000000</td>\n",
       "      <td>0.003183</td>\n",
       "      <td>0.009612</td>\n",
       "      <td>0.014204</td>\n",
       "      <td>-0.047820</td>\n",
       "    </tr>\n",
       "    <tr>\n",
       "      <td>has_cr_card</td>\n",
       "      <td>0.000599</td>\n",
       "      <td>-0.014025</td>\n",
       "      <td>-0.005458</td>\n",
       "      <td>-0.011721</td>\n",
       "      <td>0.027232</td>\n",
       "      <td>-0.014858</td>\n",
       "      <td>0.003183</td>\n",
       "      <td>1.000000</td>\n",
       "      <td>-0.011866</td>\n",
       "      <td>-0.009933</td>\n",
       "      <td>-0.007138</td>\n",
       "    </tr>\n",
       "    <tr>\n",
       "      <td>is_active_member</td>\n",
       "      <td>0.012044</td>\n",
       "      <td>0.001665</td>\n",
       "      <td>0.025651</td>\n",
       "      <td>0.085472</td>\n",
       "      <td>-0.032178</td>\n",
       "      <td>-0.010084</td>\n",
       "      <td>0.009612</td>\n",
       "      <td>-0.011866</td>\n",
       "      <td>1.000000</td>\n",
       "      <td>-0.011421</td>\n",
       "      <td>-0.156128</td>\n",
       "    </tr>\n",
       "    <tr>\n",
       "      <td>estimated_salary</td>\n",
       "      <td>-0.005988</td>\n",
       "      <td>0.015271</td>\n",
       "      <td>-0.001384</td>\n",
       "      <td>-0.007201</td>\n",
       "      <td>0.010520</td>\n",
       "      <td>0.012797</td>\n",
       "      <td>0.014204</td>\n",
       "      <td>-0.009933</td>\n",
       "      <td>-0.011421</td>\n",
       "      <td>1.000000</td>\n",
       "      <td>0.012097</td>\n",
       "    </tr>\n",
       "    <tr>\n",
       "      <td>exited</td>\n",
       "      <td>-0.016571</td>\n",
       "      <td>-0.006248</td>\n",
       "      <td>-0.027094</td>\n",
       "      <td>0.285323</td>\n",
       "      <td>-0.016761</td>\n",
       "      <td>0.118533</td>\n",
       "      <td>-0.047820</td>\n",
       "      <td>-0.007138</td>\n",
       "      <td>-0.156128</td>\n",
       "      <td>0.012097</td>\n",
       "      <td>1.000000</td>\n",
       "    </tr>\n",
       "  </tbody>\n",
       "</table>\n",
       "</div>"
      ],
      "text/plain": [
       "                  row_number  customer_id  credit_score       age    tenure  \\\n",
       "row_number          1.000000     0.004202      0.005840  0.000783 -0.007322   \n",
       "customer_id         0.004202     1.000000      0.005308  0.009497 -0.021418   \n",
       "credit_score        0.005840     0.005308      1.000000 -0.003965 -0.000062   \n",
       "age                 0.000783     0.009497     -0.003965  1.000000 -0.013134   \n",
       "tenure             -0.007322    -0.021418     -0.000062 -0.013134  1.000000   \n",
       "balance            -0.009067    -0.012419      0.006268  0.028308 -0.007911   \n",
       "num_of_products     0.007246     0.016972      0.012238 -0.030680  0.011979   \n",
       "has_cr_card         0.000599    -0.014025     -0.005458 -0.011721  0.027232   \n",
       "is_active_member    0.012044     0.001665      0.025651  0.085472 -0.032178   \n",
       "estimated_salary   -0.005988     0.015271     -0.001384 -0.007201  0.010520   \n",
       "exited             -0.016571    -0.006248     -0.027094  0.285323 -0.016761   \n",
       "\n",
       "                   balance  num_of_products  has_cr_card  is_active_member  \\\n",
       "row_number       -0.009067         0.007246     0.000599          0.012044   \n",
       "customer_id      -0.012419         0.016972    -0.014025          0.001665   \n",
       "credit_score      0.006268         0.012238    -0.005458          0.025651   \n",
       "age               0.028308        -0.030680    -0.011721          0.085472   \n",
       "tenure           -0.007911         0.011979     0.027232         -0.032178   \n",
       "balance           1.000000        -0.304180    -0.014858         -0.010084   \n",
       "num_of_products  -0.304180         1.000000     0.003183          0.009612   \n",
       "has_cr_card      -0.014858         0.003183     1.000000         -0.011866   \n",
       "is_active_member -0.010084         0.009612    -0.011866          1.000000   \n",
       "estimated_salary  0.012797         0.014204    -0.009933         -0.011421   \n",
       "exited            0.118533        -0.047820    -0.007138         -0.156128   \n",
       "\n",
       "                  estimated_salary    exited  \n",
       "row_number               -0.005988 -0.016571  \n",
       "customer_id               0.015271 -0.006248  \n",
       "credit_score             -0.001384 -0.027094  \n",
       "age                      -0.007201  0.285323  \n",
       "tenure                    0.010520 -0.016761  \n",
       "balance                   0.012797  0.118533  \n",
       "num_of_products           0.014204 -0.047820  \n",
       "has_cr_card              -0.009933 -0.007138  \n",
       "is_active_member         -0.011421 -0.156128  \n",
       "estimated_salary          1.000000  0.012097  \n",
       "exited                    0.012097  1.000000  "
      ]
     },
     "execution_count": 8,
     "metadata": {},
     "output_type": "execute_result"
    }
   ],
   "source": [
    "bank_data.corr()"
   ]
  },
  {
   "cell_type": "markdown",
   "metadata": {},
   "source": [
    "- The 'age' has the highest correlation with 'exited' status. **(0.28)**"
   ]
  },
  {
   "cell_type": "code",
   "execution_count": 9,
   "metadata": {},
   "outputs": [
    {
     "data": {
      "text/plain": [
       "0"
      ]
     },
     "execution_count": 9,
     "metadata": {},
     "output_type": "execute_result"
    }
   ],
   "source": [
    "bank_data.duplicated().sum()"
   ]
  },
  {
   "cell_type": "code",
   "execution_count": 10,
   "metadata": {},
   "outputs": [
    {
     "data": {
      "text/plain": [
       "row_number            0\n",
       "customer_id           0\n",
       "surname               0\n",
       "credit_score          0\n",
       "country               0\n",
       "gender                0\n",
       "age                   0\n",
       "tenure              909\n",
       "balance               0\n",
       "num_of_products       0\n",
       "has_cr_card           0\n",
       "is_active_member      0\n",
       "estimated_salary      0\n",
       "exited                0\n",
       "dtype: int64"
      ]
     },
     "execution_count": 10,
     "metadata": {},
     "output_type": "execute_result"
    }
   ],
   "source": [
    "bank_data.isnull().sum()"
   ]
  },
  {
   "cell_type": "markdown",
   "metadata": {},
   "source": [
    "    - There are missing values only in 'tenure' column, we will analyze them to decide whether drop or fill.\n",
    "    - Target variable is 'exited', we will try to build a model to predict the 'exited' status of the customers.\n",
    "    - row_number is similar of index_number, it just starts from 1. We don't need the row_number column, we will drop them.\n",
    "    - 'customer_id' should be unique for each customer, and also should be string, but we actually don't need the 'customer_id'. We will drop them.\n",
    "    - 'surname' is also related to the customers and it doesn't have any effect on 'exited' status.\n",
    "    - The other remaining variables will be the features.\n",
    "- We will describe the features in the next steps, but first we will analyze them."
   ]
  },
  {
   "cell_type": "code",
   "execution_count": 11,
   "metadata": {},
   "outputs": [
    {
     "data": {
      "text/plain": [
       "count    9091.000000\n",
       "mean        4.997690\n",
       "std         2.894723\n",
       "min         0.000000\n",
       "25%         2.000000\n",
       "50%         5.000000\n",
       "75%         7.000000\n",
       "max        10.000000\n",
       "Name: tenure, dtype: float64"
      ]
     },
     "execution_count": 11,
     "metadata": {},
     "output_type": "execute_result"
    }
   ],
   "source": [
    "bank_data.tenure.describe()"
   ]
  },
  {
   "cell_type": "code",
   "execution_count": 12,
   "metadata": {},
   "outputs": [
    {
     "data": {
      "image/png": "[encoded data removed]",
      "text/plain": [
       "<Figure size 432x288 with 1 Axes>"
      ]
     },
     "metadata": {
      "needs_background": "light"
     },
     "output_type": "display_data"
    }
   ],
   "source": [
    "bank_data.tenure.hist();"
   ]
  },
  {
   "cell_type": "code",
   "execution_count": 13,
   "metadata": {},
   "outputs": [
    {
     "data": {
      "text/html": [
       "<div>\n",
       "<style scoped>\n",
       "    .dataframe tbody tr th:only-of-type {\n",
       "        vertical-align: middle;\n",
       "    }\n",
       "\n",
       "    .dataframe tbody tr th {\n",
       "        vertical-align: top;\n",
       "    }\n",
       "\n",
       "    .dataframe thead tr th {\n",
       "        text-align: left;\n",
       "    }\n",
       "\n",
       "    .dataframe thead tr:last-of-type th {\n",
       "        text-align: right;\n",
       "    }\n",
       "</style>\n",
       "<table border=\"1\" class=\"dataframe\">\n",
       "  <thead>\n",
       "    <tr>\n",
       "      <th>country</th>\n",
       "      <th colspan=\"2\" halign=\"left\">France</th>\n",
       "      <th colspan=\"2\" halign=\"left\">Germany</th>\n",
       "      <th colspan=\"2\" halign=\"left\">Spain</th>\n",
       "    </tr>\n",
       "    <tr>\n",
       "      <th>gender</th>\n",
       "      <th>Female</th>\n",
       "      <th>Male</th>\n",
       "      <th>Female</th>\n",
       "      <th>Male</th>\n",
       "      <th>Female</th>\n",
       "      <th>Male</th>\n",
       "    </tr>\n",
       "    <tr>\n",
       "      <th>tenure</th>\n",
       "      <th></th>\n",
       "      <th></th>\n",
       "      <th></th>\n",
       "      <th></th>\n",
       "      <th></th>\n",
       "      <th></th>\n",
       "    </tr>\n",
       "  </thead>\n",
       "  <tbody>\n",
       "    <tr>\n",
       "      <td>0.0</td>\n",
       "      <td>64489.741263</td>\n",
       "      <td>64933.602826</td>\n",
       "      <td>121951.978800</td>\n",
       "      <td>124435.353750</td>\n",
       "      <td>58580.348780</td>\n",
       "      <td>72124.647857</td>\n",
       "    </tr>\n",
       "    <tr>\n",
       "      <td>1.0</td>\n",
       "      <td>62947.112632</td>\n",
       "      <td>62690.155756</td>\n",
       "      <td>119018.104762</td>\n",
       "      <td>118027.808347</td>\n",
       "      <td>59310.487941</td>\n",
       "      <td>66499.158862</td>\n",
       "    </tr>\n",
       "    <tr>\n",
       "      <td>2.0</td>\n",
       "      <td>60949.430271</td>\n",
       "      <td>63402.017903</td>\n",
       "      <td>118843.563534</td>\n",
       "      <td>119754.972353</td>\n",
       "      <td>53559.807340</td>\n",
       "      <td>62049.010148</td>\n",
       "    </tr>\n",
       "    <tr>\n",
       "      <td>3.0</td>\n",
       "      <td>63867.919548</td>\n",
       "      <td>64080.331833</td>\n",
       "      <td>119852.076577</td>\n",
       "      <td>120100.095703</td>\n",
       "      <td>60951.842828</td>\n",
       "      <td>64164.689612</td>\n",
       "    </tr>\n",
       "    <tr>\n",
       "      <td>4.0</td>\n",
       "      <td>56629.120097</td>\n",
       "      <td>69974.433825</td>\n",
       "      <td>113415.738925</td>\n",
       "      <td>120057.866293</td>\n",
       "      <td>51866.830521</td>\n",
       "      <td>56301.915082</td>\n",
       "    </tr>\n",
       "    <tr>\n",
       "      <td>5.0</td>\n",
       "      <td>54815.176932</td>\n",
       "      <td>60879.468642</td>\n",
       "      <td>119358.332982</td>\n",
       "      <td>119111.727540</td>\n",
       "      <td>63823.352544</td>\n",
       "      <td>67489.488939</td>\n",
       "    </tr>\n",
       "    <tr>\n",
       "      <td>6.0</td>\n",
       "      <td>59357.643803</td>\n",
       "      <td>63133.872075</td>\n",
       "      <td>117882.010900</td>\n",
       "      <td>119794.288241</td>\n",
       "      <td>52957.746449</td>\n",
       "      <td>69622.688482</td>\n",
       "    </tr>\n",
       "    <tr>\n",
       "      <td>7.0</td>\n",
       "      <td>61017.394932</td>\n",
       "      <td>63039.175663</td>\n",
       "      <td>121124.146364</td>\n",
       "      <td>118238.966827</td>\n",
       "      <td>69051.666800</td>\n",
       "      <td>65210.169836</td>\n",
       "    </tr>\n",
       "    <tr>\n",
       "      <td>8.0</td>\n",
       "      <td>62918.778870</td>\n",
       "      <td>63343.510898</td>\n",
       "      <td>123088.202075</td>\n",
       "      <td>122426.618955</td>\n",
       "      <td>56552.868739</td>\n",
       "      <td>64896.733875</td>\n",
       "    </tr>\n",
       "    <tr>\n",
       "      <td>9.0</td>\n",
       "      <td>60638.499397</td>\n",
       "      <td>61607.633147</td>\n",
       "      <td>117833.025446</td>\n",
       "      <td>124977.552214</td>\n",
       "      <td>56972.643333</td>\n",
       "      <td>60429.872301</td>\n",
       "    </tr>\n",
       "    <tr>\n",
       "      <td>10.0</td>\n",
       "      <td>53514.059238</td>\n",
       "      <td>65703.813496</td>\n",
       "      <td>114149.584928</td>\n",
       "      <td>114611.032979</td>\n",
       "      <td>60023.750652</td>\n",
       "      <td>55218.276429</td>\n",
       "    </tr>\n",
       "  </tbody>\n",
       "</table>\n",
       "</div>"
      ],
      "text/plain": [
       "country        France                      Germany                 \\\n",
       "gender         Female          Male         Female           Male   \n",
       "tenure                                                              \n",
       "0.0      64489.741263  64933.602826  121951.978800  124435.353750   \n",
       "1.0      62947.112632  62690.155756  119018.104762  118027.808347   \n",
       "2.0      60949.430271  63402.017903  118843.563534  119754.972353   \n",
       "3.0      63867.919548  64080.331833  119852.076577  120100.095703   \n",
       "4.0      56629.120097  69974.433825  113415.738925  120057.866293   \n",
       "5.0      54815.176932  60879.468642  119358.332982  119111.727540   \n",
       "6.0      59357.643803  63133.872075  117882.010900  119794.288241   \n",
       "7.0      61017.394932  63039.175663  121124.146364  118238.966827   \n",
       "8.0      62918.778870  63343.510898  123088.202075  122426.618955   \n",
       "9.0      60638.499397  61607.633147  117833.025446  124977.552214   \n",
       "10.0     53514.059238  65703.813496  114149.584928  114611.032979   \n",
       "\n",
       "country         Spain                \n",
       "gender         Female          Male  \n",
       "tenure                               \n",
       "0.0      58580.348780  72124.647857  \n",
       "1.0      59310.487941  66499.158862  \n",
       "2.0      53559.807340  62049.010148  \n",
       "3.0      60951.842828  64164.689612  \n",
       "4.0      51866.830521  56301.915082  \n",
       "5.0      63823.352544  67489.488939  \n",
       "6.0      52957.746449  69622.688482  \n",
       "7.0      69051.666800  65210.169836  \n",
       "8.0      56552.868739  64896.733875  \n",
       "9.0      56972.643333  60429.872301  \n",
       "10.0     60023.750652  55218.276429  "
      ]
     },
     "execution_count": 13,
     "metadata": {},
     "output_type": "execute_result"
    }
   ],
   "source": [
    "bank_data.pivot_table(index='tenure', columns=['country', 'gender'], values='balance', aggfunc='mean')"
   ]
  },
  {
   "cell_type": "code",
   "execution_count": 14,
   "metadata": {},
   "outputs": [
    {
     "data": {
      "text/html": [
       "<div>\n",
       "<style scoped>\n",
       "    .dataframe tbody tr th:only-of-type {\n",
       "        vertical-align: middle;\n",
       "    }\n",
       "\n",
       "    .dataframe tbody tr th {\n",
       "        vertical-align: top;\n",
       "    }\n",
       "\n",
       "    .dataframe thead th {\n",
       "        text-align: right;\n",
       "    }\n",
       "</style>\n",
       "<table border=\"1\" class=\"dataframe\">\n",
       "  <thead>\n",
       "    <tr style=\"text-align: right;\">\n",
       "      <th></th>\n",
       "      <th>row_number</th>\n",
       "      <th>customer_id</th>\n",
       "      <th>surname</th>\n",
       "      <th>credit_score</th>\n",
       "      <th>country</th>\n",
       "      <th>gender</th>\n",
       "      <th>age</th>\n",
       "      <th>tenure</th>\n",
       "      <th>balance</th>\n",
       "      <th>num_of_products</th>\n",
       "      <th>has_cr_card</th>\n",
       "      <th>is_active_member</th>\n",
       "      <th>estimated_salary</th>\n",
       "      <th>exited</th>\n",
       "    </tr>\n",
       "  </thead>\n",
       "  <tbody>\n",
       "    <tr>\n",
       "      <td>8569</td>\n",
       "      <td>8570</td>\n",
       "      <td>15733460</td>\n",
       "      <td>Martin</td>\n",
       "      <td>622</td>\n",
       "      <td>Spain</td>\n",
       "      <td>Male</td>\n",
       "      <td>36</td>\n",
       "      <td>NaN</td>\n",
       "      <td>0.00</td>\n",
       "      <td>2</td>\n",
       "      <td>1</td>\n",
       "      <td>1</td>\n",
       "      <td>104852.60</td>\n",
       "      <td>0</td>\n",
       "    </tr>\n",
       "    <tr>\n",
       "      <td>6865</td>\n",
       "      <td>6866</td>\n",
       "      <td>15598536</td>\n",
       "      <td>Onuchukwu</td>\n",
       "      <td>736</td>\n",
       "      <td>Germany</td>\n",
       "      <td>Female</td>\n",
       "      <td>26</td>\n",
       "      <td>NaN</td>\n",
       "      <td>84587.90</td>\n",
       "      <td>1</td>\n",
       "      <td>0</td>\n",
       "      <td>1</td>\n",
       "      <td>188037.76</td>\n",
       "      <td>0</td>\n",
       "    </tr>\n",
       "    <tr>\n",
       "      <td>8058</td>\n",
       "      <td>8059</td>\n",
       "      <td>15698184</td>\n",
       "      <td>Marshall</td>\n",
       "      <td>484</td>\n",
       "      <td>France</td>\n",
       "      <td>Female</td>\n",
       "      <td>50</td>\n",
       "      <td>NaN</td>\n",
       "      <td>90408.16</td>\n",
       "      <td>2</td>\n",
       "      <td>0</td>\n",
       "      <td>0</td>\n",
       "      <td>48170.57</td>\n",
       "      <td>0</td>\n",
       "    </tr>\n",
       "    <tr>\n",
       "      <td>1368</td>\n",
       "      <td>1369</td>\n",
       "      <td>15745843</td>\n",
       "      <td>Kinlaw</td>\n",
       "      <td>689</td>\n",
       "      <td>Spain</td>\n",
       "      <td>Female</td>\n",
       "      <td>31</td>\n",
       "      <td>NaN</td>\n",
       "      <td>0.00</td>\n",
       "      <td>2</td>\n",
       "      <td>1</td>\n",
       "      <td>1</td>\n",
       "      <td>136610.02</td>\n",
       "      <td>0</td>\n",
       "    </tr>\n",
       "    <tr>\n",
       "      <td>5660</td>\n",
       "      <td>5661</td>\n",
       "      <td>15737133</td>\n",
       "      <td>P'eng</td>\n",
       "      <td>706</td>\n",
       "      <td>Spain</td>\n",
       "      <td>Male</td>\n",
       "      <td>68</td>\n",
       "      <td>NaN</td>\n",
       "      <td>114386.85</td>\n",
       "      <td>1</td>\n",
       "      <td>1</td>\n",
       "      <td>1</td>\n",
       "      <td>28601.68</td>\n",
       "      <td>0</td>\n",
       "    </tr>\n",
       "    <tr>\n",
       "      <td>3812</td>\n",
       "      <td>3813</td>\n",
       "      <td>15790267</td>\n",
       "      <td>Onuoha</td>\n",
       "      <td>625</td>\n",
       "      <td>France</td>\n",
       "      <td>Female</td>\n",
       "      <td>40</td>\n",
       "      <td>NaN</td>\n",
       "      <td>141267.67</td>\n",
       "      <td>1</td>\n",
       "      <td>0</td>\n",
       "      <td>1</td>\n",
       "      <td>177397.49</td>\n",
       "      <td>0</td>\n",
       "    </tr>\n",
       "    <tr>\n",
       "      <td>9874</td>\n",
       "      <td>9875</td>\n",
       "      <td>15671358</td>\n",
       "      <td>Fletcher</td>\n",
       "      <td>720</td>\n",
       "      <td>France</td>\n",
       "      <td>Male</td>\n",
       "      <td>44</td>\n",
       "      <td>NaN</td>\n",
       "      <td>0.00</td>\n",
       "      <td>2</td>\n",
       "      <td>1</td>\n",
       "      <td>0</td>\n",
       "      <td>163471.01</td>\n",
       "      <td>0</td>\n",
       "    </tr>\n",
       "    <tr>\n",
       "      <td>3492</td>\n",
       "      <td>3493</td>\n",
       "      <td>15626491</td>\n",
       "      <td>Hughes</td>\n",
       "      <td>655</td>\n",
       "      <td>France</td>\n",
       "      <td>Female</td>\n",
       "      <td>45</td>\n",
       "      <td>NaN</td>\n",
       "      <td>57327.04</td>\n",
       "      <td>1</td>\n",
       "      <td>0</td>\n",
       "      <td>1</td>\n",
       "      <td>47349.00</td>\n",
       "      <td>0</td>\n",
       "    </tr>\n",
       "    <tr>\n",
       "      <td>9197</td>\n",
       "      <td>9198</td>\n",
       "      <td>15611947</td>\n",
       "      <td>Banks</td>\n",
       "      <td>557</td>\n",
       "      <td>France</td>\n",
       "      <td>Male</td>\n",
       "      <td>34</td>\n",
       "      <td>NaN</td>\n",
       "      <td>83074.00</td>\n",
       "      <td>1</td>\n",
       "      <td>1</td>\n",
       "      <td>0</td>\n",
       "      <td>132673.22</td>\n",
       "      <td>0</td>\n",
       "    </tr>\n",
       "    <tr>\n",
       "      <td>6902</td>\n",
       "      <td>6903</td>\n",
       "      <td>15636548</td>\n",
       "      <td>Lung</td>\n",
       "      <td>457</td>\n",
       "      <td>Spain</td>\n",
       "      <td>Male</td>\n",
       "      <td>44</td>\n",
       "      <td>NaN</td>\n",
       "      <td>0.00</td>\n",
       "      <td>2</td>\n",
       "      <td>0</td>\n",
       "      <td>0</td>\n",
       "      <td>185992.36</td>\n",
       "      <td>0</td>\n",
       "    </tr>\n",
       "  </tbody>\n",
       "</table>\n",
       "</div>"
      ],
      "text/plain": [
       "      row_number  customer_id    surname  credit_score  country  gender  age  \\\n",
       "8569        8570     15733460     Martin           622    Spain    Male   36   \n",
       "6865        6866     15598536  Onuchukwu           736  Germany  Female   26   \n",
       "8058        8059     15698184   Marshall           484   France  Female   50   \n",
       "1368        1369     15745843     Kinlaw           689    Spain  Female   31   \n",
       "5660        5661     15737133      P'eng           706    Spain    Male   68   \n",
       "3812        3813     15790267     Onuoha           625   France  Female   40   \n",
       "9874        9875     15671358   Fletcher           720   France    Male   44   \n",
       "3492        3493     15626491     Hughes           655   France  Female   45   \n",
       "9197        9198     15611947      Banks           557   France    Male   34   \n",
       "6902        6903     15636548       Lung           457    Spain    Male   44   \n",
       "\n",
       "      tenure    balance  num_of_products  has_cr_card  is_active_member  \\\n",
       "8569     NaN       0.00                2            1                 1   \n",
       "6865     NaN   84587.90                1            0                 1   \n",
       "8058     NaN   90408.16                2            0                 0   \n",
       "1368     NaN       0.00                2            1                 1   \n",
       "5660     NaN  114386.85                1            1                 1   \n",
       "3812     NaN  141267.67                1            0                 1   \n",
       "9874     NaN       0.00                2            1                 0   \n",
       "3492     NaN   57327.04                1            0                 1   \n",
       "9197     NaN   83074.00                1            1                 0   \n",
       "6902     NaN       0.00                2            0                 0   \n",
       "\n",
       "      estimated_salary  exited  \n",
       "8569         104852.60       0  \n",
       "6865         188037.76       0  \n",
       "8058          48170.57       0  \n",
       "1368         136610.02       0  \n",
       "5660          28601.68       0  \n",
       "3812         177397.49       0  \n",
       "9874         163471.01       0  \n",
       "3492          47349.00       0  \n",
       "9197         132673.22       0  \n",
       "6902         185992.36       0  "
      ]
     },
     "execution_count": 14,
     "metadata": {},
     "output_type": "execute_result"
    }
   ],
   "source": [
    "bank_data[bank_data['tenure'].isna()].sample(10)"
   ]
  },
  {
   "cell_type": "markdown",
   "metadata": {},
   "source": [
    "- When we examine the table, we can't say any reason of missing values in tenure column. It doesn't depend on any other values. So we can evaluate them as **MCAR (Missing Completely at Random)**. Due to this reason, we can fill the missing values.\n",
    "- Missing values percentage is almost **10%** and they are important for us to build a precise model. So we need to fill the missing values.\n",
    "- **'tenure'** shows us the period of maturation for a customer’s fixed deposit (years)\n",
    "- There are '0' values in this column except 'NaN'. If we assume the '0' values as **new customers**, we can say that the missing values as new customers.\n",
    "- Median and mean are so close and all values are integer, so we can fill the missing values with **median value (5)** as an average value.\n",
    "- After that we will convert column type to int."
   ]
  },
  {
   "cell_type": "code",
   "execution_count": 15,
   "metadata": {},
   "outputs": [
    {
     "data": {
      "text/plain": [
       "row_number          0\n",
       "customer_id         0\n",
       "surname             0\n",
       "credit_score        0\n",
       "country             0\n",
       "gender              0\n",
       "age                 0\n",
       "tenure              0\n",
       "balance             0\n",
       "num_of_products     0\n",
       "has_cr_card         0\n",
       "is_active_member    0\n",
       "estimated_salary    0\n",
       "exited              0\n",
       "dtype: int64"
      ]
     },
     "execution_count": 15,
     "metadata": {},
     "output_type": "execute_result"
    }
   ],
   "source": [
    "bank_data['tenure'].fillna(5, inplace=True)\n",
    "bank_data.isna().sum()"
   ]
  },
  {
   "cell_type": "code",
   "execution_count": 16,
   "metadata": {},
   "outputs": [
    {
     "data": {
      "text/plain": [
       "dtype('int64')"
      ]
     },
     "execution_count": 16,
     "metadata": {},
     "output_type": "execute_result"
    }
   ],
   "source": [
    "bank_data['tenure'] = bank_data['tenure'].astype('int')\n",
    "bank_data['tenure'].dtype"
   ]
  },
  {
   "cell_type": "markdown",
   "metadata": {},
   "source": [
    "- We will seperate the data into two parts. \n",
    "- One will be 'bank_data' to analyze, and other part will be stored for 'customers_information'.\n",
    "- We will use only the 'bank_data' for remaining parts.\n",
    "- We don't need the customers information, we will just store them instead of dropping. \n",
    "- Also we will copy and store the original dataset in 'data'."
   ]
  },
  {
   "cell_type": "code",
   "execution_count": 17,
   "metadata": {},
   "outputs": [
    {
     "data": {
      "text/plain": [
       "(10000, 2)"
      ]
     },
     "metadata": {},
     "output_type": "display_data"
    },
    {
     "data": {
      "text/plain": [
       "(10000, 11)"
      ]
     },
     "metadata": {},
     "output_type": "display_data"
    }
   ],
   "source": [
    "data = bank_data.copy()\n",
    "customers_information = bank_data.loc[:, ['customer_id', 'surname']]\n",
    "bank_data.drop(columns=['row_number','customer_id','surname'], inplace=True)\n",
    "display(customers_information.shape)\n",
    "display(bank_data.shape)"
   ]
  },
  {
   "cell_type": "code",
   "execution_count": 18,
   "metadata": {},
   "outputs": [
    {
     "data": {
      "text/html": [
       "<div>\n",
       "<style scoped>\n",
       "    .dataframe tbody tr th:only-of-type {\n",
       "        vertical-align: middle;\n",
       "    }\n",
       "\n",
       "    .dataframe tbody tr th {\n",
       "        vertical-align: top;\n",
       "    }\n",
       "\n",
       "    .dataframe thead th {\n",
       "        text-align: right;\n",
       "    }\n",
       "</style>\n",
       "<table border=\"1\" class=\"dataframe\">\n",
       "  <thead>\n",
       "    <tr style=\"text-align: right;\">\n",
       "      <th></th>\n",
       "      <th>count</th>\n",
       "      <th>unique</th>\n",
       "      <th>top</th>\n",
       "      <th>freq</th>\n",
       "    </tr>\n",
       "  </thead>\n",
       "  <tbody>\n",
       "    <tr>\n",
       "      <td>country</td>\n",
       "      <td>10000</td>\n",
       "      <td>3</td>\n",
       "      <td>France</td>\n",
       "      <td>5014</td>\n",
       "    </tr>\n",
       "    <tr>\n",
       "      <td>gender</td>\n",
       "      <td>10000</td>\n",
       "      <td>2</td>\n",
       "      <td>Male</td>\n",
       "      <td>5457</td>\n",
       "    </tr>\n",
       "  </tbody>\n",
       "</table>\n",
       "</div>"
      ],
      "text/plain": [
       "         count unique     top  freq\n",
       "country  10000      3  France  5014\n",
       "gender   10000      2    Male  5457"
      ]
     },
     "execution_count": 18,
     "metadata": {},
     "output_type": "execute_result"
    }
   ],
   "source": [
    "bank_data.describe(include=['object']).T"
   ]
  },
  {
   "cell_type": "markdown",
   "metadata": {},
   "source": [
    "- We will define the 'features' and 'target'."
   ]
  },
  {
   "cell_type": "code",
   "execution_count": 19,
   "metadata": {},
   "outputs": [],
   "source": [
    "features = bank_data.drop(['exited'], axis=1)\n",
    "target = bank_data['exited']"
   ]
  },
  {
   "cell_type": "code",
   "execution_count": 20,
   "metadata": {},
   "outputs": [
    {
     "data": {
      "text/plain": [
       "(10000, 10)"
      ]
     },
     "metadata": {},
     "output_type": "display_data"
    },
    {
     "data": {
      "text/plain": [
       "(10000,)"
      ]
     },
     "metadata": {},
     "output_type": "display_data"
    }
   ],
   "source": [
    "display(features.shape)\n",
    "display(target.shape)"
   ]
  },
  {
   "cell_type": "markdown",
   "metadata": {},
   "source": [
    "### Encoding of Categorical Features"
   ]
  },
  {
   "cell_type": "code",
   "execution_count": 21,
   "metadata": {},
   "outputs": [
    {
     "data": {
      "text/html": [
       "<div>\n",
       "<style scoped>\n",
       "    .dataframe tbody tr th:only-of-type {\n",
       "        vertical-align: middle;\n",
       "    }\n",
       "\n",
       "    .dataframe tbody tr th {\n",
       "        vertical-align: top;\n",
       "    }\n",
       "\n",
       "    .dataframe thead th {\n",
       "        text-align: right;\n",
       "    }\n",
       "</style>\n",
       "<table border=\"1\" class=\"dataframe\">\n",
       "  <thead>\n",
       "    <tr style=\"text-align: right;\">\n",
       "      <th></th>\n",
       "      <th>count</th>\n",
       "      <th>unique</th>\n",
       "      <th>top</th>\n",
       "      <th>freq</th>\n",
       "    </tr>\n",
       "  </thead>\n",
       "  <tbody>\n",
       "    <tr>\n",
       "      <td>country</td>\n",
       "      <td>10000</td>\n",
       "      <td>3</td>\n",
       "      <td>France</td>\n",
       "      <td>5014</td>\n",
       "    </tr>\n",
       "    <tr>\n",
       "      <td>gender</td>\n",
       "      <td>10000</td>\n",
       "      <td>2</td>\n",
       "      <td>Male</td>\n",
       "      <td>5457</td>\n",
       "    </tr>\n",
       "  </tbody>\n",
       "</table>\n",
       "</div>"
      ],
      "text/plain": [
       "         count unique     top  freq\n",
       "country  10000      3  France  5014\n",
       "gender   10000      2    Male  5457"
      ]
     },
     "execution_count": 21,
     "metadata": {},
     "output_type": "execute_result"
    }
   ],
   "source": [
    "features.describe(include=['object']).T"
   ]
  },
  {
   "cell_type": "markdown",
   "metadata": {},
   "source": [
    "- We will transform categorical features into numerical features.\n",
    "- We can use 2 methods. \n",
    "- It's the best option for Logistic Regression to select **OHE (One-Hot-Encoding)** with pd.get_dummies(). \n",
    "- **Label Encoding** is the best option for Decision Tree and Random Forest models. \n",
    "- We will encode using both options and store them in seperate feature variables for related model building.\n",
    "- After this step, we will use the features separately as **'features_OHE' for Logistic Regression** model and **'features_ordinal' for Decision Tree and Random Forest** models."
   ]
  },
  {
   "cell_type": "code",
   "execution_count": 22,
   "metadata": {
    "scrolled": false
   },
   "outputs": [
    {
     "data": {
      "text/html": [
       "<div>\n",
       "<style scoped>\n",
       "    .dataframe tbody tr th:only-of-type {\n",
       "        vertical-align: middle;\n",
       "    }\n",
       "\n",
       "    .dataframe tbody tr th {\n",
       "        vertical-align: top;\n",
       "    }\n",
       "\n",
       "    .dataframe thead th {\n",
       "        text-align: right;\n",
       "    }\n",
       "</style>\n",
       "<table border=\"1\" class=\"dataframe\">\n",
       "  <thead>\n",
       "    <tr style=\"text-align: right;\">\n",
       "      <th></th>\n",
       "      <th>credit_score</th>\n",
       "      <th>age</th>\n",
       "      <th>tenure</th>\n",
       "      <th>balance</th>\n",
       "      <th>num_of_products</th>\n",
       "      <th>has_cr_card</th>\n",
       "      <th>is_active_member</th>\n",
       "      <th>estimated_salary</th>\n",
       "      <th>country_Germany</th>\n",
       "      <th>country_Spain</th>\n",
       "      <th>gender_Male</th>\n",
       "    </tr>\n",
       "  </thead>\n",
       "  <tbody>\n",
       "    <tr>\n",
       "      <td>0</td>\n",
       "      <td>619</td>\n",
       "      <td>42</td>\n",
       "      <td>2</td>\n",
       "      <td>0.00</td>\n",
       "      <td>1</td>\n",
       "      <td>1</td>\n",
       "      <td>1</td>\n",
       "      <td>101348.88</td>\n",
       "      <td>0</td>\n",
       "      <td>0</td>\n",
       "      <td>0</td>\n",
       "    </tr>\n",
       "    <tr>\n",
       "      <td>1</td>\n",
       "      <td>608</td>\n",
       "      <td>41</td>\n",
       "      <td>1</td>\n",
       "      <td>83807.86</td>\n",
       "      <td>1</td>\n",
       "      <td>0</td>\n",
       "      <td>1</td>\n",
       "      <td>112542.58</td>\n",
       "      <td>0</td>\n",
       "      <td>1</td>\n",
       "      <td>0</td>\n",
       "    </tr>\n",
       "    <tr>\n",
       "      <td>2</td>\n",
       "      <td>502</td>\n",
       "      <td>42</td>\n",
       "      <td>8</td>\n",
       "      <td>159660.80</td>\n",
       "      <td>3</td>\n",
       "      <td>1</td>\n",
       "      <td>0</td>\n",
       "      <td>113931.57</td>\n",
       "      <td>0</td>\n",
       "      <td>0</td>\n",
       "      <td>0</td>\n",
       "    </tr>\n",
       "  </tbody>\n",
       "</table>\n",
       "</div>"
      ],
      "text/plain": [
       "   credit_score  age  tenure    balance  num_of_products  has_cr_card  \\\n",
       "0           619   42       2       0.00                1            1   \n",
       "1           608   41       1   83807.86                1            0   \n",
       "2           502   42       8  159660.80                3            1   \n",
       "\n",
       "   is_active_member  estimated_salary  country_Germany  country_Spain  \\\n",
       "0                 1         101348.88                0              0   \n",
       "1                 1         112542.58                0              1   \n",
       "2                 0         113931.57                0              0   \n",
       "\n",
       "   gender_Male  \n",
       "0            0  \n",
       "1            0  \n",
       "2            0  "
      ]
     },
     "execution_count": 22,
     "metadata": {},
     "output_type": "execute_result"
    }
   ],
   "source": [
    "features_OHE = pd.get_dummies(features, drop_first=True)\n",
    "features_OHE.head(3)"
   ]
  },
  {
   "cell_type": "markdown",
   "metadata": {},
   "source": [
    "- Let's create features_ordinal for tree based algorithms.\n",
    "- We will use **OrdinalEncoder** to transform the categorical variables to numerical."
   ]
  },
  {
   "cell_type": "code",
   "execution_count": 23,
   "metadata": {},
   "outputs": [],
   "source": [
    "from sklearn.preprocessing import OrdinalEncoder\n",
    "encoder = OrdinalEncoder()\n",
    "encoder.fit(features)\n",
    "features_ordinal = pd.DataFrame(encoder.fit_transform(features), columns=features.columns)"
   ]
  },
  {
   "cell_type": "code",
   "execution_count": 24,
   "metadata": {},
   "outputs": [
    {
     "data": {
      "text/html": [
       "<div>\n",
       "<style scoped>\n",
       "    .dataframe tbody tr th:only-of-type {\n",
       "        vertical-align: middle;\n",
       "    }\n",
       "\n",
       "    .dataframe tbody tr th {\n",
       "        vertical-align: top;\n",
       "    }\n",
       "\n",
       "    .dataframe thead th {\n",
       "        text-align: right;\n",
       "    }\n",
       "</style>\n",
       "<table border=\"1\" class=\"dataframe\">\n",
       "  <thead>\n",
       "    <tr style=\"text-align: right;\">\n",
       "      <th></th>\n",
       "      <th>credit_score</th>\n",
       "      <th>country</th>\n",
       "      <th>gender</th>\n",
       "      <th>age</th>\n",
       "      <th>tenure</th>\n",
       "      <th>balance</th>\n",
       "      <th>num_of_products</th>\n",
       "      <th>has_cr_card</th>\n",
       "      <th>is_active_member</th>\n",
       "      <th>estimated_salary</th>\n",
       "    </tr>\n",
       "  </thead>\n",
       "  <tbody>\n",
       "    <tr>\n",
       "      <td>0</td>\n",
       "      <td>228.0</td>\n",
       "      <td>0.0</td>\n",
       "      <td>0.0</td>\n",
       "      <td>24.0</td>\n",
       "      <td>2.0</td>\n",
       "      <td>0.0</td>\n",
       "      <td>0.0</td>\n",
       "      <td>1.0</td>\n",
       "      <td>1.0</td>\n",
       "      <td>5068.0</td>\n",
       "    </tr>\n",
       "    <tr>\n",
       "      <td>1</td>\n",
       "      <td>217.0</td>\n",
       "      <td>2.0</td>\n",
       "      <td>0.0</td>\n",
       "      <td>23.0</td>\n",
       "      <td>1.0</td>\n",
       "      <td>743.0</td>\n",
       "      <td>0.0</td>\n",
       "      <td>0.0</td>\n",
       "      <td>1.0</td>\n",
       "      <td>5639.0</td>\n",
       "    </tr>\n",
       "    <tr>\n",
       "      <td>2</td>\n",
       "      <td>111.0</td>\n",
       "      <td>0.0</td>\n",
       "      <td>0.0</td>\n",
       "      <td>24.0</td>\n",
       "      <td>8.0</td>\n",
       "      <td>5793.0</td>\n",
       "      <td>2.0</td>\n",
       "      <td>1.0</td>\n",
       "      <td>0.0</td>\n",
       "      <td>5707.0</td>\n",
       "    </tr>\n",
       "    <tr>\n",
       "      <td>3</td>\n",
       "      <td>308.0</td>\n",
       "      <td>0.0</td>\n",
       "      <td>0.0</td>\n",
       "      <td>21.0</td>\n",
       "      <td>1.0</td>\n",
       "      <td>0.0</td>\n",
       "      <td>1.0</td>\n",
       "      <td>0.0</td>\n",
       "      <td>0.0</td>\n",
       "      <td>4704.0</td>\n",
       "    </tr>\n",
       "    <tr>\n",
       "      <td>4</td>\n",
       "      <td>459.0</td>\n",
       "      <td>2.0</td>\n",
       "      <td>0.0</td>\n",
       "      <td>25.0</td>\n",
       "      <td>2.0</td>\n",
       "      <td>3696.0</td>\n",
       "      <td>0.0</td>\n",
       "      <td>1.0</td>\n",
       "      <td>1.0</td>\n",
       "      <td>3925.0</td>\n",
       "    </tr>\n",
       "  </tbody>\n",
       "</table>\n",
       "</div>"
      ],
      "text/plain": [
       "   credit_score  country  gender   age  tenure  balance  num_of_products  \\\n",
       "0         228.0      0.0     0.0  24.0     2.0      0.0              0.0   \n",
       "1         217.0      2.0     0.0  23.0     1.0    743.0              0.0   \n",
       "2         111.0      0.0     0.0  24.0     8.0   5793.0              2.0   \n",
       "3         308.0      0.0     0.0  21.0     1.0      0.0              1.0   \n",
       "4         459.0      2.0     0.0  25.0     2.0   3696.0              0.0   \n",
       "\n",
       "   has_cr_card  is_active_member  estimated_salary  \n",
       "0          1.0               1.0            5068.0  \n",
       "1          0.0               1.0            5639.0  \n",
       "2          1.0               0.0            5707.0  \n",
       "3          0.0               0.0            4704.0  \n",
       "4          1.0               1.0            3925.0  "
      ]
     },
     "execution_count": 24,
     "metadata": {},
     "output_type": "execute_result"
    }
   ],
   "source": [
    "features_ordinal.head()"
   ]
  },
  {
   "cell_type": "markdown",
   "metadata": {},
   "source": [
    "    - As we can see, country and gender columns transformed to numerical values, \n",
    "    and all values converted float."
   ]
  },
  {
   "cell_type": "markdown",
   "metadata": {},
   "source": [
    "### Splitting the source data for Logistic Regression - (features_OHE)"
   ]
  },
  {
   "cell_type": "markdown",
   "metadata": {},
   "source": [
    "- We will split the dataset into 3 parts at **3:1:1** ratios as **training - validation - test sets.**\n",
    "- We will import the **'train_test_split'** method from the sklearn.model_selection library."
   ]
  },
  {
   "cell_type": "code",
   "execution_count": 25,
   "metadata": {},
   "outputs": [],
   "source": [
    "from sklearn.model_selection import train_test_split"
   ]
  },
  {
   "cell_type": "markdown",
   "metadata": {},
   "source": [
    "- First, we will split the dataset into 2 parts. One will be as 'splitted' (80% of the source data), the other part will be for 'test' (%20 of source). \n",
    "- After first splitting, we will split the splitted data at 3:1 ratios into 2 parts for training and validation."
   ]
  },
  {
   "cell_type": "code",
   "execution_count": 26,
   "metadata": {},
   "outputs": [],
   "source": [
    "features_splitted_OHE, features_test_OHE, target_splitted_OHE, target_test_OHE = (train_test_split(features_OHE, target, \n",
    "                                                                                     test_size=0.2, random_state=123))"
   ]
  },
  {
   "cell_type": "code",
   "execution_count": 27,
   "metadata": {},
   "outputs": [
    {
     "data": {
      "text/plain": [
       "(2000, 11)"
      ]
     },
     "metadata": {},
     "output_type": "display_data"
    },
    {
     "data": {
      "text/plain": [
       "(2000,)"
      ]
     },
     "metadata": {},
     "output_type": "display_data"
    }
   ],
   "source": [
    "display(features_test_OHE.shape)\n",
    "display(target_test_OHE.shape)"
   ]
  },
  {
   "cell_type": "markdown",
   "metadata": {},
   "source": [
    "- Now, we will split the splitted dataset into two parts as training and validation sets."
   ]
  },
  {
   "cell_type": "code",
   "execution_count": 28,
   "metadata": {},
   "outputs": [],
   "source": [
    "features_train_OHE, features_valid_OHE, target_train_OHE, target_valid_OHE = (train_test_split(features_splitted_OHE, target_splitted_OHE, \n",
    "                                                                                       test_size=0.25, random_state=123))"
   ]
  },
  {
   "cell_type": "code",
   "execution_count": 29,
   "metadata": {},
   "outputs": [
    {
     "data": {
      "text/plain": [
       "(6000, 11)"
      ]
     },
     "metadata": {},
     "output_type": "display_data"
    },
    {
     "data": {
      "text/plain": [
       "(6000,)"
      ]
     },
     "metadata": {},
     "output_type": "display_data"
    }
   ],
   "source": [
    "display(features_train_OHE.shape)\n",
    "display(target_train_OHE.shape)"
   ]
  },
  {
   "cell_type": "markdown",
   "metadata": {},
   "source": [
    "- We splitted the source data into 3 parts with the ratios of **60% - 20% - 20%.**"
   ]
  },
  {
   "cell_type": "markdown",
   "metadata": {},
   "source": [
    "### Splitting the source data for Decision Tree and Random Forest Models - (features_ordinal)"
   ]
  },
  {
   "cell_type": "markdown",
   "metadata": {},
   "source": [
    "- We will make the same process for splitting but use different features.\n",
    "- We will use the Label Encoding features as 'features_ordinal'."
   ]
  },
  {
   "cell_type": "code",
   "execution_count": 30,
   "metadata": {},
   "outputs": [],
   "source": [
    "features_splitted_ordinal, features_test_ordinal, target_splitted_ordinal, target_test_ordinal = (train_test_split\n",
    "                                                                                  (features_ordinal, target, \n",
    "                                                                                   test_size=0.2, random_state=123))"
   ]
  },
  {
   "cell_type": "code",
   "execution_count": 31,
   "metadata": {},
   "outputs": [
    {
     "data": {
      "text/plain": [
       "(2000, 10)"
      ]
     },
     "metadata": {},
     "output_type": "display_data"
    },
    {
     "data": {
      "text/plain": [
       "(2000,)"
      ]
     },
     "metadata": {},
     "output_type": "display_data"
    }
   ],
   "source": [
    "display(features_test_ordinal.shape)\n",
    "display(target_test_ordinal.shape)"
   ]
  },
  {
   "cell_type": "code",
   "execution_count": 32,
   "metadata": {},
   "outputs": [],
   "source": [
    "features_train_ordinal, features_valid_ordinal, target_train_ordinal, target_valid_ordinal = (train_test_split\n",
    "                                                                              (features_splitted_ordinal, \n",
    "                                                                               target_splitted_ordinal, test_size=0.25, \n",
    "                                                                               random_state=123))"
   ]
  },
  {
   "cell_type": "code",
   "execution_count": 33,
   "metadata": {},
   "outputs": [
    {
     "data": {
      "text/plain": [
       "(6000, 10)"
      ]
     },
     "metadata": {},
     "output_type": "display_data"
    },
    {
     "data": {
      "text/plain": [
       "(6000,)"
      ]
     },
     "metadata": {},
     "output_type": "display_data"
    }
   ],
   "source": [
    "display(features_train_ordinal.shape)\n",
    "display(target_train_ordinal.shape)"
   ]
  },
  {
   "cell_type": "markdown",
   "metadata": {},
   "source": [
    "    - We splitted the features_ordinal and target into 3 parts as previously."
   ]
  },
  {
   "cell_type": "markdown",
   "metadata": {},
   "source": [
    "### Scaling of Numerical Features"
   ]
  },
  {
   "cell_type": "markdown",
   "metadata": {},
   "source": [
    "- All features are numerical, but they have different dispersions. \n",
    "- We need to standardize some of the features, but first we will plot the histograms of features."
   ]
  },
  {
   "cell_type": "code",
   "execution_count": 34,
   "metadata": {
    "scrolled": false
   },
   "outputs": [
    {
     "data": {
      "image/png": "[encoded data removed]",
      "text/plain": [
       "<Figure size 432x288 with 1 Axes>"
      ]
     },
     "metadata": {
      "needs_background": "light"
     },
     "output_type": "display_data"
    },
    {
     "data": {
      "image/png": "[encoded data removed]",
      "text/plain": [
       "<Figure size 432x288 with 1 Axes>"
      ]
     },
     "metadata": {
      "needs_background": "light"
     },
     "output_type": "display_data"
    },
    {
     "data": {
      "image/png": "[encoded data removed]",
      "text/plain": [
       "<Figure size 432x288 with 1 Axes>"
      ]
     },
     "metadata": {
      "needs_background": "light"
     },
     "output_type": "display_data"
    },
    {
     "data": {
      "image/png": "[encoded data removed]",
      "text/plain": [
       "<Figure size 432x288 with 1 Axes>"
      ]
     },
     "metadata": {
      "needs_background": "light"
     },
     "output_type": "display_data"
    },
    {
     "data": {
      "image/png": "[encoded data removed]",
      "text/plain": [
       "<Figure size 432x288 with 1 Axes>"
      ]
     },
     "metadata": {
      "needs_background": "light"
     },
     "output_type": "display_data"
    },
    {
     "data": {
      "image/png": "[encoded data removed]",
      "text/plain": [
       "<Figure size 432x288 with 1 Axes>"
      ]
     },
     "metadata": {
      "needs_background": "light"
     },
     "output_type": "display_data"
    },
    {
     "data": {
      "image/png": "[encoded data removed]",
      "text/plain": [
       "<Figure size 432x288 with 1 Axes>"
      ]
     },
     "metadata": {
      "needs_background": "light"
     },
     "output_type": "display_data"
    },
    {
     "data": {
      "image/png": "[encoded data removed]",
      "text/plain": [
       "<Figure size 432x288 with 1 Axes>"
      ]
     },
     "metadata": {
      "needs_background": "light"
     },
     "output_type": "display_data"
    },
    {
     "data": {
      "image/png": "[encoded data removed]",
      "text/plain": [
       "<Figure size 432x288 with 1 Axes>"
      ]
     },
     "metadata": {
      "needs_background": "light"
     },
     "output_type": "display_data"
    },
    {
     "data": {
      "image/png": "[encoded data removed]",
      "text/plain": [
       "<Figure size 432x288 with 1 Axes>"
      ]
     },
     "metadata": {
      "needs_background": "light"
     },
     "output_type": "display_data"
    },
    {
     "data": {
      "image/png": "[encoded data removed]",
      "text/plain": [
       "<Figure size 432x288 with 1 Axes>"
      ]
     },
     "metadata": {
      "needs_background": "light"
     },
     "output_type": "display_data"
    }
   ],
   "source": [
    "for col in features_OHE.columns:\n",
    "    plt.figure()\n",
    "    plt.title('\\n' + col + '\\n', size=15, color='red')\n",
    "    features_OHE[col].hist()"
   ]
  },
  {
   "cell_type": "markdown",
   "metadata": {},
   "source": [
    "    - When we examine the histogram graphs, 'credit_score' and 'age' features are close to normal distribution.\n",
    "    - 'balance' has also a distribution similar to normal with many '0' values. \n",
    "    - 'estimated_salary' has a wide regular dispersion from '0' to '200.000'.\n",
    "- We will make feature scaling on them.\n",
    "- We will use **sklearn.preprocessing.StandardScaler( )**"
   ]
  },
  {
   "cell_type": "code",
   "execution_count": 35,
   "metadata": {},
   "outputs": [],
   "source": [
    "from sklearn.preprocessing import StandardScaler"
   ]
  },
  {
   "cell_type": "code",
   "execution_count": 36,
   "metadata": {},
   "outputs": [],
   "source": [
    "numeric = ['credit_score', 'age', 'balance', 'estimated_salary', 'tenure']"
   ]
  },
  {
   "cell_type": "code",
   "execution_count": 37,
   "metadata": {},
   "outputs": [
    {
     "data": {
      "text/html": [
       "<div>\n",
       "<style scoped>\n",
       "    .dataframe tbody tr th:only-of-type {\n",
       "        vertical-align: middle;\n",
       "    }\n",
       "\n",
       "    .dataframe tbody tr th {\n",
       "        vertical-align: top;\n",
       "    }\n",
       "\n",
       "    .dataframe thead th {\n",
       "        text-align: right;\n",
       "    }\n",
       "</style>\n",
       "<table border=\"1\" class=\"dataframe\">\n",
       "  <thead>\n",
       "    <tr style=\"text-align: right;\">\n",
       "      <th></th>\n",
       "      <th>credit_score</th>\n",
       "      <th>age</th>\n",
       "      <th>balance</th>\n",
       "      <th>estimated_salary</th>\n",
       "      <th>tenure</th>\n",
       "    </tr>\n",
       "  </thead>\n",
       "  <tbody>\n",
       "    <tr>\n",
       "      <td>8189</td>\n",
       "      <td>715</td>\n",
       "      <td>21</td>\n",
       "      <td>0.00</td>\n",
       "      <td>68666.63</td>\n",
       "      <td>8</td>\n",
       "    </tr>\n",
       "    <tr>\n",
       "      <td>8845</td>\n",
       "      <td>729</td>\n",
       "      <td>39</td>\n",
       "      <td>131513.26</td>\n",
       "      <td>193715.00</td>\n",
       "      <td>1</td>\n",
       "    </tr>\n",
       "    <tr>\n",
       "      <td>1165</td>\n",
       "      <td>712</td>\n",
       "      <td>49</td>\n",
       "      <td>154776.42</td>\n",
       "      <td>196257.68</td>\n",
       "      <td>5</td>\n",
       "    </tr>\n",
       "    <tr>\n",
       "      <td>1742</td>\n",
       "      <td>584</td>\n",
       "      <td>54</td>\n",
       "      <td>77354.37</td>\n",
       "      <td>138192.98</td>\n",
       "      <td>1</td>\n",
       "    </tr>\n",
       "    <tr>\n",
       "      <td>1139</td>\n",
       "      <td>727</td>\n",
       "      <td>57</td>\n",
       "      <td>109679.72</td>\n",
       "      <td>753.37</td>\n",
       "      <td>1</td>\n",
       "    </tr>\n",
       "  </tbody>\n",
       "</table>\n",
       "</div>"
      ],
      "text/plain": [
       "      credit_score  age    balance  estimated_salary  tenure\n",
       "8189           715   21       0.00          68666.63       8\n",
       "8845           729   39  131513.26         193715.00       1\n",
       "1165           712   49  154776.42         196257.68       5\n",
       "1742           584   54   77354.37         138192.98       1\n",
       "1139           727   57  109679.72            753.37       1"
      ]
     },
     "execution_count": 37,
     "metadata": {},
     "output_type": "execute_result"
    }
   ],
   "source": [
    "features_train_OHE.loc[:,numeric].head()"
   ]
  },
  {
   "cell_type": "markdown",
   "metadata": {},
   "source": [
    "- We will make the scaling process for **One-Hot** and **Labeled Encoded** features seperately for **training, validation and test sets**, and also for **splitted datasets which are sum of training and validation set**"
   ]
  },
  {
   "cell_type": "code",
   "execution_count": 38,
   "metadata": {},
   "outputs": [],
   "source": [
    "scaler = StandardScaler()"
   ]
  },
  {
   "cell_type": "markdown",
   "metadata": {},
   "source": [
    "**v2:** \n",
    "- **We will fit for the training set then we will transform for the training, validation, test and splitted sets.**\n",
    "- **First we will make for the OHE sets.**"
   ]
  },
  {
   "cell_type": "code",
   "execution_count": 39,
   "metadata": {},
   "outputs": [
    {
     "data": {
      "text/plain": [
       "StandardScaler(copy=True, with_mean=True, with_std=True)"
      ]
     },
     "execution_count": 39,
     "metadata": {},
     "output_type": "execute_result"
    }
   ],
   "source": [
    "scaler.fit(features_train_OHE.loc[:, numeric])"
   ]
  },
  {
   "cell_type": "markdown",
   "metadata": {},
   "source": [
    "- We will use this statement to remove the copy warnings when using transform method."
   ]
  },
  {
   "cell_type": "code",
   "execution_count": 40,
   "metadata": {},
   "outputs": [],
   "source": [
    "pd.options.mode.chained_assignment = None"
   ]
  },
  {
   "cell_type": "code",
   "execution_count": 41,
   "metadata": {
    "scrolled": false
   },
   "outputs": [],
   "source": [
    "features_train_OHE.loc[:, numeric] = scaler.transform(features_train_OHE.loc[:, numeric])\n",
    "features_valid_OHE.loc[:, numeric] = scaler.transform(features_valid_OHE.loc[:, numeric])\n",
    "features_splitted_OHE.loc[:, numeric] = scaler.transform(features_splitted_OHE.loc[:, numeric])\n",
    "features_test_OHE.loc[:, numeric] = scaler.transform(features_test_OHE.loc[:, numeric])"
   ]
  },
  {
   "cell_type": "markdown",
   "metadata": {},
   "source": [
    "- **v2:** **Secondly we will make the same process for the Labeled Encoded sets.**"
   ]
  },
  {
   "cell_type": "code",
   "execution_count": 42,
   "metadata": {},
   "outputs": [
    {
     "data": {
      "text/plain": [
       "StandardScaler(copy=True, with_mean=True, with_std=True)"
      ]
     },
     "execution_count": 42,
     "metadata": {},
     "output_type": "execute_result"
    }
   ],
   "source": [
    "scaler.fit(features_train_ordinal.loc[:, numeric])"
   ]
  },
  {
   "cell_type": "code",
   "execution_count": 43,
   "metadata": {},
   "outputs": [],
   "source": [
    "features_train_ordinal.loc[:, numeric] = scaler.transform(features_train_ordinal.loc[:, numeric])\n",
    "features_valid_ordinal.loc[:, numeric] = scaler.transform(features_valid_ordinal.loc[:, numeric])\n",
    "features_splitted_ordinal.loc[:, numeric] = scaler.transform(features_splitted_ordinal.loc[:, numeric])\n",
    "features_test_ordinal.loc[:, numeric] = scaler.transform(features_test_ordinal.loc[:, numeric])"
   ]
  },
  {
   "cell_type": "code",
   "execution_count": 44,
   "metadata": {
    "scrolled": false
   },
   "outputs": [
    {
     "data": {
      "text/html": [
       "<div>\n",
       "<style scoped>\n",
       "    .dataframe tbody tr th:only-of-type {\n",
       "        vertical-align: middle;\n",
       "    }\n",
       "\n",
       "    .dataframe tbody tr th {\n",
       "        vertical-align: top;\n",
       "    }\n",
       "\n",
       "    .dataframe thead th {\n",
       "        text-align: right;\n",
       "    }\n",
       "</style>\n",
       "<table border=\"1\" class=\"dataframe\">\n",
       "  <thead>\n",
       "    <tr style=\"text-align: right;\">\n",
       "      <th></th>\n",
       "      <th>credit_score</th>\n",
       "      <th>age</th>\n",
       "      <th>tenure</th>\n",
       "      <th>balance</th>\n",
       "      <th>num_of_products</th>\n",
       "      <th>has_cr_card</th>\n",
       "      <th>is_active_member</th>\n",
       "      <th>estimated_salary</th>\n",
       "      <th>country_Germany</th>\n",
       "      <th>country_Spain</th>\n",
       "      <th>gender_Male</th>\n",
       "    </tr>\n",
       "  </thead>\n",
       "  <tbody>\n",
       "    <tr>\n",
       "      <td>8189</td>\n",
       "      <td>0.652468</td>\n",
       "      <td>-1.698690</td>\n",
       "      <td>1.096509</td>\n",
       "      <td>-1.213083</td>\n",
       "      <td>2</td>\n",
       "      <td>1</td>\n",
       "      <td>0</td>\n",
       "      <td>-0.535390</td>\n",
       "      <td>0</td>\n",
       "      <td>0</td>\n",
       "      <td>1</td>\n",
       "    </tr>\n",
       "    <tr>\n",
       "      <td>8845</td>\n",
       "      <td>0.796864</td>\n",
       "      <td>0.002583</td>\n",
       "      <td>-1.450269</td>\n",
       "      <td>0.886952</td>\n",
       "      <td>1</td>\n",
       "      <td>1</td>\n",
       "      <td>1</td>\n",
       "      <td>1.637287</td>\n",
       "      <td>1</td>\n",
       "      <td>0</td>\n",
       "      <td>0</td>\n",
       "    </tr>\n",
       "    <tr>\n",
       "      <td>1165</td>\n",
       "      <td>0.621526</td>\n",
       "      <td>0.947735</td>\n",
       "      <td>0.005033</td>\n",
       "      <td>1.258423</td>\n",
       "      <td>2</td>\n",
       "      <td>0</td>\n",
       "      <td>0</td>\n",
       "      <td>1.681465</td>\n",
       "      <td>1</td>\n",
       "      <td>0</td>\n",
       "      <td>0</td>\n",
       "    </tr>\n",
       "    <tr>\n",
       "      <td>1742</td>\n",
       "      <td>-0.698668</td>\n",
       "      <td>1.420312</td>\n",
       "      <td>-1.450269</td>\n",
       "      <td>0.022130</td>\n",
       "      <td>1</td>\n",
       "      <td>0</td>\n",
       "      <td>0</td>\n",
       "      <td>0.672609</td>\n",
       "      <td>1</td>\n",
       "      <td>0</td>\n",
       "      <td>0</td>\n",
       "    </tr>\n",
       "    <tr>\n",
       "      <td>1139</td>\n",
       "      <td>0.776236</td>\n",
       "      <td>1.703857</td>\n",
       "      <td>-1.450269</td>\n",
       "      <td>0.538309</td>\n",
       "      <td>1</td>\n",
       "      <td>0</td>\n",
       "      <td>1</td>\n",
       "      <td>-1.715362</td>\n",
       "      <td>0</td>\n",
       "      <td>1</td>\n",
       "      <td>0</td>\n",
       "    </tr>\n",
       "  </tbody>\n",
       "</table>\n",
       "</div>"
      ],
      "text/plain": [
       "      credit_score       age    tenure   balance  num_of_products  \\\n",
       "8189      0.652468 -1.698690  1.096509 -1.213083                2   \n",
       "8845      0.796864  0.002583 -1.450269  0.886952                1   \n",
       "1165      0.621526  0.947735  0.005033  1.258423                2   \n",
       "1742     -0.698668  1.420312 -1.450269  0.022130                1   \n",
       "1139      0.776236  1.703857 -1.450269  0.538309                1   \n",
       "\n",
       "      has_cr_card  is_active_member  estimated_salary  country_Germany  \\\n",
       "8189            1                 0         -0.535390                0   \n",
       "8845            1                 1          1.637287                1   \n",
       "1165            0                 0          1.681465                1   \n",
       "1742            0                 0          0.672609                1   \n",
       "1139            0                 1         -1.715362                0   \n",
       "\n",
       "      country_Spain  gender_Male  \n",
       "8189              0            1  \n",
       "8845              0            0  \n",
       "1165              0            0  \n",
       "1742              0            0  \n",
       "1139              1            0  "
      ]
     },
     "execution_count": 44,
     "metadata": {},
     "output_type": "execute_result"
    }
   ],
   "source": [
    "features_train_OHE.head()"
   ]
  },
  {
   "cell_type": "code",
   "execution_count": 45,
   "metadata": {},
   "outputs": [
    {
     "data": {
      "text/html": [
       "<div>\n",
       "<style scoped>\n",
       "    .dataframe tbody tr th:only-of-type {\n",
       "        vertical-align: middle;\n",
       "    }\n",
       "\n",
       "    .dataframe tbody tr th {\n",
       "        vertical-align: top;\n",
       "    }\n",
       "\n",
       "    .dataframe thead th {\n",
       "        text-align: right;\n",
       "    }\n",
       "</style>\n",
       "<table border=\"1\" class=\"dataframe\">\n",
       "  <thead>\n",
       "    <tr style=\"text-align: right;\">\n",
       "      <th></th>\n",
       "      <th>credit_score</th>\n",
       "      <th>country</th>\n",
       "      <th>gender</th>\n",
       "      <th>age</th>\n",
       "      <th>tenure</th>\n",
       "      <th>balance</th>\n",
       "      <th>num_of_products</th>\n",
       "      <th>has_cr_card</th>\n",
       "      <th>is_active_member</th>\n",
       "      <th>estimated_salary</th>\n",
       "    </tr>\n",
       "  </thead>\n",
       "  <tbody>\n",
       "    <tr>\n",
       "      <td>8189</td>\n",
       "      <td>0.652823</td>\n",
       "      <td>0.0</td>\n",
       "      <td>1.0</td>\n",
       "      <td>-1.700024</td>\n",
       "      <td>1.096509</td>\n",
       "      <td>-0.950460</td>\n",
       "      <td>1.0</td>\n",
       "      <td>1.0</td>\n",
       "      <td>0.0</td>\n",
       "      <td>-0.539820</td>\n",
       "    </tr>\n",
       "    <tr>\n",
       "      <td>8845</td>\n",
       "      <td>0.797391</td>\n",
       "      <td>1.0</td>\n",
       "      <td>0.0</td>\n",
       "      <td>0.002775</td>\n",
       "      <td>-1.450269</td>\n",
       "      <td>1.025270</td>\n",
       "      <td>0.0</td>\n",
       "      <td>1.0</td>\n",
       "      <td>1.0</td>\n",
       "      <td>1.629777</td>\n",
       "    </tr>\n",
       "    <tr>\n",
       "      <td>1165</td>\n",
       "      <td>0.621844</td>\n",
       "      <td>1.0</td>\n",
       "      <td>0.0</td>\n",
       "      <td>0.948774</td>\n",
       "      <td>0.005033</td>\n",
       "      <td>1.692765</td>\n",
       "      <td>1.0</td>\n",
       "      <td>0.0</td>\n",
       "      <td>0.0</td>\n",
       "      <td>1.670968</td>\n",
       "    </tr>\n",
       "    <tr>\n",
       "      <td>1742</td>\n",
       "      <td>-0.699922</td>\n",
       "      <td>1.0</td>\n",
       "      <td>0.0</td>\n",
       "      <td>1.421774</td>\n",
       "      <td>-1.450269</td>\n",
       "      <td>-0.720451</td>\n",
       "      <td>0.0</td>\n",
       "      <td>0.0</td>\n",
       "      <td>0.0</td>\n",
       "      <td>0.681011</td>\n",
       "    </tr>\n",
       "    <tr>\n",
       "      <td>1139</td>\n",
       "      <td>0.776739</td>\n",
       "      <td>2.0</td>\n",
       "      <td>0.0</td>\n",
       "      <td>1.705574</td>\n",
       "      <td>-1.450269</td>\n",
       "      <td>0.148889</td>\n",
       "      <td>0.0</td>\n",
       "      <td>0.0</td>\n",
       "      <td>1.0</td>\n",
       "      <td>-1.704923</td>\n",
       "    </tr>\n",
       "  </tbody>\n",
       "</table>\n",
       "</div>"
      ],
      "text/plain": [
       "      credit_score  country  gender       age    tenure   balance  \\\n",
       "8189      0.652823      0.0     1.0 -1.700024  1.096509 -0.950460   \n",
       "8845      0.797391      1.0     0.0  0.002775 -1.450269  1.025270   \n",
       "1165      0.621844      1.0     0.0  0.948774  0.005033  1.692765   \n",
       "1742     -0.699922      1.0     0.0  1.421774 -1.450269 -0.720451   \n",
       "1139      0.776739      2.0     0.0  1.705574 -1.450269  0.148889   \n",
       "\n",
       "      num_of_products  has_cr_card  is_active_member  estimated_salary  \n",
       "8189              1.0          1.0               0.0         -0.539820  \n",
       "8845              0.0          1.0               1.0          1.629777  \n",
       "1165              1.0          0.0               0.0          1.670968  \n",
       "1742              0.0          0.0               0.0          0.681011  \n",
       "1139              0.0          0.0               1.0         -1.704923  "
      ]
     },
     "execution_count": 45,
     "metadata": {},
     "output_type": "execute_result"
    }
   ],
   "source": [
    "features_train_ordinal.head()"
   ]
  },
  {
   "cell_type": "code",
   "execution_count": 46,
   "metadata": {
    "scrolled": true
   },
   "outputs": [
    {
     "data": {
      "text/html": [
       "<div>\n",
       "<style scoped>\n",
       "    .dataframe tbody tr th:only-of-type {\n",
       "        vertical-align: middle;\n",
       "    }\n",
       "\n",
       "    .dataframe tbody tr th {\n",
       "        vertical-align: top;\n",
       "    }\n",
       "\n",
       "    .dataframe thead th {\n",
       "        text-align: right;\n",
       "    }\n",
       "</style>\n",
       "<table border=\"1\" class=\"dataframe\">\n",
       "  <thead>\n",
       "    <tr style=\"text-align: right;\">\n",
       "      <th></th>\n",
       "      <th>credit_score</th>\n",
       "      <th>age</th>\n",
       "      <th>tenure</th>\n",
       "      <th>balance</th>\n",
       "      <th>num_of_products</th>\n",
       "      <th>has_cr_card</th>\n",
       "      <th>is_active_member</th>\n",
       "      <th>estimated_salary</th>\n",
       "      <th>country_Germany</th>\n",
       "      <th>country_Spain</th>\n",
       "      <th>gender_Male</th>\n",
       "    </tr>\n",
       "  </thead>\n",
       "  <tbody>\n",
       "    <tr>\n",
       "      <td>credit_score</td>\n",
       "      <td>1.000000</td>\n",
       "      <td>-0.003965</td>\n",
       "      <td>-0.000060</td>\n",
       "      <td>0.006268</td>\n",
       "      <td>0.012238</td>\n",
       "      <td>-0.005458</td>\n",
       "      <td>0.025651</td>\n",
       "      <td>-0.001384</td>\n",
       "      <td>0.005538</td>\n",
       "      <td>0.004780</td>\n",
       "      <td>-0.002857</td>\n",
       "    </tr>\n",
       "    <tr>\n",
       "      <td>age</td>\n",
       "      <td>-0.003965</td>\n",
       "      <td>1.000000</td>\n",
       "      <td>-0.012606</td>\n",
       "      <td>0.028308</td>\n",
       "      <td>-0.030680</td>\n",
       "      <td>-0.011721</td>\n",
       "      <td>0.085472</td>\n",
       "      <td>-0.007201</td>\n",
       "      <td>0.046897</td>\n",
       "      <td>-0.001685</td>\n",
       "      <td>-0.027544</td>\n",
       "    </tr>\n",
       "    <tr>\n",
       "      <td>tenure</td>\n",
       "      <td>-0.000060</td>\n",
       "      <td>-0.012606</td>\n",
       "      <td>1.000000</td>\n",
       "      <td>-0.007535</td>\n",
       "      <td>0.011409</td>\n",
       "      <td>0.025979</td>\n",
       "      <td>-0.030681</td>\n",
       "      <td>0.010049</td>\n",
       "      <td>-0.003153</td>\n",
       "      <td>0.000772</td>\n",
       "      <td>0.012041</td>\n",
       "    </tr>\n",
       "    <tr>\n",
       "      <td>balance</td>\n",
       "      <td>0.006268</td>\n",
       "      <td>0.028308</td>\n",
       "      <td>-0.007535</td>\n",
       "      <td>1.000000</td>\n",
       "      <td>-0.304180</td>\n",
       "      <td>-0.014858</td>\n",
       "      <td>-0.010084</td>\n",
       "      <td>0.012797</td>\n",
       "      <td>0.401110</td>\n",
       "      <td>-0.134892</td>\n",
       "      <td>0.012087</td>\n",
       "    </tr>\n",
       "    <tr>\n",
       "      <td>num_of_products</td>\n",
       "      <td>0.012238</td>\n",
       "      <td>-0.030680</td>\n",
       "      <td>0.011409</td>\n",
       "      <td>-0.304180</td>\n",
       "      <td>1.000000</td>\n",
       "      <td>0.003183</td>\n",
       "      <td>0.009612</td>\n",
       "      <td>0.014204</td>\n",
       "      <td>-0.010419</td>\n",
       "      <td>0.009039</td>\n",
       "      <td>-0.021859</td>\n",
       "    </tr>\n",
       "    <tr>\n",
       "      <td>has_cr_card</td>\n",
       "      <td>-0.005458</td>\n",
       "      <td>-0.011721</td>\n",
       "      <td>0.025979</td>\n",
       "      <td>-0.014858</td>\n",
       "      <td>0.003183</td>\n",
       "      <td>1.000000</td>\n",
       "      <td>-0.011866</td>\n",
       "      <td>-0.009933</td>\n",
       "      <td>0.010577</td>\n",
       "      <td>-0.013480</td>\n",
       "      <td>0.005766</td>\n",
       "    </tr>\n",
       "    <tr>\n",
       "      <td>is_active_member</td>\n",
       "      <td>0.025651</td>\n",
       "      <td>0.085472</td>\n",
       "      <td>-0.030681</td>\n",
       "      <td>-0.010084</td>\n",
       "      <td>0.009612</td>\n",
       "      <td>-0.011866</td>\n",
       "      <td>1.000000</td>\n",
       "      <td>-0.011421</td>\n",
       "      <td>-0.020486</td>\n",
       "      <td>0.016732</td>\n",
       "      <td>0.022544</td>\n",
       "    </tr>\n",
       "    <tr>\n",
       "      <td>estimated_salary</td>\n",
       "      <td>-0.001384</td>\n",
       "      <td>-0.007201</td>\n",
       "      <td>0.010049</td>\n",
       "      <td>0.012797</td>\n",
       "      <td>0.014204</td>\n",
       "      <td>-0.009933</td>\n",
       "      <td>-0.011421</td>\n",
       "      <td>1.000000</td>\n",
       "      <td>0.010297</td>\n",
       "      <td>-0.006482</td>\n",
       "      <td>-0.008112</td>\n",
       "    </tr>\n",
       "    <tr>\n",
       "      <td>country_Germany</td>\n",
       "      <td>0.005538</td>\n",
       "      <td>0.046897</td>\n",
       "      <td>-0.003153</td>\n",
       "      <td>0.401110</td>\n",
       "      <td>-0.010419</td>\n",
       "      <td>0.010577</td>\n",
       "      <td>-0.020486</td>\n",
       "      <td>0.010297</td>\n",
       "      <td>1.000000</td>\n",
       "      <td>-0.332084</td>\n",
       "      <td>-0.024628</td>\n",
       "    </tr>\n",
       "    <tr>\n",
       "      <td>country_Spain</td>\n",
       "      <td>0.004780</td>\n",
       "      <td>-0.001685</td>\n",
       "      <td>0.000772</td>\n",
       "      <td>-0.134892</td>\n",
       "      <td>0.009039</td>\n",
       "      <td>-0.013480</td>\n",
       "      <td>0.016732</td>\n",
       "      <td>-0.006482</td>\n",
       "      <td>-0.332084</td>\n",
       "      <td>1.000000</td>\n",
       "      <td>0.016889</td>\n",
       "    </tr>\n",
       "    <tr>\n",
       "      <td>gender_Male</td>\n",
       "      <td>-0.002857</td>\n",
       "      <td>-0.027544</td>\n",
       "      <td>0.012041</td>\n",
       "      <td>0.012087</td>\n",
       "      <td>-0.021859</td>\n",
       "      <td>0.005766</td>\n",
       "      <td>0.022544</td>\n",
       "      <td>-0.008112</td>\n",
       "      <td>-0.024628</td>\n",
       "      <td>0.016889</td>\n",
       "      <td>1.000000</td>\n",
       "    </tr>\n",
       "  </tbody>\n",
       "</table>\n",
       "</div>"
      ],
      "text/plain": [
       "                  credit_score       age    tenure   balance  num_of_products  \\\n",
       "credit_score          1.000000 -0.003965 -0.000060  0.006268         0.012238   \n",
       "age                  -0.003965  1.000000 -0.012606  0.028308        -0.030680   \n",
       "tenure               -0.000060 -0.012606  1.000000 -0.007535         0.011409   \n",
       "balance               0.006268  0.028308 -0.007535  1.000000        -0.304180   \n",
       "num_of_products       0.012238 -0.030680  0.011409 -0.304180         1.000000   \n",
       "has_cr_card          -0.005458 -0.011721  0.025979 -0.014858         0.003183   \n",
       "is_active_member      0.025651  0.085472 -0.030681 -0.010084         0.009612   \n",
       "estimated_salary     -0.001384 -0.007201  0.010049  0.012797         0.014204   \n",
       "country_Germany       0.005538  0.046897 -0.003153  0.401110        -0.010419   \n",
       "country_Spain         0.004780 -0.001685  0.000772 -0.134892         0.009039   \n",
       "gender_Male          -0.002857 -0.027544  0.012041  0.012087        -0.021859   \n",
       "\n",
       "                  has_cr_card  is_active_member  estimated_salary  \\\n",
       "credit_score        -0.005458          0.025651         -0.001384   \n",
       "age                 -0.011721          0.085472         -0.007201   \n",
       "tenure               0.025979         -0.030681          0.010049   \n",
       "balance             -0.014858         -0.010084          0.012797   \n",
       "num_of_products      0.003183          0.009612          0.014204   \n",
       "has_cr_card          1.000000         -0.011866         -0.009933   \n",
       "is_active_member    -0.011866          1.000000         -0.011421   \n",
       "estimated_salary    -0.009933         -0.011421          1.000000   \n",
       "country_Germany      0.010577         -0.020486          0.010297   \n",
       "country_Spain       -0.013480          0.016732         -0.006482   \n",
       "gender_Male          0.005766          0.022544         -0.008112   \n",
       "\n",
       "                  country_Germany  country_Spain  gender_Male  \n",
       "credit_score             0.005538       0.004780    -0.002857  \n",
       "age                      0.046897      -0.001685    -0.027544  \n",
       "tenure                  -0.003153       0.000772     0.012041  \n",
       "balance                  0.401110      -0.134892     0.012087  \n",
       "num_of_products         -0.010419       0.009039    -0.021859  \n",
       "has_cr_card              0.010577      -0.013480     0.005766  \n",
       "is_active_member        -0.020486       0.016732     0.022544  \n",
       "estimated_salary         0.010297      -0.006482    -0.008112  \n",
       "country_Germany          1.000000      -0.332084    -0.024628  \n",
       "country_Spain           -0.332084       1.000000     0.016889  \n",
       "gender_Male             -0.024628       0.016889     1.000000  "
      ]
     },
     "execution_count": 46,
     "metadata": {},
     "output_type": "execute_result"
    }
   ],
   "source": [
    "features_OHE.corr()"
   ]
  },
  {
   "cell_type": "code",
   "execution_count": 47,
   "metadata": {},
   "outputs": [
    {
     "data": {
      "text/html": [
       "<div>\n",
       "<style scoped>\n",
       "    .dataframe tbody tr th:only-of-type {\n",
       "        vertical-align: middle;\n",
       "    }\n",
       "\n",
       "    .dataframe tbody tr th {\n",
       "        vertical-align: top;\n",
       "    }\n",
       "\n",
       "    .dataframe thead th {\n",
       "        text-align: right;\n",
       "    }\n",
       "</style>\n",
       "<table border=\"1\" class=\"dataframe\">\n",
       "  <thead>\n",
       "    <tr style=\"text-align: right;\">\n",
       "      <th></th>\n",
       "      <th>credit_score</th>\n",
       "      <th>country</th>\n",
       "      <th>gender</th>\n",
       "      <th>age</th>\n",
       "      <th>tenure</th>\n",
       "      <th>balance</th>\n",
       "      <th>num_of_products</th>\n",
       "      <th>has_cr_card</th>\n",
       "      <th>is_active_member</th>\n",
       "      <th>estimated_salary</th>\n",
       "    </tr>\n",
       "  </thead>\n",
       "  <tbody>\n",
       "    <tr>\n",
       "      <td>credit_score</td>\n",
       "      <td>1.000000</td>\n",
       "      <td>0.008054</td>\n",
       "      <td>-0.002991</td>\n",
       "      <td>-0.003697</td>\n",
       "      <td>-0.000267</td>\n",
       "      <td>0.002516</td>\n",
       "      <td>0.012171</td>\n",
       "      <td>-0.005326</td>\n",
       "      <td>0.025445</td>\n",
       "      <td>-0.001140</td>\n",
       "    </tr>\n",
       "    <tr>\n",
       "      <td>country</td>\n",
       "      <td>0.008054</td>\n",
       "      <td>1.000000</td>\n",
       "      <td>0.004719</td>\n",
       "      <td>0.022881</td>\n",
       "      <td>-0.000846</td>\n",
       "      <td>0.051726</td>\n",
       "      <td>0.003972</td>\n",
       "      <td>-0.008523</td>\n",
       "      <td>0.006724</td>\n",
       "      <td>-0.001277</td>\n",
       "    </tr>\n",
       "    <tr>\n",
       "      <td>gender</td>\n",
       "      <td>-0.002991</td>\n",
       "      <td>0.004719</td>\n",
       "      <td>1.000000</td>\n",
       "      <td>-0.027664</td>\n",
       "      <td>0.012041</td>\n",
       "      <td>0.016055</td>\n",
       "      <td>-0.021859</td>\n",
       "      <td>0.005766</td>\n",
       "      <td>0.022544</td>\n",
       "      <td>-0.008269</td>\n",
       "    </tr>\n",
       "    <tr>\n",
       "      <td>age</td>\n",
       "      <td>-0.003697</td>\n",
       "      <td>0.022881</td>\n",
       "      <td>-0.027664</td>\n",
       "      <td>1.000000</td>\n",
       "      <td>-0.012578</td>\n",
       "      <td>0.019862</td>\n",
       "      <td>-0.030707</td>\n",
       "      <td>-0.011697</td>\n",
       "      <td>0.085408</td>\n",
       "      <td>-0.007334</td>\n",
       "    </tr>\n",
       "    <tr>\n",
       "      <td>tenure</td>\n",
       "      <td>-0.000267</td>\n",
       "      <td>-0.000846</td>\n",
       "      <td>0.012041</td>\n",
       "      <td>-0.012578</td>\n",
       "      <td>1.000000</td>\n",
       "      <td>-0.003280</td>\n",
       "      <td>0.011409</td>\n",
       "      <td>0.025979</td>\n",
       "      <td>-0.030681</td>\n",
       "      <td>0.010080</td>\n",
       "    </tr>\n",
       "    <tr>\n",
       "      <td>balance</td>\n",
       "      <td>0.002516</td>\n",
       "      <td>0.051726</td>\n",
       "      <td>0.016055</td>\n",
       "      <td>0.019862</td>\n",
       "      <td>-0.003280</td>\n",
       "      <td>1.000000</td>\n",
       "      <td>-0.238570</td>\n",
       "      <td>-0.005535</td>\n",
       "      <td>-0.013556</td>\n",
       "      <td>0.009749</td>\n",
       "    </tr>\n",
       "    <tr>\n",
       "      <td>num_of_products</td>\n",
       "      <td>0.012171</td>\n",
       "      <td>0.003972</td>\n",
       "      <td>-0.021859</td>\n",
       "      <td>-0.030707</td>\n",
       "      <td>0.011409</td>\n",
       "      <td>-0.238570</td>\n",
       "      <td>1.000000</td>\n",
       "      <td>0.003183</td>\n",
       "      <td>0.009612</td>\n",
       "      <td>0.014248</td>\n",
       "    </tr>\n",
       "    <tr>\n",
       "      <td>has_cr_card</td>\n",
       "      <td>-0.005326</td>\n",
       "      <td>-0.008523</td>\n",
       "      <td>0.005766</td>\n",
       "      <td>-0.011697</td>\n",
       "      <td>0.025979</td>\n",
       "      <td>-0.005535</td>\n",
       "      <td>0.003183</td>\n",
       "      <td>1.000000</td>\n",
       "      <td>-0.011866</td>\n",
       "      <td>-0.010042</td>\n",
       "    </tr>\n",
       "    <tr>\n",
       "      <td>is_active_member</td>\n",
       "      <td>0.025445</td>\n",
       "      <td>0.006724</td>\n",
       "      <td>0.022544</td>\n",
       "      <td>0.085408</td>\n",
       "      <td>-0.030681</td>\n",
       "      <td>-0.013556</td>\n",
       "      <td>0.009612</td>\n",
       "      <td>-0.011866</td>\n",
       "      <td>1.000000</td>\n",
       "      <td>-0.011469</td>\n",
       "    </tr>\n",
       "    <tr>\n",
       "      <td>estimated_salary</td>\n",
       "      <td>-0.001140</td>\n",
       "      <td>-0.001277</td>\n",
       "      <td>-0.008269</td>\n",
       "      <td>-0.007334</td>\n",
       "      <td>0.010080</td>\n",
       "      <td>0.009749</td>\n",
       "      <td>0.014248</td>\n",
       "      <td>-0.010042</td>\n",
       "      <td>-0.011469</td>\n",
       "      <td>1.000000</td>\n",
       "    </tr>\n",
       "  </tbody>\n",
       "</table>\n",
       "</div>"
      ],
      "text/plain": [
       "                  credit_score   country    gender       age    tenure  \\\n",
       "credit_score          1.000000  0.008054 -0.002991 -0.003697 -0.000267   \n",
       "country               0.008054  1.000000  0.004719  0.022881 -0.000846   \n",
       "gender               -0.002991  0.004719  1.000000 -0.027664  0.012041   \n",
       "age                  -0.003697  0.022881 -0.027664  1.000000 -0.012578   \n",
       "tenure               -0.000267 -0.000846  0.012041 -0.012578  1.000000   \n",
       "balance               0.002516  0.051726  0.016055  0.019862 -0.003280   \n",
       "num_of_products       0.012171  0.003972 -0.021859 -0.030707  0.011409   \n",
       "has_cr_card          -0.005326 -0.008523  0.005766 -0.011697  0.025979   \n",
       "is_active_member      0.025445  0.006724  0.022544  0.085408 -0.030681   \n",
       "estimated_salary     -0.001140 -0.001277 -0.008269 -0.007334  0.010080   \n",
       "\n",
       "                   balance  num_of_products  has_cr_card  is_active_member  \\\n",
       "credit_score      0.002516         0.012171    -0.005326          0.025445   \n",
       "country           0.051726         0.003972    -0.008523          0.006724   \n",
       "gender            0.016055        -0.021859     0.005766          0.022544   \n",
       "age               0.019862        -0.030707    -0.011697          0.085408   \n",
       "tenure           -0.003280         0.011409     0.025979         -0.030681   \n",
       "balance           1.000000        -0.238570    -0.005535         -0.013556   \n",
       "num_of_products  -0.238570         1.000000     0.003183          0.009612   \n",
       "has_cr_card      -0.005535         0.003183     1.000000         -0.011866   \n",
       "is_active_member -0.013556         0.009612    -0.011866          1.000000   \n",
       "estimated_salary  0.009749         0.014248    -0.010042         -0.011469   \n",
       "\n",
       "                  estimated_salary  \n",
       "credit_score             -0.001140  \n",
       "country                  -0.001277  \n",
       "gender                   -0.008269  \n",
       "age                      -0.007334  \n",
       "tenure                    0.010080  \n",
       "balance                   0.009749  \n",
       "num_of_products           0.014248  \n",
       "has_cr_card              -0.010042  \n",
       "is_active_member         -0.011469  \n",
       "estimated_salary          1.000000  "
      ]
     },
     "execution_count": 47,
     "metadata": {},
     "output_type": "execute_result"
    }
   ],
   "source": [
    "features_ordinal.corr()"
   ]
  },
  {
   "cell_type": "markdown",
   "metadata": {},
   "source": [
    "    - There isn't any multicollinearity situation of the features.\n",
    "    - We can go ahead to build models."
   ]
  },
  {
   "cell_type": "markdown",
   "metadata": {},
   "source": [
    "## Building the models"
   ]
  },
  {
   "cell_type": "markdown",
   "metadata": {},
   "source": [
    "- First, we will examine the class balance."
   ]
  },
  {
   "cell_type": "markdown",
   "metadata": {},
   "source": [
    "### Examining the class balances"
   ]
  },
  {
   "cell_type": "code",
   "execution_count": 48,
   "metadata": {},
   "outputs": [
    {
     "data": {
      "image/png": "[encoded data removed]",
      "text/plain": [
       "<Figure size 432x288 with 1 Axes>"
      ]
     },
     "metadata": {
      "needs_background": "light"
     },
     "output_type": "display_data"
    }
   ],
   "source": [
    "plt.figure()\n",
    "plt.title(\"\\nClass Rates\\n\", size=21, color='red')\n",
    "plt.yticks(size=15, color='red')\n",
    "plt.xticks([0.2, 0.4, 0.6, 0.8], size=15, color='red')\n",
    "target.value_counts(normalize=True).plot(kind='barh', grid=True);"
   ]
  },
  {
   "cell_type": "markdown",
   "metadata": {},
   "source": [
    "    - We can see the class imbalance from the graph. \n",
    "    - 1 customer exited while 4 customers stayed (1:4)\n",
    "- First, we will disregard the class imbalance and make model without balancing.\n",
    "- Then we will improve the model with hyperparameter tuning.\n",
    "- After that we will look at the metrics, we will rebuild a model regarding and correcting the class imbalance problem.\n",
    "- Then we will repeat these steps for other algoirthms."
   ]
  },
  {
   "cell_type": "markdown",
   "metadata": {},
   "source": [
    "### Studying the models"
   ]
  },
  {
   "cell_type": "markdown",
   "metadata": {},
   "source": [
    "- We will study on the the 3 main classifier models. \n",
    "- We need to import them from the sklearn library.\n",
    "- We will look at the f1 score after finding the best scores for each model."
   ]
  },
  {
   "cell_type": "code",
   "execution_count": 49,
   "metadata": {},
   "outputs": [],
   "source": [
    "from sklearn.tree import DecisionTreeClassifier\n",
    "from sklearn.ensemble import RandomForestClassifier\n",
    "from sklearn.linear_model import LogisticRegression\n",
    "from sklearn.metrics import f1_score"
   ]
  },
  {
   "cell_type": "markdown",
   "metadata": {},
   "source": [
    "- First we will try Logistic Regression with features_OHE.\n",
    "- After that, we will use features_ordinal for Decision Tree and Random Forest models."
   ]
  },
  {
   "cell_type": "markdown",
   "metadata": {},
   "source": [
    "#### Logistic Regression Model"
   ]
  },
  {
   "cell_type": "markdown",
   "metadata": {},
   "source": [
    "##### Logistic Regression Model Building Without Optimisation"
   ]
  },
  {
   "cell_type": "code",
   "execution_count": 50,
   "metadata": {},
   "outputs": [],
   "source": [
    "log = LogisticRegression(random_state=123, solver='liblinear')"
   ]
  },
  {
   "cell_type": "code",
   "execution_count": 51,
   "metadata": {},
   "outputs": [
    {
     "data": {
      "text/plain": [
       "LogisticRegression(C=1.0, class_weight=None, dual=False, fit_intercept=True,\n",
       "                   intercept_scaling=1, l1_ratio=None, max_iter=100,\n",
       "                   multi_class='warn', n_jobs=None, penalty='l2',\n",
       "                   random_state=123, solver='liblinear', tol=0.0001, verbose=0,\n",
       "                   warm_start=False)"
      ]
     },
     "execution_count": 51,
     "metadata": {},
     "output_type": "execute_result"
    }
   ],
   "source": [
    "log.fit(features_train_OHE, target_train_OHE)"
   ]
  },
  {
   "cell_type": "code",
   "execution_count": 52,
   "metadata": {},
   "outputs": [
    {
     "data": {
      "text/plain": [
       "0.8145"
      ]
     },
     "execution_count": 52,
     "metadata": {},
     "output_type": "execute_result"
    }
   ],
   "source": [
    "log.score(features_train_OHE, target_train_OHE)"
   ]
  },
  {
   "cell_type": "code",
   "execution_count": 53,
   "metadata": {},
   "outputs": [
    {
     "data": {
      "text/plain": [
       "0.803"
      ]
     },
     "execution_count": 53,
     "metadata": {},
     "output_type": "execute_result"
    }
   ],
   "source": [
    "log.score(features_valid_OHE, target_valid_OHE)"
   ]
  },
  {
   "cell_type": "markdown",
   "metadata": {},
   "source": [
    "- We will use only the Grid Search method for Logistic Regression."
   ]
  },
  {
   "cell_type": "markdown",
   "metadata": {},
   "source": [
    "##### Grid Search Optimisation"
   ]
  },
  {
   "cell_type": "code",
   "execution_count": 54,
   "metadata": {},
   "outputs": [],
   "source": [
    "from sklearn.model_selection import RandomizedSearchCV, GridSearchCV"
   ]
  },
  {
   "cell_type": "code",
   "execution_count": 55,
   "metadata": {},
   "outputs": [],
   "source": [
    "log = LogisticRegression(random_state=123)\n",
    "solvers = ['newton-cg', 'lbfgs', 'liblinear']\n",
    "params = dict(solver = solvers)"
   ]
  },
  {
   "cell_type": "code",
   "execution_count": 56,
   "metadata": {},
   "outputs": [],
   "source": [
    "grid = GridSearchCV(estimator=log, param_grid=params, n_jobs=-1, cv=3, scoring='accuracy', error_score=0)"
   ]
  },
  {
   "cell_type": "code",
   "execution_count": 57,
   "metadata": {},
   "outputs": [
    {
     "name": "stdout",
     "output_type": "stream",
     "text": [
      "Best: 0.812333 using {'solver': 'liblinear'}\n"
     ]
    }
   ],
   "source": [
    "grid_result = grid.fit(features_train_OHE, target_train_OHE)\n",
    "print(\"Best: %f using %s\" % (grid_result.best_score_, grid_result.best_params_))"
   ]
  },
  {
   "cell_type": "markdown",
   "metadata": {},
   "source": [
    "    - It doesn't have any important effect on score. We will use without defining parameters except 'liblinear' solver."
   ]
  },
  {
   "cell_type": "markdown",
   "metadata": {},
   "source": [
    "##### f1 Score with enhanced dataset"
   ]
  },
  {
   "cell_type": "markdown",
   "metadata": {},
   "source": [
    "- We had splitted the source data and they splitted after the first split.\n",
    "- We have got training and validation sets in the first splitted data.\n",
    "- We will check the shapes of splitted data.\n",
    "- Then we will fit the model with the bigger dataset.\n",
    "- At the last, we will find the f1 score.\n",
    "- **We need to find f1 score over 0.59 for this project.**"
   ]
  },
  {
   "cell_type": "code",
   "execution_count": 58,
   "metadata": {},
   "outputs": [
    {
     "data": {
      "text/plain": [
       "(8000, 11)"
      ]
     },
     "metadata": {},
     "output_type": "display_data"
    },
    {
     "data": {
      "text/plain": [
       "(8000,)"
      ]
     },
     "metadata": {},
     "output_type": "display_data"
    }
   ],
   "source": [
    "display(features_splitted_OHE.shape)\n",
    "display(target_splitted_OHE.shape)"
   ]
  },
  {
   "cell_type": "code",
   "execution_count": 59,
   "metadata": {},
   "outputs": [],
   "source": [
    "log = LogisticRegression(random_state=123, solver='liblinear')"
   ]
  },
  {
   "cell_type": "code",
   "execution_count": 60,
   "metadata": {},
   "outputs": [
    {
     "data": {
      "text/plain": [
       "LogisticRegression(C=1.0, class_weight=None, dual=False, fit_intercept=True,\n",
       "                   intercept_scaling=1, l1_ratio=None, max_iter=100,\n",
       "                   multi_class='warn', n_jobs=None, penalty='l2',\n",
       "                   random_state=123, solver='liblinear', tol=0.0001, verbose=0,\n",
       "                   warm_start=False)"
      ]
     },
     "execution_count": 60,
     "metadata": {},
     "output_type": "execute_result"
    }
   ],
   "source": [
    "log.fit(features_splitted_OHE, target_splitted_OHE)"
   ]
  },
  {
   "cell_type": "code",
   "execution_count": 61,
   "metadata": {},
   "outputs": [
    {
     "data": {
      "text/plain": [
       "0.3392226148409894"
      ]
     },
     "execution_count": 61,
     "metadata": {},
     "output_type": "execute_result"
    }
   ],
   "source": [
    "test_preds = log.predict(features_test_OHE)\n",
    "f1_score(target_test_OHE, test_preds)"
   ]
  },
  {
   "cell_type": "markdown",
   "metadata": {},
   "source": [
    "    - It's too low for f1 score.\n",
    "    - We will improve our Logistic Regression model."
   ]
  },
  {
   "cell_type": "markdown",
   "metadata": {},
   "source": [
    "- We need to regard the imbalance situation and improve our model.\n",
    "- We will use different approaches for fixing class imbalance.\n",
    "- Since we can improve the Logistic Regression model using class_weight parameter as balanced, first we will try that.\n",
    "- Also we will try to improve Random Forest model with upsampling and downsampling methods."
   ]
  },
  {
   "cell_type": "markdown",
   "metadata": {},
   "source": [
    "##### Logistic Regression improvement using 'balanced' class_weight"
   ]
  },
  {
   "cell_type": "markdown",
   "metadata": {},
   "source": [
    "- We will define the **class_weight='balanced'** for Logistic Regression model, then find again the f1 score."
   ]
  },
  {
   "cell_type": "code",
   "execution_count": 62,
   "metadata": {},
   "outputs": [],
   "source": [
    "log = LogisticRegression(random_state=123, solver='liblinear', class_weight='balanced')"
   ]
  },
  {
   "cell_type": "code",
   "execution_count": 63,
   "metadata": {},
   "outputs": [
    {
     "data": {
      "text/plain": [
       "LogisticRegression(C=1.0, class_weight='balanced', dual=False,\n",
       "                   fit_intercept=True, intercept_scaling=1, l1_ratio=None,\n",
       "                   max_iter=100, multi_class='warn', n_jobs=None, penalty='l2',\n",
       "                   random_state=123, solver='liblinear', tol=0.0001, verbose=0,\n",
       "                   warm_start=False)"
      ]
     },
     "execution_count": 63,
     "metadata": {},
     "output_type": "execute_result"
    }
   ],
   "source": [
    "log.fit(features_train_OHE, target_train_OHE)"
   ]
  },
  {
   "cell_type": "code",
   "execution_count": 64,
   "metadata": {},
   "outputs": [],
   "source": [
    "predicted_valid = log.predict(features_valid_OHE)"
   ]
  },
  {
   "cell_type": "code",
   "execution_count": 65,
   "metadata": {},
   "outputs": [
    {
     "data": {
      "text/plain": [
       "0.4970212765957447"
      ]
     },
     "execution_count": 65,
     "metadata": {},
     "output_type": "execute_result"
    }
   ],
   "source": [
    "f1_score(target_valid_OHE, predicted_valid)"
   ]
  },
  {
   "cell_type": "markdown",
   "metadata": {},
   "source": [
    "    - Almost 0.50, it's better than previous f1 score (0.34).\n",
    "- We will continue improve our Logistic Regression model with upsampling."
   ]
  },
  {
   "cell_type": "markdown",
   "metadata": {},
   "source": [
    "##### Logistic Regression improving with Upsampling"
   ]
  },
  {
   "cell_type": "markdown",
   "metadata": {},
   "source": [
    "- We will define a function to upsample our dataset to gain more '1' class.\n",
    "- We will import the shuffle from sklearn.utils to shuffle the upsampled data.\n",
    "- After defining the function, we will use the data preprocessed with OHE.\n",
    "- We have at **1:4 ratios for '1':'0' classes**. We will upsample class '1' for 4 times."
   ]
  },
  {
   "cell_type": "code",
   "execution_count": 66,
   "metadata": {},
   "outputs": [
    {
     "data": {
      "image/png": "[encoded data removed]",
      "text/plain": [
       "<Figure size 432x288 with 1 Axes>"
      ]
     },
     "metadata": {
      "needs_background": "light"
     },
     "output_type": "display_data"
    }
   ],
   "source": [
    "(target_train_OHE.value_counts(normalize=True)\n",
    " .plot(kind='barh', grid=True)\n",
    " .set_title('\\nClass Rates\\n', color='red', size=18));"
   ]
  },
  {
   "cell_type": "code",
   "execution_count": 67,
   "metadata": {},
   "outputs": [
    {
     "data": {
      "text/plain": [
       "(6000, 11)"
      ]
     },
     "execution_count": 67,
     "metadata": {},
     "output_type": "execute_result"
    }
   ],
   "source": [
    "features_train_OHE.shape"
   ]
  },
  {
   "cell_type": "code",
   "execution_count": 68,
   "metadata": {},
   "outputs": [],
   "source": [
    "from sklearn.utils import shuffle\n",
    "\n",
    "def upsample(features, target, repeat):\n",
    "    features_zeros = features[target == 0]\n",
    "    features_ones = features[target == 1]\n",
    "    target_zeros = target[target == 0]\n",
    "    target_ones = target[target == 1]\n",
    "    \n",
    "    features_upsampled = pd.concat([features_zeros] + [features_ones] * repeat)\n",
    "    target_upsampled = pd.concat([target_zeros] + [target_ones] * repeat)\n",
    "    \n",
    "    features_upsampled, target_upsampled = shuffle(features_upsampled, target_upsampled, random_state=123)\n",
    "    return features_upsampled, target_upsampled"
   ]
  },
  {
   "cell_type": "code",
   "execution_count": 69,
   "metadata": {},
   "outputs": [],
   "source": [
    "features_upsampled_OHE, target_upsampled_OHE = upsample(features_train_OHE, target_train_OHE, 4)"
   ]
  },
  {
   "cell_type": "code",
   "execution_count": 70,
   "metadata": {},
   "outputs": [
    {
     "data": {
      "text/plain": [
       "(9609, 11)"
      ]
     },
     "execution_count": 70,
     "metadata": {},
     "output_type": "execute_result"
    }
   ],
   "source": [
    "features_upsampled_OHE.shape"
   ]
  },
  {
   "cell_type": "code",
   "execution_count": 71,
   "metadata": {},
   "outputs": [
    {
     "data": {
      "image/png": "[encoded data removed]",
      "text/plain": [
       "<Figure size 432x288 with 1 Axes>"
      ]
     },
     "metadata": {
      "needs_background": "light"
     },
     "output_type": "display_data"
    }
   ],
   "source": [
    "(target_upsampled_OHE\n",
    " .value_counts(normalize=True)\n",
    " .plot(kind='barh', grid=True)\n",
    " .set_title('\\nUpsampled Training Class Rates\\n', color='red', size=18));"
   ]
  },
  {
   "cell_type": "markdown",
   "metadata": {},
   "source": [
    "    - Now we catched the class balance.\n",
    "- Let's train and improve the Logistic Regression model.\n",
    "- We will **NOT** define 'class_weight' as 'balanced'."
   ]
  },
  {
   "cell_type": "code",
   "execution_count": 72,
   "metadata": {},
   "outputs": [],
   "source": [
    "log = LogisticRegression(solver='liblinear', random_state=123)"
   ]
  },
  {
   "cell_type": "code",
   "execution_count": 73,
   "metadata": {},
   "outputs": [
    {
     "data": {
      "text/plain": [
       "LogisticRegression(C=1.0, class_weight=None, dual=False, fit_intercept=True,\n",
       "                   intercept_scaling=1, l1_ratio=None, max_iter=100,\n",
       "                   multi_class='warn', n_jobs=None, penalty='l2',\n",
       "                   random_state=123, solver='liblinear', tol=0.0001, verbose=0,\n",
       "                   warm_start=False)"
      ]
     },
     "execution_count": 73,
     "metadata": {},
     "output_type": "execute_result"
    }
   ],
   "source": [
    "log.fit(features_upsampled_OHE, target_upsampled_OHE)"
   ]
  },
  {
   "cell_type": "code",
   "execution_count": 74,
   "metadata": {},
   "outputs": [
    {
     "data": {
      "text/plain": [
       "0.49659863945578225"
      ]
     },
     "execution_count": 74,
     "metadata": {},
     "output_type": "execute_result"
    }
   ],
   "source": [
    "valid_preds = log.predict(features_valid_OHE)\n",
    "f1_score(target_valid_OHE, valid_preds)"
   ]
  },
  {
   "cell_type": "markdown",
   "metadata": {},
   "source": [
    "    - It's lower than previous method but almost same. \n",
    "    - We can say there isn't any significant change with upsampling.\n",
    "    - So we can't improve our Logistic Regression model."
   ]
  },
  {
   "cell_type": "markdown",
   "metadata": {},
   "source": [
    "##### Upsampling with Enhanced Dataset (training + validation set)"
   ]
  },
  {
   "cell_type": "markdown",
   "metadata": {},
   "source": [
    "- We will use training and validation sets together to get more score.\n",
    "- We will use 'upsample' function for 'features_splitted_OHE' data"
   ]
  },
  {
   "cell_type": "code",
   "execution_count": 75,
   "metadata": {},
   "outputs": [],
   "source": [
    "features_upsampled_OHE, target_upsampled_OHE = upsample(features_splitted_OHE, target_splitted_OHE, 4)"
   ]
  },
  {
   "cell_type": "code",
   "execution_count": 76,
   "metadata": {},
   "outputs": [
    {
     "data": {
      "text/plain": [
       "(12869, 11)"
      ]
     },
     "execution_count": 76,
     "metadata": {},
     "output_type": "execute_result"
    }
   ],
   "source": [
    "features_upsampled_OHE.shape"
   ]
  },
  {
   "cell_type": "code",
   "execution_count": 77,
   "metadata": {},
   "outputs": [
    {
     "data": {
      "text/plain": [
       "(12869,)"
      ]
     },
     "execution_count": 77,
     "metadata": {},
     "output_type": "execute_result"
    }
   ],
   "source": [
    "target_upsampled_OHE.shape"
   ]
  },
  {
   "cell_type": "code",
   "execution_count": 78,
   "metadata": {
    "scrolled": true
   },
   "outputs": [
    {
     "data": {
      "image/png": "[encoded data removed]",
      "text/plain": [
       "<Figure size 432x288 with 1 Axes>"
      ]
     },
     "metadata": {
      "needs_background": "light"
     },
     "output_type": "display_data"
    }
   ],
   "source": [
    "(target_upsampled_OHE.value_counts()\n",
    " .plot(kind='barh', grid=True)\n",
    " .set_title('\\nUpsampled Enhanced Dataset Classes\\n', color='red', size=18));"
   ]
  },
  {
   "cell_type": "markdown",
   "metadata": {},
   "source": [
    "- We have got more balanced data now."
   ]
  },
  {
   "cell_type": "code",
   "execution_count": 79,
   "metadata": {},
   "outputs": [
    {
     "data": {
      "text/plain": [
       "LogisticRegression(C=1.0, class_weight=None, dual=False, fit_intercept=True,\n",
       "                   intercept_scaling=1, l1_ratio=None, max_iter=100,\n",
       "                   multi_class='warn', n_jobs=None, penalty='l2',\n",
       "                   random_state=123, solver='liblinear', tol=0.0001, verbose=0,\n",
       "                   warm_start=False)"
      ]
     },
     "execution_count": 79,
     "metadata": {},
     "output_type": "execute_result"
    }
   ],
   "source": [
    "log.fit(features_upsampled_OHE, target_upsampled_OHE)"
   ]
  },
  {
   "cell_type": "markdown",
   "metadata": {},
   "source": [
    "- We will use test set to find f1 score."
   ]
  },
  {
   "cell_type": "code",
   "execution_count": 80,
   "metadata": {},
   "outputs": [
    {
     "data": {
      "text/plain": [
       "0.5097046413502109"
      ]
     },
     "execution_count": 80,
     "metadata": {},
     "output_type": "execute_result"
    }
   ],
   "source": [
    "test_preds = log.predict(features_test_OHE)\n",
    "f1_score(target_test_OHE, test_preds)"
   ]
  },
  {
   "cell_type": "markdown",
   "metadata": {},
   "source": [
    "- It's almost **0.51**, the best f1 score, we can improved a bit but not as required."
   ]
  },
  {
   "cell_type": "markdown",
   "metadata": {},
   "source": [
    "- We will continue with the Decision Tree model."
   ]
  },
  {
   "cell_type": "markdown",
   "metadata": {},
   "source": [
    "#### Decision Tree Classifier Model"
   ]
  },
  {
   "cell_type": "markdown",
   "metadata": {},
   "source": [
    "##### Decision Tree Model Building Without Optimisation"
   ]
  },
  {
   "cell_type": "code",
   "execution_count": 81,
   "metadata": {},
   "outputs": [],
   "source": [
    "tree = DecisionTreeClassifier(random_state=123)"
   ]
  },
  {
   "cell_type": "code",
   "execution_count": 82,
   "metadata": {},
   "outputs": [
    {
     "data": {
      "text/plain": [
       "DecisionTreeClassifier(class_weight=None, criterion='gini', max_depth=None,\n",
       "                       max_features=None, max_leaf_nodes=None,\n",
       "                       min_impurity_decrease=0.0, min_impurity_split=None,\n",
       "                       min_samples_leaf=1, min_samples_split=2,\n",
       "                       min_weight_fraction_leaf=0.0, presort=False,\n",
       "                       random_state=123, splitter='best')"
      ]
     },
     "execution_count": 82,
     "metadata": {},
     "output_type": "execute_result"
    }
   ],
   "source": [
    "tree.fit(features_train_ordinal, target_train_ordinal)"
   ]
  },
  {
   "cell_type": "code",
   "execution_count": 83,
   "metadata": {},
   "outputs": [
    {
     "data": {
      "text/plain": [
       "1.0"
      ]
     },
     "execution_count": 83,
     "metadata": {},
     "output_type": "execute_result"
    }
   ],
   "source": [
    "tree.score(features_train_ordinal, target_train_ordinal)"
   ]
  },
  {
   "cell_type": "code",
   "execution_count": 84,
   "metadata": {},
   "outputs": [
    {
     "data": {
      "text/plain": [
       "0.771"
      ]
     },
     "execution_count": 84,
     "metadata": {},
     "output_type": "execute_result"
    }
   ],
   "source": [
    "tree.score(features_valid_ordinal, target_valid_ordinal)"
   ]
  },
  {
   "cell_type": "markdown",
   "metadata": {},
   "source": [
    "    - We will to improve our tree model with hyperparameter optimisation.\n",
    "    - We will use Random Search and Grid Search methods."
   ]
  },
  {
   "cell_type": "markdown",
   "metadata": {},
   "source": [
    "##### Random Search Optimisation"
   ]
  },
  {
   "cell_type": "code",
   "execution_count": 85,
   "metadata": {},
   "outputs": [],
   "source": [
    "max_depth = range(1, 21)\n",
    "min_samples_leaf = range(1, 101, 5)\n",
    "\n",
    "params = dict(max_depth=max_depth, min_samples_leaf=min_samples_leaf)"
   ]
  },
  {
   "cell_type": "code",
   "execution_count": 86,
   "metadata": {},
   "outputs": [],
   "source": [
    "tree = DecisionTreeClassifier(random_state=123)\n",
    "random = RandomizedSearchCV(estimator=tree, param_distributions=params, cv = 3, n_jobs=-1)"
   ]
  },
  {
   "cell_type": "code",
   "execution_count": 87,
   "metadata": {},
   "outputs": [
    {
     "name": "stdout",
     "output_type": "stream",
     "text": [
      "Best: 0.848000 using {'min_samples_leaf': 26, 'max_depth': 5}\n",
      "CPU times: user 531 ms, sys: 0 ns, total: 531 ms\n",
      "Wall time: 529 ms\n"
     ]
    }
   ],
   "source": [
    "%%time\n",
    "random_result = random.fit(features_train_ordinal, target_train_ordinal)\n",
    "print(\"Best: %f using %s\" % (random_result.best_score_, random_result.best_params_))"
   ]
  },
  {
   "cell_type": "markdown",
   "metadata": {},
   "source": [
    "##### Grid Search Optimisation"
   ]
  },
  {
   "cell_type": "code",
   "execution_count": 88,
   "metadata": {},
   "outputs": [],
   "source": [
    "max_depth = range(3, 13)\n",
    "min_samples_leaf = range(10, 30)\n",
    "params = dict(max_depth=max_depth, min_samples_leaf=min_samples_leaf)"
   ]
  },
  {
   "cell_type": "code",
   "execution_count": 89,
   "metadata": {},
   "outputs": [],
   "source": [
    "tree = DecisionTreeClassifier(random_state=123)\n",
    "grid = GridSearchCV(estimator=tree, param_grid=params, cv=3, n_jobs=-1)"
   ]
  },
  {
   "cell_type": "code",
   "execution_count": 90,
   "metadata": {},
   "outputs": [
    {
     "name": "stdout",
     "output_type": "stream",
     "text": [
      "Best: 0.854833 using {'max_depth': 5, 'min_samples_leaf': 12}\n",
      "CPU times: user 10.3 s, sys: 0 ns, total: 10.3 s\n",
      "Wall time: 10.7 s\n"
     ]
    }
   ],
   "source": [
    "%%time\n",
    "grid_result = grid.fit(features_train_ordinal, target_train_ordinal)\n",
    "print(\"Best: %f using %s\" % (grid_result.best_score_, grid_result.best_params_))"
   ]
  },
  {
   "cell_type": "markdown",
   "metadata": {},
   "source": [
    "    - We tried two optimisation methods and found the different scores with different values.\n",
    "    - We will use '5' for max_depth and '12' for min_samples_leaf.\n",
    "    - Now, we will find the f1 score using training and validation sets."
   ]
  },
  {
   "cell_type": "markdown",
   "metadata": {},
   "source": [
    "##### f1 Score"
   ]
  },
  {
   "cell_type": "markdown",
   "metadata": {},
   "source": [
    "- We will make the same process for training the model.\n",
    "- We will use training and validation set together."
   ]
  },
  {
   "cell_type": "code",
   "execution_count": 91,
   "metadata": {},
   "outputs": [],
   "source": [
    "tree = DecisionTreeClassifier(random_state=123, max_depth=5, min_samples_leaf=12)"
   ]
  },
  {
   "cell_type": "code",
   "execution_count": 92,
   "metadata": {},
   "outputs": [
    {
     "data": {
      "text/plain": [
       "DecisionTreeClassifier(class_weight=None, criterion='gini', max_depth=5,\n",
       "                       max_features=None, max_leaf_nodes=None,\n",
       "                       min_impurity_decrease=0.0, min_impurity_split=None,\n",
       "                       min_samples_leaf=12, min_samples_split=2,\n",
       "                       min_weight_fraction_leaf=0.0, presort=False,\n",
       "                       random_state=123, splitter='best')"
      ]
     },
     "execution_count": 92,
     "metadata": {},
     "output_type": "execute_result"
    }
   ],
   "source": [
    "tree.fit(features_splitted_ordinal, target_splitted_ordinal)"
   ]
  },
  {
   "cell_type": "code",
   "execution_count": 93,
   "metadata": {},
   "outputs": [
    {
     "data": {
      "text/plain": [
       "0.5540334855403349"
      ]
     },
     "execution_count": 93,
     "metadata": {},
     "output_type": "execute_result"
    }
   ],
   "source": [
    "test_preds = tree.predict(features_test_ordinal)\n",
    "f1_score(target_test_ordinal, test_preds)"
   ]
  },
  {
   "cell_type": "markdown",
   "metadata": {},
   "source": [
    "- It's below the project requirement (0.59), but we improved so far.\n",
    "- We will improve our Decision Tree model.\n",
    "- We will use Upsampling and Downsampling to fix class imbalance."
   ]
  },
  {
   "cell_type": "markdown",
   "metadata": {},
   "source": [
    "##### Decision Tree model improving with Upsampling"
   ]
  },
  {
   "cell_type": "markdown",
   "metadata": {},
   "source": [
    "- We will use upsample function previously defined to upsample data.\n",
    "- We will use downsampling as another method, so we will define downsample function like upsample."
   ]
  },
  {
   "cell_type": "markdown",
   "metadata": {},
   "source": [
    "- We will upsample the '1' class 4 times again, but for Label Encoded features."
   ]
  },
  {
   "cell_type": "code",
   "execution_count": 94,
   "metadata": {},
   "outputs": [],
   "source": [
    "features_upsampled_ordinal, target_upsampled_ordinal = upsample(features_train_ordinal, target_train_ordinal, 4)"
   ]
  },
  {
   "cell_type": "code",
   "execution_count": 95,
   "metadata": {},
   "outputs": [
    {
     "data": {
      "text/plain": [
       "(9609, 10)"
      ]
     },
     "execution_count": 95,
     "metadata": {},
     "output_type": "execute_result"
    }
   ],
   "source": [
    "features_upsampled_ordinal.shape"
   ]
  },
  {
   "cell_type": "markdown",
   "metadata": {},
   "source": [
    "- We will train the Decision Tree model with upsampled data.\n",
    "- Then we will find the f1 score with validation data."
   ]
  },
  {
   "cell_type": "code",
   "execution_count": 96,
   "metadata": {},
   "outputs": [
    {
     "data": {
      "text/plain": [
       "DecisionTreeClassifier(class_weight=None, criterion='gini', max_depth=5,\n",
       "                       max_features=None, max_leaf_nodes=None,\n",
       "                       min_impurity_decrease=0.0, min_impurity_split=None,\n",
       "                       min_samples_leaf=12, min_samples_split=2,\n",
       "                       min_weight_fraction_leaf=0.0, presort=False,\n",
       "                       random_state=123, splitter='best')"
      ]
     },
     "execution_count": 96,
     "metadata": {},
     "output_type": "execute_result"
    }
   ],
   "source": [
    "tree.fit(features_upsampled_ordinal, target_upsampled_ordinal)"
   ]
  },
  {
   "cell_type": "code",
   "execution_count": 97,
   "metadata": {},
   "outputs": [
    {
     "data": {
      "text/plain": [
       "0.5467889908256881"
      ]
     },
     "execution_count": 97,
     "metadata": {},
     "output_type": "execute_result"
    }
   ],
   "source": [
    "valid_preds = tree.predict(features_valid_ordinal)\n",
    "f1_score(target_valid_ordinal, valid_preds)"
   ]
  },
  {
   "cell_type": "markdown",
   "metadata": {},
   "source": [
    "    - It's almost 0.55, belower than previous."
   ]
  },
  {
   "cell_type": "markdown",
   "metadata": {},
   "source": [
    "##### Decision Tree model improving with Downsampling"
   ]
  },
  {
   "cell_type": "markdown",
   "metadata": {},
   "source": [
    "- Now, we will define the downsampling function."
   ]
  },
  {
   "cell_type": "code",
   "execution_count": 98,
   "metadata": {},
   "outputs": [],
   "source": [
    "def downsample(features, target, fraction):\n",
    "    features_zeros = features[target == 0]\n",
    "    target_zeros = target[target == 0]\n",
    "    features_ones = features[target == 1]\n",
    "    target_ones = target[target == 1]\n",
    "    \n",
    "    features_downsampled = (pd.concat([features_zeros.sample(frac=fraction, random_state=123)] + \n",
    "                                      [features_ones])\n",
    "                           )\n",
    "    target_downsampled = (pd.concat([target_zeros.sample(frac=fraction, random_state=123)] + \n",
    "                                    [target_ones])\n",
    "                         )\n",
    "    \n",
    "    features_downsampled, target_downsampled = shuffle(features_downsampled, target_downsampled, random_state=123)\n",
    "    \n",
    "    return features_downsampled, target_downsampled"
   ]
  },
  {
   "cell_type": "code",
   "execution_count": 99,
   "metadata": {},
   "outputs": [],
   "source": [
    "features_downsampled_ordinal, target_downsampled_ordinal = downsample(features_train_ordinal, target_train_ordinal, 0.25)"
   ]
  },
  {
   "cell_type": "code",
   "execution_count": 100,
   "metadata": {
    "scrolled": true
   },
   "outputs": [
    {
     "data": {
      "image/png": "[encoded data removed]",
      "text/plain": [
       "<Figure size 432x288 with 1 Axes>"
      ]
     },
     "metadata": {
      "needs_background": "light"
     },
     "output_type": "display_data"
    }
   ],
   "source": [
    "(target_downsampled_ordinal.value_counts()\n",
    " .plot.barh(grid=True)\n",
    " .set_title('\\nDownsampled Training Classes\\n', color='red', size=18));"
   ]
  },
  {
   "cell_type": "markdown",
   "metadata": {},
   "source": [
    "    - We cathed again the balance on classes.\n",
    "- We will train the model and find f1 score with downsampled data."
   ]
  },
  {
   "cell_type": "code",
   "execution_count": 101,
   "metadata": {},
   "outputs": [
    {
     "data": {
      "text/plain": [
       "DecisionTreeClassifier(class_weight=None, criterion='gini', max_depth=5,\n",
       "                       max_features=None, max_leaf_nodes=None,\n",
       "                       min_impurity_decrease=0.0, min_impurity_split=None,\n",
       "                       min_samples_leaf=12, min_samples_split=2,\n",
       "                       min_weight_fraction_leaf=0.0, presort=False,\n",
       "                       random_state=123, splitter='best')"
      ]
     },
     "execution_count": 101,
     "metadata": {},
     "output_type": "execute_result"
    }
   ],
   "source": [
    "tree.fit(features_downsampled_ordinal, target_downsampled_ordinal)"
   ]
  },
  {
   "cell_type": "code",
   "execution_count": 102,
   "metadata": {},
   "outputs": [
    {
     "data": {
      "text/plain": [
       "0.550491510277033"
      ]
     },
     "execution_count": 102,
     "metadata": {},
     "output_type": "execute_result"
    }
   ],
   "source": [
    "valid_preds = tree.predict(features_valid_ordinal)\n",
    "f1_score(target_valid_ordinal, valid_preds)"
   ]
  },
  {
   "cell_type": "markdown",
   "metadata": {},
   "source": [
    "    - We couldn't attain 0.59 for f1 score.\n",
    "    - We can say that downsamplimng result is a bit better than upsampling."
   ]
  },
  {
   "cell_type": "markdown",
   "metadata": {},
   "source": [
    "- We will try on more data as we calculated for Logistic Regression. \n",
    "- We will use training and validation sets together, and test the results on test set."
   ]
  },
  {
   "cell_type": "markdown",
   "metadata": {},
   "source": [
    "##### Upsampling with Enhanced Dataset (training + validation set)"
   ]
  },
  {
   "cell_type": "code",
   "execution_count": 103,
   "metadata": {},
   "outputs": [],
   "source": [
    "features_upsampled_ordinal, target_upsampled_ordinal = upsample(features_splitted_ordinal, target_splitted_ordinal, 4)"
   ]
  },
  {
   "cell_type": "code",
   "execution_count": 104,
   "metadata": {},
   "outputs": [
    {
     "data": {
      "text/plain": [
       "(12869,)"
      ]
     },
     "execution_count": 104,
     "metadata": {},
     "output_type": "execute_result"
    }
   ],
   "source": [
    "target_upsampled_ordinal.shape"
   ]
  },
  {
   "cell_type": "code",
   "execution_count": 105,
   "metadata": {},
   "outputs": [
    {
     "data": {
      "image/png": "[encoded data removed]",
      "text/plain": [
       "<Figure size 432x288 with 1 Axes>"
      ]
     },
     "metadata": {
      "needs_background": "light"
     },
     "output_type": "display_data"
    }
   ],
   "source": [
    "(target_upsampled_ordinal.value_counts()\n",
    " .plot(kind='barh', grid=True)\n",
    " .set_title('\\nUpsampled Enhanced Dataset Classes\\n', color='red', size=18));"
   ]
  },
  {
   "cell_type": "code",
   "execution_count": 106,
   "metadata": {},
   "outputs": [
    {
     "data": {
      "text/plain": [
       "DecisionTreeClassifier(class_weight=None, criterion='gini', max_depth=5,\n",
       "                       max_features=None, max_leaf_nodes=None,\n",
       "                       min_impurity_decrease=0.0, min_impurity_split=None,\n",
       "                       min_samples_leaf=12, min_samples_split=2,\n",
       "                       min_weight_fraction_leaf=0.0, presort=False,\n",
       "                       random_state=123, splitter='best')"
      ]
     },
     "execution_count": 106,
     "metadata": {},
     "output_type": "execute_result"
    }
   ],
   "source": [
    "tree.fit(features_upsampled_ordinal, target_upsampled_ordinal)"
   ]
  },
  {
   "cell_type": "code",
   "execution_count": 107,
   "metadata": {},
   "outputs": [
    {
     "data": {
      "text/plain": [
       "0.5882352941176471"
      ]
     },
     "execution_count": 107,
     "metadata": {},
     "output_type": "execute_result"
    }
   ],
   "source": [
    "test_preds = tree.predict(features_test_ordinal)\n",
    "f1_score(target_test_ordinal, test_preds)"
   ]
  },
  {
   "cell_type": "markdown",
   "metadata": {},
   "source": [
    "    - Almost 0.59, but we can't catch.\n",
    "    - Even so it's the best f1 score so far."
   ]
  },
  {
   "cell_type": "markdown",
   "metadata": {},
   "source": [
    "- We will try another method."
   ]
  },
  {
   "cell_type": "markdown",
   "metadata": {},
   "source": [
    "##### Decision Tree model improving with threshold adjustment"
   ]
  },
  {
   "cell_type": "markdown",
   "metadata": {},
   "source": [
    "- We will get the probabilities of being class '1' for each observation.\n",
    "- We will store them in 'probabilities_one_valid' variable.\n",
    "- We will define thresholds for possibility of being '1' class.\n",
    "- We will store the predictions accordance with the threshold value in a new prediction set in 'valid_preds'.\n",
    "- The class will be '1' for probabilities of observations  in 'probabilities_one_valid' over threshold value.\n",
    "- Below the threshold, the class will be '0'.\n",
    "- Then we will find the f1_score.\n",
    "- We will use upsampled enhanced data for threshold."
   ]
  },
  {
   "cell_type": "code",
   "execution_count": 108,
   "metadata": {},
   "outputs": [
    {
     "data": {
      "text/plain": [
       "DecisionTreeClassifier(class_weight=None, criterion='gini', max_depth=5,\n",
       "                       max_features=None, max_leaf_nodes=None,\n",
       "                       min_impurity_decrease=0.0, min_impurity_split=None,\n",
       "                       min_samples_leaf=12, min_samples_split=2,\n",
       "                       min_weight_fraction_leaf=0.0, presort=False,\n",
       "                       random_state=123, splitter='best')"
      ]
     },
     "execution_count": 108,
     "metadata": {},
     "output_type": "execute_result"
    }
   ],
   "source": [
    "tree.fit(features_upsampled_ordinal, target_upsampled_ordinal)"
   ]
  },
  {
   "cell_type": "code",
   "execution_count": 109,
   "metadata": {},
   "outputs": [],
   "source": [
    "probabilities_one_valid = tree.predict_proba(features_valid_ordinal)[:,1]"
   ]
  },
  {
   "cell_type": "code",
   "execution_count": 110,
   "metadata": {},
   "outputs": [
    {
     "name": "stdout",
     "output_type": "stream",
     "text": [
      "Threshold = 0.00 | f1 = 0.347\n",
      "Threshold = 0.05 | f1 = 0.390\n",
      "Threshold = 0.10 | f1 = 0.390\n",
      "Threshold = 0.15 | f1 = 0.421\n",
      "Threshold = 0.20 | f1 = 0.449\n",
      "Threshold = 0.25 | f1 = 0.450\n",
      "Threshold = 0.30 | f1 = 0.482\n",
      "Threshold = 0.35 | f1 = 0.494\n",
      "Threshold = 0.40 | f1 = 0.498\n",
      "Threshold = 0.45 | f1 = 0.563\n",
      "Threshold = 0.50 | f1 = 0.563\n",
      "Threshold = 0.55 | f1 = 0.579\n",
      "Threshold = 0.60 | f1 = 0.586\n",
      "Threshold = 0.65 | f1 = 0.587\n",
      "Threshold = 0.70 | f1 = 0.587\n",
      "Threshold = 0.75 | f1 = 0.534\n",
      "Threshold = 0.80 | f1 = 0.536\n",
      "Threshold = 0.85 | f1 = 0.535\n",
      "Threshold = 0.90 | f1 = 0.485\n",
      "Threshold = 0.95 | f1 = 0.422\n"
     ]
    }
   ],
   "source": [
    "for threshold in np.arange(0, 1.0, 0.05):\n",
    "    valid_preds = probabilities_one_valid > threshold\n",
    "    f1 = f1_score(target_valid_ordinal, valid_preds)\n",
    "    print(\"Threshold = {:.2f} | f1 = {:.3f}\".format(threshold, f1))"
   ]
  },
  {
   "cell_type": "code",
   "execution_count": 111,
   "metadata": {},
   "outputs": [
    {
     "name": "stdout",
     "output_type": "stream",
     "text": [
      "Threshold = 0.60 | f1 = 0.586\n",
      "Threshold = 0.61 | f1 = 0.586\n",
      "Threshold = 0.62 | f1 = 0.587\n",
      "Threshold = 0.63 | f1 = 0.587\n",
      "Threshold = 0.64 | f1 = 0.587\n",
      "Threshold = 0.65 | f1 = 0.587\n",
      "Threshold = 0.66 | f1 = 0.587\n",
      "Threshold = 0.67 | f1 = 0.587\n",
      "Threshold = 0.68 | f1 = 0.587\n",
      "Threshold = 0.69 | f1 = 0.587\n",
      "Threshold = 0.70 | f1 = 0.587\n",
      "Threshold = 0.71 | f1 = 0.587\n",
      "Threshold = 0.72 | f1 = 0.536\n",
      "Threshold = 0.73 | f1 = 0.540\n",
      "Threshold = 0.74 | f1 = 0.534\n",
      "Threshold = 0.75 | f1 = 0.534\n"
     ]
    }
   ],
   "source": [
    "for threshold in np.arange(0.60, 0.75, 0.01):\n",
    "    valid_preds = probabilities_one_valid > threshold\n",
    "    f1 = f1_score(target_valid_ordinal, valid_preds)\n",
    "    print(\"Threshold = {:.2f} | f1 = {:.3f}\".format(threshold, f1))"
   ]
  },
  {
   "cell_type": "markdown",
   "metadata": {},
   "source": [
    "    - We couldn't attain 0.59.\n",
    "    - The results are a bit lower than the previous balance correction method."
   ]
  },
  {
   "cell_type": "markdown",
   "metadata": {},
   "source": [
    "- Let's try the Random Forest model."
   ]
  },
  {
   "cell_type": "markdown",
   "metadata": {},
   "source": [
    "#### Random Forest Model"
   ]
  },
  {
   "cell_type": "markdown",
   "metadata": {},
   "source": [
    "##### Random Forest Model Without Optimisation"
   ]
  },
  {
   "cell_type": "code",
   "execution_count": 112,
   "metadata": {},
   "outputs": [],
   "source": [
    "forest = RandomForestClassifier(random_state=123, n_estimators=20)"
   ]
  },
  {
   "cell_type": "code",
   "execution_count": 113,
   "metadata": {},
   "outputs": [
    {
     "data": {
      "text/plain": [
       "RandomForestClassifier(bootstrap=True, class_weight=None, criterion='gini',\n",
       "                       max_depth=None, max_features='auto', max_leaf_nodes=None,\n",
       "                       min_impurity_decrease=0.0, min_impurity_split=None,\n",
       "                       min_samples_leaf=1, min_samples_split=2,\n",
       "                       min_weight_fraction_leaf=0.0, n_estimators=20,\n",
       "                       n_jobs=None, oob_score=False, random_state=123,\n",
       "                       verbose=0, warm_start=False)"
      ]
     },
     "execution_count": 113,
     "metadata": {},
     "output_type": "execute_result"
    }
   ],
   "source": [
    "forest.fit(features_train_ordinal, target_train_ordinal)"
   ]
  },
  {
   "cell_type": "code",
   "execution_count": 114,
   "metadata": {},
   "outputs": [
    {
     "data": {
      "text/plain": [
       "0.9931666666666666"
      ]
     },
     "execution_count": 114,
     "metadata": {},
     "output_type": "execute_result"
    }
   ],
   "source": [
    "forest.score(features_train_ordinal, target_train_ordinal)"
   ]
  },
  {
   "cell_type": "code",
   "execution_count": 115,
   "metadata": {},
   "outputs": [
    {
     "data": {
      "text/plain": [
       "0.859"
      ]
     },
     "execution_count": 115,
     "metadata": {},
     "output_type": "execute_result"
    }
   ],
   "source": [
    "forest.score(features_valid_ordinal, target_valid_ordinal)"
   ]
  },
  {
   "cell_type": "markdown",
   "metadata": {},
   "source": [
    "    - We will improve the model with the same methods."
   ]
  },
  {
   "cell_type": "markdown",
   "metadata": {},
   "source": [
    "##### Random Search Optimisation"
   ]
  },
  {
   "cell_type": "code",
   "execution_count": 116,
   "metadata": {},
   "outputs": [],
   "source": [
    "n_estimators = range(1, 101, 10)\n",
    "max_depth = range(1, 21)\n",
    "params = (dict(n_estimators = n_estimators, max_depth = max_depth))"
   ]
  },
  {
   "cell_type": "code",
   "execution_count": 117,
   "metadata": {},
   "outputs": [],
   "source": [
    "forest = RandomForestClassifier(random_state=123)"
   ]
  },
  {
   "cell_type": "code",
   "execution_count": 118,
   "metadata": {},
   "outputs": [],
   "source": [
    "random = RandomizedSearchCV(estimator=forest, param_distributions=params, cv = 3, n_jobs=-1)"
   ]
  },
  {
   "cell_type": "code",
   "execution_count": 119,
   "metadata": {},
   "outputs": [
    {
     "name": "stdout",
     "output_type": "stream",
     "text": [
      "Best: 0.861833 using {'n_estimators': 51, 'max_depth': 13}\n",
      "CPU times: user 8.97 s, sys: 37.7 ms, total: 9 s\n",
      "Wall time: 9.02 s\n"
     ]
    }
   ],
   "source": [
    "%%time\n",
    "random_result = random.fit(features_train_ordinal, target_train_ordinal)\n",
    "print(\"Best: %f using %s\" % (random_result.best_score_, random_result.best_params_))"
   ]
  },
  {
   "cell_type": "markdown",
   "metadata": {},
   "source": [
    "    - The results are better than our tree model.\n",
    "    - We will narrow the search band and use Grid Search method."
   ]
  },
  {
   "cell_type": "markdown",
   "metadata": {},
   "source": [
    "##### Grid Search Optimisation"
   ]
  },
  {
   "cell_type": "code",
   "execution_count": 124,
   "metadata": {},
   "outputs": [],
   "source": [
    "n_estimators = range(49, 70)\n",
    "max_depth = range(9, 13)\n",
    "\n",
    "params = (dict(n_estimators = n_estimators, max_depth = max_depth))"
   ]
  },
  {
   "cell_type": "code",
   "execution_count": 125,
   "metadata": {},
   "outputs": [],
   "source": [
    "forest = RandomForestClassifier(random_state=123)\n",
    "grid = GridSearchCV(estimator=forest, param_grid=params, cv=3, n_jobs=-1)"
   ]
  },
  {
   "cell_type": "code",
   "execution_count": 126,
   "metadata": {},
   "outputs": [
    {
     "name": "stdout",
     "output_type": "stream",
     "text": [
      "Best: 0.864000 using {'max_depth': 11, 'n_estimators': 66}\n",
      "CPU times: user 1min 32s, sys: 278 ms, total: 1min 32s\n",
      "Wall time: 1min 34s\n"
     ]
    }
   ],
   "source": [
    "%%time\n",
    "grid_result = grid.fit(features_train_ordinal, target_train_ordinal)\n",
    "print(\"Best: %f using %s\" % (grid_result.best_score_, grid_result.best_params_))"
   ]
  },
  {
   "cell_type": "markdown",
   "metadata": {},
   "source": [
    "    - It's the the best accuracy score so far. (0.864)\n",
    "    - We will select '11' for max_depth and '66' for n_estimators."
   ]
  },
  {
   "cell_type": "markdown",
   "metadata": {},
   "source": [
    "##### f1 Score"
   ]
  },
  {
   "cell_type": "markdown",
   "metadata": {},
   "source": [
    "    - Now we will find the f1 scores with the enhanced dataset."
   ]
  },
  {
   "cell_type": "code",
   "execution_count": 127,
   "metadata": {},
   "outputs": [],
   "source": [
    "forest = RandomForestClassifier(random_state=123, max_depth=11, n_estimators=66)"
   ]
  },
  {
   "cell_type": "code",
   "execution_count": 128,
   "metadata": {},
   "outputs": [
    {
     "data": {
      "text/plain": [
       "RandomForestClassifier(bootstrap=True, class_weight=None, criterion='gini',\n",
       "                       max_depth=11, max_features='auto', max_leaf_nodes=None,\n",
       "                       min_impurity_decrease=0.0, min_impurity_split=None,\n",
       "                       min_samples_leaf=1, min_samples_split=2,\n",
       "                       min_weight_fraction_leaf=0.0, n_estimators=66,\n",
       "                       n_jobs=None, oob_score=False, random_state=123,\n",
       "                       verbose=0, warm_start=False)"
      ]
     },
     "execution_count": 128,
     "metadata": {},
     "output_type": "execute_result"
    }
   ],
   "source": [
    "forest.fit(features_splitted_ordinal, target_splitted_ordinal)"
   ]
  },
  {
   "cell_type": "code",
   "execution_count": 129,
   "metadata": {},
   "outputs": [
    {
     "data": {
      "text/plain": [
       "0.5541795665634676"
      ]
     },
     "execution_count": 129,
     "metadata": {},
     "output_type": "execute_result"
    }
   ],
   "source": [
    "test_preds = forest.predict(features_test_ordinal)\n",
    "f1_score(target_test_ordinal, test_preds)"
   ]
  },
  {
   "cell_type": "markdown",
   "metadata": {},
   "source": [
    "    - It's over 0.55, lower than the project requirement (0.59)"
   ]
  },
  {
   "cell_type": "markdown",
   "metadata": {},
   "source": [
    "- We will continue to improve our Random Forest model.\n",
    "- We will use upsample function previously defined to upsample data.\n",
    "- We will not use downsampling.\n",
    "- We will use again upsample method with enhanced dataset at the end.\n",
    "- Then we will try threshold adjustment method for Random Forest model."
   ]
  },
  {
   "cell_type": "markdown",
   "metadata": {},
   "source": [
    "##### Random Forest Model improving with Upsampling"
   ]
  },
  {
   "cell_type": "markdown",
   "metadata": {},
   "source": [
    "- We will upsample the '1' class 4 times again, but for Label Encoding data.\n",
    "- We will repeat applying the function on the same datasets to avoid variables confusion."
   ]
  },
  {
   "cell_type": "code",
   "execution_count": 130,
   "metadata": {},
   "outputs": [],
   "source": [
    "features_upsampled_ordinal, target_upsampled_ordinal = upsample(features_train_ordinal, target_train_ordinal, 4)"
   ]
  },
  {
   "cell_type": "code",
   "execution_count": 131,
   "metadata": {},
   "outputs": [
    {
     "data": {
      "text/plain": [
       "(9609, 10)"
      ]
     },
     "execution_count": 131,
     "metadata": {},
     "output_type": "execute_result"
    }
   ],
   "source": [
    "features_upsampled_ordinal.shape"
   ]
  },
  {
   "cell_type": "code",
   "execution_count": 132,
   "metadata": {
    "scrolled": true
   },
   "outputs": [
    {
     "data": {
      "image/png": "[encoded data removed]",
      "text/plain": [
       "<Figure size 432x288 with 1 Axes>"
      ]
     },
     "metadata": {
      "needs_background": "light"
     },
     "output_type": "display_data"
    }
   ],
   "source": [
    "(target_upsampled_ordinal.value_counts()\n",
    " .plot(kind='barh', grid=True)\n",
    " .set_title('\\nUpsampled Training Classes\\n', color='red', size=18));"
   ]
  },
  {
   "cell_type": "markdown",
   "metadata": {},
   "source": [
    "- We will train the Random Forest model with upsampled data.\n",
    "- Then we will find the f1 score with validation data."
   ]
  },
  {
   "cell_type": "code",
   "execution_count": 133,
   "metadata": {},
   "outputs": [],
   "source": [
    "forest = RandomForestClassifier(random_state=123, max_depth=11, n_estimators=85)"
   ]
  },
  {
   "cell_type": "code",
   "execution_count": 134,
   "metadata": {},
   "outputs": [
    {
     "data": {
      "text/plain": [
       "RandomForestClassifier(bootstrap=True, class_weight=None, criterion='gini',\n",
       "                       max_depth=11, max_features='auto', max_leaf_nodes=None,\n",
       "                       min_impurity_decrease=0.0, min_impurity_split=None,\n",
       "                       min_samples_leaf=1, min_samples_split=2,\n",
       "                       min_weight_fraction_leaf=0.0, n_estimators=85,\n",
       "                       n_jobs=None, oob_score=False, random_state=123,\n",
       "                       verbose=0, warm_start=False)"
      ]
     },
     "execution_count": 134,
     "metadata": {},
     "output_type": "execute_result"
    }
   ],
   "source": [
    "forest.fit(features_upsampled_ordinal, target_upsampled_ordinal)"
   ]
  },
  {
   "cell_type": "code",
   "execution_count": 135,
   "metadata": {},
   "outputs": [
    {
     "data": {
      "text/plain": [
       "0.5836216839677048"
      ]
     },
     "execution_count": 135,
     "metadata": {},
     "output_type": "execute_result"
    }
   ],
   "source": [
    "valid_preds = forest.predict(features_valid_ordinal)\n",
    "f1_score(target_valid_ordinal, valid_preds)"
   ]
  },
  {
   "cell_type": "markdown",
   "metadata": {},
   "source": [
    "    - Almost 0.59, but not.\n",
    "    - We will use upsample method with enhanced dataset."
   ]
  },
  {
   "cell_type": "markdown",
   "metadata": {},
   "source": [
    "##### Upsampling on Enhanced Dataset (training + validation set)"
   ]
  },
  {
   "cell_type": "code",
   "execution_count": 136,
   "metadata": {},
   "outputs": [],
   "source": [
    "features_upsampled_ordinal, target_upsampled_ordinal = upsample(features_splitted_ordinal, target_splitted_ordinal, 4)"
   ]
  },
  {
   "cell_type": "code",
   "execution_count": 137,
   "metadata": {},
   "outputs": [
    {
     "data": {
      "text/plain": [
       "(12869,)"
      ]
     },
     "execution_count": 137,
     "metadata": {},
     "output_type": "execute_result"
    }
   ],
   "source": [
    "target_upsampled_ordinal.shape"
   ]
  },
  {
   "cell_type": "code",
   "execution_count": 138,
   "metadata": {},
   "outputs": [
    {
     "data": {
      "image/png": "[encoded data removed]",
      "text/plain": [
       "<Figure size 432x288 with 1 Axes>"
      ]
     },
     "metadata": {
      "needs_background": "light"
     },
     "output_type": "display_data"
    }
   ],
   "source": [
    "(target_upsampled_ordinal.value_counts()\n",
    " .plot(kind='barh', grid=True)\n",
    " .set_title('\\nUpsampled Enhanced Dataset Classes\\n', color='red', size=18));"
   ]
  },
  {
   "cell_type": "markdown",
   "metadata": {},
   "source": [
    "- We cathed again the balance on classes with enhanced data.\n",
    "- We will train the model and find f1 score with downsampled data."
   ]
  },
  {
   "cell_type": "code",
   "execution_count": 139,
   "metadata": {},
   "outputs": [
    {
     "data": {
      "text/plain": [
       "RandomForestClassifier(bootstrap=True, class_weight=None, criterion='gini',\n",
       "                       max_depth=11, max_features='auto', max_leaf_nodes=None,\n",
       "                       min_impurity_decrease=0.0, min_impurity_split=None,\n",
       "                       min_samples_leaf=1, min_samples_split=2,\n",
       "                       min_weight_fraction_leaf=0.0, n_estimators=85,\n",
       "                       n_jobs=None, oob_score=False, random_state=123,\n",
       "                       verbose=0, warm_start=False)"
      ]
     },
     "execution_count": 139,
     "metadata": {},
     "output_type": "execute_result"
    }
   ],
   "source": [
    "forest.fit(features_upsampled_ordinal, target_upsampled_ordinal)"
   ]
  },
  {
   "cell_type": "code",
   "execution_count": 140,
   "metadata": {},
   "outputs": [
    {
     "data": {
      "text/plain": [
       "0.6407119021134593"
      ]
     },
     "execution_count": 140,
     "metadata": {},
     "output_type": "execute_result"
    }
   ],
   "source": [
    "test_preds = forest.predict(features_test_ordinal)\n",
    "f1_score(target_test_ordinal, test_preds)"
   ]
  },
  {
   "cell_type": "markdown",
   "metadata": {},
   "source": [
    "- **0.64** is the best f1 score so far, we got over 0.59.\n",
    "- We will use threshold method for our Random Forest model to try to higher f1 score."
   ]
  },
  {
   "cell_type": "markdown",
   "metadata": {},
   "source": [
    "##### Random Forest model improving with threshold adjustment"
   ]
  },
  {
   "cell_type": "code",
   "execution_count": 141,
   "metadata": {},
   "outputs": [],
   "source": [
    "probabilities_one_valid = forest.predict_proba(features_valid_ordinal)[:,1]"
   ]
  },
  {
   "cell_type": "code",
   "execution_count": 142,
   "metadata": {},
   "outputs": [
    {
     "name": "stdout",
     "output_type": "stream",
     "text": [
      "Threshold = 0.00 | f1 = 0.347\n",
      "Threshold = 0.05 | f1 = 0.385\n",
      "Threshold = 0.10 | f1 = 0.429\n",
      "Threshold = 0.15 | f1 = 0.482\n",
      "Threshold = 0.20 | f1 = 0.545\n",
      "Threshold = 0.25 | f1 = 0.614\n",
      "Threshold = 0.30 | f1 = 0.666\n",
      "Threshold = 0.35 | f1 = 0.723\n",
      "Threshold = 0.40 | f1 = 0.774\n",
      "Threshold = 0.45 | f1 = 0.817\n",
      "Threshold = 0.50 | f1 = 0.856\n",
      "Threshold = 0.55 | f1 = 0.872\n",
      "Threshold = 0.60 | f1 = 0.871\n",
      "Threshold = 0.65 | f1 = 0.850\n",
      "Threshold = 0.70 | f1 = 0.796\n",
      "Threshold = 0.75 | f1 = 0.743\n",
      "Threshold = 0.80 | f1 = 0.683\n",
      "Threshold = 0.85 | f1 = 0.613\n",
      "Threshold = 0.90 | f1 = 0.547\n",
      "Threshold = 0.95 | f1 = 0.415\n"
     ]
    }
   ],
   "source": [
    "for threshold in np.arange(0, 1.0, 0.05):\n",
    "    valid_preds = probabilities_one_valid > threshold\n",
    "    f1 = f1_score(target_valid_ordinal, valid_preds)\n",
    "    print(\"Threshold = {:.2f} | f1 = {:.3f}\".format(threshold, f1))"
   ]
  },
  {
   "cell_type": "code",
   "execution_count": 143,
   "metadata": {},
   "outputs": [
    {
     "name": "stdout",
     "output_type": "stream",
     "text": [
      "Threshold = 0.50 | f1 = 0.856\n",
      "Threshold = 0.51 | f1 = 0.862\n",
      "Threshold = 0.52 | f1 = 0.869\n",
      "Threshold = 0.53 | f1 = 0.874\n",
      "Threshold = 0.54 | f1 = 0.870\n",
      "Threshold = 0.55 | f1 = 0.872\n",
      "Threshold = 0.56 | f1 = 0.875\n",
      "Threshold = 0.57 | f1 = 0.876\n",
      "Threshold = 0.58 | f1 = 0.878\n",
      "Threshold = 0.59 | f1 = 0.874\n",
      "Threshold = 0.60 | f1 = 0.871\n",
      "Threshold = 0.61 | f1 = 0.871\n",
      "Threshold = 0.62 | f1 = 0.872\n",
      "Threshold = 0.63 | f1 = 0.864\n",
      "Threshold = 0.64 | f1 = 0.862\n",
      "Threshold = 0.65 | f1 = 0.850\n"
     ]
    }
   ],
   "source": [
    "for threshold in np.arange(0.50, 0.65, 0.01):\n",
    "    valid_preds = probabilities_one_valid > threshold\n",
    "    f1 = f1_score(target_valid_ordinal, valid_preds)\n",
    "    print(\"Threshold = {:.2f} | f1 = {:.3f}\".format(threshold, f1))"
   ]
  },
  {
   "cell_type": "markdown",
   "metadata": {},
   "source": [
    "- It's the best f1 score so far with **0.878** for **threshold 0.58.**"
   ]
  },
  {
   "cell_type": "markdown",
   "metadata": {},
   "source": [
    "### AUC - ROC Score"
   ]
  },
  {
   "cell_type": "markdown",
   "metadata": {},
   "source": [
    "- We will examine the ROC curves and AUC scores of our models.\n",
    "- There will be False Positive Rates on the x-axes and True Positive Rates on the y-axes.\n",
    "- The more growth on the y-axis, the more successful our model is.\n",
    "- We will import 'roc_curve' and 'roc_auc_score' from 'sklearn.metrics'."
   ]
  },
  {
   "cell_type": "code",
   "execution_count": 144,
   "metadata": {},
   "outputs": [],
   "source": [
    "from sklearn.metrics import roc_curve\n",
    "from sklearn.metrics import roc_auc_score"
   ]
  },
  {
   "cell_type": "markdown",
   "metadata": {},
   "source": [
    "- We will store the probabilities of '1' classes as we did on the threshold adjustment sections."
   ]
  },
  {
   "cell_type": "code",
   "execution_count": 145,
   "metadata": {},
   "outputs": [],
   "source": [
    "probabilities_one_test_forest = forest.predict_proba(features_test_ordinal)[:, 1]\n",
    "probabilities_one_test_tree = tree.predict_proba(features_test_ordinal)[:, 1]\n",
    "probabilities_one_test_log = log.predict_proba(features_test_OHE)[:, 1]"
   ]
  },
  {
   "cell_type": "markdown",
   "metadata": {},
   "source": [
    "- We will use roc_curve( ) method to find the **FPR** (False Positive Rates), **TPR** (True Positive Rates) and Thresholds."
   ]
  },
  {
   "cell_type": "code",
   "execution_count": 146,
   "metadata": {},
   "outputs": [],
   "source": [
    "fpr_forest, tpr_forest, thresholds_forest = roc_curve(target_test_ordinal, probabilities_one_test_forest)\n",
    "fpr_tree, tpr_tree, thresholds_tree = roc_curve(target_test_ordinal, probabilities_one_test_tree)\n",
    "fpr_log, tpr_log, thresholds_log = roc_curve(target_test_OHE, probabilities_one_test_log)"
   ]
  },
  {
   "cell_type": "markdown",
   "metadata": {},
   "source": [
    "- We will plot a graph.\n",
    "- We set the fpr values on x-axes, tpr values on y-axes for each model."
   ]
  },
  {
   "cell_type": "code",
   "execution_count": 147,
   "metadata": {},
   "outputs": [
    {
     "data": {
      "image/png": "[encoded data removed]",
      "text/plain": [
       "<Figure size 504x504 with 1 Axes>"
      ]
     },
     "metadata": {
      "needs_background": "light"
     },
     "output_type": "display_data"
    }
   ],
   "source": [
    "plt.figure(figsize=(7, 7))\n",
    "plt.plot(fpr_forest, tpr_forest, color='b')\n",
    "plt.plot(fpr_tree, tpr_tree, color='g')\n",
    "plt.plot(fpr_log, tpr_log, color='r')\n",
    "\n",
    "plt.plot([0, 1], [0, 1], linestyle='--', color='black')\n",
    "plt.xlim([0.0, 1.0])\n",
    "plt.ylim([0.0, 1.0])\n",
    "plt.xlabel(\"\\nFalse Positive Rate\", color='r', size=15)\n",
    "plt.ylabel(\"True Positive Rate\\n\", color='r', size=15)\n",
    "plt.title(\"\\nROC Curve\\n\", color='r', size=21)\n",
    "plt.legend(labels=('Random Forest', 'Decision Tree', 'Logistic Regression'), loc='lower right')\n",
    "plt.show();"
   ]
  },
  {
   "cell_type": "markdown",
   "metadata": {},
   "source": [
    "- **Random Forest** is the best model accordance to the ROC Curves graph.\n",
    "- Now, we will find the AUC (Area Under Curve) scores."
   ]
  },
  {
   "cell_type": "code",
   "execution_count": 148,
   "metadata": {},
   "outputs": [
    {
     "name": "stdout",
     "output_type": "stream",
     "text": [
      "AUC SCORES:\n",
      "Random Forest 0.87 |Decision Tree 0.85 |Logistic Regression 0.79\n"
     ]
    }
   ],
   "source": [
    "roc_auc_forest = roc_auc_score(target_test_ordinal, probabilities_one_test_forest)\n",
    "roc_auc_tree = roc_auc_score(target_test_ordinal, probabilities_one_test_tree)\n",
    "roc_auc_log = roc_auc_score(target_test_OHE, probabilities_one_test_log)\n",
    "print(\"AUC SCORES:\\nRandom Forest {:.2f} |Decision Tree {:.2f} |Logistic Regression {:.2f}\"\n",
    "      .format(roc_auc_forest, roc_auc_tree, roc_auc_log))"
   ]
  },
  {
   "cell_type": "markdown",
   "metadata": {},
   "source": [
    "- Again, Random Forest is the best with **0.87**.\n",
    "- Our Random Forest model is the champion by al metrics."
   ]
  },
  {
   "cell_type": "markdown",
   "metadata": {},
   "source": [
    "## General Conclusion"
   ]
  },
  {
   "cell_type": "markdown",
   "metadata": {},
   "source": [
    "    - We made; \n",
    "        - filling the missing values on 'tenure' column, \n",
    "        - choice of feature for classification problem, \n",
    "        - encoding of categorical features to numerical, \n",
    "        - scaling of numerical features to prepare data.\n",
    "\n",
    "    - We builded the models for 3 algorithms:\n",
    "        - Logistic Regression \n",
    "        - Desicion Tree Classifier \n",
    "        - Random Forest Classifier\n",
    "\n",
    "    - We builded the models without optimisation and fixing class imbalance.\n",
    "\n",
    "    - We improved our models with hyperparameter optimisations.\n",
    "\n",
    "    - We found the f1 scores for each algorithms without fixing class imbalance.\n",
    "\n",
    "    - We improved the models using Upsampling, Downsampling, Threshold Adjustment methods.\n",
    "    \n",
    "    - Also we used enhanced (training + validation) datasets with balancing methods to improve f1 score.\n",
    "\n",
    "    - At the last, we analyzed ROC Curves and find AUC Scores for each model."
   ]
  },
  {
   "cell_type": "markdown",
   "metadata": {},
   "source": [
    "**v2:**\n",
    "\n",
    "**As a result:**\n",
    "- **Random Forest Classifier** model has the best results with **'11' for 'max_depth'** and **'66' for 'n_estimators'** hyperparameters:\n",
    "    - f1 Score: **0.878** ( for **threshold 0.58** )\n",
    "    - f1 Score: **0.64** (Upsampling on Enhanced Dataset)\n",
    "    - **AUC Score is 0.87**"
   ]
  }
 ],
 "metadata": {
  "kernelspec": {
   "display_name": "Python 3",
   "language": "python",
   "name": "python3"
  },
  "language_info": {
   "codemirror_mode": {
    "name": "ipython",
    "version": 3
   },
   "file_extension": ".py",
   "mimetype": "text/x-python",
   "name": "python",
   "nbconvert_exporter": "python",
   "pygments_lexer": "ipython3",
   "version": "3.8.8"
  },
  "toc": {
   "base_numbering": 1,
   "nav_menu": {},
   "number_sections": true,
   "sideBar": true,
   "skip_h1_title": true,
   "title_cell": "Table of Contents",
   "title_sidebar": "Contents",
   "toc_cell": true,
   "toc_position": {
    "height": "calc(100% - 180px)",
    "left": "10px",
    "top": "150px",
    "width": "165px"
   },
   "toc_section_display": true,
   "toc_window_display": true
  }
 },
 "nbformat": 4,
 "nbformat_minor": 2
}
